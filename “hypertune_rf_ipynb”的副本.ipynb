{
  "nbformat": 4,
  "nbformat_minor": 0,
  "metadata": {
    "colab": {
      "name": "“hypertune_rf.ipynb”的副本",
      "provenance": [],
      "collapsed_sections": [
        "AVrKfBBXfNlJ",
        "AnrFFfTDv87T",
        "q-kSaG5TIO5J"
      ],
      "machine_shape": "hm",
      "include_colab_link": true
    },
    "kernelspec": {
      "name": "python3",
      "display_name": "Python 3"
    },
    "language_info": {
      "name": "python"
    },
    "accelerator": "GPU"
  },
  "cells": [
    {
      "cell_type": "markdown",
      "metadata": {
        "id": "view-in-github",
        "colab_type": "text"
      },
      "source": [
        "<a href=\"https://colab.research.google.com/github/zp2226/E4511-2021-Zhanbo/blob/main/%E2%80%9Chypertune_rf_ipynb%E2%80%9D%E7%9A%84%E5%89%AF%E6%9C%AC.ipynb\" target=\"_parent\"><img src=\"https://colab.research.google.com/assets/colab-badge.svg\" alt=\"Open In Colab\"/></a>"
      ]
    },
    {
      "cell_type": "markdown",
      "metadata": {
        "id": "IfQWfR9StHCb"
      },
      "source": [
        "# Install\n",
        "\n",
        "---\n",
        "\n"
      ]
    },
    {
      "cell_type": "code",
      "metadata": {
        "id": "obVbnVaZfguE",
        "colab": {
          "base_uri": "https://localhost:8080/"
        },
        "outputId": "12ec03aa-2054-4ed0-ad66-6e809350f996"
      },
      "source": [
        "\n"
      ],
      "execution_count": null,
      "outputs": [
        {
          "output_type": "stream",
          "text": [
            "TensorFlow 1.x selected.\n",
            "--2021-04-08 13:48:08--  https://repo.anaconda.com/archive/Anaconda3-2019.10-Linux-x86_64.sh\n",
            "Resolving repo.anaconda.com (repo.anaconda.com)... 104.16.130.3, 104.16.131.3, 2606:4700::6810:8203, ...\n",
            "Connecting to repo.anaconda.com (repo.anaconda.com)|104.16.130.3|:443... connected.\n",
            "HTTP request sent, awaiting response... 200 OK\n",
            "Length: 530308481 (506M) [application/x-sh]\n",
            "Saving to: ‘Anaconda3-2019.10-Linux-x86_64.sh’\n",
            "\n",
            "Anaconda3-2019.10-L 100%[===================>] 505.74M  93.2MB/s    in 5.3s    \n",
            "\n",
            "2021-04-08 13:48:14 (96.0 MB/s) - ‘Anaconda3-2019.10-Linux-x86_64.sh’ saved [530308481/530308481]\n",
            "\n",
            "PREFIX=/usr/local\n",
            "Unpacking payload ...\n",
            "Collecting package metadata (current_repodata.json): - \b\b\\ \b\b| \b\b/ \b\b- \b\b\\ \b\b| \b\b/ \b\b- \b\bdone\n",
            "Solving environment: | \b\b/ \b\b- \b\b\\ \b\b| \b\b/ \b\b- \b\b\\ \b\b| \b\b/ \b\b- \b\b\\ \b\b| \b\b/ \b\b- \b\b\\ \b\b| \b\b/ \b\b- \b\b\\ \b\bdone\n",
            "\n",
            "## Package Plan ##\n",
            "\n",
            "  environment location: /usr/local\n",
            "\n",
            "  added / updated specs:\n",
            "    - _ipyw_jlab_nb_ext_conf==0.1.0=py37_0\n",
            "    - _libgcc_mutex==0.1=main\n",
            "    - alabaster==0.7.12=py37_0\n",
            "    - anaconda-client==1.7.2=py37_0\n",
            "    - anaconda-navigator==1.9.7=py37_0\n",
            "    - anaconda-project==0.8.3=py_0\n",
            "    - anaconda==2019.10=py37_0\n",
            "    - asn1crypto==1.0.1=py37_0\n",
            "    - astroid==2.3.1=py37_0\n",
            "    - astropy==3.2.2=py37h7b6447c_0\n",
            "    - atomicwrites==1.3.0=py37_1\n",
            "    - attrs==19.2.0=py_0\n",
            "    - babel==2.7.0=py_0\n",
            "    - backcall==0.1.0=py37_0\n",
            "    - backports.functools_lru_cache==1.5=py_2\n",
            "    - backports.os==0.1.1=py37_0\n",
            "    - backports.shutil_get_terminal_size==1.0.0=py37_2\n",
            "    - backports.tempfile==1.0=py_1\n",
            "    - backports.weakref==1.0.post1=py_1\n",
            "    - backports==1.0=py_2\n",
            "    - beautifulsoup4==4.8.0=py37_0\n",
            "    - bitarray==1.0.1=py37h7b6447c_0\n",
            "    - bkcharts==0.2=py37_0\n",
            "    - blas==1.0=mkl\n",
            "    - bleach==3.1.0=py37_0\n",
            "    - blosc==1.16.3=hd408876_0\n",
            "    - bokeh==1.3.4=py37_0\n",
            "    - boto==2.49.0=py37_0\n",
            "    - bottleneck==1.2.1=py37h035aef0_1\n",
            "    - bzip2==1.0.8=h7b6447c_0\n",
            "    - ca-certificates==2019.8.28=0\n",
            "    - cairo==1.14.12=h8948797_3\n",
            "    - certifi==2019.9.11=py37_0\n",
            "    - cffi==1.12.3=py37h2e261b9_0\n",
            "    - chardet==3.0.4=py37_1003\n",
            "    - click==7.0=py37_0\n",
            "    - cloudpickle==1.2.2=py_0\n",
            "    - clyent==1.2.2=py37_1\n",
            "    - colorama==0.4.1=py37_0\n",
            "    - conda-build==3.18.9=py37_3\n",
            "    - conda-env==2.6.0=1\n",
            "    - conda-package-handling==1.6.0=py37h7b6447c_0\n",
            "    - conda-verify==3.4.2=py_1\n",
            "    - conda==4.7.12=py37_0\n",
            "    - contextlib2==0.6.0=py_0\n",
            "    - cryptography==2.7=py37h1ba5d50_0\n",
            "    - curl==7.65.3=hbc83047_0\n",
            "    - cycler==0.10.0=py37_0\n",
            "    - cython==0.29.13=py37he6710b0_0\n",
            "    - cytoolz==0.10.0=py37h7b6447c_0\n",
            "    - dask-core==2.5.2=py_0\n",
            "    - dask==2.5.2=py_0\n",
            "    - dbus==1.13.6=h746ee38_0\n",
            "    - decorator==4.4.0=py37_1\n",
            "    - defusedxml==0.6.0=py_0\n",
            "    - distributed==2.5.2=py_0\n",
            "    - docutils==0.15.2=py37_0\n",
            "    - entrypoints==0.3=py37_0\n",
            "    - et_xmlfile==1.0.1=py37_0\n",
            "    - expat==2.2.6=he6710b0_0\n",
            "    - fastcache==1.1.0=py37h7b6447c_0\n",
            "    - filelock==3.0.12=py_0\n",
            "    - flask==1.1.1=py_0\n",
            "    - fontconfig==2.13.0=h9420a91_0\n",
            "    - freetype==2.9.1=h8a8886c_1\n",
            "    - fribidi==1.0.5=h7b6447c_0\n",
            "    - fsspec==0.5.2=py_0\n",
            "    - future==0.17.1=py37_0\n",
            "    - get_terminal_size==1.0.0=haa9412d_0\n",
            "    - gevent==1.4.0=py37h7b6447c_0\n",
            "    - glib==2.56.2=hd408876_0\n",
            "    - glob2==0.7=py_0\n",
            "    - gmp==6.1.2=h6c8ec71_1\n",
            "    - gmpy2==2.0.8=py37h10f8cd9_2\n",
            "    - graphite2==1.3.13=h23475e2_0\n",
            "    - greenlet==0.4.15=py37h7b6447c_0\n",
            "    - gst-plugins-base==1.14.0=hbbd80ab_1\n",
            "    - gstreamer==1.14.0=hb453b48_1\n",
            "    - h5py==2.9.0=py37h7918eee_0\n",
            "    - harfbuzz==1.8.8=hffaf4a1_0\n",
            "    - hdf5==1.10.4=hb1b8bf9_0\n",
            "    - heapdict==1.0.1=py_0\n",
            "    - html5lib==1.0.1=py37_0\n",
            "    - icu==58.2=h9c2bf20_1\n",
            "    - idna==2.8=py37_0\n",
            "    - imageio==2.6.0=py37_0\n",
            "    - imagesize==1.1.0=py37_0\n",
            "    - importlib_metadata==0.23=py37_0\n",
            "    - intel-openmp==2019.4=243\n",
            "    - ipykernel==5.1.2=py37h39e3cac_0\n",
            "    - ipython==7.8.0=py37h39e3cac_0\n",
            "    - ipython_genutils==0.2.0=py37_0\n",
            "    - ipywidgets==7.5.1=py_0\n",
            "    - isort==4.3.21=py37_0\n",
            "    - itsdangerous==1.1.0=py37_0\n",
            "    - jbig==2.1=hdba287a_0\n",
            "    - jdcal==1.4.1=py_0\n",
            "    - jedi==0.15.1=py37_0\n",
            "    - jeepney==0.4.1=py_0\n",
            "    - jinja2==2.10.3=py_0\n",
            "    - joblib==0.13.2=py37_0\n",
            "    - jpeg==9b=h024ee3a_2\n",
            "    - json5==0.8.5=py_0\n",
            "    - jsonschema==3.0.2=py37_0\n",
            "    - jupyter==1.0.0=py37_7\n",
            "    - jupyter_client==5.3.3=py37_1\n",
            "    - jupyter_console==6.0.0=py37_0\n",
            "    - jupyter_core==4.5.0=py_0\n",
            "    - jupyterlab==1.1.4=pyhf63ae98_0\n",
            "    - jupyterlab_server==1.0.6=py_0\n",
            "    - keyring==18.0.0=py37_0\n",
            "    - kiwisolver==1.1.0=py37he6710b0_0\n",
            "    - krb5==1.16.1=h173b8e3_7\n",
            "    - lazy-object-proxy==1.4.2=py37h7b6447c_0\n",
            "    - libarchive==3.3.3=h5d8350f_5\n",
            "    - libcurl==7.65.3=h20c2e04_0\n",
            "    - libedit==3.1.20181209=hc058e9b_0\n",
            "    - libffi==3.2.1=hd88cf55_4\n",
            "    - libgcc-ng==9.1.0=hdf63c60_0\n",
            "    - libgfortran-ng==7.3.0=hdf63c60_0\n",
            "    - liblief==0.9.0=h7725739_2\n",
            "    - libpng==1.6.37=hbc83047_0\n",
            "    - libsodium==1.0.16=h1bed415_0\n",
            "    - libssh2==1.8.2=h1ba5d50_0\n",
            "    - libstdcxx-ng==9.1.0=hdf63c60_0\n",
            "    - libtiff==4.0.10=h2733197_2\n",
            "    - libtool==2.4.6=h7b6447c_5\n",
            "    - libuuid==1.0.3=h1bed415_2\n",
            "    - libxcb==1.13=h1bed415_1\n",
            "    - libxml2==2.9.9=hea5a465_1\n",
            "    - libxslt==1.1.33=h7d1a2b0_0\n",
            "    - llvmlite==0.29.0=py37hd408876_0\n",
            "    - locket==0.2.0=py37_1\n",
            "    - lxml==4.4.1=py37hefd8a0e_0\n",
            "    - lz4-c==1.8.1.2=h14c3975_0\n",
            "    - lzo==2.10=h49e0be7_2\n",
            "    - markupsafe==1.1.1=py37h7b6447c_0\n",
            "    - matplotlib==3.1.1=py37h5429711_0\n",
            "    - mccabe==0.6.1=py37_1\n",
            "    - mistune==0.8.4=py37h7b6447c_0\n",
            "    - mkl-service==2.3.0=py37he904b0f_0\n",
            "    - mkl==2019.4=243\n",
            "    - mkl_fft==1.0.14=py37ha843d7b_0\n",
            "    - mkl_random==1.1.0=py37hd6b4f25_0\n",
            "    - mock==3.0.5=py37_0\n",
            "    - more-itertools==7.2.0=py37_0\n",
            "    - mpc==1.1.0=h10f8cd9_1\n",
            "    - mpfr==4.0.1=hdf1c602_3\n",
            "    - mpmath==1.1.0=py37_0\n",
            "    - msgpack-python==0.6.1=py37hfd86e86_1\n",
            "    - multipledispatch==0.6.0=py37_0\n",
            "    - navigator-updater==0.2.1=py37_0\n",
            "    - nbconvert==5.6.0=py37_1\n",
            "    - nbformat==4.4.0=py37_0\n",
            "    - ncurses==6.1=he6710b0_1\n",
            "    - networkx==2.3=py_0\n",
            "    - nltk==3.4.5=py37_0\n",
            "    - nose==1.3.7=py37_2\n",
            "    - notebook==6.0.1=py37_0\n",
            "    - numba==0.45.1=py37h962f231_0\n",
            "    - numexpr==2.7.0=py37h9e4a6bb_0\n",
            "    - numpy-base==1.17.2=py37hde5b4d6_0\n",
            "    - numpy==1.17.2=py37haad9e8e_0\n",
            "    - numpydoc==0.9.1=py_0\n",
            "    - olefile==0.46=py37_0\n",
            "    - openpyxl==3.0.0=py_0\n",
            "    - openssl==1.1.1d=h7b6447c_2\n",
            "    - packaging==19.2=py_0\n",
            "    - pandas==0.25.1=py37he6710b0_0\n",
            "    - pandoc==2.2.3.2=0\n",
            "    - pandocfilters==1.4.2=py37_1\n",
            "    - pango==1.42.4=h049681c_0\n",
            "    - parso==0.5.1=py_0\n",
            "    - partd==1.0.0=py_0\n",
            "    - patchelf==0.9=he6710b0_3\n",
            "    - path.py==12.0.1=py_0\n",
            "    - pathlib2==2.3.5=py37_0\n",
            "    - patsy==0.5.1=py37_0\n",
            "    - pcre==8.43=he6710b0_0\n",
            "    - pep8==1.7.1=py37_0\n",
            "    - pexpect==4.7.0=py37_0\n",
            "    - pickleshare==0.7.5=py37_0\n",
            "    - pillow==6.2.0=py37h34e0f95_0\n",
            "    - pip==19.2.3=py37_0\n",
            "    - pixman==0.38.0=h7b6447c_0\n",
            "    - pkginfo==1.5.0.1=py37_0\n",
            "    - pluggy==0.13.0=py37_0\n",
            "    - ply==3.11=py37_0\n",
            "    - prometheus_client==0.7.1=py_0\n",
            "    - prompt_toolkit==2.0.10=py_0\n",
            "    - psutil==5.6.3=py37h7b6447c_0\n",
            "    - ptyprocess==0.6.0=py37_0\n",
            "    - py-lief==0.9.0=py37h7725739_2\n",
            "    - py==1.8.0=py37_0\n",
            "    - pycodestyle==2.5.0=py37_0\n",
            "    - pycosat==0.6.3=py37h14c3975_0\n",
            "    - pycparser==2.19=py37_0\n",
            "    - pycrypto==2.6.1=py37h14c3975_9\n",
            "    - pycurl==7.43.0.3=py37h1ba5d50_0\n",
            "    - pyflakes==2.1.1=py37_0\n",
            "    - pygments==2.4.2=py_0\n",
            "    - pylint==2.4.2=py37_0\n",
            "    - pyodbc==4.0.27=py37he6710b0_0\n",
            "    - pyopenssl==19.0.0=py37_0\n",
            "    - pyparsing==2.4.2=py_0\n",
            "    - pyqt==5.9.2=py37h05f1152_2\n",
            "    - pyrsistent==0.15.4=py37h7b6447c_0\n",
            "    - pysocks==1.7.1=py37_0\n",
            "    - pytables==3.5.2=py37h71ec239_1\n",
            "    - pytest-arraydiff==0.3=py37h39e3cac_0\n",
            "    - pytest-astropy==0.5.0=py37_0\n",
            "    - pytest-doctestplus==0.4.0=py_0\n",
            "    - pytest-openfiles==0.4.0=py_0\n",
            "    - pytest-remotedata==0.3.2=py37_0\n",
            "    - pytest==5.2.1=py37_0\n",
            "    - python-dateutil==2.8.0=py37_0\n",
            "    - python-libarchive-c==2.8=py37_13\n",
            "    - python==3.7.4=h265db76_1\n",
            "    - pytz==2019.3=py_0\n",
            "    - pywavelets==1.0.3=py37hdd07704_1\n",
            "    - pyyaml==5.1.2=py37h7b6447c_0\n",
            "    - pyzmq==18.1.0=py37he6710b0_0\n",
            "    - qt==5.9.7=h5867ecd_1\n",
            "    - qtawesome==0.6.0=py_0\n",
            "    - qtconsole==4.5.5=py_0\n",
            "    - qtpy==1.9.0=py_0\n",
            "    - readline==7.0=h7b6447c_5\n",
            "    - requests==2.22.0=py37_0\n",
            "    - ripgrep==0.10.0=hc07d326_0\n",
            "    - rope==0.14.0=py_0\n",
            "    - ruamel_yaml==0.15.46=py37h14c3975_0\n",
            "    - scikit-image==0.15.0=py37he6710b0_0\n",
            "    - scikit-learn==0.21.3=py37hd81dba3_0\n",
            "    - scipy==1.3.1=py37h7c811a0_0\n",
            "    - seaborn==0.9.0=py37_0\n",
            "    - secretstorage==3.1.1=py37_0\n",
            "    - send2trash==1.5.0=py37_0\n",
            "    - setuptools==41.4.0=py37_0\n",
            "    - simplegeneric==0.8.1=py37_2\n",
            "    - singledispatch==3.4.0.3=py37_0\n",
            "    - sip==4.19.8=py37hf484d3e_0\n",
            "    - six==1.12.0=py37_0\n",
            "    - snappy==1.1.7=hbae5bb6_3\n",
            "    - snowballstemmer==2.0.0=py_0\n",
            "    - sortedcollections==1.1.2=py37_0\n",
            "    - sortedcontainers==2.1.0=py37_0\n",
            "    - soupsieve==1.9.3=py37_0\n",
            "    - sphinx==2.2.0=py_0\n",
            "    - sphinxcontrib-applehelp==1.0.1=py_0\n",
            "    - sphinxcontrib-devhelp==1.0.1=py_0\n",
            "    - sphinxcontrib-htmlhelp==1.0.2=py_0\n",
            "    - sphinxcontrib-jsmath==1.0.1=py_0\n",
            "    - sphinxcontrib-qthelp==1.0.2=py_0\n",
            "    - sphinxcontrib-serializinghtml==1.1.3=py_0\n",
            "    - sphinxcontrib-websupport==1.1.2=py_0\n",
            "    - sphinxcontrib==1.0=py37_1\n",
            "    - spyder-kernels==0.5.2=py37_0\n",
            "    - spyder==3.3.6=py37_0\n",
            "    - sqlalchemy==1.3.9=py37h7b6447c_0\n",
            "    - sqlite==3.30.0=h7b6447c_0\n",
            "    - statsmodels==0.10.1=py37hdd07704_0\n",
            "    - sympy==1.4=py37_0\n",
            "    - tbb==2019.4=hfd86e86_0\n",
            "    - tblib==1.4.0=py_0\n",
            "    - terminado==0.8.2=py37_0\n",
            "    - testpath==0.4.2=py37_0\n",
            "    - tk==8.6.8=hbc83047_0\n",
            "    - toolz==0.10.0=py_0\n",
            "    - tornado==6.0.3=py37h7b6447c_0\n",
            "    - tqdm==4.36.1=py_0\n",
            "    - traitlets==4.3.3=py37_0\n",
            "    - unicodecsv==0.14.1=py37_0\n",
            "    - unixodbc==2.3.7=h14c3975_0\n",
            "    - urllib3==1.24.2=py37_0\n",
            "    - wcwidth==0.1.7=py37_0\n",
            "    - webencodings==0.5.1=py37_1\n",
            "    - werkzeug==0.16.0=py_0\n",
            "    - wheel==0.33.6=py37_0\n",
            "    - widgetsnbextension==3.5.1=py37_0\n",
            "    - wrapt==1.11.2=py37h7b6447c_0\n",
            "    - wurlitzer==1.0.3=py37_0\n",
            "    - xlrd==1.2.0=py37_0\n",
            "    - xlsxwriter==1.2.1=py_0\n",
            "    - xlwt==1.3.0=py37_0\n",
            "    - xz==5.2.4=h14c3975_4\n",
            "    - yaml==0.1.7=had09818_2\n",
            "    - zeromq==4.3.1=he6710b0_3\n",
            "    - zict==1.0.0=py_0\n",
            "    - zipp==0.6.0=py_0\n",
            "    - zlib==1.2.11=h7b6447c_3\n",
            "    - zstd==1.3.7=h0b5b093_0\n",
            "\n",
            "\n",
            "The following NEW packages will be INSTALLED:\n",
            "\n",
            "  _ipyw_jlab_nb_ext~ pkgs/main/linux-64::_ipyw_jlab_nb_ext_conf-0.1.0-py37_0\n",
            "  _libgcc_mutex      pkgs/main/linux-64::_libgcc_mutex-0.1-main\n",
            "  alabaster          pkgs/main/linux-64::alabaster-0.7.12-py37_0\n",
            "  anaconda           pkgs/main/linux-64::anaconda-2019.10-py37_0\n",
            "  anaconda-client    pkgs/main/linux-64::anaconda-client-1.7.2-py37_0\n",
            "  anaconda-navigator pkgs/main/linux-64::anaconda-navigator-1.9.7-py37_0\n",
            "  anaconda-project   pkgs/main/noarch::anaconda-project-0.8.3-py_0\n",
            "  asn1crypto         pkgs/main/linux-64::asn1crypto-1.0.1-py37_0\n",
            "  astroid            pkgs/main/linux-64::astroid-2.3.1-py37_0\n",
            "  astropy            pkgs/main/linux-64::astropy-3.2.2-py37h7b6447c_0\n",
            "  atomicwrites       pkgs/main/linux-64::atomicwrites-1.3.0-py37_1\n",
            "  attrs              pkgs/main/noarch::attrs-19.2.0-py_0\n",
            "  babel              pkgs/main/noarch::babel-2.7.0-py_0\n",
            "  backcall           pkgs/main/linux-64::backcall-0.1.0-py37_0\n",
            "  backports          pkgs/main/noarch::backports-1.0-py_2\n",
            "  backports.functoo~ pkgs/main/noarch::backports.functools_lru_cache-1.5-py_2\n",
            "  backports.os       pkgs/main/linux-64::backports.os-0.1.1-py37_0\n",
            "  backports.shutil_~ pkgs/main/linux-64::backports.shutil_get_terminal_size-1.0.0-py37_2\n",
            "  backports.tempfile pkgs/main/noarch::backports.tempfile-1.0-py_1\n",
            "  backports.weakref  pkgs/main/noarch::backports.weakref-1.0.post1-py_1\n",
            "  beautifulsoup4     pkgs/main/linux-64::beautifulsoup4-4.8.0-py37_0\n",
            "  bitarray           pkgs/main/linux-64::bitarray-1.0.1-py37h7b6447c_0\n",
            "  bkcharts           pkgs/main/linux-64::bkcharts-0.2-py37_0\n",
            "  blas               pkgs/main/linux-64::blas-1.0-mkl\n",
            "  bleach             pkgs/main/linux-64::bleach-3.1.0-py37_0\n",
            "  blosc              pkgs/main/linux-64::blosc-1.16.3-hd408876_0\n",
            "  bokeh              pkgs/main/linux-64::bokeh-1.3.4-py37_0\n",
            "  boto               pkgs/main/linux-64::boto-2.49.0-py37_0\n",
            "  bottleneck         pkgs/main/linux-64::bottleneck-1.2.1-py37h035aef0_1\n",
            "  bzip2              pkgs/main/linux-64::bzip2-1.0.8-h7b6447c_0\n",
            "  ca-certificates    pkgs/main/linux-64::ca-certificates-2019.8.28-0\n",
            "  cairo              pkgs/main/linux-64::cairo-1.14.12-h8948797_3\n",
            "  certifi            pkgs/main/linux-64::certifi-2019.9.11-py37_0\n",
            "  cffi               pkgs/main/linux-64::cffi-1.12.3-py37h2e261b9_0\n",
            "  chardet            pkgs/main/linux-64::chardet-3.0.4-py37_1003\n",
            "  click              pkgs/main/linux-64::click-7.0-py37_0\n",
            "  cloudpickle        pkgs/main/noarch::cloudpickle-1.2.2-py_0\n",
            "  clyent             pkgs/main/linux-64::clyent-1.2.2-py37_1\n",
            "  colorama           pkgs/main/linux-64::colorama-0.4.1-py37_0\n",
            "  conda              pkgs/main/linux-64::conda-4.7.12-py37_0\n",
            "  conda-build        pkgs/main/linux-64::conda-build-3.18.9-py37_3\n",
            "  conda-env          pkgs/main/linux-64::conda-env-2.6.0-1\n",
            "  conda-package-han~ pkgs/main/linux-64::conda-package-handling-1.6.0-py37h7b6447c_0\n",
            "  conda-verify       pkgs/main/noarch::conda-verify-3.4.2-py_1\n",
            "  contextlib2        pkgs/main/noarch::contextlib2-0.6.0-py_0\n",
            "  cryptography       pkgs/main/linux-64::cryptography-2.7-py37h1ba5d50_0\n",
            "  curl               pkgs/main/linux-64::curl-7.65.3-hbc83047_0\n",
            "  cycler             pkgs/main/linux-64::cycler-0.10.0-py37_0\n",
            "  cython             pkgs/main/linux-64::cython-0.29.13-py37he6710b0_0\n",
            "  cytoolz            pkgs/main/linux-64::cytoolz-0.10.0-py37h7b6447c_0\n",
            "  dask               pkgs/main/noarch::dask-2.5.2-py_0\n",
            "  dask-core          pkgs/main/noarch::dask-core-2.5.2-py_0\n",
            "  dbus               pkgs/main/linux-64::dbus-1.13.6-h746ee38_0\n",
            "  decorator          pkgs/main/linux-64::decorator-4.4.0-py37_1\n",
            "  defusedxml         pkgs/main/noarch::defusedxml-0.6.0-py_0\n",
            "  distributed        pkgs/main/noarch::distributed-2.5.2-py_0\n",
            "  docutils           pkgs/main/linux-64::docutils-0.15.2-py37_0\n",
            "  entrypoints        pkgs/main/linux-64::entrypoints-0.3-py37_0\n",
            "  et_xmlfile         pkgs/main/linux-64::et_xmlfile-1.0.1-py37_0\n",
            "  expat              pkgs/main/linux-64::expat-2.2.6-he6710b0_0\n",
            "  fastcache          pkgs/main/linux-64::fastcache-1.1.0-py37h7b6447c_0\n",
            "  filelock           pkgs/main/noarch::filelock-3.0.12-py_0\n",
            "  flask              pkgs/main/noarch::flask-1.1.1-py_0\n",
            "  fontconfig         pkgs/main/linux-64::fontconfig-2.13.0-h9420a91_0\n",
            "  freetype           pkgs/main/linux-64::freetype-2.9.1-h8a8886c_1\n",
            "  fribidi            pkgs/main/linux-64::fribidi-1.0.5-h7b6447c_0\n",
            "  fsspec             pkgs/main/noarch::fsspec-0.5.2-py_0\n",
            "  future             pkgs/main/linux-64::future-0.17.1-py37_0\n",
            "  get_terminal_size  pkgs/main/linux-64::get_terminal_size-1.0.0-haa9412d_0\n",
            "  gevent             pkgs/main/linux-64::gevent-1.4.0-py37h7b6447c_0\n",
            "  glib               pkgs/main/linux-64::glib-2.56.2-hd408876_0\n",
            "  glob2              pkgs/main/noarch::glob2-0.7-py_0\n",
            "  gmp                pkgs/main/linux-64::gmp-6.1.2-h6c8ec71_1\n",
            "  gmpy2              pkgs/main/linux-64::gmpy2-2.0.8-py37h10f8cd9_2\n",
            "  graphite2          pkgs/main/linux-64::graphite2-1.3.13-h23475e2_0\n",
            "  greenlet           pkgs/main/linux-64::greenlet-0.4.15-py37h7b6447c_0\n",
            "  gst-plugins-base   pkgs/main/linux-64::gst-plugins-base-1.14.0-hbbd80ab_1\n",
            "  gstreamer          pkgs/main/linux-64::gstreamer-1.14.0-hb453b48_1\n",
            "  h5py               pkgs/main/linux-64::h5py-2.9.0-py37h7918eee_0\n",
            "  harfbuzz           pkgs/main/linux-64::harfbuzz-1.8.8-hffaf4a1_0\n",
            "  hdf5               pkgs/main/linux-64::hdf5-1.10.4-hb1b8bf9_0\n",
            "  heapdict           pkgs/main/noarch::heapdict-1.0.1-py_0\n",
            "  html5lib           pkgs/main/linux-64::html5lib-1.0.1-py37_0\n",
            "  icu                pkgs/main/linux-64::icu-58.2-h9c2bf20_1\n",
            "  idna               pkgs/main/linux-64::idna-2.8-py37_0\n",
            "  imageio            pkgs/main/linux-64::imageio-2.6.0-py37_0\n",
            "  imagesize          pkgs/main/linux-64::imagesize-1.1.0-py37_0\n",
            "  importlib_metadata pkgs/main/linux-64::importlib_metadata-0.23-py37_0\n",
            "  intel-openmp       pkgs/main/linux-64::intel-openmp-2019.4-243\n",
            "  ipykernel          pkgs/main/linux-64::ipykernel-5.1.2-py37h39e3cac_0\n",
            "  ipython            pkgs/main/linux-64::ipython-7.8.0-py37h39e3cac_0\n",
            "  ipython_genutils   pkgs/main/linux-64::ipython_genutils-0.2.0-py37_0\n",
            "  ipywidgets         pkgs/main/noarch::ipywidgets-7.5.1-py_0\n",
            "  isort              pkgs/main/linux-64::isort-4.3.21-py37_0\n",
            "  itsdangerous       pkgs/main/linux-64::itsdangerous-1.1.0-py37_0\n",
            "  jbig               pkgs/main/linux-64::jbig-2.1-hdba287a_0\n",
            "  jdcal              pkgs/main/noarch::jdcal-1.4.1-py_0\n",
            "  jedi               pkgs/main/linux-64::jedi-0.15.1-py37_0\n",
            "  jeepney            pkgs/main/noarch::jeepney-0.4.1-py_0\n",
            "  jinja2             pkgs/main/noarch::jinja2-2.10.3-py_0\n",
            "  joblib             pkgs/main/linux-64::joblib-0.13.2-py37_0\n",
            "  jpeg               pkgs/main/linux-64::jpeg-9b-h024ee3a_2\n",
            "  json5              pkgs/main/noarch::json5-0.8.5-py_0\n",
            "  jsonschema         pkgs/main/linux-64::jsonschema-3.0.2-py37_0\n",
            "  jupyter            pkgs/main/linux-64::jupyter-1.0.0-py37_7\n",
            "  jupyter_client     pkgs/main/linux-64::jupyter_client-5.3.3-py37_1\n",
            "  jupyter_console    pkgs/main/linux-64::jupyter_console-6.0.0-py37_0\n",
            "  jupyter_core       pkgs/main/noarch::jupyter_core-4.5.0-py_0\n",
            "  jupyterlab         pkgs/main/noarch::jupyterlab-1.1.4-pyhf63ae98_0\n",
            "  jupyterlab_server  pkgs/main/noarch::jupyterlab_server-1.0.6-py_0\n",
            "  keyring            pkgs/main/linux-64::keyring-18.0.0-py37_0\n",
            "  kiwisolver         pkgs/main/linux-64::kiwisolver-1.1.0-py37he6710b0_0\n",
            "  krb5               pkgs/main/linux-64::krb5-1.16.1-h173b8e3_7\n",
            "  lazy-object-proxy  pkgs/main/linux-64::lazy-object-proxy-1.4.2-py37h7b6447c_0\n",
            "  libarchive         pkgs/main/linux-64::libarchive-3.3.3-h5d8350f_5\n",
            "  libcurl            pkgs/main/linux-64::libcurl-7.65.3-h20c2e04_0\n",
            "  libedit            pkgs/main/linux-64::libedit-3.1.20181209-hc058e9b_0\n",
            "  libffi             pkgs/main/linux-64::libffi-3.2.1-hd88cf55_4\n",
            "  libgcc-ng          pkgs/main/linux-64::libgcc-ng-9.1.0-hdf63c60_0\n",
            "  libgfortran-ng     pkgs/main/linux-64::libgfortran-ng-7.3.0-hdf63c60_0\n",
            "  liblief            pkgs/main/linux-64::liblief-0.9.0-h7725739_2\n",
            "  libpng             pkgs/main/linux-64::libpng-1.6.37-hbc83047_0\n",
            "  libsodium          pkgs/main/linux-64::libsodium-1.0.16-h1bed415_0\n",
            "  libssh2            pkgs/main/linux-64::libssh2-1.8.2-h1ba5d50_0\n",
            "  libstdcxx-ng       pkgs/main/linux-64::libstdcxx-ng-9.1.0-hdf63c60_0\n",
            "  libtiff            pkgs/main/linux-64::libtiff-4.0.10-h2733197_2\n",
            "  libtool            pkgs/main/linux-64::libtool-2.4.6-h7b6447c_5\n",
            "  libuuid            pkgs/main/linux-64::libuuid-1.0.3-h1bed415_2\n",
            "  libxcb             pkgs/main/linux-64::libxcb-1.13-h1bed415_1\n",
            "  libxml2            pkgs/main/linux-64::libxml2-2.9.9-hea5a465_1\n",
            "  libxslt            pkgs/main/linux-64::libxslt-1.1.33-h7d1a2b0_0\n",
            "  llvmlite           pkgs/main/linux-64::llvmlite-0.29.0-py37hd408876_0\n",
            "  locket             pkgs/main/linux-64::locket-0.2.0-py37_1\n",
            "  lxml               pkgs/main/linux-64::lxml-4.4.1-py37hefd8a0e_0\n",
            "  lz4-c              pkgs/main/linux-64::lz4-c-1.8.1.2-h14c3975_0\n",
            "  lzo                pkgs/main/linux-64::lzo-2.10-h49e0be7_2\n",
            "  markupsafe         pkgs/main/linux-64::markupsafe-1.1.1-py37h7b6447c_0\n",
            "  matplotlib         pkgs/main/linux-64::matplotlib-3.1.1-py37h5429711_0\n",
            "  mccabe             pkgs/main/linux-64::mccabe-0.6.1-py37_1\n",
            "  mistune            pkgs/main/linux-64::mistune-0.8.4-py37h7b6447c_0\n",
            "  mkl                pkgs/main/linux-64::mkl-2019.4-243\n",
            "  mkl-service        pkgs/main/linux-64::mkl-service-2.3.0-py37he904b0f_0\n",
            "  mkl_fft            pkgs/main/linux-64::mkl_fft-1.0.14-py37ha843d7b_0\n",
            "  mkl_random         pkgs/main/linux-64::mkl_random-1.1.0-py37hd6b4f25_0\n",
            "  mock               pkgs/main/linux-64::mock-3.0.5-py37_0\n",
            "  more-itertools     pkgs/main/linux-64::more-itertools-7.2.0-py37_0\n",
            "  mpc                pkgs/main/linux-64::mpc-1.1.0-h10f8cd9_1\n",
            "  mpfr               pkgs/main/linux-64::mpfr-4.0.1-hdf1c602_3\n",
            "  mpmath             pkgs/main/linux-64::mpmath-1.1.0-py37_0\n",
            "  msgpack-python     pkgs/main/linux-64::msgpack-python-0.6.1-py37hfd86e86_1\n",
            "  multipledispatch   pkgs/main/linux-64::multipledispatch-0.6.0-py37_0\n",
            "  navigator-updater  pkgs/main/linux-64::navigator-updater-0.2.1-py37_0\n",
            "  nbconvert          pkgs/main/linux-64::nbconvert-5.6.0-py37_1\n",
            "  nbformat           pkgs/main/linux-64::nbformat-4.4.0-py37_0\n",
            "  ncurses            pkgs/main/linux-64::ncurses-6.1-he6710b0_1\n",
            "  networkx           pkgs/main/noarch::networkx-2.3-py_0\n",
            "  nltk               pkgs/main/linux-64::nltk-3.4.5-py37_0\n",
            "  nose               pkgs/main/linux-64::nose-1.3.7-py37_2\n",
            "  notebook           pkgs/main/linux-64::notebook-6.0.1-py37_0\n",
            "  numba              pkgs/main/linux-64::numba-0.45.1-py37h962f231_0\n",
            "  numexpr            pkgs/main/linux-64::numexpr-2.7.0-py37h9e4a6bb_0\n",
            "  numpy              pkgs/main/linux-64::numpy-1.17.2-py37haad9e8e_0\n",
            "  numpy-base         pkgs/main/linux-64::numpy-base-1.17.2-py37hde5b4d6_0\n",
            "  numpydoc           pkgs/main/noarch::numpydoc-0.9.1-py_0\n",
            "  olefile            pkgs/main/linux-64::olefile-0.46-py37_0\n",
            "  openpyxl           pkgs/main/noarch::openpyxl-3.0.0-py_0\n",
            "  openssl            pkgs/main/linux-64::openssl-1.1.1d-h7b6447c_2\n",
            "  packaging          pkgs/main/noarch::packaging-19.2-py_0\n",
            "  pandas             pkgs/main/linux-64::pandas-0.25.1-py37he6710b0_0\n",
            "  pandoc             pkgs/main/linux-64::pandoc-2.2.3.2-0\n",
            "  pandocfilters      pkgs/main/linux-64::pandocfilters-1.4.2-py37_1\n",
            "  pango              pkgs/main/linux-64::pango-1.42.4-h049681c_0\n",
            "  parso              pkgs/main/noarch::parso-0.5.1-py_0\n",
            "  partd              pkgs/main/noarch::partd-1.0.0-py_0\n",
            "  patchelf           pkgs/main/linux-64::patchelf-0.9-he6710b0_3\n",
            "  path.py            pkgs/main/noarch::path.py-12.0.1-py_0\n",
            "  pathlib2           pkgs/main/linux-64::pathlib2-2.3.5-py37_0\n",
            "  patsy              pkgs/main/linux-64::patsy-0.5.1-py37_0\n",
            "  pcre               pkgs/main/linux-64::pcre-8.43-he6710b0_0\n",
            "  pep8               pkgs/main/linux-64::pep8-1.7.1-py37_0\n",
            "  pexpect            pkgs/main/linux-64::pexpect-4.7.0-py37_0\n",
            "  pickleshare        pkgs/main/linux-64::pickleshare-0.7.5-py37_0\n",
            "  pillow             pkgs/main/linux-64::pillow-6.2.0-py37h34e0f95_0\n",
            "  pip                pkgs/main/linux-64::pip-19.2.3-py37_0\n",
            "  pixman             pkgs/main/linux-64::pixman-0.38.0-h7b6447c_0\n",
            "  pkginfo            pkgs/main/linux-64::pkginfo-1.5.0.1-py37_0\n",
            "  pluggy             pkgs/main/linux-64::pluggy-0.13.0-py37_0\n",
            "  ply                pkgs/main/linux-64::ply-3.11-py37_0\n",
            "  prometheus_client  pkgs/main/noarch::prometheus_client-0.7.1-py_0\n",
            "  prompt_toolkit     pkgs/main/noarch::prompt_toolkit-2.0.10-py_0\n",
            "  psutil             pkgs/main/linux-64::psutil-5.6.3-py37h7b6447c_0\n",
            "  ptyprocess         pkgs/main/linux-64::ptyprocess-0.6.0-py37_0\n",
            "  py                 pkgs/main/linux-64::py-1.8.0-py37_0\n",
            "  py-lief            pkgs/main/linux-64::py-lief-0.9.0-py37h7725739_2\n",
            "  pycodestyle        pkgs/main/linux-64::pycodestyle-2.5.0-py37_0\n",
            "  pycosat            pkgs/main/linux-64::pycosat-0.6.3-py37h14c3975_0\n",
            "  pycparser          pkgs/main/linux-64::pycparser-2.19-py37_0\n",
            "  pycrypto           pkgs/main/linux-64::pycrypto-2.6.1-py37h14c3975_9\n",
            "  pycurl             pkgs/main/linux-64::pycurl-7.43.0.3-py37h1ba5d50_0\n",
            "  pyflakes           pkgs/main/linux-64::pyflakes-2.1.1-py37_0\n",
            "  pygments           pkgs/main/noarch::pygments-2.4.2-py_0\n",
            "  pylint             pkgs/main/linux-64::pylint-2.4.2-py37_0\n",
            "  pyodbc             pkgs/main/linux-64::pyodbc-4.0.27-py37he6710b0_0\n",
            "  pyopenssl          pkgs/main/linux-64::pyopenssl-19.0.0-py37_0\n",
            "  pyparsing          pkgs/main/noarch::pyparsing-2.4.2-py_0\n",
            "  pyqt               pkgs/main/linux-64::pyqt-5.9.2-py37h05f1152_2\n",
            "  pyrsistent         pkgs/main/linux-64::pyrsistent-0.15.4-py37h7b6447c_0\n",
            "  pysocks            pkgs/main/linux-64::pysocks-1.7.1-py37_0\n",
            "  pytables           pkgs/main/linux-64::pytables-3.5.2-py37h71ec239_1\n",
            "  pytest             pkgs/main/linux-64::pytest-5.2.1-py37_0\n",
            "  pytest-arraydiff   pkgs/main/linux-64::pytest-arraydiff-0.3-py37h39e3cac_0\n",
            "  pytest-astropy     pkgs/main/linux-64::pytest-astropy-0.5.0-py37_0\n",
            "  pytest-doctestplus pkgs/main/noarch::pytest-doctestplus-0.4.0-py_0\n",
            "  pytest-openfiles   pkgs/main/noarch::pytest-openfiles-0.4.0-py_0\n",
            "  pytest-remotedata  pkgs/main/linux-64::pytest-remotedata-0.3.2-py37_0\n",
            "  python             pkgs/main/linux-64::python-3.7.4-h265db76_1\n",
            "  python-dateutil    pkgs/main/linux-64::python-dateutil-2.8.0-py37_0\n",
            "  python-libarchive~ pkgs/main/linux-64::python-libarchive-c-2.8-py37_13\n",
            "  pytz               pkgs/main/noarch::pytz-2019.3-py_0\n",
            "  pywavelets         pkgs/main/linux-64::pywavelets-1.0.3-py37hdd07704_1\n",
            "  pyyaml             pkgs/main/linux-64::pyyaml-5.1.2-py37h7b6447c_0\n",
            "  pyzmq              pkgs/main/linux-64::pyzmq-18.1.0-py37he6710b0_0\n",
            "  qt                 pkgs/main/linux-64::qt-5.9.7-h5867ecd_1\n",
            "  qtawesome          pkgs/main/noarch::qtawesome-0.6.0-py_0\n",
            "  qtconsole          pkgs/main/noarch::qtconsole-4.5.5-py_0\n",
            "  qtpy               pkgs/main/noarch::qtpy-1.9.0-py_0\n",
            "  readline           pkgs/main/linux-64::readline-7.0-h7b6447c_5\n",
            "  requests           pkgs/main/linux-64::requests-2.22.0-py37_0\n",
            "  ripgrep            pkgs/main/linux-64::ripgrep-0.10.0-hc07d326_0\n",
            "  rope               pkgs/main/noarch::rope-0.14.0-py_0\n",
            "  ruamel_yaml        pkgs/main/linux-64::ruamel_yaml-0.15.46-py37h14c3975_0\n",
            "  scikit-image       pkgs/main/linux-64::scikit-image-0.15.0-py37he6710b0_0\n",
            "  scikit-learn       pkgs/main/linux-64::scikit-learn-0.21.3-py37hd81dba3_0\n",
            "  scipy              pkgs/main/linux-64::scipy-1.3.1-py37h7c811a0_0\n",
            "  seaborn            pkgs/main/linux-64::seaborn-0.9.0-py37_0\n",
            "  secretstorage      pkgs/main/linux-64::secretstorage-3.1.1-py37_0\n",
            "  send2trash         pkgs/main/linux-64::send2trash-1.5.0-py37_0\n",
            "  setuptools         pkgs/main/linux-64::setuptools-41.4.0-py37_0\n",
            "  simplegeneric      pkgs/main/linux-64::simplegeneric-0.8.1-py37_2\n",
            "  singledispatch     pkgs/main/linux-64::singledispatch-3.4.0.3-py37_0\n",
            "  sip                pkgs/main/linux-64::sip-4.19.8-py37hf484d3e_0\n",
            "  six                pkgs/main/linux-64::six-1.12.0-py37_0\n",
            "  snappy             pkgs/main/linux-64::snappy-1.1.7-hbae5bb6_3\n",
            "  snowballstemmer    pkgs/main/noarch::snowballstemmer-2.0.0-py_0\n",
            "  sortedcollections  pkgs/main/linux-64::sortedcollections-1.1.2-py37_0\n",
            "  sortedcontainers   pkgs/main/linux-64::sortedcontainers-2.1.0-py37_0\n",
            "  soupsieve          pkgs/main/linux-64::soupsieve-1.9.3-py37_0\n",
            "  sphinx             pkgs/main/noarch::sphinx-2.2.0-py_0\n",
            "  sphinxcontrib      pkgs/main/linux-64::sphinxcontrib-1.0-py37_1\n",
            "  sphinxcontrib-app~ pkgs/main/noarch::sphinxcontrib-applehelp-1.0.1-py_0\n",
            "  sphinxcontrib-dev~ pkgs/main/noarch::sphinxcontrib-devhelp-1.0.1-py_0\n",
            "  sphinxcontrib-htm~ pkgs/main/noarch::sphinxcontrib-htmlhelp-1.0.2-py_0\n",
            "  sphinxcontrib-jsm~ pkgs/main/noarch::sphinxcontrib-jsmath-1.0.1-py_0\n",
            "  sphinxcontrib-qth~ pkgs/main/noarch::sphinxcontrib-qthelp-1.0.2-py_0\n",
            "  sphinxcontrib-ser~ pkgs/main/noarch::sphinxcontrib-serializinghtml-1.1.3-py_0\n",
            "  sphinxcontrib-web~ pkgs/main/noarch::sphinxcontrib-websupport-1.1.2-py_0\n",
            "  spyder             pkgs/main/linux-64::spyder-3.3.6-py37_0\n",
            "  spyder-kernels     pkgs/main/linux-64::spyder-kernels-0.5.2-py37_0\n",
            "  sqlalchemy         pkgs/main/linux-64::sqlalchemy-1.3.9-py37h7b6447c_0\n",
            "  sqlite             pkgs/main/linux-64::sqlite-3.30.0-h7b6447c_0\n",
            "  statsmodels        pkgs/main/linux-64::statsmodels-0.10.1-py37hdd07704_0\n",
            "  sympy              pkgs/main/linux-64::sympy-1.4-py37_0\n",
            "  tbb                pkgs/main/linux-64::tbb-2019.4-hfd86e86_0\n",
            "  tblib              pkgs/main/noarch::tblib-1.4.0-py_0\n",
            "  terminado          pkgs/main/linux-64::terminado-0.8.2-py37_0\n",
            "  testpath           pkgs/main/linux-64::testpath-0.4.2-py37_0\n",
            "  tk                 pkgs/main/linux-64::tk-8.6.8-hbc83047_0\n",
            "  toolz              pkgs/main/noarch::toolz-0.10.0-py_0\n",
            "  tornado            pkgs/main/linux-64::tornado-6.0.3-py37h7b6447c_0\n",
            "  tqdm               pkgs/main/noarch::tqdm-4.36.1-py_0\n",
            "  traitlets          pkgs/main/linux-64::traitlets-4.3.3-py37_0\n",
            "  unicodecsv         pkgs/main/linux-64::unicodecsv-0.14.1-py37_0\n",
            "  unixodbc           pkgs/main/linux-64::unixodbc-2.3.7-h14c3975_0\n",
            "  urllib3            pkgs/main/linux-64::urllib3-1.24.2-py37_0\n",
            "  wcwidth            pkgs/main/linux-64::wcwidth-0.1.7-py37_0\n",
            "  webencodings       pkgs/main/linux-64::webencodings-0.5.1-py37_1\n",
            "  werkzeug           pkgs/main/noarch::werkzeug-0.16.0-py_0\n",
            "  wheel              pkgs/main/linux-64::wheel-0.33.6-py37_0\n",
            "  widgetsnbextension pkgs/main/linux-64::widgetsnbextension-3.5.1-py37_0\n",
            "  wrapt              pkgs/main/linux-64::wrapt-1.11.2-py37h7b6447c_0\n",
            "  wurlitzer          pkgs/main/linux-64::wurlitzer-1.0.3-py37_0\n",
            "  xlrd               pkgs/main/linux-64::xlrd-1.2.0-py37_0\n",
            "  xlsxwriter         pkgs/main/noarch::xlsxwriter-1.2.1-py_0\n",
            "  xlwt               pkgs/main/linux-64::xlwt-1.3.0-py37_0\n",
            "  xz                 pkgs/main/linux-64::xz-5.2.4-h14c3975_4\n",
            "  yaml               pkgs/main/linux-64::yaml-0.1.7-had09818_2\n",
            "  zeromq             pkgs/main/linux-64::zeromq-4.3.1-he6710b0_3\n",
            "  zict               pkgs/main/noarch::zict-1.0.0-py_0\n",
            "  zipp               pkgs/main/noarch::zipp-0.6.0-py_0\n",
            "  zlib               pkgs/main/linux-64::zlib-1.2.11-h7b6447c_3\n",
            "  zstd               pkgs/main/linux-64::zstd-1.3.7-h0b5b093_0\n",
            "\n",
            "\n",
            "Preparing transaction: / \b\b- \b\b\\ \b\b| \b\b/ \b\b- \b\b\\ \b\b| \b\b/ \b\b- \b\b\\ \b\b| \b\b/ \b\b- \b\b\\ \b\b| \b\b/ \b\b- \b\b\\ \b\b| \b\b/ \b\b- \b\b\\ \b\b| \b\b/ \b\b- \b\b\\ \b\b| \b\b/ \b\b- \b\b\\ \b\b| \b\bdone\n",
            "Executing transaction: - \b\b\\ \b\b| \b\b/ \b\b- \b\b\\ \b\b| \b\b/ \b\b- \b\b\\ \b\b| \b\b/ \b\b- \b\b\\ \b\b| \b\b/ \b\b- \b\b\\ \b\b| \b\b/ \b\b- \b\b\\ \b\b| \b\b/ \b\b- \b\b\\ \b\b| \b\b/ \b\b- \b\b\\ \b\b| \b\b/ \b\b- \b\b\\ \b\b| \b\b/ \b\b- \b\b\\ \b\b| \b\b/ \b\b- \b\b\\ \b\b| \b\b/ \b\b- \b\b\\ \b\b| \b\b/ \b\b- \b\b\\ \b\b| \b\b/ \b\b- \b\b\\ \b\b| \b\b/ \b\b- \b\b\\ \b\b| \b\b/ \b\b- \b\b\\ \b\b| \b\b/ \b\b- \b\b\\ \b\b| \b\b/ \b\b- \b\b\\ \b\b| \b\b/ \b\b- \b\b\\ \b\b| \b\b/ \b\b- \b\b\\ \b\b| \b\b/ \b\b- \b\b\\ \b\b| \b\b/ \b\b- \b\b\\ \b\b| \b\b/ \b\b- \b\b\\ \b\b| \b\b/ \b\b- \b\b\\ \b\b| \b\b/ \b\b- \b\b\\ \b\b| \b\b/ \b\b- \b\b\\ \b\b| \b\b/ \b\b- \b\b\\ \b\b| \b\b/ \b\b- \b\b\\ \b\b| \b\b/ \b\b- \b\b\\ \b\b| \b\b/ \b\b- \b\b\\ \b\b| \b\b/ \b\b- \b\b\\ \b\b| \b\b/ \b\b- \b\b\\ \b\b| \b\b/ \b\b- \b\b\\ \b\b| \b\b/ \b\b- \b\b\\ \b\b| \b\b/ \b\b- \b\b\\ \b\b| \b\b/ \b\b- \b\b\\ \b\b| \b\b/ \b\b- \b\b\\ \b\b| \b\b/ \b\b- \b\b\\ \b\b| \b\b/ \b\b- \b\b\\ \b\b| \b\b/ \b\b- \b\b\\ \b\b| \b\b/ \b\b- \b\b\\ \b\b| \b\b/ \b\b- \b\b\\ \b\b| \b\b/ \b\b- \b\b\\ \b\b| \b\b/ \b\b- \b\b\\ \b\b| \b\b/ \b\b- \b\b\\ \b\b| \b\b/ \b\b- \b\b\\ \b\b| \b\b/ \b\b- \b\b\\ \b\b| \b\b/ \b\b- \b\b\\ \b\b| \b\b/ \b\b- \b\b\\ \b\b| \b\b/ \b\b- \b\b\\ \b\b| \b\b/ \b\b- \b\b\\ \b\b| \b\b/ \b\b- \b\b\\ \b\b| \b\b/ \b\b- \b\b\\ \b\b| \b\b/ \b\b- \b\b\\ \b\b| \b\b/ \b\b- \b\b\\ \b\b| \b\b/ \b\b- \b\b\\ \b\b| \b\b/ \b\b- \b\b\\ \b\b| \b\b/ \b\b- \b\b\\ \b\b| \b\b/ \b\b- \b\b\\ \b\b| \b\b/ \b\b- \b\b\\ \b\b| \b\b/ \b\b- \b\b\\ \b\b| \b\b/ \b\b- \b\b\\ \b\b| \b\b/ \b\b- \b\b\\ \b\b| \b\b/ \b\b- \b\b\\ \b\b| \b\b/ \b\b- \b\b\\ \b\b| \b\b/ \b\b- \b\b\\ \b\b| \b\b/ \b\b- \b\b\\ \b\b| \b\b/ \b\b- \b\b\\ \b\b| \b\b/ \b\b- \b\b\\ \b\b| \b\b/ \b\b- \b\b\\ \b\b| \b\b/ \b\b- \b\b\\ \b\b| \b\b/ \b\b- \b\b\\ \b\b| \b\b/ \b\b- \b\b\\ \b\b| \b\b/ \b\b- \b\b\\ \b\b| \b\b/ \b\b- \b\b\\ \b\b| \b\b/ \b\b- \b\b\\ \b\b| \b\b/ \b\b- \b\b\\ \b\b| \b\b/ \b\b- \b\b\\ \b\b| \b\b/ \b\b- \b\b\\ \b\b| \b\b/ \b\b- \b\b\\ \b\b| \b\b/ \b\b- \b\b\\ \b\b| \b\b/ \b\b- \b\b\\ \b\b| \b\b/ \b\b- \b\b\\ \b\b| \b\b/ \b\b- \b\b\\ \b\b| \b\b/ \b\b- \b\b\\ \b\b| \b\b/ \b\b- \b\b\\ \b\b| \b\b/ \b\b- \b\b\\ \b\b| \b\b/ \b\b- \b\b\\ \b\b| \b\b/ \b\b- \b\b\\ \b\b| \b\b/ \b\b- \b\b\\ \b\b| \b\b/ \b\b- \b\b\\ \b\b| \b\b/ \b\b- \b\b\\ \b\b| \b\b/ \b\b- \b\b\\ \b\b| \b\b/ \b\b- \b\b\\ \b\b| \b\b/ \b\b- \b\b\\ \b\b| \b\b/ \b\b- \b\b\\ \b\b| \b\b/ \b\b- \b\b\\ \b\b| \b\b/ \b\b- \b\b\\ \b\b| \b\b/ \b\b- \b\b\\ \b\b| \b\b/ \b\b- \b\b\\ \b\b| \b\b/ \b\b- \b\b\\ \b\b| \b\b/ \b\b- \b\b\\ \b\b| \b\b/ \b\b- \b\b\\ \b\b| \b\b/ \b\b- \b\b\\ \b\b| \b\b/ \b\b- \b\b\\ \b\b| \b\b/ \b\b- \b\b\\ \b\b| \b\b/ \b\b- \b\b\\ \b\b| \b\b/ \b\b- \b\b\\ \b\b| \b\b/ \b\b- \b\b\\ \b\b| \b\b/ \b\b- \b\b\\ \b\b| \b\b/ \b\b- \b\b\\ \b\b| \b\b/ \b\b- \b\b\\ \b\b| \b\b/ \b\b- \b\b\\ \b\b| \b\b/ \b\b- \b\b\\ \b\b| \b\b/ \b\b- \b\b\\ \b\b| \b\b/ \b\b- \b\b\\ \b\b| \b\b/ \b\b- \b\b\\ \b\b| \b\b/ \b\b- \b\b\\ \b\b| \b\b/ \b\b- \b\b\\ \b\b| \b\b/ \b\b- \b\b\\ \b\b| \b\b/ \b\b- \b\b\\ \b\b| \b\b/ \b\b- \b\b\\ \b\b| \b\b/ \b\b- \b\b\\ \b\b| \b\b/ \b\b- \b\b\\ \b\b| \b\b/ \b\b- \b\b\\ \b\b| \b\b/ \b\b- \b\b\\ \b\b| \b\b/ \b\b- \b\b\\ \b\b| \b\b/ \b\b- \b\b\\ \b\b| \b\b/ \b\b- \b\b\\ \b\b| \b\b/ \b\b- \b\b\\ \b\b| \b\b/ \b\b- \b\b\\ \b\b| \b\b/ \b\b- \b\b\\ \b\b| \b\b/ \b\b- \b\b\\ \b\b| \b\b/ \b\b- \b\b\\ \b\b| \b\b/ \b\b- \b\b\\ \b\b| \b\b/ \b\b- \b\b\\ \b\b| \b\b/ \b\b- \b\b\\ \b\b| \b\b/ \b\bdone\n",
            "installation finished.\n",
            "WARNING:\n",
            "    You currently have a PYTHONPATH environment variable set. This may cause\n",
            "    unexpected behavior when running the Python interpreter in Anaconda3.\n",
            "    For best results, please verify that your PYTHONPATH only points to\n",
            "    directories of packages that are compatible with the Python interpreter\n",
            "    in Anaconda3: /usr/local\n",
            "Collecting package metadata (current_repodata.json): - \b\b\\ \b\b| \b\b/ \b\b- \b\b\\ \b\b| \b\b/ \b\b- \b\b\\ \b\b| \b\b/ \b\b- \b\b\\ \b\b| \b\b/ \b\b- \b\b\\ \b\b| \b\b/ \b\b- \b\b\\ \b\b| \b\b/ \b\b- \b\b\\ \b\b| \b\b/ \b\b- \b\b\\ \b\b| \b\b/ \b\b- \b\b\\ \b\b| \b\b/ \b\b- \b\b\\ \b\b| \b\b/ \b\b- \b\b\\ \b\b| \b\b/ \b\b- \b\b\\ \b\b| \b\b/ \b\b- \b\b\\ \b\b| \b\b/ \b\b- \b\b\\ \b\b| \b\b/ \b\b- \b\b\\ \b\b| \b\b/ \b\b- \b\b\\ \b\b| \b\b/ \b\b- \b\b\\ \b\b| \b\b/ \b\b- \b\b\\ \b\b| \b\b/ \b\b- \b\b\\ \b\b| \b\b/ \b\b- \b\b\\ \b\b| \b\b/ \b\b- \b\b\\ \b\b| \b\b/ \b\b- \b\b\\ \b\b| \b\b/ \b\b- \b\b\\ \b\b| \b\b/ \b\b- \b\b\\ \b\b| \b\b/ \b\b- \b\b\\ \b\b| \b\b/ \b\b- \b\b\\ \b\b| \b\b/ \b\b- \b\b\\ \b\b| \b\b/ \b\b- \b\b\\ \b\b| \b\b/ \b\b- \b\b\\ \b\b| \b\b/ \b\b- \b\b\\ \b\b| \b\b/ \b\b- \b\b\\ \b\b| \b\b/ \b\b- \b\b\\ \b\b| \b\b/ \b\bdone\n",
            "Solving environment: \\ \b\b| \b\b/ \b\b- \b\b\\ \b\b| \b\b/ \b\b- \b\b\\ \b\b| \b\b/ \b\b- \b\b\\ \b\b| \b\b/ \b\b- \b\b\\ \b\b| \b\b/ \b\b- \b\b\\ \b\b| \b\b/ \b\b- \b\b\\ \b\b| \b\b/ \b\b- \b\b\\ \b\b| \b\b/ \b\b- \b\b\\ \b\b| \b\b/ \b\b- \b\b\\ \b\b| \b\b/ \b\b- \b\b\\ \b\b| \b\b/ \b\b- \b\b\\ \b\b| \b\b/ \b\b- \b\b\\ \b\b| \b\b/ \b\b- \b\b\\ \b\b| \b\b/ \b\b- \b\b\\ \b\b| \b\b/ \b\b- \b\b\\ \b\b| \b\b/ \b\b- \b\b\\ \b\b| \b\b/ \b\b- \b\b\\ \b\b| \b\b/ \b\b- \b\b\\ \b\b| \b\b/ \b\b- \b\b\\ \b\b| \b\b/ \b\b- \b\b\\ \b\b| \b\b/ \b\b- \b\b\\ \b\b| \b\b/ \b\b- \b\b\\ \b\b| \b\b/ \b\b- \b\b\\ \b\b| \b\b/ \b\b- \b\b\\ \b\b| \b\b/ \b\b- \b\b\\ \b\b| \b\b/ \b\b- \b\b\\ \b\b| \b\b/ \b\b- \b\b\\ \b\b| \b\b/ \b\b- \b\b\\ \b\b| \b\b/ \b\b- \b\b\\ \b\b| \b\b/ \b\b- \b\b\\ \b\b| \b\b/ \b\b- \b\b\\ \b\b| \b\b/ \b\b- \b\b\\ \b\b| \b\b/ \b\b- \b\b\\ \b\b| \b\b/ \b\b- \b\b\\ \b\b| \b\b/ \b\b- \b\b\\ \b\b| \b\b/ \b\b- \b\b\\ \b\b| \b\b/ \b\b- \b\b\\ \b\b| \b\b/ \b\b- \b\b\\ \b\b| \b\b/ \b\b- \b\b\\ \b\b| \b\b/ \b\b- \b\b\\ \b\b| \b\b/ \b\b- \b\b\\ \b\b| \b\b/ \b\b- \b\b\\ \b\b| \b\b/ \b\b- \b\b\\ \b\b| \b\b/ \b\b- \b\b\\ \b\b| \b\b/ \b\b- \b\b\\ \b\b| \b\b/ \b\b- \b\b\\ \b\b| \b\b/ \b\b- \b\b\\ \b\b| \b\b/ \b\b- \b\b\\ \b\b| \b\b/ \b\b- \b\b\\ \b\b| \b\b/ \b\b- \b\b\\ \b\b| \b\b/ \b\b- \b\b\\ \b\b| \b\b/ \b\b- \b\b\\ \b\b| \b\b/ \b\b- \b\b\\ \b\b| \b\b/ \b\b- \b\b\\ \b\b| \b\b/ \b\b- \b\b\\ \b\b| \b\b/ \b\b- \b\b\\ \b\b| \b\b/ \b\b- \b\b\\ \b\b| \b\b/ \b\b- \b\b\\ \b\b| \b\b/ \b\b- \b\b\\ \b\b| \b\b/ \b\b- \b\b\\ \b\b| \b\b/ \b\b- \b\b\\ \b\b| \b\b/ \b\b- \b\b\\ \b\b| \b\b/ \b\b- \b\b\\ \b\b| \b\b/ \b\b- \b\b\\ \b\b| \b\b/ \b\b- \b\b\\ \b\b| \b\b/ \b\b- \b\b\\ \b\b| \b\b/ \b\b- \b\b\\ \b\b| \b\b/ \b\b- \b\b\\ \b\b| \b\b/ \b\b- \b\b\\ \b\b| \b\b/ \b\b- \b\b\\ \b\b| \b\b/ \b\b- \b\b\\ \b\b| \b\b/ \b\b- \b\b\\ \b\b| \b\b/ \b\b- \b\b\\ \b\b| \b\b/ \b\b- \b\b\\ \b\b| \b\b/ \b\b- \b\b\\ \b\b| \b\b/ \b\b- \b\b\\ \b\b| \b\b/ \b\b- \b\b\\ \b\b| \b\b/ \b\b- \b\b\\ \b\b| \b\b/ \b\b- \b\b\\ \b\b| \b\b/ \b\b- \b\b\\ \b\b| \b\b/ \b\b- \b\b\\ \b\b| \b\b/ \b\b- \b\b\\ \b\b| \b\b/ \b\b- \b\b\\ \b\b| \b\b/ \b\b- \b\b\\ \b\b| \b\b/ \b\b- \b\b\\ \b\b| \b\b/ \b\b- \b\b\\ \b\b| \b\b/ \b\b- \b\b\\ \b\b| \b\b/ \b\b- \b\b\\ \b\b| \b\b/ \b\b- \b\b\\ \b\b| \b\b/ \b\b- \b\b\\ \b\b| \b\b/ \b\b- \b\b\\ \b\b| \b\b/ \b\b- \b\b\\ \b\b| \b\b/ \b\b- \b\b\\ \b\b| \b\b/ \b\b- \b\b\\ \b\b| \b\b/ \b\b- \b\b\\ \b\b| \b\b/ \b\b- \b\b\\ \b\b| \b\b/ \b\b- \b\b\\ \b\b| \b\b/ \b\b- \b\b\\ \b\b| \b\b/ \b\b- \b\b\\ \b\b| \b\b/ \b\b- \b\b\\ \b\b| \b\b/ \b\b- \b\b\\ \b\b| \b\b/ \b\b- \b\b\\ \b\b| \b\b/ \b\b- \b\b\\ \b\b| \b\b/ \b\b- \b\b\\ \b\b| \b\b/ \b\b- \b\b\\ \b\b| \b\b/ \b\b- \b\b\\ \b\b| \b\b/ \b\b- \b\b\\ \b\b| \b\b/ \b\b- \b\b\\ \b\b| \b\b/ \b\b- \b\b\\ \b\b| \b\b/ \b\b- \b\b\\ \b\b| \b\b/ \b\b- \b\b\\ \b\b| \b\b/ \b\b- \b\b\\ \b\b| \b\b/ \b\b- \b\b\\ \b\b| \b\b/ \b\b- \b\b\\ \b\b| \b\b/ \b\b- \b\b\\ \b\b| \b\b/ \b\b- \b\b\\ \b\b| \b\b/ \b\b- \b\b\\ \b\b| \b\b/ \b\b- \b\b\\ \b\b| \b\b/ \b\b- \b\b\\ \b\b| \b\b/ \b\b- \b\b\\ \b\b| \b\b/ \b\b- \b\b\\ \b\b| \b\b/ \b\b- \b\b\\ \b\b| \b\b/ \b\b- \b\b\\ \b\b| \b\b/ \b\b- \b\b\\ \b\b| \b\b/ \b\b- \b\b\\ \b\b| \b\b/ \b\b- \b\b\\ \b\b| \b\b/ \b\b- \b\b\\ \b\b| \b\b/ \b\b- \b\b\\ \b\b| \b\b/ \b\b- \b\b\\ \b\b| \b\b/ \b\b- \b\b\\ \b\b| \b\b/ \b\b- \b\b\\ \b\b| \b\b/ \b\b- \b\b\\ \b\b| \b\b/ \b\b- \b\b\\ \b\b| \b\b/ \b\b- \b\b\\ \b\b| \b\b/ \b\b- \b\b\\ \b\b| \b\b/ \b\b- \b\b\\ \b\b| \b\b/ \b\b- \b\b\\ \b\b| \b\b/ \b\b- \b\b\\ \b\b| \b\b/ \b\b- \b\b\\ \b\b| \b\b/ \b\b- \b\b\\ \b\b| \b\b/ \b\b- \b\b\\ \b\b| \b\b/ \b\b- \b\b\\ \b\b| \b\b/ \b\b- \b\b\\ \b\b| \b\b/ \b\b- \b\b\\ \b\b| \b\b/ \b\b- \b\b\\ \b\b| \b\b/ \b\b- \b\b\\ \b\b| \b\b/ \b\b- \b\b\\ \b\b| \b\b/ \b\b- \b\b\\ \b\b| \b\b/ \b\b- \b\b\\ \b\b| \b\b/ \b\b- \b\b\\ \b\b| \b\b/ \b\b- \b\b\\ \b\b| \b\b/ \b\b- \b\b\\ \b\b| \b\b/ \b\bfailed with initial frozen solve. Retrying with flexible solve.\n",
            "Solving environment: \\ \b\b| \b\b/ \b\b- \b\b\\ \b\b| \b\b/ \b\b- \b\b\\ \b\b| \b\b/ \b\b- \b\b\\ \b\b| \b\b/ \b\b- \b\b\\ \b\b| \b\b/ \b\b- \b\b\\ \b\b| \b\b/ \b\b- \b\b\\ \b\b| \b\b/ \b\b- \b\b\\ \b\b| \b\b/ \b\b- \b\b\\ \b\b| \b\b/ \b\b- \b\b\\ \b\b| \b\b/ \b\b- \b\b\\ \b\b| \b\b/ \b\b- \b\b\\ \b\b| \b\b/ \b\b- \b\b\\ \b\b| \b\b/ \b\b- \b\b\\ \b\b| \b\b/ \b\b- \b\b\\ \b\b| \b\b/ \b\b- \b\b\\ \b\b| \b\b/ \b\b- \b\b\\ \b\b| \b\b/ \b\b- \b\b\\ \b\b| \b\b/ \b\b- \b\b\\ \b\b| \b\b/ \b\b- \b\b\\ \b\b| \b\b/ \b\b- \b\b\\ \b\b| \b\b/ \b\b- \b\b\\ \b\b| \b\b/ \b\b- \b\b\\ \b\b| \b\b/ \b\b- \b\b\\ \b\b| \b\b/ \b\b- \b\b\\ \b\b| \b\b/ \b\b- \b\b\\ \b\b| \b\b/ \b\b- \b\b\\ \b\b| \b\b/ \b\b- \b\b\\ \b\b| \b\b/ \b\b- \b\b\\ \b\b| \b\b/ \b\b- \b\b\\ \b\b| \b\b/ \b\b- \b\b\\ \b\b| \b\b/ \b\b- \b\b\\ \b\b| \b\b/ \b\b- \b\b\\ \b\b| \b\b/ \b\b- \b\b\\ \b\b| \b\b/ \b\b- \b\b\\ \b\b| \b\b/ \b\b- \b\b\\ \b\b| \b\b/ \b\b- \b\b\\ \b\b| \b\b/ \b\b- \b\b\\ \b\b| \b\b/ \b\b- \b\b\\ \b\b| \b\b/ \b\b- \b\b\\ \b\b| \b\b/ \b\b- \b\b\\ \b\b| \b\b/ \b\b- \b\b\\ \b\b| \b\b/ \b\b- \b\b\\ \b\b| \b\b/ \b\b- \b\b\\ \b\b| \b\b/ \b\b- \b\b\\ \b\b| \b\b/ \b\b- \b\b\\ \b\b| \b\b/ \b\b- \b\b\\ \b\b| \b\b/ \b\b- \b\b\\ \b\b| \b\b/ \b\b- \b\b\\ \b\b| \b\b/ \b\b- \b\b\\ \b\b| \b\b/ \b\b- \b\b\\ \b\b| \b\b/ \b\b- \b\b\\ \b\b| \b\b/ \b\b- \b\b\\ \b\b| \b\b/ \b\b- \b\b\\ \b\b| \b\b/ \b\b- \b\b\\ \b\b| \b\b/ \b\b- \b\b\\ \b\b| \b\b/ \b\b- \b\b\\ \b\b| \b\b/ \b\b- \b\b\\ \b\b| \b\b/ \b\b- \b\b\\ \b\b| \b\b/ \b\b- \b\b\\ \b\b| \b\b/ \b\b- \b\b\\ \b\b| \b\b/ \b\b- \b\b\\ \b\b| \b\b/ \b\b- \b\b\\ \b\b| \b\b/ \b\b- \b\b\\ \b\b| \b\b/ \b\b- \b\b\\ \b\b| \b\b/ \b\b- \b\b\\ \b\b| \b\b/ \b\b- \b\b\\ \b\b| \b\b/ \b\b- \b\b\\ \b\b| \b\b/ \b\b- \b\b\\ \b\b| \b\b/ \b\b- \b\b\\ \b\b| \b\b/ \b\b- \b\b\\ \b\b| \b\b/ \b\b- \b\b\\ \b\b| \b\b/ \b\b- \b\b\\ \b\b| \b\b/ \b\b- \b\b\\ \b\b| \b\b/ \b\b- \b\b\\ \b\b| \b\b/ \b\b- \b\b\\ \b\b| \b\b/ \b\b- \b\b\\ \b\b| \b\b/ \b\b- \b\b\\ \b\b| \b\b/ \b\b- \b\b\\ \b\b| \b\b/ \b\b- \b\b\\ \b\b| \b\b/ \b\b- \b\b\\ \b\b| \b\b/ \b\b- \b\b\\ \b\b| \b\b/ \b\b- \b\b\\ \b\b| \b\b/ \b\b- \b\b\\ \b\b| \b\b/ \b\b- \b\b\\ \b\b| \b\b/ \b\b- \b\b\\ \b\b| \b\b/ \b\b- \b\b\\ \b\b| \b\b/ \b\b- \b\b\\ \b\b| \b\b/ \b\b- \b\b\\ \b\b| \b\b/ \b\b- \b\b\\ \b\b| \b\b/ \b\b- \b\b\\ \b\b| \b\b/ \b\b- \b\b\\ \b\b| \b\b/ \b\b- \b\b\\ \b\b| \b\b/ \b\b- \b\b\\ \b\b| \b\b/ \b\b- \b\b\\ \b\b| \b\b/ \b\b- \b\b\\ \b\b| \b\b/ \b\b- \b\b\\ \b\b| \b\b/ \b\b- \b\b\\ \b\b| \b\b/ \b\b- \b\b\\ \b\b| \b\b/ \b\b- \b\b\\ \b\b| \b\b/ \b\b- \b\b\\ \b\b| \b\b/ \b\b- \b\b\\ \b\b| \b\b/ \b\b- \b\b\\ \b\b| \b\b/ \b\b- \b\b\\ \b\b| \b\b/ \b\b- \b\b\\ \b\b| \b\b/ \b\b- \b\b\\ \b\b| \b\b/ \b\b- \b\b\\ \b\b| \b\b/ \b\b- \b\b\\ \b\b| \b\b/ \b\b- \b\b\\ \b\b| \b\b/ \b\b- \b\b\\ \b\b| \b\b/ \b\b- \b\b\\ \b\b| \b\b/ \b\b- \b\b\\ \b\b| \b\b/ \b\b- \b\b\\ \b\b| \b\b/ \b\b- \b\b\\ \b\b| \b\b/ \b\b- \b\b\\ \b\b| \b\b/ \b\b- \b\b\\ \b\b| \b\b/ \b\b- \b\b\\ \b\b| \b\b/ \b\b- \b\b\\ \b\b| \b\b/ \b\b- \b\b\\ \b\b| \b\b/ \b\b- \b\b\\ \b\b| \b\b/ \b\b- \b\b\\ \b\b| \b\b/ \b\b- \b\b\\ \b\b| \b\b/ \b\b- \b\b\\ \b\b| \b\b/ \b\b- \b\b\\ \b\b| \b\b/ \b\b- \b\b\\ \b\b| \b\b/ \b\b- \b\b\\ \b\b| \b\b/ \b\b- \b\b\\ \b\b| \b\b/ \b\b- \b\b\\ \b\b| \b\b/ \b\b- \b\b\\ \b\b| \b\b/ \b\b- \b\b\\ \b\b| \b\b/ \b\b- \b\b\\ \b\b| \b\b/ \b\b- \b\b\\ \b\b| \b\b/ \b\b- \b\b\\ \b\b| \b\b/ \b\b- \b\b\\ \b\b| \b\b/ \b\b- \b\b\\ \b\b| \b\b/ \b\b- \b\b\\ \b\b| \b\b/ \b\b- \b\b\\ \b\b| \b\b/ \b\b- \b\b\\ \b\b| \b\b/ \b\b- \b\b\\ \b\b| \b\b/ \b\b- \b\b\\ \b\b| \b\b/ \b\b- \b\b\\ \b\b| \b\b/ \b\b- \b\b\\ \b\b| \b\b/ \b\b- \b\b\\ \b\b| \b\b/ \b\b- \b\b\\ \b\b| \b\b/ \b\b- \b\b\\ \b\b| \b\b/ \b\b- \b\b\\ \b\b| \b\b/ \b\b- \b\b\\ \b\b| \b\b/ \b\b- \b\b\\ \b\b| \b\b/ \b\b- \b\b\\ \b\b| \b\b/ \b\b- \b\b\\ \b\b| \b\b/ \b\b- \b\b\\ \b\b| \b\b/ \b\b- \b\b\\ \b\b| \b\b/ \b\b- \b\b\\ \b\b| \b\b/ \b\b- \b\b\\ \b\b| \b\b/ \b\b- \b\b\\ \b\b| \b\b/ \b\b- \b\b\\ \b\b| \b\b/ \b\b- \b\b\\ \b\b| \b\b/ \b\b- \b\b\\ \b\b| \b\b/ \b\b- \b\b\\ \b\b| \b\b/ \b\b- \b\b\\ \b\b| \b\b/ \b\b- \b\b\\ \b\b| \b\b/ \b\b- \b\b\\ \b\b| \b\b/ \b\b- \b\b\\ \b\b| \b\b/ \b\bfailed with repodata from current_repodata.json, will retry with next repodata source.\n",
            "Collecting package metadata (repodata.json): \\ \b\b| \b\b/ \b\b- \b\b\\ \b\b| \b\b/ \b\b- \b\b\\ \b\b| \b\b/ \b\b- \b\b\\ \b\b| \b\b/ \b\b- \b\b\\ \b\b| \b\b/ \b\b- \b\b\\ \b\b| \b\b/ \b\b- \b\b\\ \b\b| \b\b/ \b\b- \b\b\\ \b\b| \b\b/ \b\b- \b\b\\ \b\b| \b\b/ \b\b- \b\b\\ \b\b| \b\b/ \b\b- \b\b\\ \b\b| \b\b/ \b\b- \b\b\\ \b\b| \b\b/ \b\b- \b\b\\ \b\b| \b\b/ \b\b- \b\b\\ \b\b| \b\b/ \b\b- \b\b\\ \b\b| \b\b/ \b\b- \b\b\\ \b\b| \b\b/ \b\b- \b\b\\ \b\b| \b\b/ \b\b- \b\b\\ \b\b| \b\b/ \b\b- \b\b\\ \b\b| \b\b/ \b\b- \b\b\\ \b\b| \b\b/ \b\b- \b\b\\ \b\b| \b\b/ \b\b- \b\b\\ \b\b| \b\b/ \b\b- \b\b\\ \b\b| \b\b/ \b\b- \b\b\\ \b\b| \b\b/ \b\b- \b\b\\ \b\b| \b\b/ \b\b- \b\b\\ \b\b| \b\b/ \b\b- \b\b\\ \b\b| \b\b/ \b\b- \b\b\\ \b\b| \b\b/ \b\b- \b\b\\ \b\b| \b\b/ \b\b- \b\b\\ \b\b| \b\b/ \b\b- \b\b\\ \b\b| \b\b/ \b\b- \b\b\\ \b\b| \b\b/ \b\b- \b\b\\ \b\b| \b\b/ \b\b- \b\b\\ \b\b| \b\b/ \b\b- \b\b\\ \b\b| \b\b/ \b\b- \b\b\\ \b\b| \b\b/ \b\b- \b\b\\ \b\b| \b\b/ \b\b- \b\b\\ \b\b| \b\b/ \b\b- \b\b\\ \b\b| \b\b/ \b\b- \b\b\\ \b\b| \b\b/ \b\b- \b\b\\ \b\b| \b\b/ \b\b- \b\b\\ \b\b| \b\b/ \b\b- \b\b\\ \b\b| \b\b/ \b\b- \b\b\\ \b\b| \b\b/ \b\b- \b\b\\ \b\b| \b\b/ \b\b- \b\b\\ \b\b| \b\b/ \b\b- \b\b\\ \b\b| \b\b/ \b\b- \b\b\\ \b\b| \b\b/ \b\b- \b\b\\ \b\b| \b\b/ \b\b- \b\b\\ \b\b| \b\b/ \b\b- \b\b\\ \b\b| \b\b/ \b\b- \b\b\\ \b\b| \b\b/ \b\b- \b\b\\ \b\b| \b\b/ \b\b- \b\b\\ \b\b| \b\b/ \b\b- \b\b\\ \b\b| \b\b/ \b\b- \b\b\\ \b\b| \b\b/ \b\b- \b\b\\ \b\b| \b\b/ \b\b- \b\b\\ \b\b| \b\b/ \b\b- \b\b\\ \b\b| \b\b/ \b\b- \b\b\\ \b\b| \b\b/ \b\b- \b\b\\ \b\b| \b\b/ \b\b- \b\b\\ \b\b| \b\b/ \b\b- \b\b\\ \b\b| \b\b/ \b\b- \b\b\\ \b\b| \b\b/ \b\b- \b\b\\ \b\b| \b\b/ \b\b- \b\b\\ \b\b| \b\b/ \b\b- \b\b\\ \b\b| \b\b/ \b\b- \b\b\\ \b\b| \b\b/ \b\b- \b\b\\ \b\b| \b\b/ \b\b- \b\b\\ \b\b| \b\b/ \b\b- \b\b\\ \b\b| \b\b/ \b\b- \b\b\\ \b\b| \b\b/ \b\b- \b\b\\ \b\b| \b\b/ \b\b- \b\b\\ \b\b| \b\b/ \b\b- \b\b\\ \b\b| \b\b/ \b\b- \b\b\\ \b\b| \b\b/ \b\b- \b\b\\ \b\b| \b\b/ \b\b- \b\b\\ \b\b| \b\b/ \b\b- \b\b\\ \b\b| \b\b/ \b\b- \b\b\\ \b\b| \b\b/ \b\b- \b\b\\ \b\b| \b\b/ \b\b- \b\b\\ \b\b| \b\b/ \b\b- \b\b\\ \b\b| \b\b/ \b\b- \b\b\\ \b\b| \b\b/ \b\b- \b\b\\ \b\b| \b\b/ \b\b- \b\b\\ \b\b| \b\b/ \b\b- \b\b\\ \b\b| \b\b/ \b\b- \b\b\\ \b\b| \b\b/ \b\b- \b\b\\ \b\b| \b\b/ \b\b- \b\b\\ \b\b| \b\b/ \b\b- \b\b\\ \b\b| \b\b/ \b\b- \b\b\\ \b\b| \b\b/ \b\b- \b\b\\ \b\b| \b\b/ \b\b- \b\b\\ \b\bdone\n",
            "Solving environment: / \b\b- \b\b\\ \b\b| \b\b/ \b\b- \b\b\\ \b\b| \b\b/ \b\b- \b\b\\ \b\b| \b\b/ \b\b- \b\b\\ \b\b| \b\b/ \b\b- \b\b\\ \b\b| \b\b/ \b\b- \b\b\\ \b\b| \b\b/ \b\b- \b\b\\ \b\b| \b\b/ \b\b- \b\b\\ \b\b| \b\b/ \b\b- \b\b\\ \b\b| \b\b/ \b\b- \b\b\\ \b\b| \b\b/ \b\b- \b\b\\ \b\b| \b\b/ \b\b- \b\b\\ \b\b| \b\b/ \b\b- \b\b\\ \b\b| \b\b/ \b\b- \b\b\\ \b\b| \b\b/ \b\b- \b\b\\ \b\b| \b\b/ \b\b- \b\b\\ \b\b| \b\b/ \b\b- \b\b\\ \b\b| \b\b/ \b\b- \b\b\\ \b\b| \b\b/ \b\b- \b\b\\ \b\b| \b\b/ \b\b- \b\b\\ \b\b| \b\b/ \b\b- \b\b\\ \b\b| \b\b/ \b\b- \b\b\\ \b\b| \b\b/ \b\b- \b\b\\ \b\b| \b\b/ \b\b- \b\b\\ \b\b| \b\b/ \b\b- \b\b\\ \b\b| \b\b/ \b\b- \b\b\\ \b\b| \b\b/ \b\b- \b\b\\ \b\b| \b\b/ \b\b- \b\b\\ \b\b| \b\b/ \b\b- \b\b\\ \b\b| \b\b/ \b\b- \b\b\\ \b\b| \b\b/ \b\b- \b\b\\ \b\b| \b\b/ \b\b- \b\b\\ \b\b| \b\b/ \b\b- \b\b\\ \b\b| \b\b/ \b\b- \b\b\\ \b\b| \b\b/ \b\b- \b\b\\ \b\b| \b\b/ \b\b- \b\b\\ \b\b| \b\b/ \b\b- \b\b\\ \b\b| \b\b/ \b\b- \b\b\\ \b\b| \b\b/ \b\b- \b\b\\ \b\b| \b\b/ \b\b- \b\b\\ \b\b| \b\b/ \b\b- \b\b\\ \b\b| \b\b/ \b\b- \b\b\\ \b\b| \b\b/ \b\b- \b\b\\ \b\b| \b\b/ \b\b- \b\b\\ \b\b| \b\b/ \b\b- \b\b\\ \b\b| \b\b/ \b\b- \b\b\\ \b\b| \b\b/ \b\b- \b\b\\ \b\b| \b\b/ \b\b- \b\b\\ \b\b| \b\b/ \b\b- \b\b\\ \b\b| \b\b/ \b\b- \b\b\\ \b\b| \b\b/ \b\b- \b\b\\ \b\b| \b\b/ \b\b- \b\b\\ \b\b| \b\b/ \b\b- \b\b\\ \b\b| \b\b/ \b\b- \b\b\\ \b\b| \b\b/ \b\b- \b\b\\ \b\b| \b\b/ \b\b- \b\b\\ \b\b| \b\b/ \b\b- \b\b\\ \b\b| \b\b/ \b\b- \b\b\\ \b\b| \b\b/ \b\b- \b\b\\ \b\b| \b\b/ \b\b- \b\b\\ \b\b| \b\b/ \b\b- \b\b\\ \b\b| \b\b/ \b\b- \b\b\\ \b\b| \b\b/ \b\b- \b\bdone\n",
            "\n",
            "\n",
            "==> WARNING: A newer version of conda exists. <==\n",
            "  current version: 4.7.12\n",
            "  latest version: 4.10.0\n",
            "\n",
            "Please update conda by running\n",
            "\n",
            "    $ conda update -n base -c defaults conda\n",
            "\n",
            "\n",
            "\n",
            "## Package Plan ##\n",
            "\n",
            "  environment location: /usr/local\n",
            "\n",
            "  added / updated specs:\n",
            "    - deepchem-gpu=2.3.0\n",
            "\n",
            "\n",
            "The following packages will be downloaded:\n",
            "\n",
            "    package                    |            build\n",
            "    ---------------------------|-----------------\n",
            "    _py-xgboost-mutex-2.0      |            cpu_0           8 KB  conda-forge\n",
            "    _tflow_select-2.1.0        |              gpu           2 KB\n",
            "    absl-py-0.12.0             |     pyhd8ed1ab_0          96 KB  conda-forge\n",
            "    astor-0.8.1                |     pyh9f0ad1d_0          25 KB  conda-forge\n",
            "    astunparse-1.6.3           |     pyhd8ed1ab_0          15 KB  conda-forge\n",
            "    c-ares-1.17.1              |       h36c2ea0_0         111 KB  conda-forge\n",
            "    certifi-2019.9.11          |           py37_0         147 KB  conda-forge\n",
            "    conda-4.10.0               |   py37h89c1867_1         3.1 MB  conda-forge\n",
            "    cudatoolkit-10.1.243       |       h6bb024c_0       347.4 MB\n",
            "    cudnn-7.6.5.32             |       hc0a50b0_1       250.7 MB  conda-forge\n",
            "    cupti-10.1.168             |                0         1.4 MB\n",
            "    deepchem-gpu-2.3.0         |           py37_0         2.1 MB  deepchem\n",
            "    fftw3f-3.3.4               |                2         1.2 MB  omnia\n",
            "    gast-0.4.0                 |     pyh9f0ad1d_0          12 KB  conda-forge\n",
            "    google-pasta-0.2.0         |     pyh8c360ce_0          42 KB  conda-forge\n",
            "    grpcio-1.23.0              |   py37hb0870dc_1         1.1 MB  conda-forge\n",
            "    importlib-metadata-3.10.0  |   py37h89c1867_0          27 KB  conda-forge\n",
            "    keras-applications-1.0.8   |             py_1          30 KB  conda-forge\n",
            "    keras-preprocessing-1.1.2  |     pyhd8ed1ab_0          34 KB  conda-forge\n",
            "    libboost-1.67.0            |       h46d08c1_4        13.0 MB\n",
            "    libprotobuf-3.13.0.1       |       h8b12597_0         2.3 MB  conda-forge\n",
            "    libxgboost-1.2.0           |       he1b5a44_0         3.1 MB  conda-forge\n",
            "    markdown-3.3.4             |     pyhd8ed1ab_0          67 KB  conda-forge\n",
            "    mdtraj-1.9.5               |   py37h113d463_0         1.7 MB  conda-forge\n",
            "    openmm-7.4.2               |py37_cuda101_rc_1        11.9 MB  omnia\n",
            "    pdbfixer-1.6               |             py_1         167 KB  omnia\n",
            "    protobuf-3.13.0.1          |   py37h745909e_1         704 KB  conda-forge\n",
            "    py-boost-1.67.0            |   py37h04863e7_4         278 KB\n",
            "    py-xgboost-1.2.0           |   py37hc8dfbb8_0         1.7 MB  conda-forge\n",
            "    python_abi-3.7             |          1_cp37m           4 KB  conda-forge\n",
            "    rdkit-2020.03.3.0          |   py37hc20afe1_1        24.8 MB  rdkit\n",
            "    simdna-0.4.2               |             py_0         627 KB  deepchem\n",
            "    tensorboard-1.14.0         |           py37_0         3.2 MB  conda-forge\n",
            "    tensorflow-1.14.0          |gpu_py37h74c33d7_0           4 KB\n",
            "    tensorflow-base-1.14.0     |gpu_py37he45bfe2_0       146.3 MB\n",
            "    tensorflow-estimator-1.14.0|   py37h5ca1d4c_0         645 KB  conda-forge\n",
            "    tensorflow-gpu-1.14.0      |       h0d30ee6_0           3 KB\n",
            "    termcolor-1.1.0            |             py_2           6 KB  conda-forge\n",
            "    typing_extensions-3.7.4.3  |             py_0          25 KB  conda-forge\n",
            "    xgboost-1.2.0              |   py37h3340039_0          11 KB  conda-forge\n",
            "    ------------------------------------------------------------\n",
            "                                           Total:       817.9 MB\n",
            "\n",
            "The following NEW packages will be INSTALLED:\n",
            "\n",
            "  _py-xgboost-mutex  conda-forge/linux-64::_py-xgboost-mutex-2.0-cpu_0\n",
            "  _tflow_select      pkgs/main/linux-64::_tflow_select-2.1.0-gpu\n",
            "  absl-py            conda-forge/noarch::absl-py-0.12.0-pyhd8ed1ab_0\n",
            "  astor              conda-forge/noarch::astor-0.8.1-pyh9f0ad1d_0\n",
            "  astunparse         conda-forge/noarch::astunparse-1.6.3-pyhd8ed1ab_0\n",
            "  c-ares             conda-forge/linux-64::c-ares-1.17.1-h36c2ea0_0\n",
            "  cudatoolkit        pkgs/main/linux-64::cudatoolkit-10.1.243-h6bb024c_0\n",
            "  cudnn              conda-forge/linux-64::cudnn-7.6.5.32-hc0a50b0_1\n",
            "  cupti              pkgs/main/linux-64::cupti-10.1.168-0\n",
            "  deepchem-gpu       deepchem/linux-64::deepchem-gpu-2.3.0-py37_0\n",
            "  fftw3f             omnia/linux-64::fftw3f-3.3.4-2\n",
            "  gast               conda-forge/noarch::gast-0.4.0-pyh9f0ad1d_0\n",
            "  google-pasta       conda-forge/noarch::google-pasta-0.2.0-pyh8c360ce_0\n",
            "  grpcio             conda-forge/linux-64::grpcio-1.23.0-py37hb0870dc_1\n",
            "  importlib-metadata conda-forge/linux-64::importlib-metadata-3.10.0-py37h89c1867_0\n",
            "  keras-applications conda-forge/noarch::keras-applications-1.0.8-py_1\n",
            "  keras-preprocessi~ conda-forge/noarch::keras-preprocessing-1.1.2-pyhd8ed1ab_0\n",
            "  libboost           pkgs/main/linux-64::libboost-1.67.0-h46d08c1_4\n",
            "  libprotobuf        conda-forge/linux-64::libprotobuf-3.13.0.1-h8b12597_0\n",
            "  libxgboost         conda-forge/linux-64::libxgboost-1.2.0-he1b5a44_0\n",
            "  markdown           conda-forge/noarch::markdown-3.3.4-pyhd8ed1ab_0\n",
            "  mdtraj             conda-forge/linux-64::mdtraj-1.9.5-py37h113d463_0\n",
            "  openmm             omnia/linux-64::openmm-7.4.2-py37_cuda101_rc_1\n",
            "  pdbfixer           omnia/noarch::pdbfixer-1.6-py_1\n",
            "  protobuf           conda-forge/linux-64::protobuf-3.13.0.1-py37h745909e_1\n",
            "  py-boost           pkgs/main/linux-64::py-boost-1.67.0-py37h04863e7_4\n",
            "  py-xgboost         conda-forge/linux-64::py-xgboost-1.2.0-py37hc8dfbb8_0\n",
            "  python_abi         conda-forge/linux-64::python_abi-3.7-1_cp37m\n",
            "  rdkit              rdkit/linux-64::rdkit-2020.03.3.0-py37hc20afe1_1\n",
            "  simdna             deepchem/noarch::simdna-0.4.2-py_0\n",
            "  tensorboard        conda-forge/linux-64::tensorboard-1.14.0-py37_0\n",
            "  tensorflow         pkgs/main/linux-64::tensorflow-1.14.0-gpu_py37h74c33d7_0\n",
            "  tensorflow-base    pkgs/main/linux-64::tensorflow-base-1.14.0-gpu_py37he45bfe2_0\n",
            "  tensorflow-estima~ conda-forge/linux-64::tensorflow-estimator-1.14.0-py37h5ca1d4c_0\n",
            "  tensorflow-gpu     pkgs/main/linux-64::tensorflow-gpu-1.14.0-h0d30ee6_0\n",
            "  termcolor          conda-forge/noarch::termcolor-1.1.0-py_2\n",
            "  typing_extensions  conda-forge/noarch::typing_extensions-3.7.4.3-py_0\n",
            "  xgboost            conda-forge/linux-64::xgboost-1.2.0-py37h3340039_0\n",
            "\n",
            "The following packages will be UPDATED:\n",
            "\n",
            "  conda                      pkgs/main::conda-4.7.12-py37_0 --> conda-forge::conda-4.10.0-py37h89c1867_1\n",
            "\n",
            "The following packages will be SUPERSEDED by a higher-priority channel:\n",
            "\n",
            "  certifi                                         pkgs/main --> conda-forge\n",
            "\n",
            "\n",
            "\n",
            "Downloading and Extracting Packages\n",
            "tensorflow-base-1.14 | 146.3 MB  | : 100% 1.0/1 [00:16<00:00, 16.64s/it]               \n",
            "markdown-3.3.4       | 67 KB     | : 100% 1.0/1 [00:00<00:00,  8.40it/s]\n",
            "simdna-0.4.2         | 627 KB    | : 100% 1.0/1 [00:00<00:00,  3.92it/s]\n",
            "importlib-metadata-3 | 27 KB     | : 100% 1.0/1 [00:00<00:00, 11.37it/s]\n",
            "termcolor-1.1.0      | 6 KB      | : 100% 1.0/1 [00:00<00:00, 23.15it/s]\n",
            "gast-0.4.0           | 12 KB     | : 100% 1.0/1 [00:00<00:00, 19.27it/s]\n",
            "cudatoolkit-10.1.243 | 347.4 MB  | : 100% 1.0/1 [00:38<00:00, 38.88s/it]               \n",
            "google-pasta-0.2.0   | 42 KB     | : 100% 1.0/1 [00:00<00:00, 16.70it/s]\n",
            "cudnn-7.6.5.32       | 250.7 MB  | : 100% 1.0/1 [00:37<00:00, 37.36s/it]              \n",
            "libprotobuf-3.13.0.1 | 2.3 MB    | : 100% 1.0/1 [00:00<00:00,  1.83it/s]               \n",
            "tensorflow-1.14.0    | 4 KB      | : 100% 1.0/1 [00:00<00:00,  9.55it/s]\n",
            "py-boost-1.67.0      | 278 KB    | : 100% 1.0/1 [00:00<00:00,  7.62it/s]\n",
            "absl-py-0.12.0       | 96 KB     | : 100% 1.0/1 [00:00<00:00,  6.38it/s]               \n",
            "tensorflow-estimator | 645 KB    | : 100% 1.0/1 [00:00<00:00,  3.30it/s]               \n",
            "openmm-7.4.2         | 11.9 MB   | : 100% 1.0/1 [00:03<00:00,  3.09s/it]\n",
            "pdbfixer-1.6         | 167 KB    | : 100% 1.0/1 [00:00<00:00,  4.45it/s]\n",
            "xgboost-1.2.0        | 11 KB     | : 100% 1.0/1 [00:00<00:00, 14.77it/s]\n",
            "deepchem-gpu-2.3.0   | 2.1 MB    | : 100% 1.0/1 [00:00<00:00,  1.68it/s]\n",
            "_py-xgboost-mutex-2. | 8 KB      | : 100% 1.0/1 [00:00<00:00, 12.47it/s]\n",
            "rdkit-2020.03.3.0    | 24.8 MB   | : 100% 1.0/1 [00:04<00:00,  4.29s/it]\n",
            "astunparse-1.6.3     | 15 KB     | : 100% 1.0/1 [00:00<00:00, 18.69it/s]\n",
            "mdtraj-1.9.5         | 1.7 MB    | : 100% 1.0/1 [00:00<00:00,  2.93it/s]\n",
            "_tflow_select-2.1.0  | 2 KB      | : 100% 1.0/1 [00:00<00:00,  9.70it/s]\n",
            "libxgboost-1.2.0     | 3.1 MB    | : 100% 1.0/1 [00:00<00:00,  1.98it/s]               \n",
            "protobuf-3.13.0.1    | 704 KB    | : 100% 1.0/1 [00:00<00:00,  4.33it/s]\n",
            "keras-preprocessing- | 34 KB     | : 100% 1.0/1 [00:00<00:00, 17.21it/s]\n",
            "keras-applications-1 | 30 KB     | : 100% 1.0/1 [00:00<00:00, 18.64it/s]\n",
            "python_abi-3.7       | 4 KB      | : 100% 1.0/1 [00:00<00:00, 26.62it/s]\n",
            "conda-4.10.0         | 3.1 MB    | : 100% 1.0/1 [00:00<00:00,  1.33it/s]\n",
            "fftw3f-3.3.4         | 1.2 MB    | : 100% 1.0/1 [00:00<00:00,  2.35it/s]\n",
            "typing_extensions-3. | 25 KB     | : 100% 1.0/1 [00:00<00:00, 18.51it/s]\n",
            "grpcio-1.23.0        | 1.1 MB    | : 100% 1.0/1 [00:00<00:00,  4.17it/s]\n",
            "certifi-2019.9.11    | 147 KB    | : 100% 1.0/1 [00:00<00:00,  8.35it/s]\n",
            "astor-0.8.1          | 25 KB     | : 100% 1.0/1 [00:00<00:00, 22.60it/s]\n",
            "tensorboard-1.14.0   | 3.2 MB    | : 100% 1.0/1 [00:00<00:00,  1.83it/s]\n",
            "tensorflow-gpu-1.14. | 3 KB      | : 100% 1.0/1 [00:00<00:00,  9.18it/s]\n",
            "libboost-1.67.0      | 13.0 MB   | : 100% 1.0/1 [00:02<00:00,  1.20s/it]               \n",
            "cupti-10.1.168       | 1.4 MB    | : 100% 1.0/1 [00:00<00:00,  6.57it/s]\n",
            "c-ares-1.17.1        | 111 KB    | : 100% 1.0/1 [00:00<00:00, 15.30it/s]\n",
            "py-xgboost-1.2.0     | 1.7 MB    | : 100% 1.0/1 [00:00<00:00,  2.87it/s]\n",
            "Preparing transaction: | \b\b/ \b\b- \b\b\\ \b\b| \b\b/ \b\b- \b\b\\ \b\b| \b\b/ \b\b- \b\b\\ \b\bdone\n",
            "Verifying transaction: / \b\b- \b\b\\ \b\b| \b\b/ \b\b- \b\b\\ \b\b| \b\b/ \b\b- \b\b\\ \b\b| \b\b/ \b\b- \b\b\\ \b\b| \b\b/ \b\b- \b\b\\ \b\b| \b\b/ \b\b- \b\b\\ \b\b| \b\b/ \b\b- \b\b\\ \b\b| \b\b/ \b\b- \b\b\\ \b\b| \b\b/ \b\b- \b\b\\ \b\bdone\n",
            "Executing transaction: / \b\b- \b\b\\ \b\b| \b\b/ \b\b- \b\b\\ \b\b| \b\b/ \b\b- \b\b\\ \b\b| \b\b/ \b\b- \b\b\\ \b\b| \b\b/ \b\b- \b\b\\ \b\b| \b\b/ \b\b- \b\b\\ \b\b| \b\b/ \b\b- \b\b\\ \b\b| \b\b/ \b\b- b'By downloading and using the cuDNN conda packages, you accept the terms and conditions of the NVIDIA cuDNN EULA -\\n  https://docs.nvidia.com/deeplearning/cudnn/sla/index.html\\n'\n",
            "\b\b\\ \b\b| \b\b/ \b\b- \b\b\\ \b\b| \b\b/ \b\b- \b\b\\ \b\b| \b\b/ \b\b- \b\b\\ \b\b| \b\b/ \b\b- \b\b\\ \b\b| \b\b/ \b\b- \b\b\\ \b\bdone\n",
            "\n",
            "real\t5m57.977s\n",
            "user\t4m52.822s\n",
            "sys\t0m18.509s\n"
          ],
          "name": "stdout"
        },
        {
          "output_type": "stream",
          "text": [
            "/usr/local/lib/python3.7/dist-packages/sklearn/externals/joblib/__init__.py:15: FutureWarning: sklearn.externals.joblib is deprecated in 0.21 and will be removed in 0.23. Please import this functionality directly from joblib, which can be installed with: pip install joblib. If this warning is raised when loading pickled models, you may need to re-serialize those models with scikit-learn 0.21+.\n",
            "  warnings.warn(msg, category=FutureWarning)\n"
          ],
          "name": "stderr"
        },
        {
          "output_type": "stream",
          "text": [
            "WARNING:tensorflow:\n",
            "The TensorFlow contrib module will not be included in TensorFlow 2.0.\n",
            "For more information, please see:\n",
            "  * https://github.com/tensorflow/community/blob/master/rfcs/20180907-contrib-sunset.md\n",
            "  * https://github.com/tensorflow/addons\n",
            "  * https://github.com/tensorflow/io (for I/O related ops)\n",
            "If you depend on functionality not listed there, please file an issue.\n",
            "\n",
            "Collecting package metadata (current_repodata.json): - \b\b\\ \b\b| \b\b/ \b\b- \b\b\\ \b\b| \b\b/ \b\b- \b\b\\ \b\b| \b\b/ \b\b- \b\b\\ \b\b| \b\b/ \b\b- \b\b\\ \b\b| \b\b/ \b\b- \b\b\\ \b\b| \b\b/ \b\b- \b\b\\ \b\b| \b\b/ \b\b- \b\b\\ \b\b| \b\b/ \b\b- \b\b\\ \b\b| \b\b/ \b\b- \b\b\\ \b\b| \b\b/ \b\b- \b\b\\ \b\b| \b\b/ \b\b- \b\bfailed\n",
            "\n",
            "InvalidVersionSpec: Invalid version '4.19.112+': empty version component\n",
            "\n",
            "\n",
            "real\t0m11.129s\n",
            "user\t0m7.892s\n",
            "sys\t0m1.701s\n",
            "--2021-04-08 13:57:07--  https://raw.githubusercontent.com/ravichas/AMPL-Tutorial/master/config/install_AMPL_GPU_test.sh\n",
            "Resolving raw.githubusercontent.com (raw.githubusercontent.com)... 185.199.108.133, 185.199.109.133, 185.199.110.133, ...\n",
            "Connecting to raw.githubusercontent.com (raw.githubusercontent.com)|185.199.108.133|:443... connected.\n",
            "HTTP request sent, awaiting response... 200 OK\n",
            "Length: 1100 (1.1K) [text/plain]\n",
            "Saving to: ‘install_AMPL_GPU_test.sh’\n",
            "\n",
            "install_AMPL_GPU_te 100%[===================>]   1.07K  --.-KB/s    in 0s      \n",
            "\n",
            "2021-04-08 13:57:07 (47.5 MB/s) - ‘install_AMPL_GPU_test.sh’ saved [1100/1100]\n",
            "\n",
            "Cloning into 'AMPL'...\n",
            "remote: Enumerating objects: 389, done.\u001b[K\n",
            "remote: Counting objects: 100% (389/389), done.\u001b[K\n",
            "remote: Compressing objects: 100% (223/223), done.\u001b[K\n",
            "remote: Total 1897 (delta 277), reused 232 (delta 166), pack-reused 1508\u001b[K\n",
            "Receiving objects: 100% (1897/1897), 9.69 MiB | 15.80 MiB/s, done.\n",
            "Resolving deltas: 100% (1089/1089), done.\n",
            "Branch 'pkg_upgrade' set up to track remote branch 'pkg_upgrade' from 'origin'.\n",
            "Switched to a new branch 'pkg_upgrade'\n",
            "patching file /content/github/AMPL/atomsci/ddm/pipeline/transformations.py\n",
            "patching file /content/github/AMPL/atomsci/ddm/__init__.py\n",
            "running build\n",
            "running build_py\n",
            "creating /content/github/AMPL.build/ampl/lib\n",
            "creating /content/github/AMPL.build/ampl/lib/atomsci\n",
            "copying atomsci/__init__.py -> /content/github/AMPL.build/ampl/lib/atomsci\n",
            "creating /content/github/AMPL.build/ampl/lib/atomsci/ddm\n",
            "copying atomsci/ddm/__init__.py -> /content/github/AMPL.build/ampl/lib/atomsci/ddm\n",
            "creating /content/github/AMPL.build/ampl/lib/atomsci/ddm/pipeline\n",
            "copying atomsci/ddm/pipeline/parameter_parser.py -> /content/github/AMPL.build/ampl/lib/atomsci/ddm/pipeline\n",
            "copying atomsci/ddm/pipeline/diversity_plots.py -> /content/github/AMPL.build/ampl/lib/atomsci/ddm/pipeline\n",
            "copying atomsci/ddm/pipeline/model_tracker.py -> /content/github/AMPL.build/ampl/lib/atomsci/ddm/pipeline\n",
            "copying atomsci/ddm/pipeline/temporal_splitter.py -> /content/github/AMPL.build/ampl/lib/atomsci/ddm/pipeline\n",
            "copying atomsci/ddm/pipeline/hyper_perf_plots.py -> /content/github/AMPL.build/ampl/lib/atomsci/ddm/pipeline\n",
            "copying atomsci/ddm/pipeline/perf_data.py -> /content/github/AMPL.build/ampl/lib/atomsci/ddm/pipeline\n",
            "copying atomsci/ddm/pipeline/chem_diversity.py -> /content/github/AMPL.build/ampl/lib/atomsci/ddm/pipeline\n",
            "copying atomsci/ddm/pipeline/model_pipeline.py -> /content/github/AMPL.build/ampl/lib/atomsci/ddm/pipeline\n",
            "copying atomsci/ddm/pipeline/perf_plots.py -> /content/github/AMPL.build/ampl/lib/atomsci/ddm/pipeline\n",
            "copying atomsci/ddm/pipeline/model_wrapper.py -> /content/github/AMPL.build/ampl/lib/atomsci/ddm/pipeline\n",
            "copying atomsci/ddm/pipeline/transformations.py -> /content/github/AMPL.build/ampl/lib/atomsci/ddm/pipeline\n",
            "copying atomsci/ddm/pipeline/__init__.py -> /content/github/AMPL.build/ampl/lib/atomsci/ddm/pipeline\n",
            "copying atomsci/ddm/pipeline/featurization.py -> /content/github/AMPL.build/ampl/lib/atomsci/ddm/pipeline\n",
            "copying atomsci/ddm/pipeline/splitting.py -> /content/github/AMPL.build/ampl/lib/atomsci/ddm/pipeline\n",
            "copying atomsci/ddm/pipeline/predict_from_model.py -> /content/github/AMPL.build/ampl/lib/atomsci/ddm/pipeline\n",
            "copying atomsci/ddm/pipeline/dist_metrics.py -> /content/github/AMPL.build/ampl/lib/atomsci/ddm/pipeline\n",
            "copying atomsci/ddm/pipeline/model_datasets.py -> /content/github/AMPL.build/ampl/lib/atomsci/ddm/pipeline\n",
            "copying atomsci/ddm/pipeline/compare_models.py -> /content/github/AMPL.build/ampl/lib/atomsci/ddm/pipeline\n",
            "copying atomsci/ddm/pipeline/ave_splitter.py -> /content/github/AMPL.build/ampl/lib/atomsci/ddm/pipeline\n",
            "creating /content/github/AMPL.build/ampl/lib/atomsci/ddm/utils\n",
            "copying atomsci/ddm/utils/open-docs.py -> /content/github/AMPL.build/ampl/lib/atomsci/ddm/utils\n",
            "copying atomsci/ddm/utils/llnl_utils.py -> /content/github/AMPL.build/ampl/lib/atomsci/ddm/utils\n",
            "copying atomsci/ddm/utils/datastore_functions.py -> /content/github/AMPL.build/ampl/lib/atomsci/ddm/utils\n",
            "copying atomsci/ddm/utils/process_slurm.py -> /content/github/AMPL.build/ampl/lib/atomsci/ddm/utils\n",
            "copying atomsci/ddm/utils/hyperparam_search_wrapper.py -> /content/github/AMPL.build/ampl/lib/atomsci/ddm/utils\n",
            "copying atomsci/ddm/utils/data_curation_functions.py -> /content/github/AMPL.build/ampl/lib/atomsci/ddm/utils\n",
            "copying atomsci/ddm/utils/pubchem_utils.py -> /content/github/AMPL.build/ampl/lib/atomsci/ddm/utils\n",
            "copying atomsci/ddm/utils/genTestset.py -> /content/github/AMPL.build/ampl/lib/atomsci/ddm/utils\n",
            "copying atomsci/ddm/utils/curate_data.py -> /content/github/AMPL.build/ampl/lib/atomsci/ddm/utils\n",
            "copying atomsci/ddm/utils/struct_utils.py -> /content/github/AMPL.build/ampl/lib/atomsci/ddm/utils\n",
            "copying atomsci/ddm/utils/__init__.py -> /content/github/AMPL.build/ampl/lib/atomsci/ddm/utils\n",
            "copying atomsci/ddm/utils/rdkit_easy.py -> /content/github/AMPL.build/ampl/lib/atomsci/ddm/utils\n",
            "running egg_info\n",
            "creating /content/github/AMPL.build/ampl/atomsci_ampl.egg-info\n",
            "writing /content/github/AMPL.build/ampl/atomsci_ampl.egg-info/PKG-INFO\n",
            "writing dependency_links to /content/github/AMPL.build/ampl/atomsci_ampl.egg-info/dependency_links.txt\n",
            "writing namespace_packages to /content/github/AMPL.build/ampl/atomsci_ampl.egg-info/namespace_packages.txt\n",
            "writing top-level names to /content/github/AMPL.build/ampl/atomsci_ampl.egg-info/top_level.txt\n",
            "writing manifest file '/content/github/AMPL.build/ampl/atomsci_ampl.egg-info/SOURCES.txt'\n",
            "reading manifest file '/content/github/AMPL.build/ampl/atomsci_ampl.egg-info/SOURCES.txt'\n",
            "reading manifest template 'MANIFEST.in'\n",
            "warning: no files found matching 'atomsci/*/*.yaml'\n",
            "writing manifest file '/content/github/AMPL.build/ampl/atomsci_ampl.egg-info/SOURCES.txt'\n",
            "creating /content/github/AMPL.build/ampl/lib/atomsci/ddm/data\n",
            "copying atomsci/ddm/data/descriptor_sets_sources_by_descr_type.csv -> /content/github/AMPL.build/ampl/lib/atomsci/ddm/data\n",
            "running bdist_wheel\n",
            "installing to /content/github/AMPL.build/ampl/bdist.linux-x86_64/wheel\n",
            "running install\n",
            "running install_lib\n",
            "Skipping installation of /content/github/AMPL.build/ampl/bdist.linux-x86_64/wheel/atomsci/__init__.py (namespace package)\n",
            "copying atomsci/ddm/__init__.py -> /content/github/AMPL.build/ampl/bdist.linux-x86_64/wheel/atomsci/ddm\n",
            "copying atomsci/ddm/pipeline/parameter_parser.py -> /content/github/AMPL.build/ampl/bdist.linux-x86_64/wheel/atomsci/ddm/pipeline\n",
            "copying atomsci/ddm/pipeline/diversity_plots.py -> /content/github/AMPL.build/ampl/bdist.linux-x86_64/wheel/atomsci/ddm/pipeline\n",
            "copying atomsci/ddm/pipeline/model_tracker.py -> /content/github/AMPL.build/ampl/bdist.linux-x86_64/wheel/atomsci/ddm/pipeline\n",
            "copying atomsci/ddm/pipeline/temporal_splitter.py -> /content/github/AMPL.build/ampl/bdist.linux-x86_64/wheel/atomsci/ddm/pipeline\n",
            "copying atomsci/ddm/pipeline/hyper_perf_plots.py -> /content/github/AMPL.build/ampl/bdist.linux-x86_64/wheel/atomsci/ddm/pipeline\n",
            "copying atomsci/ddm/pipeline/perf_data.py -> /content/github/AMPL.build/ampl/bdist.linux-x86_64/wheel/atomsci/ddm/pipeline\n",
            "copying atomsci/ddm/pipeline/chem_diversity.py -> /content/github/AMPL.build/ampl/bdist.linux-x86_64/wheel/atomsci/ddm/pipeline\n",
            "copying atomsci/ddm/pipeline/model_pipeline.py -> /content/github/AMPL.build/ampl/bdist.linux-x86_64/wheel/atomsci/ddm/pipeline\n",
            "copying atomsci/ddm/pipeline/perf_plots.py -> /content/github/AMPL.build/ampl/bdist.linux-x86_64/wheel/atomsci/ddm/pipeline\n",
            "copying atomsci/ddm/pipeline/model_wrapper.py -> /content/github/AMPL.build/ampl/bdist.linux-x86_64/wheel/atomsci/ddm/pipeline\n",
            "copying atomsci/ddm/pipeline/transformations.py -> /content/github/AMPL.build/ampl/bdist.linux-x86_64/wheel/atomsci/ddm/pipeline\n",
            "copying atomsci/ddm/pipeline/__init__.py -> /content/github/AMPL.build/ampl/bdist.linux-x86_64/wheel/atomsci/ddm/pipeline\n",
            "copying atomsci/ddm/pipeline/featurization.py -> /content/github/AMPL.build/ampl/bdist.linux-x86_64/wheel/atomsci/ddm/pipeline\n",
            "copying atomsci/ddm/pipeline/splitting.py -> /content/github/AMPL.build/ampl/bdist.linux-x86_64/wheel/atomsci/ddm/pipeline\n",
            "copying atomsci/ddm/pipeline/predict_from_model.py -> /content/github/AMPL.build/ampl/bdist.linux-x86_64/wheel/atomsci/ddm/pipeline\n",
            "copying atomsci/ddm/pipeline/dist_metrics.py -> /content/github/AMPL.build/ampl/bdist.linux-x86_64/wheel/atomsci/ddm/pipeline\n",
            "copying atomsci/ddm/pipeline/model_datasets.py -> /content/github/AMPL.build/ampl/bdist.linux-x86_64/wheel/atomsci/ddm/pipeline\n",
            "copying atomsci/ddm/pipeline/compare_models.py -> /content/github/AMPL.build/ampl/bdist.linux-x86_64/wheel/atomsci/ddm/pipeline\n",
            "copying atomsci/ddm/pipeline/ave_splitter.py -> /content/github/AMPL.build/ampl/bdist.linux-x86_64/wheel/atomsci/ddm/pipeline\n",
            "copying atomsci/ddm/utils/open-docs.py -> /content/github/AMPL.build/ampl/bdist.linux-x86_64/wheel/atomsci/ddm/utils\n",
            "copying atomsci/ddm/utils/llnl_utils.py -> /content/github/AMPL.build/ampl/bdist.linux-x86_64/wheel/atomsci/ddm/utils\n",
            "copying atomsci/ddm/utils/datastore_functions.py -> /content/github/AMPL.build/ampl/bdist.linux-x86_64/wheel/atomsci/ddm/utils\n",
            "copying atomsci/ddm/utils/process_slurm.py -> /content/github/AMPL.build/ampl/bdist.linux-x86_64/wheel/atomsci/ddm/utils\n",
            "copying atomsci/ddm/utils/hyperparam_search_wrapper.py -> /content/github/AMPL.build/ampl/bdist.linux-x86_64/wheel/atomsci/ddm/utils\n",
            "copying atomsci/ddm/utils/data_curation_functions.py -> /content/github/AMPL.build/ampl/bdist.linux-x86_64/wheel/atomsci/ddm/utils\n",
            "copying atomsci/ddm/utils/pubchem_utils.py -> /content/github/AMPL.build/ampl/bdist.linux-x86_64/wheel/atomsci/ddm/utils\n",
            "copying atomsci/ddm/utils/genTestset.py -> /content/github/AMPL.build/ampl/bdist.linux-x86_64/wheel/atomsci/ddm/utils\n",
            "copying atomsci/ddm/utils/curate_data.py -> /content/github/AMPL.build/ampl/bdist.linux-x86_64/wheel/atomsci/ddm/utils\n",
            "copying atomsci/ddm/utils/struct_utils.py -> /content/github/AMPL.build/ampl/bdist.linux-x86_64/wheel/atomsci/ddm/utils\n",
            "copying atomsci/ddm/utils/__init__.py -> /content/github/AMPL.build/ampl/bdist.linux-x86_64/wheel/atomsci/ddm/utils\n",
            "copying atomsci/ddm/utils/rdkit_easy.py -> /content/github/AMPL.build/ampl/bdist.linux-x86_64/wheel/atomsci/ddm/utils\n",
            "copying atomsci/ddm/data/descriptor_sets_sources_by_descr_type.csv -> /content/github/AMPL.build/ampl/bdist.linux-x86_64/wheel/atomsci/ddm/data\n",
            "running install_egg_info\n",
            "Copying /content/github/AMPL.build/ampl/atomsci_ampl.egg-info to /content/github/AMPL.build/ampl/bdist.linux-x86_64/wheel/atomsci_ampl-1.0.0.dev1-py3.7.egg-info\n",
            "Installing /content/github/AMPL.build/ampl/bdist.linux-x86_64/wheel/atomsci_ampl-1.0.0.dev1-py3.7-nspkg.pth\n",
            "running install_scripts\n",
            "adding license file \"LICENSE\" (matched pattern \"LICEN[CS]E*\")\n",
            "adding license file \"NOTICE\" (matched pattern \"NOTICE*\")\n",
            "creating /content/github/AMPL.build/ampl/bdist.linux-x86_64/wheel/atomsci_ampl-1.0.0.dev1.dist-info/WHEEL\n",
            "creating '/content/github/AMPL.dist/atomsci_ampl-1.0.0.dev1-py3-none-any.whl' and adding '/content/github/AMPL.build/ampl/bdist.linux-x86_64/wheel' to it\n",
            "adding 'atomsci_ampl-1.0.0.dev1-py3.7-nspkg.pth'\n",
            "adding 'atomsci/ddm/__init__.py'\n",
            "adding 'atomsci/ddm/data/descriptor_sets_sources_by_descr_type.csv'\n",
            "adding 'atomsci/ddm/pipeline/__init__.py'\n",
            "adding 'atomsci/ddm/pipeline/ave_splitter.py'\n",
            "adding 'atomsci/ddm/pipeline/chem_diversity.py'\n",
            "adding 'atomsci/ddm/pipeline/compare_models.py'\n",
            "adding 'atomsci/ddm/pipeline/dist_metrics.py'\n",
            "adding 'atomsci/ddm/pipeline/diversity_plots.py'\n",
            "adding 'atomsci/ddm/pipeline/featurization.py'\n",
            "adding 'atomsci/ddm/pipeline/hyper_perf_plots.py'\n",
            "adding 'atomsci/ddm/pipeline/model_datasets.py'\n",
            "adding 'atomsci/ddm/pipeline/model_pipeline.py'\n",
            "adding 'atomsci/ddm/pipeline/model_tracker.py'\n",
            "adding 'atomsci/ddm/pipeline/model_wrapper.py'\n",
            "adding 'atomsci/ddm/pipeline/parameter_parser.py'\n",
            "adding 'atomsci/ddm/pipeline/perf_data.py'\n",
            "adding 'atomsci/ddm/pipeline/perf_plots.py'\n",
            "adding 'atomsci/ddm/pipeline/predict_from_model.py'\n",
            "adding 'atomsci/ddm/pipeline/splitting.py'\n",
            "adding 'atomsci/ddm/pipeline/temporal_splitter.py'\n",
            "adding 'atomsci/ddm/pipeline/transformations.py'\n",
            "adding 'atomsci/ddm/utils/__init__.py'\n",
            "adding 'atomsci/ddm/utils/curate_data.py'\n",
            "adding 'atomsci/ddm/utils/data_curation_functions.py'\n",
            "adding 'atomsci/ddm/utils/datastore_functions.py'\n",
            "adding 'atomsci/ddm/utils/genTestset.py'\n",
            "adding 'atomsci/ddm/utils/hyperparam_search_wrapper.py'\n",
            "adding 'atomsci/ddm/utils/llnl_utils.py'\n",
            "adding 'atomsci/ddm/utils/open-docs.py'\n",
            "adding 'atomsci/ddm/utils/process_slurm.py'\n",
            "adding 'atomsci/ddm/utils/pubchem_utils.py'\n",
            "adding 'atomsci/ddm/utils/rdkit_easy.py'\n",
            "adding 'atomsci/ddm/utils/struct_utils.py'\n",
            "adding 'atomsci_ampl-1.0.0.dev1.dist-info/LICENSE'\n",
            "adding 'atomsci_ampl-1.0.0.dev1.dist-info/METADATA'\n",
            "adding 'atomsci_ampl-1.0.0.dev1.dist-info/NOTICE'\n",
            "adding 'atomsci_ampl-1.0.0.dev1.dist-info/WHEEL'\n",
            "adding 'atomsci_ampl-1.0.0.dev1.dist-info/namespace_packages.txt'\n",
            "adding 'atomsci_ampl-1.0.0.dev1.dist-info/top_level.txt'\n",
            "adding 'atomsci_ampl-1.0.0.dev1.dist-info/RECORD'\n",
            "removing /content/github/AMPL.build/ampl/bdist.linux-x86_64/wheel\n",
            "DIR: /content/github/AMPL\n",
            "Ignoring indexes: https://pypi.org/simple\n",
            "Created temporary directory: /tmp/pip-ephem-wheel-cache-fpmp2chh\n",
            "Created temporary directory: /tmp/pip-req-tracker-xri26f3k\n",
            "Created requirements tracker '/tmp/pip-req-tracker-xri26f3k'\n",
            "Created temporary directory: /tmp/pip-install-ssb6_gzx\n",
            "Looking in links: /content/github/AMPL.dist\n",
            "Collecting atomsci_ampl\n",
            "  0 location(s) to search for versions of atomsci-ampl:\n",
            "  Skipping link: unsupported archive format: .dist: /content/github/AMPL.dist (from -f)\n",
            "  Found link file:///content/github/AMPL.dist/atomsci_ampl-1.0.0.dev1-py3-none-any.whl, version: 1.0.0.dev1\n",
            "  Local files found: /content/github/AMPL.dist/atomsci_ampl-1.0.0.dev1-py3-none-any.whl\n",
            "  Given no hashes to check 1 links for project 'atomsci-ampl': discarding no candidates\n",
            "  Using version 1.0.0.dev1 (newest of versions: 1.0.0.dev1)\n",
            "  Added atomsci_ampl from file:///content/github/AMPL.dist/atomsci_ampl-1.0.0.dev1-py3-none-any.whl to build tracker '/tmp/pip-req-tracker-xri26f3k'\n",
            "  Removed atomsci_ampl from file:///content/github/AMPL.dist/atomsci_ampl-1.0.0.dev1-py3-none-any.whl from build tracker '/tmp/pip-req-tracker-xri26f3k'\n",
            "Installing collected packages: atomsci-ampl\n",
            "\n",
            "Successfully installed atomsci-ampl-1.0.0.dev1\n",
            "Cleaning up...\n",
            "Removed build tracker '/tmp/pip-req-tracker-xri26f3k'\n",
            "Collecting hyperopt\n",
            "\u001b[?25l  Downloading https://files.pythonhosted.org/packages/a6/07/bd524635d218adae139be320eeac87fb4fbbd45c63b0bd58930c9e91f1fc/hyperopt-0.2.5-py2.py3-none-any.whl (965kB)\n",
            "\u001b[K     |████████████████████████████████| 972kB 10.6MB/s \n",
            "\u001b[?25hRequirement already satisfied: numpy in /usr/local/lib/python3.7/site-packages (from hyperopt) (1.17.2)\n",
            "Requirement already satisfied: scipy in /usr/local/lib/python3.7/site-packages (from hyperopt) (1.3.1)\n",
            "Requirement already satisfied: cloudpickle in /usr/local/lib/python3.7/site-packages (from hyperopt) (1.2.2)\n",
            "Requirement already satisfied: networkx>=2.2 in /usr/local/lib/python3.7/site-packages (from hyperopt) (2.3)\n",
            "Requirement already satisfied: tqdm in /usr/local/lib/python3.7/site-packages (from hyperopt) (4.36.1)\n",
            "Requirement already satisfied: future in /usr/local/lib/python3.7/site-packages (from hyperopt) (0.17.1)\n",
            "Requirement already satisfied: six in /usr/local/lib/python3.7/site-packages (from hyperopt) (1.12.0)\n",
            "Requirement already satisfied: decorator>=4.3.0 in /usr/local/lib/python3.7/site-packages (from networkx>=2.2->hyperopt) (4.4.0)\n",
            "Installing collected packages: hyperopt\n",
            "Successfully installed hyperopt-0.2.5\n"
          ],
          "name": "stdout"
        }
      ]
    },
    {
      "cell_type": "code",
      "metadata": {
        "id": "jRaRLVjhbv5G"
      },
      "source": [
        ""
      ],
      "execution_count": null,
      "outputs": []
    },
    {
      "cell_type": "code",
      "metadata": {
        "id": "JokuwSuwbwLx"
      },
      "source": [
        ""
      ],
      "execution_count": null,
      "outputs": []
    },
    {
      "cell_type": "markdown",
      "metadata": {
        "id": "rphdqPvQbwdJ"
      },
      "source": [
        ""
      ]
    },
    {
      "cell_type": "code",
      "metadata": {
        "id": "MleP12-Ctjf_",
        "colab": {
          "base_uri": "https://localhost:8080/"
        },
        "outputId": "a5f85c22-2e17-4c08-e4b8-3f9c0f6e5b7a"
      },
      "source": [
        "\n",
        "! pip install MolVS\n",
        "! pip install bravado\n",
        "! pip install UMAP"
      ],
      "execution_count": null,
      "outputs": [
        {
          "output_type": "stream",
          "text": [
            "Collecting MolVS\n",
            "\u001b[?25l  Downloading https://files.pythonhosted.org/packages/08/dc/d948e83b97f2c420cb6c7e2143ae349560d3b5b061945f1b2a4eefb0231c/MolVS-0.1.1.tar.gz (61kB)\n",
            "\u001b[K     |████████████████████████████████| 71kB 9.6MB/s \n",
            "\u001b[?25hRequirement already satisfied: six in /usr/local/lib/python3.7/site-packages (from MolVS) (1.12.0)\n",
            "Building wheels for collected packages: MolVS\n",
            "  Building wheel for MolVS (setup.py) ... \u001b[?25l\u001b[?25hdone\n",
            "  Created wheel for MolVS: filename=MolVS-0.1.1-cp37-none-any.whl size=32376 sha256=662f9535b172f8622a196d3d2e90456a8b7bab1374c55a9a4da695251cb65d22\n",
            "  Stored in directory: /root/.cache/pip/wheels/30/37/a8/8ac8147605c9de6b45ffd66d1cc19761d41467db12b34a0de8\n",
            "Successfully built MolVS\n",
            "Installing collected packages: MolVS\n",
            "Successfully installed MolVS-0.1.1\n",
            "Collecting bravado\n",
            "  Downloading https://files.pythonhosted.org/packages/21/ed/03b0c36b5bcafbe2938ed222f9a164a6c0367ce99a9d2d502e462853571d/bravado-11.0.3-py2.py3-none-any.whl\n",
            "Collecting bravado-core>=5.16.1 (from bravado)\n",
            "\u001b[?25l  Downloading https://files.pythonhosted.org/packages/76/11/18e9d28a156c33f2d5f15a5e155dc7130250acb0a569255a2b6b307b596d/bravado_core-5.17.0-py2.py3-none-any.whl (67kB)\n",
            "\u001b[K     |████████████████████████████████| 71kB 10.5MB/s \n",
            "\u001b[?25hRequirement already satisfied: six in /usr/local/lib/python3.7/site-packages (from bravado) (1.12.0)\n",
            "Requirement already satisfied: typing-extensions in /usr/local/lib/python3.7/site-packages (from bravado) (3.7.4.3)\n",
            "Requirement already satisfied: msgpack in /usr/local/lib/python3.7/site-packages (from bravado) (0.6.1)\n",
            "Collecting simplejson (from bravado)\n",
            "\u001b[?25l  Downloading https://files.pythonhosted.org/packages/a8/04/377418ac1e530ce2a196b54c6552c018fdf1fe776718053efb1f216bffcd/simplejson-3.17.2-cp37-cp37m-manylinux2010_x86_64.whl (128kB)\n",
            "\u001b[K     |████████████████████████████████| 133kB 14.8MB/s \n",
            "\u001b[?25hRequirement already satisfied: python-dateutil in /usr/local/lib/python3.7/site-packages (from bravado) (2.8.0)\n",
            "Requirement already satisfied: requests>=2.17 in /usr/local/lib/python3.7/site-packages (from bravado) (2.22.0)\n",
            "Collecting monotonic (from bravado)\n",
            "  Downloading https://files.pythonhosted.org/packages/ac/aa/063eca6a416f397bd99552c534c6d11d57f58f2e94c14780f3bbf818c4cf/monotonic-1.5-py2.py3-none-any.whl\n",
            "Requirement already satisfied: pyyaml in /usr/local/lib/python3.7/site-packages (from bravado) (5.1.2)\n",
            "Requirement already satisfied: jsonschema[format]>=2.5.1 in /usr/local/lib/python3.7/site-packages (from bravado-core>=5.16.1->bravado) (3.0.2)\n",
            "Collecting jsonref (from bravado-core>=5.16.1->bravado)\n",
            "  Downloading https://files.pythonhosted.org/packages/07/92/f8e4ac824b14af77e613984e480fa818397c72d4141fc466decb26752749/jsonref-0.2-py3-none-any.whl\n",
            "Requirement already satisfied: pytz in /usr/local/lib/python3.7/site-packages (from bravado-core>=5.16.1->bravado) (2019.3)\n",
            "Collecting swagger-spec-validator>=2.0.1 (from bravado-core>=5.16.1->bravado)\n",
            "  Downloading https://files.pythonhosted.org/packages/09/de/e78cefbf5838b434b63a789264b79821cb2267f1498fbed23ef8590133e4/swagger_spec_validator-2.7.3-py2.py3-none-any.whl\n",
            "Requirement already satisfied: certifi>=2017.4.17 in /usr/local/lib/python3.7/site-packages (from requests>=2.17->bravado) (2019.9.11)\n",
            "Requirement already satisfied: chardet<3.1.0,>=3.0.2 in /usr/local/lib/python3.7/site-packages (from requests>=2.17->bravado) (3.0.4)\n",
            "Requirement already satisfied: idna<2.9,>=2.5 in /usr/local/lib/python3.7/site-packages (from requests>=2.17->bravado) (2.8)\n",
            "Requirement already satisfied: urllib3!=1.25.0,!=1.25.1,<1.26,>=1.21.1 in /usr/local/lib/python3.7/site-packages (from requests>=2.17->bravado) (1.24.2)\n",
            "Requirement already satisfied: pyrsistent>=0.14.0 in /usr/local/lib/python3.7/site-packages (from jsonschema[format]>=2.5.1->bravado-core>=5.16.1->bravado) (0.15.4)\n",
            "Requirement already satisfied: attrs>=17.4.0 in /usr/local/lib/python3.7/site-packages (from jsonschema[format]>=2.5.1->bravado-core>=5.16.1->bravado) (19.2.0)\n",
            "Requirement already satisfied: setuptools in /usr/local/lib/python3.7/site-packages (from jsonschema[format]>=2.5.1->bravado-core>=5.16.1->bravado) (41.4.0)\n",
            "Collecting strict-rfc3339; extra == \"format\" (from jsonschema[format]>=2.5.1->bravado-core>=5.16.1->bravado)\n",
            "  Downloading https://files.pythonhosted.org/packages/56/e4/879ef1dbd6ddea1c77c0078cd59b503368b0456bcca7d063a870ca2119d3/strict-rfc3339-0.7.tar.gz\n",
            "Collecting jsonpointer>1.13; extra == \"format\" (from jsonschema[format]>=2.5.1->bravado-core>=5.16.1->bravado)\n",
            "  Downloading https://files.pythonhosted.org/packages/23/52/05f67532aa922e494c351344e0d9624a01f74f5dd8402fe0d1b563a6e6fc/jsonpointer-2.1-py2.py3-none-any.whl\n",
            "Collecting webcolors; extra == \"format\" (from jsonschema[format]>=2.5.1->bravado-core>=5.16.1->bravado)\n",
            "  Downloading https://files.pythonhosted.org/packages/12/05/3350559de9714b202e443a9e6312937341bd5f79f4e4f625744295e7dd17/webcolors-1.11.1-py3-none-any.whl\n",
            "Collecting rfc3987; extra == \"format\" (from jsonschema[format]>=2.5.1->bravado-core>=5.16.1->bravado)\n",
            "  Downloading https://files.pythonhosted.org/packages/65/d4/f7407c3d15d5ac779c3dd34fbbc6ea2090f77bd7dd12f207ccf881551208/rfc3987-1.3.8-py2.py3-none-any.whl\n",
            "Building wheels for collected packages: strict-rfc3339\n",
            "  Building wheel for strict-rfc3339 (setup.py) ... \u001b[?25l\u001b[?25hdone\n",
            "  Created wheel for strict-rfc3339: filename=strict_rfc3339-0.7-cp37-none-any.whl size=18120 sha256=17d50c1de830327d84204db633b954a9ed44b35057451cef21d315ceeb046e74\n",
            "  Stored in directory: /root/.cache/pip/wheels/bb/af/c9/b6e9fb5f9b2470e4ed2a7241c9ab3a8cdd3bc8555ae02ca2e6\n",
            "Successfully built strict-rfc3339\n",
            "Installing collected packages: jsonref, swagger-spec-validator, simplejson, bravado-core, monotonic, bravado, strict-rfc3339, jsonpointer, webcolors, rfc3987\n",
            "Successfully installed bravado-11.0.3 bravado-core-5.17.0 jsonpointer-2.1 jsonref-0.2 monotonic-1.5 rfc3987-1.3.8 simplejson-3.17.2 strict-rfc3339-0.7 swagger-spec-validator-2.7.3 webcolors-1.11.1\n",
            "Collecting UMAP\n",
            "  Downloading https://files.pythonhosted.org/packages/4b/46/08ab68936625400fe690684428d4db4764f49b406782cc133df1d0299d06/umap-0.1.1.tar.gz\n",
            "Building wheels for collected packages: UMAP\n",
            "  Building wheel for UMAP (setup.py) ... \u001b[?25l\u001b[?25hdone\n",
            "  Created wheel for UMAP: filename=umap-0.1.1-cp37-none-any.whl size=3568 sha256=b2b2123ca3ee5665280f5f4af0231ef97ec9eaa558995bca1bdcde10f49a03fb\n",
            "  Stored in directory: /root/.cache/pip/wheels/7b/29/33/b4d917dc95f69c0a060e2ab012d95e15db9ed4cc0b94ccac26\n",
            "Successfully built UMAP\n",
            "Installing collected packages: UMAP\n",
            "Successfully installed UMAP-0.1.1\n"
          ],
          "name": "stdout"
        }
      ]
    },
    {
      "cell_type": "code",
      "metadata": {
        "id": "GptCD2EXmqvx"
      },
      "source": [
        "#! time conda install -c conda-forge -y mordred bravado molvs\n",
        "# There is a problem with the previously imported cffi, so delete it and load it with AMPL instead\n",
        "#if 'cffi' in sys.modules:\n",
        "#  del sys.modules['cffi']\n",
        "#import atomsci.ddm.pipeline.compare_models as cmp\n",
        "from atomsci.ddm.pipeline import model_pipeline as mp\n",
        "import atomsci.ddm.pipeline.compare_models as cmp\n",
        "from atomsci.ddm.pipeline import parameter_parser as parse\n",
        "from atomsci.ddm.pipeline import perf_data\n",
        "\n",
        "from hyperopt import fmin, tpe, hp, Trials, STATUS_OK"
      ],
      "execution_count": null,
      "outputs": []
    },
    {
      "cell_type": "code",
      "metadata": {
        "colab": {
          "base_uri": "https://localhost:8080/"
        },
        "id": "61xu5YehtkLZ",
        "outputId": "b5e24e58-238f-4c5f-debd-aa350470e8fa"
      },
      "source": [
        "! wget https://raw.githubusercontent.com/ZhenZhangz/E4511/main/curated_combined_df.csv"
      ],
      "execution_count": null,
      "outputs": [
        {
          "output_type": "stream",
          "text": [
            "--2021-04-08 13:57:27--  https://raw.githubusercontent.com/ZhenZhangz/E4511/main/curated_combined_df.csv\n",
            "Resolving raw.githubusercontent.com (raw.githubusercontent.com)... 185.199.108.133, 185.199.109.133, 185.199.110.133, ...\n",
            "Connecting to raw.githubusercontent.com (raw.githubusercontent.com)|185.199.108.133|:443... connected.\n",
            "HTTP request sent, awaiting response... 200 OK\n",
            "Length: 452280 (442K) [text/plain]\n",
            "Saving to: ‘curated_combined_df.csv’\n",
            "\n",
            "\rcurated_combined_df   0%[                    ]       0  --.-KB/s               \rcurated_combined_df 100%[===================>] 441.68K  --.-KB/s    in 0.02s   \n",
            "\n",
            "2021-04-08 13:57:27 (25.7 MB/s) - ‘curated_combined_df.csv’ saved [452280/452280]\n",
            "\n"
          ],
          "name": "stdout"
        }
      ]
    },
    {
      "cell_type": "code",
      "metadata": {
        "colab": {
          "base_uri": "https://localhost:8080/",
          "height": 521
        },
        "id": "gsGafk-Q0LWe",
        "outputId": "aac6a44f-07ca-48b3-ab2d-da34940ddf40"
      },
      "source": [
        "import pandas as pd\n",
        "df = pd.read_csv('curated_combined_df.csv', index_col=0)\n",
        "df"
      ],
      "execution_count": null,
      "outputs": [
        {
          "output_type": "execute_result",
          "data": {
            "text/html": [
              "<div>\n",
              "<style scoped>\n",
              "    .dataframe tbody tr th:only-of-type {\n",
              "        vertical-align: middle;\n",
              "    }\n",
              "\n",
              "    .dataframe tbody tr th {\n",
              "        vertical-align: top;\n",
              "    }\n",
              "\n",
              "    .dataframe thead th {\n",
              "        text-align: right;\n",
              "    }\n",
              "</style>\n",
              "<table border=\"1\" class=\"dataframe\">\n",
              "  <thead>\n",
              "    <tr style=\"text-align: right;\">\n",
              "      <th></th>\n",
              "      <th>compound_id</th>\n",
              "      <th>base_rdkit_smiles</th>\n",
              "      <th>PXC50</th>\n",
              "      <th>active</th>\n",
              "      <th>VALUE_NUM_mean</th>\n",
              "      <th>VALUE_NUM_std</th>\n",
              "      <th>Perc_Var</th>\n",
              "      <th>Remove_BadDuplicate</th>\n",
              "    </tr>\n",
              "  </thead>\n",
              "  <tbody>\n",
              "    <tr>\n",
              "      <th>0</th>\n",
              "      <td>ZINGRQZUIVEPKX-UHFFFAOYSA-N</td>\n",
              "      <td>N#Cc1ccc2ccc(OCC3CCNCC3)cc2c1</td>\n",
              "      <td>8.522879</td>\n",
              "      <td>1</td>\n",
              "      <td>8.521920</td>\n",
              "      <td>0.001662</td>\n",
              "      <td>0.011255</td>\n",
              "      <td>0</td>\n",
              "    </tr>\n",
              "    <tr>\n",
              "      <th>1</th>\n",
              "      <td>KVWDHTXUZHCGIO-UHFFFAOYSA-N</td>\n",
              "      <td>Cc1cc2c(s1)Nc1ccccc1N=C2N1CCN(C)CC1</td>\n",
              "      <td>5.985900</td>\n",
              "      <td>0</td>\n",
              "      <td>6.078633</td>\n",
              "      <td>0.157082</td>\n",
              "      <td>1.525566</td>\n",
              "      <td>0</td>\n",
              "    </tr>\n",
              "    <tr>\n",
              "      <th>2</th>\n",
              "      <td>QSQQQURBVYWZKJ-UHFFFAOYSA-N</td>\n",
              "      <td>CC(N)Cc1c[nH]c2ccccc12</td>\n",
              "      <td>5.630000</td>\n",
              "      <td>0</td>\n",
              "      <td>5.783333</td>\n",
              "      <td>0.265581</td>\n",
              "      <td>2.651299</td>\n",
              "      <td>0</td>\n",
              "    </tr>\n",
              "    <tr>\n",
              "      <th>3</th>\n",
              "      <td>NTBRVAZZXJHBGJ-UHFFFAOYSA-N</td>\n",
              "      <td>Clc1cccc(OC(c2cccnc2)C2CCNCC2)c1Cl</td>\n",
              "      <td>8.212129</td>\n",
              "      <td>1</td>\n",
              "      <td>8.211065</td>\n",
              "      <td>0.001506</td>\n",
              "      <td>0.012966</td>\n",
              "      <td>0</td>\n",
              "    </tr>\n",
              "    <tr>\n",
              "      <th>4</th>\n",
              "      <td>JYIMWQCCVNSNJW-UHFFFAOYSA-N</td>\n",
              "      <td>COc1ccc2cc(C(O)CCN3CC=C(Cc4ccccc4)CC3)ccc2c1Cl</td>\n",
              "      <td>6.576754</td>\n",
              "      <td>1</td>\n",
              "      <td>6.578918</td>\n",
              "      <td>0.001874</td>\n",
              "      <td>0.032892</td>\n",
              "      <td>0</td>\n",
              "    </tr>\n",
              "    <tr>\n",
              "      <th>...</th>\n",
              "      <td>...</td>\n",
              "      <td>...</td>\n",
              "      <td>...</td>\n",
              "      <td>...</td>\n",
              "      <td>...</td>\n",
              "      <td>...</td>\n",
              "      <td>...</td>\n",
              "      <td>...</td>\n",
              "    </tr>\n",
              "    <tr>\n",
              "      <th>6163</th>\n",
              "      <td>50915199</td>\n",
              "      <td>COc1ccc(COC(=O)C2(c3ccc(I)cc3)CCNCC2)cc1</td>\n",
              "      <td>9.221850</td>\n",
              "      <td>1</td>\n",
              "      <td>9.221850</td>\n",
              "      <td>NaN</td>\n",
              "      <td>0.000000</td>\n",
              "      <td>0</td>\n",
              "    </tr>\n",
              "    <tr>\n",
              "      <th>6164</th>\n",
              "      <td>CHEMBL555565</td>\n",
              "      <td>O=C(c1ccccc1)N(c1ccc2[nH]ccc2c1)C1CCNCC1</td>\n",
              "      <td>7.600000</td>\n",
              "      <td>1</td>\n",
              "      <td>7.600000</td>\n",
              "      <td>NaN</td>\n",
              "      <td>0.000000</td>\n",
              "      <td>0</td>\n",
              "    </tr>\n",
              "    <tr>\n",
              "      <th>6165</th>\n",
              "      <td>CHEMBL3084608</td>\n",
              "      <td>CCCCc1cccc(N2[C@H]3CC[C@@H]2C[C@@H](OC(c2ccccc...</td>\n",
              "      <td>6.130000</td>\n",
              "      <td>1</td>\n",
              "      <td>6.130000</td>\n",
              "      <td>NaN</td>\n",
              "      <td>0.000000</td>\n",
              "      <td>0</td>\n",
              "    </tr>\n",
              "    <tr>\n",
              "      <th>6167</th>\n",
              "      <td>CHEMBL3298870</td>\n",
              "      <td>CC(NC1CC1)C(=O)c1ccc(Cl)c(Cl)c1</td>\n",
              "      <td>6.450000</td>\n",
              "      <td>1</td>\n",
              "      <td>6.450000</td>\n",
              "      <td>NaN</td>\n",
              "      <td>0.000000</td>\n",
              "      <td>0</td>\n",
              "    </tr>\n",
              "    <tr>\n",
              "      <th>6168</th>\n",
              "      <td>CHEMBL54177</td>\n",
              "      <td>CN1CCN(C2CC(c3ccc(Cl)c(Cl)c3)c3ccccc32)CC1</td>\n",
              "      <td>6.700000</td>\n",
              "      <td>1</td>\n",
              "      <td>6.700000</td>\n",
              "      <td>NaN</td>\n",
              "      <td>0.000000</td>\n",
              "      <td>0</td>\n",
              "    </tr>\n",
              "  </tbody>\n",
              "</table>\n",
              "<p>5112 rows × 8 columns</p>\n",
              "</div>"
            ],
            "text/plain": [
              "                      compound_id  ... Remove_BadDuplicate\n",
              "0     ZINGRQZUIVEPKX-UHFFFAOYSA-N  ...                   0\n",
              "1     KVWDHTXUZHCGIO-UHFFFAOYSA-N  ...                   0\n",
              "2     QSQQQURBVYWZKJ-UHFFFAOYSA-N  ...                   0\n",
              "3     NTBRVAZZXJHBGJ-UHFFFAOYSA-N  ...                   0\n",
              "4     JYIMWQCCVNSNJW-UHFFFAOYSA-N  ...                   0\n",
              "...                           ...  ...                 ...\n",
              "6163                     50915199  ...                   0\n",
              "6164                 CHEMBL555565  ...                   0\n",
              "6165                CHEMBL3084608  ...                   0\n",
              "6167                CHEMBL3298870  ...                   0\n",
              "6168                  CHEMBL54177  ...                   0\n",
              "\n",
              "[5112 rows x 8 columns]"
            ]
          },
          "metadata": {
            "tags": []
          },
          "execution_count": 5
        }
      ]
    },
    {
      "cell_type": "code",
      "metadata": {
        "colab": {
          "base_uri": "https://localhost:8080/",
          "height": 419
        },
        "id": "GSUNXzkQ2BiQ",
        "outputId": "fee37afe-f82b-4609-ec4e-1b4a8cbaab3c"
      },
      "source": [
        "df[df.compound_id.duplicated(keep=False)==True].sort_values(by='compound_id')"
      ],
      "execution_count": null,
      "outputs": [
        {
          "output_type": "execute_result",
          "data": {
            "text/html": [
              "<div>\n",
              "<style scoped>\n",
              "    .dataframe tbody tr th:only-of-type {\n",
              "        vertical-align: middle;\n",
              "    }\n",
              "\n",
              "    .dataframe tbody tr th {\n",
              "        vertical-align: top;\n",
              "    }\n",
              "\n",
              "    .dataframe thead th {\n",
              "        text-align: right;\n",
              "    }\n",
              "</style>\n",
              "<table border=\"1\" class=\"dataframe\">\n",
              "  <thead>\n",
              "    <tr style=\"text-align: right;\">\n",
              "      <th></th>\n",
              "      <th>compound_id</th>\n",
              "      <th>base_rdkit_smiles</th>\n",
              "      <th>PXC50</th>\n",
              "      <th>active</th>\n",
              "      <th>VALUE_NUM_mean</th>\n",
              "      <th>VALUE_NUM_std</th>\n",
              "      <th>Perc_Var</th>\n",
              "      <th>Remove_BadDuplicate</th>\n",
              "    </tr>\n",
              "  </thead>\n",
              "  <tbody>\n",
              "    <tr>\n",
              "      <th>1482</th>\n",
              "      <td>CHEMBL103152</td>\n",
              "      <td>COC(=O)C1=C(c2ccc3ccccc3c2)CC2CCC1C2</td>\n",
              "      <td>5.88</td>\n",
              "      <td>0</td>\n",
              "      <td>5.88</td>\n",
              "      <td>NaN</td>\n",
              "      <td>0.0</td>\n",
              "      <td>0</td>\n",
              "    </tr>\n",
              "    <tr>\n",
              "      <th>5714</th>\n",
              "      <td>CHEMBL103152</td>\n",
              "      <td>COC(=O)C1C(c2ccc3ccccc3c2)=CC2CCC1C2</td>\n",
              "      <td>5.88</td>\n",
              "      <td>1</td>\n",
              "      <td>5.88</td>\n",
              "      <td>NaN</td>\n",
              "      <td>0.0</td>\n",
              "      <td>0</td>\n",
              "    </tr>\n",
              "    <tr>\n",
              "      <th>768</th>\n",
              "      <td>CHEMBL1644480</td>\n",
              "      <td>O=[N+]([O-])c1cccc(O[C@H]2C[C@@H]3CC[C@H](C2)N...</td>\n",
              "      <td>7.07</td>\n",
              "      <td>1</td>\n",
              "      <td>7.07</td>\n",
              "      <td>NaN</td>\n",
              "      <td>0.0</td>\n",
              "      <td>0</td>\n",
              "    </tr>\n",
              "    <tr>\n",
              "      <th>4474</th>\n",
              "      <td>CHEMBL1644480</td>\n",
              "      <td>O=[N+]([O-])c1cccc(OC2C[C@@H]3CC[C@H](C2)N3)c1</td>\n",
              "      <td>7.07</td>\n",
              "      <td>1</td>\n",
              "      <td>7.07</td>\n",
              "      <td>NaN</td>\n",
              "      <td>0.0</td>\n",
              "      <td>0</td>\n",
              "    </tr>\n",
              "    <tr>\n",
              "      <th>2517</th>\n",
              "      <td>CHEMBL179767</td>\n",
              "      <td>N#Cc1ccc2[nH]cc(SC[C@@H]3C[N@]4CC[C@@H]3CC4)c2c1</td>\n",
              "      <td>8.70</td>\n",
              "      <td>1</td>\n",
              "      <td>8.70</td>\n",
              "      <td>NaN</td>\n",
              "      <td>0.0</td>\n",
              "      <td>0</td>\n",
              "    </tr>\n",
              "    <tr>\n",
              "      <th>...</th>\n",
              "      <td>...</td>\n",
              "      <td>...</td>\n",
              "      <td>...</td>\n",
              "      <td>...</td>\n",
              "      <td>...</td>\n",
              "      <td>...</td>\n",
              "      <td>...</td>\n",
              "      <td>...</td>\n",
              "    </tr>\n",
              "    <tr>\n",
              "      <th>5336</th>\n",
              "      <td>CHEMBL491595</td>\n",
              "      <td>CNCc1cc(N=S(C)(=O)O)ccc1Oc1ccc(SC)cc1</td>\n",
              "      <td>7.92</td>\n",
              "      <td>1</td>\n",
              "      <td>7.92</td>\n",
              "      <td>NaN</td>\n",
              "      <td>0.0</td>\n",
              "      <td>0</td>\n",
              "    </tr>\n",
              "    <tr>\n",
              "      <th>3870</th>\n",
              "      <td>CHEMBL88915</td>\n",
              "      <td>COC(=O)C1C(c2ccc(Cl)c(Cl)c2)=CC2CCC1N2C</td>\n",
              "      <td>6.06</td>\n",
              "      <td>1</td>\n",
              "      <td>6.06</td>\n",
              "      <td>NaN</td>\n",
              "      <td>0.0</td>\n",
              "      <td>0</td>\n",
              "    </tr>\n",
              "    <tr>\n",
              "      <th>2288</th>\n",
              "      <td>CHEMBL88915</td>\n",
              "      <td>COC(=O)C1=C(c2ccc(Cl)c(Cl)c2)CC2CCC1N2C</td>\n",
              "      <td>6.06</td>\n",
              "      <td>1</td>\n",
              "      <td>6.06</td>\n",
              "      <td>NaN</td>\n",
              "      <td>0.0</td>\n",
              "      <td>0</td>\n",
              "    </tr>\n",
              "    <tr>\n",
              "      <th>4583</th>\n",
              "      <td>CHEMBL89469</td>\n",
              "      <td>COC(=O)C1C(c2ccc(F)cc2)=CC2CCC1N2C</td>\n",
              "      <td>5.10</td>\n",
              "      <td>1</td>\n",
              "      <td>5.10</td>\n",
              "      <td>NaN</td>\n",
              "      <td>0.0</td>\n",
              "      <td>0</td>\n",
              "    </tr>\n",
              "    <tr>\n",
              "      <th>1760</th>\n",
              "      <td>CHEMBL89469</td>\n",
              "      <td>COC(=O)C1=C(c2ccc(F)cc2)CC2CCC1N2C</td>\n",
              "      <td>5.10</td>\n",
              "      <td>0</td>\n",
              "      <td>5.10</td>\n",
              "      <td>NaN</td>\n",
              "      <td>0.0</td>\n",
              "      <td>0</td>\n",
              "    </tr>\n",
              "  </tbody>\n",
              "</table>\n",
              "<p>62 rows × 8 columns</p>\n",
              "</div>"
            ],
            "text/plain": [
              "        compound_id  ... Remove_BadDuplicate\n",
              "1482   CHEMBL103152  ...                   0\n",
              "5714   CHEMBL103152  ...                   0\n",
              "768   CHEMBL1644480  ...                   0\n",
              "4474  CHEMBL1644480  ...                   0\n",
              "2517   CHEMBL179767  ...                   0\n",
              "...             ...  ...                 ...\n",
              "5336   CHEMBL491595  ...                   0\n",
              "3870    CHEMBL88915  ...                   0\n",
              "2288    CHEMBL88915  ...                   0\n",
              "4583    CHEMBL89469  ...                   0\n",
              "1760    CHEMBL89469  ...                   0\n",
              "\n",
              "[62 rows x 8 columns]"
            ]
          },
          "metadata": {
            "tags": []
          },
          "execution_count": 14
        }
      ]
    },
    {
      "cell_type": "code",
      "metadata": {
        "colab": {
          "base_uri": "https://localhost:8080/",
          "height": 419
        },
        "id": "RmQVcRXd-EY7",
        "outputId": "0737f360-afed-4134-db24-d1f925f0e049"
      },
      "source": [
        "df_grouped = df.groupby('compound_id', as_index=False)['VALUE_NUM_mean'].mean()\n",
        "df_grouped"
      ],
      "execution_count": null,
      "outputs": [
        {
          "output_type": "execute_result",
          "data": {
            "text/html": [
              "<div>\n",
              "<style scoped>\n",
              "    .dataframe tbody tr th:only-of-type {\n",
              "        vertical-align: middle;\n",
              "    }\n",
              "\n",
              "    .dataframe tbody tr th {\n",
              "        vertical-align: top;\n",
              "    }\n",
              "\n",
              "    .dataframe thead th {\n",
              "        text-align: right;\n",
              "    }\n",
              "</style>\n",
              "<table border=\"1\" class=\"dataframe\">\n",
              "  <thead>\n",
              "    <tr style=\"text-align: right;\">\n",
              "      <th></th>\n",
              "      <th>compound_id</th>\n",
              "      <th>VALUE_NUM_mean</th>\n",
              "    </tr>\n",
              "  </thead>\n",
              "  <tbody>\n",
              "    <tr>\n",
              "      <th>0</th>\n",
              "      <td>10042602</td>\n",
              "      <td>6.585030</td>\n",
              "    </tr>\n",
              "    <tr>\n",
              "      <th>1</th>\n",
              "      <td>10048342</td>\n",
              "      <td>7.100020</td>\n",
              "    </tr>\n",
              "    <tr>\n",
              "      <th>2</th>\n",
              "      <td>10062443</td>\n",
              "      <td>8.950780</td>\n",
              "    </tr>\n",
              "    <tr>\n",
              "      <th>3</th>\n",
              "      <td>10071738</td>\n",
              "      <td>9.100180</td>\n",
              "    </tr>\n",
              "    <tr>\n",
              "      <th>4</th>\n",
              "      <td>10073139</td>\n",
              "      <td>9.801340</td>\n",
              "    </tr>\n",
              "    <tr>\n",
              "      <th>...</th>\n",
              "      <td>...</td>\n",
              "      <td>...</td>\n",
              "    </tr>\n",
              "    <tr>\n",
              "      <th>5076</th>\n",
              "      <td>RTHCYVBBDHJXIQ-UHFFFAOYSA-N</td>\n",
              "      <td>7.803001</td>\n",
              "    </tr>\n",
              "    <tr>\n",
              "      <th>5077</th>\n",
              "      <td>UEQUQVLFIPOEMF-UHFFFAOYSA-N</td>\n",
              "      <td>5.774816</td>\n",
              "    </tr>\n",
              "    <tr>\n",
              "      <th>5078</th>\n",
              "      <td>WZHJKEUHNJHDLS-QTGUNEKASA-N</td>\n",
              "      <td>6.229574</td>\n",
              "    </tr>\n",
              "    <tr>\n",
              "      <th>5079</th>\n",
              "      <td>ZINGRQZUIVEPKX-UHFFFAOYSA-N</td>\n",
              "      <td>8.521920</td>\n",
              "    </tr>\n",
              "    <tr>\n",
              "      <th>5080</th>\n",
              "      <td>ZNRGQMMCGHDTEI-ITGUQSILSA-N</td>\n",
              "      <td>6.311580</td>\n",
              "    </tr>\n",
              "  </tbody>\n",
              "</table>\n",
              "<p>5081 rows × 2 columns</p>\n",
              "</div>"
            ],
            "text/plain": [
              "                      compound_id  VALUE_NUM_mean\n",
              "0                        10042602        6.585030\n",
              "1                        10048342        7.100020\n",
              "2                        10062443        8.950780\n",
              "3                        10071738        9.100180\n",
              "4                        10073139        9.801340\n",
              "...                           ...             ...\n",
              "5076  RTHCYVBBDHJXIQ-UHFFFAOYSA-N        7.803001\n",
              "5077  UEQUQVLFIPOEMF-UHFFFAOYSA-N        5.774816\n",
              "5078  WZHJKEUHNJHDLS-QTGUNEKASA-N        6.229574\n",
              "5079  ZINGRQZUIVEPKX-UHFFFAOYSA-N        8.521920\n",
              "5080  ZNRGQMMCGHDTEI-ITGUQSILSA-N        6.311580\n",
              "\n",
              "[5081 rows x 2 columns]"
            ]
          },
          "metadata": {
            "tags": []
          },
          "execution_count": 16
        }
      ]
    },
    {
      "cell_type": "code",
      "metadata": {
        "id": "0M93fUefCHTo"
      },
      "source": [
        "df_dedup = df.drop_duplicates('compound_id')\n",
        "df_avg = df_dedup.merge(df_grouped, left_on='compound_id', right_on='compound_id')\n"
      ],
      "execution_count": null,
      "outputs": []
    },
    {
      "cell_type": "code",
      "metadata": {
        "id": "KetbKGLpEIfl",
        "colab": {
          "base_uri": "https://localhost:8080/",
          "height": 521
        },
        "outputId": "4b33d060-f0cd-4d7d-f511-6d27ec74db02"
      },
      "source": [
        "df_avg.drop('VALUE_NUM_mean_x', axis=1, inplace=True)\n",
        "df_avg.rename(columns={'VALUE_NUM_mean_y': 'VALUE_NUM_mean'}, inplace=True)\n",
        "df_avg"
      ],
      "execution_count": null,
      "outputs": [
        {
          "output_type": "execute_result",
          "data": {
            "text/html": [
              "<div>\n",
              "<style scoped>\n",
              "    .dataframe tbody tr th:only-of-type {\n",
              "        vertical-align: middle;\n",
              "    }\n",
              "\n",
              "    .dataframe tbody tr th {\n",
              "        vertical-align: top;\n",
              "    }\n",
              "\n",
              "    .dataframe thead th {\n",
              "        text-align: right;\n",
              "    }\n",
              "</style>\n",
              "<table border=\"1\" class=\"dataframe\">\n",
              "  <thead>\n",
              "    <tr style=\"text-align: right;\">\n",
              "      <th></th>\n",
              "      <th>compound_id</th>\n",
              "      <th>base_rdkit_smiles</th>\n",
              "      <th>PXC50</th>\n",
              "      <th>active</th>\n",
              "      <th>VALUE_NUM_std</th>\n",
              "      <th>Perc_Var</th>\n",
              "      <th>Remove_BadDuplicate</th>\n",
              "      <th>VALUE_NUM_mean</th>\n",
              "    </tr>\n",
              "  </thead>\n",
              "  <tbody>\n",
              "    <tr>\n",
              "      <th>0</th>\n",
              "      <td>ZINGRQZUIVEPKX-UHFFFAOYSA-N</td>\n",
              "      <td>N#Cc1ccc2ccc(OCC3CCNCC3)cc2c1</td>\n",
              "      <td>8.522879</td>\n",
              "      <td>1</td>\n",
              "      <td>0.001662</td>\n",
              "      <td>0.011255</td>\n",
              "      <td>0</td>\n",
              "      <td>8.521920</td>\n",
              "    </tr>\n",
              "    <tr>\n",
              "      <th>1</th>\n",
              "      <td>KVWDHTXUZHCGIO-UHFFFAOYSA-N</td>\n",
              "      <td>Cc1cc2c(s1)Nc1ccccc1N=C2N1CCN(C)CC1</td>\n",
              "      <td>5.985900</td>\n",
              "      <td>0</td>\n",
              "      <td>0.157082</td>\n",
              "      <td>1.525566</td>\n",
              "      <td>0</td>\n",
              "      <td>6.078633</td>\n",
              "    </tr>\n",
              "    <tr>\n",
              "      <th>2</th>\n",
              "      <td>QSQQQURBVYWZKJ-UHFFFAOYSA-N</td>\n",
              "      <td>CC(N)Cc1c[nH]c2ccccc12</td>\n",
              "      <td>5.630000</td>\n",
              "      <td>0</td>\n",
              "      <td>0.265581</td>\n",
              "      <td>2.651299</td>\n",
              "      <td>0</td>\n",
              "      <td>5.783333</td>\n",
              "    </tr>\n",
              "    <tr>\n",
              "      <th>3</th>\n",
              "      <td>NTBRVAZZXJHBGJ-UHFFFAOYSA-N</td>\n",
              "      <td>Clc1cccc(OC(c2cccnc2)C2CCNCC2)c1Cl</td>\n",
              "      <td>8.212129</td>\n",
              "      <td>1</td>\n",
              "      <td>0.001506</td>\n",
              "      <td>0.012966</td>\n",
              "      <td>0</td>\n",
              "      <td>8.211065</td>\n",
              "    </tr>\n",
              "    <tr>\n",
              "      <th>4</th>\n",
              "      <td>JYIMWQCCVNSNJW-UHFFFAOYSA-N</td>\n",
              "      <td>COc1ccc2cc(C(O)CCN3CC=C(Cc4ccccc4)CC3)ccc2c1Cl</td>\n",
              "      <td>6.576754</td>\n",
              "      <td>1</td>\n",
              "      <td>0.001874</td>\n",
              "      <td>0.032892</td>\n",
              "      <td>0</td>\n",
              "      <td>6.578918</td>\n",
              "    </tr>\n",
              "    <tr>\n",
              "      <th>...</th>\n",
              "      <td>...</td>\n",
              "      <td>...</td>\n",
              "      <td>...</td>\n",
              "      <td>...</td>\n",
              "      <td>...</td>\n",
              "      <td>...</td>\n",
              "      <td>...</td>\n",
              "      <td>...</td>\n",
              "    </tr>\n",
              "    <tr>\n",
              "      <th>5076</th>\n",
              "      <td>50915199</td>\n",
              "      <td>COc1ccc(COC(=O)C2(c3ccc(I)cc3)CCNCC2)cc1</td>\n",
              "      <td>9.221850</td>\n",
              "      <td>1</td>\n",
              "      <td>NaN</td>\n",
              "      <td>0.000000</td>\n",
              "      <td>0</td>\n",
              "      <td>9.221850</td>\n",
              "    </tr>\n",
              "    <tr>\n",
              "      <th>5077</th>\n",
              "      <td>CHEMBL555565</td>\n",
              "      <td>O=C(c1ccccc1)N(c1ccc2[nH]ccc2c1)C1CCNCC1</td>\n",
              "      <td>7.600000</td>\n",
              "      <td>1</td>\n",
              "      <td>NaN</td>\n",
              "      <td>0.000000</td>\n",
              "      <td>0</td>\n",
              "      <td>7.600000</td>\n",
              "    </tr>\n",
              "    <tr>\n",
              "      <th>5078</th>\n",
              "      <td>CHEMBL3084608</td>\n",
              "      <td>CCCCc1cccc(N2[C@H]3CC[C@@H]2C[C@@H](OC(c2ccccc...</td>\n",
              "      <td>6.130000</td>\n",
              "      <td>1</td>\n",
              "      <td>NaN</td>\n",
              "      <td>0.000000</td>\n",
              "      <td>0</td>\n",
              "      <td>6.130000</td>\n",
              "    </tr>\n",
              "    <tr>\n",
              "      <th>5079</th>\n",
              "      <td>CHEMBL3298870</td>\n",
              "      <td>CC(NC1CC1)C(=O)c1ccc(Cl)c(Cl)c1</td>\n",
              "      <td>6.450000</td>\n",
              "      <td>1</td>\n",
              "      <td>NaN</td>\n",
              "      <td>0.000000</td>\n",
              "      <td>0</td>\n",
              "      <td>6.450000</td>\n",
              "    </tr>\n",
              "    <tr>\n",
              "      <th>5080</th>\n",
              "      <td>CHEMBL54177</td>\n",
              "      <td>CN1CCN(C2CC(c3ccc(Cl)c(Cl)c3)c3ccccc32)CC1</td>\n",
              "      <td>6.700000</td>\n",
              "      <td>1</td>\n",
              "      <td>NaN</td>\n",
              "      <td>0.000000</td>\n",
              "      <td>0</td>\n",
              "      <td>6.700000</td>\n",
              "    </tr>\n",
              "  </tbody>\n",
              "</table>\n",
              "<p>5081 rows × 8 columns</p>\n",
              "</div>"
            ],
            "text/plain": [
              "                      compound_id  ... VALUE_NUM_mean\n",
              "0     ZINGRQZUIVEPKX-UHFFFAOYSA-N  ...       8.521920\n",
              "1     KVWDHTXUZHCGIO-UHFFFAOYSA-N  ...       6.078633\n",
              "2     QSQQQURBVYWZKJ-UHFFFAOYSA-N  ...       5.783333\n",
              "3     NTBRVAZZXJHBGJ-UHFFFAOYSA-N  ...       8.211065\n",
              "4     JYIMWQCCVNSNJW-UHFFFAOYSA-N  ...       6.578918\n",
              "...                           ...  ...            ...\n",
              "5076                     50915199  ...       9.221850\n",
              "5077                 CHEMBL555565  ...       7.600000\n",
              "5078                CHEMBL3084608  ...       6.130000\n",
              "5079                CHEMBL3298870  ...       6.450000\n",
              "5080                  CHEMBL54177  ...       6.700000\n",
              "\n",
              "[5081 rows x 8 columns]"
            ]
          },
          "metadata": {
            "tags": []
          },
          "execution_count": 18
        }
      ]
    },
    {
      "cell_type": "code",
      "metadata": {
        "id": "1bQVHA6O9iPy"
      },
      "source": [
        "df_avg.to_csv('curated_combined_df_1.csv')"
      ],
      "execution_count": null,
      "outputs": []
    },
    {
      "cell_type": "code",
      "metadata": {
        "colab": {
          "base_uri": "https://localhost:8080/",
          "height": 521
        },
        "id": "uUpyI4PeA9NH",
        "outputId": "88212441-0e56-4808-f475-210bbe3a5710"
      },
      "source": [
        "df_avg"
      ],
      "execution_count": null,
      "outputs": [
        {
          "output_type": "execute_result",
          "data": {
            "text/html": [
              "<div>\n",
              "<style scoped>\n",
              "    .dataframe tbody tr th:only-of-type {\n",
              "        vertical-align: middle;\n",
              "    }\n",
              "\n",
              "    .dataframe tbody tr th {\n",
              "        vertical-align: top;\n",
              "    }\n",
              "\n",
              "    .dataframe thead th {\n",
              "        text-align: right;\n",
              "    }\n",
              "</style>\n",
              "<table border=\"1\" class=\"dataframe\">\n",
              "  <thead>\n",
              "    <tr style=\"text-align: right;\">\n",
              "      <th></th>\n",
              "      <th>compound_id</th>\n",
              "      <th>base_rdkit_smiles</th>\n",
              "      <th>PXC50</th>\n",
              "      <th>active</th>\n",
              "      <th>VALUE_NUM_std</th>\n",
              "      <th>Perc_Var</th>\n",
              "      <th>Remove_BadDuplicate</th>\n",
              "      <th>VALUE_NUM_mean</th>\n",
              "    </tr>\n",
              "  </thead>\n",
              "  <tbody>\n",
              "    <tr>\n",
              "      <th>0</th>\n",
              "      <td>ZINGRQZUIVEPKX-UHFFFAOYSA-N</td>\n",
              "      <td>N#Cc1ccc2ccc(OCC3CCNCC3)cc2c1</td>\n",
              "      <td>8.522879</td>\n",
              "      <td>1</td>\n",
              "      <td>0.001662</td>\n",
              "      <td>0.011255</td>\n",
              "      <td>0</td>\n",
              "      <td>8.521920</td>\n",
              "    </tr>\n",
              "    <tr>\n",
              "      <th>1</th>\n",
              "      <td>KVWDHTXUZHCGIO-UHFFFAOYSA-N</td>\n",
              "      <td>Cc1cc2c(s1)Nc1ccccc1N=C2N1CCN(C)CC1</td>\n",
              "      <td>5.985900</td>\n",
              "      <td>0</td>\n",
              "      <td>0.157082</td>\n",
              "      <td>1.525566</td>\n",
              "      <td>0</td>\n",
              "      <td>6.078633</td>\n",
              "    </tr>\n",
              "    <tr>\n",
              "      <th>2</th>\n",
              "      <td>QSQQQURBVYWZKJ-UHFFFAOYSA-N</td>\n",
              "      <td>CC(N)Cc1c[nH]c2ccccc12</td>\n",
              "      <td>5.630000</td>\n",
              "      <td>0</td>\n",
              "      <td>0.265581</td>\n",
              "      <td>2.651299</td>\n",
              "      <td>0</td>\n",
              "      <td>5.783333</td>\n",
              "    </tr>\n",
              "    <tr>\n",
              "      <th>3</th>\n",
              "      <td>NTBRVAZZXJHBGJ-UHFFFAOYSA-N</td>\n",
              "      <td>Clc1cccc(OC(c2cccnc2)C2CCNCC2)c1Cl</td>\n",
              "      <td>8.212129</td>\n",
              "      <td>1</td>\n",
              "      <td>0.001506</td>\n",
              "      <td>0.012966</td>\n",
              "      <td>0</td>\n",
              "      <td>8.211065</td>\n",
              "    </tr>\n",
              "    <tr>\n",
              "      <th>4</th>\n",
              "      <td>JYIMWQCCVNSNJW-UHFFFAOYSA-N</td>\n",
              "      <td>COc1ccc2cc(C(O)CCN3CC=C(Cc4ccccc4)CC3)ccc2c1Cl</td>\n",
              "      <td>6.576754</td>\n",
              "      <td>1</td>\n",
              "      <td>0.001874</td>\n",
              "      <td>0.032892</td>\n",
              "      <td>0</td>\n",
              "      <td>6.578918</td>\n",
              "    </tr>\n",
              "    <tr>\n",
              "      <th>...</th>\n",
              "      <td>...</td>\n",
              "      <td>...</td>\n",
              "      <td>...</td>\n",
              "      <td>...</td>\n",
              "      <td>...</td>\n",
              "      <td>...</td>\n",
              "      <td>...</td>\n",
              "      <td>...</td>\n",
              "    </tr>\n",
              "    <tr>\n",
              "      <th>5076</th>\n",
              "      <td>50915199</td>\n",
              "      <td>COc1ccc(COC(=O)C2(c3ccc(I)cc3)CCNCC2)cc1</td>\n",
              "      <td>9.221850</td>\n",
              "      <td>1</td>\n",
              "      <td>NaN</td>\n",
              "      <td>0.000000</td>\n",
              "      <td>0</td>\n",
              "      <td>9.221850</td>\n",
              "    </tr>\n",
              "    <tr>\n",
              "      <th>5077</th>\n",
              "      <td>CHEMBL555565</td>\n",
              "      <td>O=C(c1ccccc1)N(c1ccc2[nH]ccc2c1)C1CCNCC1</td>\n",
              "      <td>7.600000</td>\n",
              "      <td>1</td>\n",
              "      <td>NaN</td>\n",
              "      <td>0.000000</td>\n",
              "      <td>0</td>\n",
              "      <td>7.600000</td>\n",
              "    </tr>\n",
              "    <tr>\n",
              "      <th>5078</th>\n",
              "      <td>CHEMBL3084608</td>\n",
              "      <td>CCCCc1cccc(N2[C@H]3CC[C@@H]2C[C@@H](OC(c2ccccc...</td>\n",
              "      <td>6.130000</td>\n",
              "      <td>1</td>\n",
              "      <td>NaN</td>\n",
              "      <td>0.000000</td>\n",
              "      <td>0</td>\n",
              "      <td>6.130000</td>\n",
              "    </tr>\n",
              "    <tr>\n",
              "      <th>5079</th>\n",
              "      <td>CHEMBL3298870</td>\n",
              "      <td>CC(NC1CC1)C(=O)c1ccc(Cl)c(Cl)c1</td>\n",
              "      <td>6.450000</td>\n",
              "      <td>1</td>\n",
              "      <td>NaN</td>\n",
              "      <td>0.000000</td>\n",
              "      <td>0</td>\n",
              "      <td>6.450000</td>\n",
              "    </tr>\n",
              "    <tr>\n",
              "      <th>5080</th>\n",
              "      <td>CHEMBL54177</td>\n",
              "      <td>CN1CCN(C2CC(c3ccc(Cl)c(Cl)c3)c3ccccc32)CC1</td>\n",
              "      <td>6.700000</td>\n",
              "      <td>1</td>\n",
              "      <td>NaN</td>\n",
              "      <td>0.000000</td>\n",
              "      <td>0</td>\n",
              "      <td>6.700000</td>\n",
              "    </tr>\n",
              "  </tbody>\n",
              "</table>\n",
              "<p>5081 rows × 8 columns</p>\n",
              "</div>"
            ],
            "text/plain": [
              "                      compound_id  ... VALUE_NUM_mean\n",
              "0     ZINGRQZUIVEPKX-UHFFFAOYSA-N  ...       8.521920\n",
              "1     KVWDHTXUZHCGIO-UHFFFAOYSA-N  ...       6.078633\n",
              "2     QSQQQURBVYWZKJ-UHFFFAOYSA-N  ...       5.783333\n",
              "3     NTBRVAZZXJHBGJ-UHFFFAOYSA-N  ...       8.211065\n",
              "4     JYIMWQCCVNSNJW-UHFFFAOYSA-N  ...       6.578918\n",
              "...                           ...  ...            ...\n",
              "5076                     50915199  ...       9.221850\n",
              "5077                 CHEMBL555565  ...       7.600000\n",
              "5078                CHEMBL3084608  ...       6.130000\n",
              "5079                CHEMBL3298870  ...       6.450000\n",
              "5080                  CHEMBL54177  ...       6.700000\n",
              "\n",
              "[5081 rows x 8 columns]"
            ]
          },
          "metadata": {
            "tags": []
          },
          "execution_count": 19
        }
      ]
    },
    {
      "cell_type": "markdown",
      "metadata": {
        "id": "1_EZMaO8NAkA"
      },
      "source": [
        "# Split\n",
        "\n",
        "---\n",
        "\n"
      ]
    },
    {
      "cell_type": "code",
      "metadata": {
        "id": "3-yKgx1n5-dL"
      },
      "source": [
        "working_dir = '/content'"
      ],
      "execution_count": null,
      "outputs": []
    },
    {
      "cell_type": "code",
      "metadata": {
        "colab": {
          "base_uri": "https://localhost:8080/"
        },
        "id": "i58Ne7WV0ndI",
        "outputId": "8c857c00-72ef-4a0e-a12f-62700a450d1c"
      },
      "source": [
        "# data splits based on the scaffold of small molecules.\n",
        "featurizer = 'ecfp' \n",
        "model_type = 'RF'\n",
        "response_col = ['VALUE_NUM_mean']\n",
        "smiles_col = 'base_rdkit_smiles'\n",
        "compound_id = 'compound_id'\n",
        "train_file = \"curated_combined_df_1.csv\"\n",
        "params = {\n",
        "        \"system\": \"LC\",\n",
        "        \"lc_account\": 'None',\n",
        "        \"datastore\": \"False\",   #Boolean flag for using an input file from the LLNL specific datastore system based on a key of dataset_key\n",
        "        \"save_results\": \"False\", # Save model results to MongoDB,\n",
        "        \"prediction_type\": \"regression\",\n",
        "        \"dataset_key\": train_file,\n",
        "        \"id_col\": compound_id,\n",
        "        \"smiles_col\": smiles_col,\n",
        "        \"response_cols\": response_col,\n",
        "        \"previously_split\": \"False\",  # Boolean flag for loading in previously split train, validation, and test csv files\n",
        "        \"split_only\": \"True\",   # indicate splitting of the datasets when running the hyperparameter search\n",
        "        'split_stategy':'train_valid_test',\n",
        "        \"featurizer\": \"ecfp\",\n",
        "        \"model_type\": \"RF\",\n",
        "        \"verbose\": \"True\",\n",
        "        \"transformers\": \"True\",\n",
        "        'max_epochs': '70',\n",
        "        \"rerun\": \"False\",\n",
        "        \"result_dir\": working_dir\n",
        "    }\n",
        "\n",
        "ampl_param = parse.wrapper(params)\n",
        "pl = mp.ModelPipeline(ampl_param)\n",
        "pl.train_model()"
      ],
      "execution_count": null,
      "outputs": [
        {
          "output_type": "stream",
          "text": [
            "2021-04-08 13:58:36,490 ['split_stategy'] are not part of the accepted list of parameters and will be ignored\n",
            "2021-04-08 13:59:07,350 Splitting data by scaffold\n"
          ],
          "name": "stderr"
        },
        {
          "output_type": "stream",
          "text": [
            "number of features: 1024\n"
          ],
          "name": "stdout"
        },
        {
          "output_type": "stream",
          "text": [
            "2021-04-08 13:59:11,280 Dataset split table saved to /curated_combined_df_1_train_valid_test_scaffold_67fd6ac1-0c6f-4f06-bdda-8d0131ebe89d.csv\n"
          ],
          "name": "stderr"
        }
      ]
    },
    {
      "cell_type": "code",
      "metadata": {
        "id": "mlW999mX98TA"
      },
      "source": [
        "listing = glob.glob(os.path.join(\"/\", \"curated_combined_df_1_train_valid_test_scaffold_*\"))"
      ],
      "execution_count": null,
      "outputs": []
    },
    {
      "cell_type": "markdown",
      "metadata": {
        "id": "Ypj3E8iBNGDk"
      },
      "source": [
        "# Train Initial Rf\n",
        "\n",
        "---\n",
        "\n"
      ]
    },
    {
      "cell_type": "code",
      "metadata": {
        "id": "SS-Pdktl_YHB"
      },
      "source": [
        "# train inital rf model\n",
        "\n",
        "name = listing[0]\n",
        "split_uuid = name.split(\"_\")[-1].split(\".\")[0]\n",
        "response_col = \"VALUE_NUM_mean\"\n",
        "# default : rf_estimators=500, rf_max_features = 32\n",
        "params = {\n",
        "        \"system\": \"LC\",\n",
        "        \"lc_account\": 'None',\n",
        "        \"datastore\": \"False\",\n",
        "        \"save_results\": \"False\",\n",
        "        \"data_owner\": \"username\",\n",
        "        \"prediction_type\": \"regression\",\n",
        "        \"dataset_key\": train_file,\n",
        "        \"id_col\": compound_id,\n",
        "        \"smiles_col\": smiles_col,\n",
        "        \"response_cols\": response_col,\n",
        "        \"split_uuid\": split_uuid,   # UUID for csv file containing train, validation, and test split information\n",
        "        \"previously_split\": \"True\",\n",
        "        \"featurizer\": \"ecfp\",\n",
        "        \"model_type\": \"RF\",\n",
        "        \"verbose\": \"True\",\n",
        "        \"transformers\": \"True\",\n",
        "        'max_epochs': '70',\n",
        "        \"rerun\": \"False\",\n",
        "        \"result_dir\": \"ampl_output\"\n",
        "    }"
      ],
      "execution_count": null,
      "outputs": []
    },
    {
      "cell_type": "code",
      "metadata": {
        "colab": {
          "base_uri": "https://localhost:8080/"
        },
        "id": "drIDNN00_kFy",
        "outputId": "d15d8e12-5de1-4c6c-a9fb-2a43f70c84a0"
      },
      "source": [
        "ampl_param = parse.wrapper(params)\n",
        "pl = mp.ModelPipeline(ampl_param)\n",
        "pl.train_model()"
      ],
      "execution_count": null,
      "outputs": [
        {
          "output_type": "stream",
          "text": [
            "number of features: 1024\n"
          ],
          "name": "stdout"
        },
        {
          "output_type": "stream",
          "text": [
            "2021-04-08 14:00:01,011 Previous dataset split restored\n"
          ],
          "name": "stderr"
        },
        {
          "output_type": "stream",
          "text": [
            "n_cnt [5081.]\n",
            "y_means [7.00554977]\n",
            "y_stds [1.25378881]\n",
            "TIMING: dataset construction took 0.225 s\n",
            "Loading dataset from disk.\n",
            "TIMING: dataset construction took 0.032 s\n",
            "Loading dataset from disk.\n",
            "TIMING: dataset construction took 0.032 s\n",
            "Loading dataset from disk.\n"
          ],
          "name": "stdout"
        },
        {
          "output_type": "stream",
          "text": [
            "2021-04-08 14:00:18,167 Wrote model metadata to file ampl_output/curated_combined_df_1/RF_ecfp_scaffold_regression/1816a71c-ba61-47fe-8bea-8f78af14c014/model_metadata.json\n",
            "2021-04-08 14:00:19,976 Wrote model metrics to file ampl_output/curated_combined_df_1/RF_ecfp_scaffold_regression/1816a71c-ba61-47fe-8bea-8f78af14c014/model_metrics.json\n"
          ],
          "name": "stderr"
        },
        {
          "output_type": "stream",
          "text": [
            "Wrote model tarball to ampl_output/curated_combined_df_1_model_1816a71c-ba61-47fe-8bea-8f78af14c014.tar.gz\n"
          ],
          "name": "stdout"
        }
      ]
    },
    {
      "cell_type": "code",
      "metadata": {
        "colab": {
          "base_uri": "https://localhost:8080/"
        },
        "id": "6TtP2X_fADsm",
        "outputId": "df0f74b8-38d2-456b-879e-be5fddfab389"
      },
      "source": [
        "pred_data = pl.model_wrapper.get_perf_data(subset=\"valid\", epoch_label=\"best\")\n",
        "pred_results = pred_data.get_prediction_results()\n",
        "print(f\"R2 score of validation set: {pred_results['r2_score']:.3f}\")"
      ],
      "execution_count": null,
      "outputs": [
        {
          "output_type": "stream",
          "text": [
            "R2 score of validation set: 0.534\n"
          ],
          "name": "stdout"
        }
      ]
    },
    {
      "cell_type": "code",
      "metadata": {
        "colab": {
          "base_uri": "https://localhost:8080/"
        },
        "id": "cG5jUZdV8QiQ",
        "outputId": "215f4982-89ec-40e1-a0f3-7d117cf1bd4c"
      },
      "source": [
        "pred_data = pl.model_wrapper.get_perf_data(subset=\"full\", epoch_label=\"best\")\n",
        "pred_results = pred_data.get_prediction_results()\n",
        "print(f\"R2 score of test set: {pred_results['r2_score']:.3f}\")"
      ],
      "execution_count": null,
      "outputs": [
        {
          "output_type": "stream",
          "text": [
            "R2 score of test set: -30.143\n"
          ],
          "name": "stdout"
        }
      ]
    },
    {
      "cell_type": "code",
      "metadata": {
        "id": "QXR6rEoZDyIc"
      },
      "source": [
        "# Adding uncertainty to base training model\n",
        "# The glob module finds all the pathnames matching a specified pattern according to the rules\n",
        "listing = glob.glob(os.path.join(\"/\", \"curated_combined_df_1_train_valid_test_scaffold_*\"))\n",
        "name = listing[0]\n",
        "split_uuid = name.split(\"_\")[-1].split(\".\")[0]\n",
        "response_col = \"VALUE_NUM_mean\"\n",
        "\n",
        "params = {\n",
        "        \"system\": \"LC\",\n",
        "        \"lc_account\": 'None',\n",
        "        \"datastore\": \"False\",\n",
        "        \"save_results\": \"False\",\n",
        "        \"data_owner\": \"username\",\n",
        "        \"prediction_type\": \"regression\",\n",
        "        \"dataset_key\": train_file,\n",
        "        \"id_col\": compound_id,\n",
        "        \"smiles_col\": smiles_col,\n",
        "        \"response_cols\": response_col,\n",
        "        \"split_uuid\": split_uuid,\n",
        "        \"previously_split\": \"True\",\n",
        "        \"featurizer\": \"ecfp\",\n",
        "        \"model_type\": \"RF\",       #Random forest\n",
        "        \"verbose\": \"True\",\n",
        "        \"transformers\": \"True\",\n",
        "        'max_epochs': '70',      # Maximum number of training epochs to run for DNN models. Default 30.\n",
        "        \"rerun\": \"False\",\n",
        "        \"result_dir\": \"ampl_output\",\n",
        "        \"uncertainty\": \"True\"  # Boolean flag for computing uncertainty estimates for regression model predictions. \n",
        "    }"
      ],
      "execution_count": null,
      "outputs": []
    },
    {
      "cell_type": "code",
      "metadata": {
        "colab": {
          "base_uri": "https://localhost:8080/"
        },
        "id": "2qRpTeA3EfLi",
        "outputId": "1a90a34e-33fa-47fd-fbed-8f7d2762d190"
      },
      "source": [
        "ampl_param = parse.wrapper(params)\n",
        "pl = mp.ModelPipeline(ampl_param)\n",
        "pl.train_model()"
      ],
      "execution_count": null,
      "outputs": [
        {
          "output_type": "stream",
          "text": [
            "number of features: 1024\n"
          ],
          "name": "stdout"
        },
        {
          "output_type": "stream",
          "text": [
            "2021-04-08 14:02:20,662 Previous dataset split restored\n"
          ],
          "name": "stderr"
        },
        {
          "output_type": "stream",
          "text": [
            "n_cnt [5081.]\n",
            "y_means [7.00554977]\n",
            "y_stds [1.25378881]\n",
            "TIMING: dataset construction took 0.225 s\n",
            "Loading dataset from disk.\n",
            "TIMING: dataset construction took 0.034 s\n",
            "Loading dataset from disk.\n",
            "TIMING: dataset construction took 0.033 s\n",
            "Loading dataset from disk.\n"
          ],
          "name": "stdout"
        },
        {
          "output_type": "stream",
          "text": [
            "2021-04-08 14:02:38,113 Wrote model metadata to file ampl_output/curated_combined_df_1/RF_ecfp_scaffold_regression/1fa3f82c-2fc0-4f39-b5db-0e1e5718ca1b/model_metadata.json\n",
            "2021-04-08 14:02:39,921 Wrote model metrics to file ampl_output/curated_combined_df_1/RF_ecfp_scaffold_regression/1fa3f82c-2fc0-4f39-b5db-0e1e5718ca1b/model_metrics.json\n"
          ],
          "name": "stderr"
        },
        {
          "output_type": "stream",
          "text": [
            "Wrote model tarball to ampl_output/curated_combined_df_1_model_1fa3f82c-2fc0-4f39-b5db-0e1e5718ca1b.tar.gz\n"
          ],
          "name": "stdout"
        }
      ]
    },
    {
      "cell_type": "code",
      "metadata": {
        "colab": {
          "base_uri": "https://localhost:8080/"
        },
        "id": "i4YybPIaEynO",
        "outputId": "f48e1669-a515-4f74-822a-4e36728e5221"
      },
      "source": [
        "pred_data = pl.model_wrapper.get_perf_data(subset=\"valid\", epoch_label=\"best\")\n",
        "pred_results = pred_data.get_prediction_results()\n",
        "print(f\"R2 score of validation set: {pred_results['r2_score']:.3f}\")"
      ],
      "execution_count": null,
      "outputs": [
        {
          "output_type": "stream",
          "text": [
            "R2 score of validation set: 0.535\n"
          ],
          "name": "stdout"
        }
      ]
    },
    {
      "cell_type": "markdown",
      "metadata": {
        "id": "hvAO1jeHJYWT"
      },
      "source": [
        "# Grid Search 1"
      ]
    },
    {
      "cell_type": "code",
      "metadata": {
        "id": "0v8tjKgnJXI3",
        "colab": {
          "base_uri": "https://localhost:8080/"
        },
        "outputId": "95107764-12d5-4d14-db44-26f0abd923eb"
      },
      "source": [
        "n_estimator = [100,200,300,400,500]\n",
        "rf_max_depth = [8,25,70,150,250]\n",
        "rf_max_features = [10,25,30,50,100]\n",
        "\n",
        "\n",
        "rfe_list = []\n",
        "rfd_list = []\n",
        "rff_list = []\n",
        "valid_r2_list = []\n",
        "for rf_estimator in n_estimator:\n",
        "    for rf_depth in rf_max_depth:\n",
        "        for rf_feature in rf_max_features:\n",
        "            params[\"rf_estimators\"] = rf_estimator\n",
        "            params[\"rf_max_depth\"] = rf_depth\n",
        "            params[\"rf_max_features\"] = rf_feature\n",
        "            rfe_list.append(rf_estimator)\n",
        "            rfd_list.append(rf_depth)\n",
        "            rff_list.append(rf_feature)\n",
        "            tp = parse.wrapper(params)\n",
        "            pl = mp.ModelPipeline(tp)\n",
        "            pl.train_model()\n",
        "            pred_data = pl.model_wrapper.get_perf_data(subset=\"valid\", epoch_label=\"best\")\n",
        "            pred_results = pred_data.get_prediction_results()\n",
        "            valid_r2 = pred_results['r2_score']\n",
        "            valid_r2_list.append(valid_r2)\n",
        "            print(f\"rf_estimators: {rf_estimator}, rf_max_depth: {rf_depth}, rf_max_features: {rf_feature}, valid_r2: {valid_r2}\")"
      ],
      "execution_count": null,
      "outputs": [
        {
          "output_type": "stream",
          "text": [
            "number of features: 1024\n"
          ],
          "name": "stdout"
        },
        {
          "output_type": "stream",
          "text": [
            "2021-04-08 14:03:14,181 Previous dataset split restored\n"
          ],
          "name": "stderr"
        },
        {
          "output_type": "stream",
          "text": [
            "n_cnt [5081.]\n",
            "y_means [7.00554977]\n",
            "y_stds [1.25378881]\n",
            "TIMING: dataset construction took 0.227 s\n",
            "Loading dataset from disk.\n",
            "TIMING: dataset construction took 0.032 s\n",
            "Loading dataset from disk.\n",
            "TIMING: dataset construction took 0.031 s\n",
            "Loading dataset from disk.\n"
          ],
          "name": "stdout"
        },
        {
          "output_type": "stream",
          "text": [
            "2021-04-08 14:03:16,694 Wrote model metadata to file ampl_output/curated_combined_df_1/RF_ecfp_scaffold_regression/c5868054-098b-4598-b0e9-1a00a524e8fc/model_metadata.json\n",
            "2021-04-08 14:03:16,721 Wrote model metrics to file ampl_output/curated_combined_df_1/RF_ecfp_scaffold_regression/c5868054-098b-4598-b0e9-1a00a524e8fc/model_metrics.json\n"
          ],
          "name": "stderr"
        },
        {
          "output_type": "stream",
          "text": [
            "Wrote model tarball to ampl_output/curated_combined_df_1_model_c5868054-098b-4598-b0e9-1a00a524e8fc.tar.gz\n",
            "rf_estimators: 100, rf_max_depth: 8, rf_max_features: 10, valid_r2: 0.21136076526791425\n",
            "number of features: 1024\n"
          ],
          "name": "stdout"
        },
        {
          "output_type": "stream",
          "text": [
            "2021-04-08 14:03:49,035 Previous dataset split restored\n"
          ],
          "name": "stderr"
        },
        {
          "output_type": "stream",
          "text": [
            "n_cnt [5081.]\n",
            "y_means [7.00554977]\n",
            "y_stds [1.25378881]\n",
            "TIMING: dataset construction took 0.240 s\n",
            "Loading dataset from disk.\n",
            "TIMING: dataset construction took 0.036 s\n",
            "Loading dataset from disk.\n",
            "TIMING: dataset construction took 0.035 s\n",
            "Loading dataset from disk.\n"
          ],
          "name": "stdout"
        },
        {
          "output_type": "stream",
          "text": [
            "2021-04-08 14:03:51,663 Wrote model metadata to file ampl_output/curated_combined_df_1/RF_ecfp_scaffold_regression/8acae66c-65e9-47e7-b518-13970944c930/model_metadata.json\n",
            "2021-04-08 14:03:51,697 Wrote model metrics to file ampl_output/curated_combined_df_1/RF_ecfp_scaffold_regression/8acae66c-65e9-47e7-b518-13970944c930/model_metrics.json\n"
          ],
          "name": "stderr"
        },
        {
          "output_type": "stream",
          "text": [
            "Wrote model tarball to ampl_output/curated_combined_df_1_model_8acae66c-65e9-47e7-b518-13970944c930.tar.gz\n",
            "rf_estimators: 100, rf_max_depth: 8, rf_max_features: 25, valid_r2: 0.29852621575328364\n",
            "number of features: 1024\n"
          ],
          "name": "stdout"
        },
        {
          "output_type": "stream",
          "text": [
            "2021-04-08 14:04:24,050 Previous dataset split restored\n"
          ],
          "name": "stderr"
        },
        {
          "output_type": "stream",
          "text": [
            "n_cnt [5081.]\n",
            "y_means [7.00554977]\n",
            "y_stds [1.25378881]\n",
            "TIMING: dataset construction took 0.225 s\n",
            "Loading dataset from disk.\n",
            "TIMING: dataset construction took 0.032 s\n",
            "Loading dataset from disk.\n",
            "TIMING: dataset construction took 0.032 s\n",
            "Loading dataset from disk.\n"
          ],
          "name": "stdout"
        },
        {
          "output_type": "stream",
          "text": [
            "2021-04-08 14:04:26,859 Wrote model metadata to file ampl_output/curated_combined_df_1/RF_ecfp_scaffold_regression/a6b4ba1a-98a7-4641-ac18-7b0390165076/model_metadata.json\n",
            "2021-04-08 14:04:26,888 Wrote model metrics to file ampl_output/curated_combined_df_1/RF_ecfp_scaffold_regression/a6b4ba1a-98a7-4641-ac18-7b0390165076/model_metrics.json\n"
          ],
          "name": "stderr"
        },
        {
          "output_type": "stream",
          "text": [
            "Wrote model tarball to ampl_output/curated_combined_df_1_model_a6b4ba1a-98a7-4641-ac18-7b0390165076.tar.gz\n",
            "rf_estimators: 100, rf_max_depth: 8, rf_max_features: 30, valid_r2: 0.3152237387413155\n",
            "number of features: 1024\n"
          ],
          "name": "stdout"
        },
        {
          "output_type": "stream",
          "text": [
            "2021-04-08 14:04:59,091 Previous dataset split restored\n"
          ],
          "name": "stderr"
        },
        {
          "output_type": "stream",
          "text": [
            "n_cnt [5081.]\n",
            "y_means [7.00554977]\n",
            "y_stds [1.25378881]\n",
            "TIMING: dataset construction took 0.234 s\n",
            "Loading dataset from disk.\n",
            "TIMING: dataset construction took 0.033 s\n",
            "Loading dataset from disk.\n",
            "TIMING: dataset construction took 0.031 s\n",
            "Loading dataset from disk.\n"
          ],
          "name": "stdout"
        },
        {
          "output_type": "stream",
          "text": [
            "2021-04-08 14:05:02,123 Wrote model metadata to file ampl_output/curated_combined_df_1/RF_ecfp_scaffold_regression/6cfdea6b-53d1-47ed-9ab2-4f40552b03d7/model_metadata.json\n",
            "2021-04-08 14:05:02,154 Wrote model metrics to file ampl_output/curated_combined_df_1/RF_ecfp_scaffold_regression/6cfdea6b-53d1-47ed-9ab2-4f40552b03d7/model_metrics.json\n"
          ],
          "name": "stderr"
        },
        {
          "output_type": "stream",
          "text": [
            "Wrote model tarball to ampl_output/curated_combined_df_1_model_6cfdea6b-53d1-47ed-9ab2-4f40552b03d7.tar.gz\n",
            "rf_estimators: 100, rf_max_depth: 8, rf_max_features: 50, valid_r2: 0.33591739803148346\n",
            "number of features: 1024\n"
          ],
          "name": "stdout"
        },
        {
          "output_type": "stream",
          "text": [
            "2021-04-08 14:05:34,434 Previous dataset split restored\n"
          ],
          "name": "stderr"
        },
        {
          "output_type": "stream",
          "text": [
            "n_cnt [5081.]\n",
            "y_means [7.00554977]\n",
            "y_stds [1.25378881]\n",
            "TIMING: dataset construction took 0.228 s\n",
            "Loading dataset from disk.\n",
            "TIMING: dataset construction took 0.033 s\n",
            "Loading dataset from disk.\n",
            "TIMING: dataset construction took 0.032 s\n",
            "Loading dataset from disk.\n"
          ],
          "name": "stdout"
        },
        {
          "output_type": "stream",
          "text": [
            "2021-04-08 14:05:37,767 Wrote model metadata to file ampl_output/curated_combined_df_1/RF_ecfp_scaffold_regression/4c3ec61c-a766-4a1b-8554-29169324bb82/model_metadata.json\n",
            "2021-04-08 14:05:37,798 Wrote model metrics to file ampl_output/curated_combined_df_1/RF_ecfp_scaffold_regression/4c3ec61c-a766-4a1b-8554-29169324bb82/model_metrics.json\n"
          ],
          "name": "stderr"
        },
        {
          "output_type": "stream",
          "text": [
            "Wrote model tarball to ampl_output/curated_combined_df_1_model_4c3ec61c-a766-4a1b-8554-29169324bb82.tar.gz\n",
            "rf_estimators: 100, rf_max_depth: 8, rf_max_features: 100, valid_r2: 0.38431150427231997\n",
            "number of features: 1024\n"
          ],
          "name": "stdout"
        },
        {
          "output_type": "stream",
          "text": [
            "2021-04-08 14:06:10,051 Previous dataset split restored\n"
          ],
          "name": "stderr"
        },
        {
          "output_type": "stream",
          "text": [
            "n_cnt [5081.]\n",
            "y_means [7.00554977]\n",
            "y_stds [1.25378881]\n",
            "TIMING: dataset construction took 0.222 s\n",
            "Loading dataset from disk.\n",
            "TIMING: dataset construction took 0.033 s\n",
            "Loading dataset from disk.\n",
            "TIMING: dataset construction took 0.033 s\n",
            "Loading dataset from disk.\n"
          ],
          "name": "stdout"
        },
        {
          "output_type": "stream",
          "text": [
            "2021-04-08 14:06:13,505 Wrote model metadata to file ampl_output/curated_combined_df_1/RF_ecfp_scaffold_regression/5173fa43-1d04-44d6-856c-a28a3fee516d/model_metadata.json\n",
            "2021-04-08 14:06:13,711 Wrote model metrics to file ampl_output/curated_combined_df_1/RF_ecfp_scaffold_regression/5173fa43-1d04-44d6-856c-a28a3fee516d/model_metrics.json\n"
          ],
          "name": "stderr"
        },
        {
          "output_type": "stream",
          "text": [
            "Wrote model tarball to ampl_output/curated_combined_df_1_model_5173fa43-1d04-44d6-856c-a28a3fee516d.tar.gz\n",
            "rf_estimators: 100, rf_max_depth: 25, rf_max_features: 10, valid_r2: 0.46734885512565183\n",
            "number of features: 1024\n"
          ],
          "name": "stdout"
        },
        {
          "output_type": "stream",
          "text": [
            "2021-04-08 14:06:45,987 Previous dataset split restored\n"
          ],
          "name": "stderr"
        },
        {
          "output_type": "stream",
          "text": [
            "n_cnt [5081.]\n",
            "y_means [7.00554977]\n",
            "y_stds [1.25378881]\n",
            "TIMING: dataset construction took 0.227 s\n",
            "Loading dataset from disk.\n",
            "TIMING: dataset construction took 0.034 s\n",
            "Loading dataset from disk.\n",
            "TIMING: dataset construction took 0.031 s\n",
            "Loading dataset from disk.\n"
          ],
          "name": "stdout"
        },
        {
          "output_type": "stream",
          "text": [
            "2021-04-08 14:06:49,993 Wrote model metadata to file ampl_output/curated_combined_df_1/RF_ecfp_scaffold_regression/ca2c4a31-26ec-4aac-a45b-6346184c310b/model_metadata.json\n",
            "2021-04-08 14:06:50,233 Wrote model metrics to file ampl_output/curated_combined_df_1/RF_ecfp_scaffold_regression/ca2c4a31-26ec-4aac-a45b-6346184c310b/model_metrics.json\n"
          ],
          "name": "stderr"
        },
        {
          "output_type": "stream",
          "text": [
            "Wrote model tarball to ampl_output/curated_combined_df_1_model_ca2c4a31-26ec-4aac-a45b-6346184c310b.tar.gz\n",
            "rf_estimators: 100, rf_max_depth: 25, rf_max_features: 25, valid_r2: 0.5154868835924883\n",
            "number of features: 1024\n"
          ],
          "name": "stdout"
        },
        {
          "output_type": "stream",
          "text": [
            "2021-04-08 14:07:22,382 Previous dataset split restored\n"
          ],
          "name": "stderr"
        },
        {
          "output_type": "stream",
          "text": [
            "n_cnt [5081.]\n",
            "y_means [7.00554977]\n",
            "y_stds [1.25378881]\n",
            "TIMING: dataset construction took 0.234 s\n",
            "Loading dataset from disk.\n",
            "TIMING: dataset construction took 0.033 s\n",
            "Loading dataset from disk.\n",
            "TIMING: dataset construction took 0.031 s\n",
            "Loading dataset from disk.\n"
          ],
          "name": "stdout"
        },
        {
          "output_type": "stream",
          "text": [
            "2021-04-08 14:07:26,520 Wrote model metadata to file ampl_output/curated_combined_df_1/RF_ecfp_scaffold_regression/575769ec-db4f-4a54-bb0c-d6b373386ed0/model_metadata.json\n",
            "2021-04-08 14:07:26,761 Wrote model metrics to file ampl_output/curated_combined_df_1/RF_ecfp_scaffold_regression/575769ec-db4f-4a54-bb0c-d6b373386ed0/model_metrics.json\n"
          ],
          "name": "stderr"
        },
        {
          "output_type": "stream",
          "text": [
            "Wrote model tarball to ampl_output/curated_combined_df_1_model_575769ec-db4f-4a54-bb0c-d6b373386ed0.tar.gz\n",
            "rf_estimators: 100, rf_max_depth: 25, rf_max_features: 30, valid_r2: 0.5203151925405605\n",
            "number of features: 1024\n"
          ],
          "name": "stdout"
        },
        {
          "output_type": "stream",
          "text": [
            "2021-04-08 14:07:58,920 Previous dataset split restored\n"
          ],
          "name": "stderr"
        },
        {
          "output_type": "stream",
          "text": [
            "n_cnt [5081.]\n",
            "y_means [7.00554977]\n",
            "y_stds [1.25378881]\n",
            "TIMING: dataset construction took 0.236 s\n",
            "Loading dataset from disk.\n",
            "TIMING: dataset construction took 0.034 s\n",
            "Loading dataset from disk.\n",
            "TIMING: dataset construction took 0.032 s\n",
            "Loading dataset from disk.\n"
          ],
          "name": "stdout"
        },
        {
          "output_type": "stream",
          "text": [
            "2021-04-08 14:08:03,563 Wrote model metadata to file ampl_output/curated_combined_df_1/RF_ecfp_scaffold_regression/a3ca879c-b6c4-482c-8625-e014a838c9ba/model_metadata.json\n",
            "2021-04-08 14:08:03,816 Wrote model metrics to file ampl_output/curated_combined_df_1/RF_ecfp_scaffold_regression/a3ca879c-b6c4-482c-8625-e014a838c9ba/model_metrics.json\n"
          ],
          "name": "stderr"
        },
        {
          "output_type": "stream",
          "text": [
            "Wrote model tarball to ampl_output/curated_combined_df_1_model_a3ca879c-b6c4-482c-8625-e014a838c9ba.tar.gz\n",
            "rf_estimators: 100, rf_max_depth: 25, rf_max_features: 50, valid_r2: 0.5191797396513729\n",
            "number of features: 1024\n"
          ],
          "name": "stdout"
        },
        {
          "output_type": "stream",
          "text": [
            "2021-04-08 14:08:36,148 Previous dataset split restored\n"
          ],
          "name": "stderr"
        },
        {
          "output_type": "stream",
          "text": [
            "n_cnt [5081.]\n",
            "y_means [7.00554977]\n",
            "y_stds [1.25378881]\n",
            "TIMING: dataset construction took 0.227 s\n",
            "Loading dataset from disk.\n",
            "TIMING: dataset construction took 0.033 s\n",
            "Loading dataset from disk.\n",
            "TIMING: dataset construction took 0.031 s\n",
            "Loading dataset from disk.\n"
          ],
          "name": "stdout"
        },
        {
          "output_type": "stream",
          "text": [
            "2021-04-08 14:08:41,890 Wrote model metadata to file ampl_output/curated_combined_df_1/RF_ecfp_scaffold_regression/80987f52-2c10-4952-8602-b8de08195512/model_metadata.json\n",
            "2021-04-08 14:08:42,152 Wrote model metrics to file ampl_output/curated_combined_df_1/RF_ecfp_scaffold_regression/80987f52-2c10-4952-8602-b8de08195512/model_metrics.json\n"
          ],
          "name": "stderr"
        },
        {
          "output_type": "stream",
          "text": [
            "Wrote model tarball to ampl_output/curated_combined_df_1_model_80987f52-2c10-4952-8602-b8de08195512.tar.gz\n",
            "rf_estimators: 100, rf_max_depth: 25, rf_max_features: 100, valid_r2: 0.5377679782474634\n",
            "number of features: 1024\n"
          ],
          "name": "stdout"
        },
        {
          "output_type": "stream",
          "text": [
            "2021-04-08 14:09:14,428 Previous dataset split restored\n"
          ],
          "name": "stderr"
        },
        {
          "output_type": "stream",
          "text": [
            "n_cnt [5081.]\n",
            "y_means [7.00554977]\n",
            "y_stds [1.25378881]\n",
            "TIMING: dataset construction took 0.224 s\n",
            "Loading dataset from disk.\n",
            "TIMING: dataset construction took 0.033 s\n",
            "Loading dataset from disk.\n",
            "TIMING: dataset construction took 0.032 s\n",
            "Loading dataset from disk.\n"
          ],
          "name": "stdout"
        },
        {
          "output_type": "stream",
          "text": [
            "2021-04-08 14:09:18,853 Wrote model metadata to file ampl_output/curated_combined_df_1/RF_ecfp_scaffold_regression/f1cae51c-d5b8-480e-af20-1ce4a562eb96/model_metadata.json\n",
            "2021-04-08 14:09:19,216 Wrote model metrics to file ampl_output/curated_combined_df_1/RF_ecfp_scaffold_regression/f1cae51c-d5b8-480e-af20-1ce4a562eb96/model_metrics.json\n"
          ],
          "name": "stderr"
        },
        {
          "output_type": "stream",
          "text": [
            "Wrote model tarball to ampl_output/curated_combined_df_1_model_f1cae51c-d5b8-480e-af20-1ce4a562eb96.tar.gz\n",
            "rf_estimators: 100, rf_max_depth: 70, rf_max_features: 10, valid_r2: 0.5231716689963675\n",
            "number of features: 1024\n"
          ],
          "name": "stdout"
        },
        {
          "output_type": "stream",
          "text": [
            "2021-04-08 14:09:51,404 Previous dataset split restored\n"
          ],
          "name": "stderr"
        },
        {
          "output_type": "stream",
          "text": [
            "n_cnt [5081.]\n",
            "y_means [7.00554977]\n",
            "y_stds [1.25378881]\n",
            "TIMING: dataset construction took 0.229 s\n",
            "Loading dataset from disk.\n",
            "TIMING: dataset construction took 0.033 s\n",
            "Loading dataset from disk.\n",
            "TIMING: dataset construction took 0.032 s\n",
            "Loading dataset from disk.\n"
          ],
          "name": "stdout"
        },
        {
          "output_type": "stream",
          "text": [
            "2021-04-08 14:09:56,241 Wrote model metadata to file ampl_output/curated_combined_df_1/RF_ecfp_scaffold_regression/58090cc4-db0e-484d-8edf-149b3a311c2f/model_metadata.json\n",
            "2021-04-08 14:09:56,604 Wrote model metrics to file ampl_output/curated_combined_df_1/RF_ecfp_scaffold_regression/58090cc4-db0e-484d-8edf-149b3a311c2f/model_metrics.json\n"
          ],
          "name": "stderr"
        },
        {
          "output_type": "stream",
          "text": [
            "Wrote model tarball to ampl_output/curated_combined_df_1_model_58090cc4-db0e-484d-8edf-149b3a311c2f.tar.gz\n",
            "rf_estimators: 100, rf_max_depth: 70, rf_max_features: 25, valid_r2: 0.5413860172315625\n",
            "number of features: 1024\n"
          ],
          "name": "stdout"
        },
        {
          "output_type": "stream",
          "text": [
            "2021-04-08 14:10:28,786 Previous dataset split restored\n"
          ],
          "name": "stderr"
        },
        {
          "output_type": "stream",
          "text": [
            "n_cnt [5081.]\n",
            "y_means [7.00554977]\n",
            "y_stds [1.25378881]\n",
            "TIMING: dataset construction took 0.223 s\n",
            "Loading dataset from disk.\n",
            "TIMING: dataset construction took 0.035 s\n",
            "Loading dataset from disk.\n",
            "TIMING: dataset construction took 0.032 s\n",
            "Loading dataset from disk.\n"
          ],
          "name": "stdout"
        },
        {
          "output_type": "stream",
          "text": [
            "2021-04-08 14:10:33,681 Wrote model metadata to file ampl_output/curated_combined_df_1/RF_ecfp_scaffold_regression/c6f1c23e-4876-4ac2-96f8-0001c73a87b9/model_metadata.json\n",
            "2021-04-08 14:10:34,043 Wrote model metrics to file ampl_output/curated_combined_df_1/RF_ecfp_scaffold_regression/c6f1c23e-4876-4ac2-96f8-0001c73a87b9/model_metrics.json\n"
          ],
          "name": "stderr"
        },
        {
          "output_type": "stream",
          "text": [
            "Wrote model tarball to ampl_output/curated_combined_df_1_model_c6f1c23e-4876-4ac2-96f8-0001c73a87b9.tar.gz\n",
            "rf_estimators: 100, rf_max_depth: 70, rf_max_features: 30, valid_r2: 0.5220594518729342\n",
            "number of features: 1024\n"
          ],
          "name": "stdout"
        },
        {
          "output_type": "stream",
          "text": [
            "2021-04-08 14:11:06,290 Previous dataset split restored\n"
          ],
          "name": "stderr"
        },
        {
          "output_type": "stream",
          "text": [
            "n_cnt [5081.]\n",
            "y_means [7.00554977]\n",
            "y_stds [1.25378881]\n",
            "TIMING: dataset construction took 0.225 s\n",
            "Loading dataset from disk.\n",
            "TIMING: dataset construction took 0.033 s\n",
            "Loading dataset from disk.\n",
            "TIMING: dataset construction took 0.031 s\n",
            "Loading dataset from disk.\n"
          ],
          "name": "stdout"
        },
        {
          "output_type": "stream",
          "text": [
            "2021-04-08 14:11:11,705 Wrote model metadata to file ampl_output/curated_combined_df_1/RF_ecfp_scaffold_regression/6b6acd0a-d76b-4555-b55c-bf5fabe7a620/model_metadata.json\n",
            "2021-04-08 14:11:12,067 Wrote model metrics to file ampl_output/curated_combined_df_1/RF_ecfp_scaffold_regression/6b6acd0a-d76b-4555-b55c-bf5fabe7a620/model_metrics.json\n"
          ],
          "name": "stderr"
        },
        {
          "output_type": "stream",
          "text": [
            "Wrote model tarball to ampl_output/curated_combined_df_1_model_6b6acd0a-d76b-4555-b55c-bf5fabe7a620.tar.gz\n",
            "rf_estimators: 100, rf_max_depth: 70, rf_max_features: 50, valid_r2: 0.5310534838138359\n",
            "number of features: 1024\n"
          ],
          "name": "stdout"
        },
        {
          "output_type": "stream",
          "text": [
            "2021-04-08 14:11:44,324 Previous dataset split restored\n"
          ],
          "name": "stderr"
        },
        {
          "output_type": "stream",
          "text": [
            "n_cnt [5081.]\n",
            "y_means [7.00554977]\n",
            "y_stds [1.25378881]\n",
            "TIMING: dataset construction took 0.231 s\n",
            "Loading dataset from disk.\n",
            "TIMING: dataset construction took 0.033 s\n",
            "Loading dataset from disk.\n",
            "TIMING: dataset construction took 0.031 s\n",
            "Loading dataset from disk.\n"
          ],
          "name": "stdout"
        },
        {
          "output_type": "stream",
          "text": [
            "2021-04-08 14:11:50,933 Wrote model metadata to file ampl_output/curated_combined_df_1/RF_ecfp_scaffold_regression/e0b2d82b-e991-40a8-9f48-9a0ae52d0924/model_metadata.json\n",
            "2021-04-08 14:11:51,295 Wrote model metrics to file ampl_output/curated_combined_df_1/RF_ecfp_scaffold_regression/e0b2d82b-e991-40a8-9f48-9a0ae52d0924/model_metrics.json\n"
          ],
          "name": "stderr"
        },
        {
          "output_type": "stream",
          "text": [
            "Wrote model tarball to ampl_output/curated_combined_df_1_model_e0b2d82b-e991-40a8-9f48-9a0ae52d0924.tar.gz\n",
            "rf_estimators: 100, rf_max_depth: 70, rf_max_features: 100, valid_r2: 0.5320180627870312\n",
            "number of features: 1024\n"
          ],
          "name": "stdout"
        },
        {
          "output_type": "stream",
          "text": [
            "2021-04-08 14:12:23,452 Previous dataset split restored\n"
          ],
          "name": "stderr"
        },
        {
          "output_type": "stream",
          "text": [
            "n_cnt [5081.]\n",
            "y_means [7.00554977]\n",
            "y_stds [1.25378881]\n",
            "TIMING: dataset construction took 0.226 s\n",
            "Loading dataset from disk.\n",
            "TIMING: dataset construction took 0.033 s\n",
            "Loading dataset from disk.\n",
            "TIMING: dataset construction took 0.031 s\n",
            "Loading dataset from disk.\n"
          ],
          "name": "stdout"
        },
        {
          "output_type": "stream",
          "text": [
            "2021-04-08 14:12:27,862 Wrote model metadata to file ampl_output/curated_combined_df_1/RF_ecfp_scaffold_regression/778f8f0c-4a2e-4210-aeda-bd81e1701d8c/model_metadata.json\n",
            "2021-04-08 14:12:28,233 Wrote model metrics to file ampl_output/curated_combined_df_1/RF_ecfp_scaffold_regression/778f8f0c-4a2e-4210-aeda-bd81e1701d8c/model_metrics.json\n"
          ],
          "name": "stderr"
        },
        {
          "output_type": "stream",
          "text": [
            "Wrote model tarball to ampl_output/curated_combined_df_1_model_778f8f0c-4a2e-4210-aeda-bd81e1701d8c.tar.gz\n",
            "rf_estimators: 100, rf_max_depth: 150, rf_max_features: 10, valid_r2: 0.5174200282015717\n",
            "number of features: 1024\n"
          ],
          "name": "stdout"
        },
        {
          "output_type": "stream",
          "text": [
            "2021-04-08 14:13:00,309 Previous dataset split restored\n"
          ],
          "name": "stderr"
        },
        {
          "output_type": "stream",
          "text": [
            "n_cnt [5081.]\n",
            "y_means [7.00554977]\n",
            "y_stds [1.25378881]\n",
            "TIMING: dataset construction took 0.225 s\n",
            "Loading dataset from disk.\n",
            "TIMING: dataset construction took 0.037 s\n",
            "Loading dataset from disk.\n",
            "TIMING: dataset construction took 0.031 s\n",
            "Loading dataset from disk.\n"
          ],
          "name": "stdout"
        },
        {
          "output_type": "stream",
          "text": [
            "2021-04-08 14:13:05,091 Wrote model metadata to file ampl_output/curated_combined_df_1/RF_ecfp_scaffold_regression/8c82ab0e-eed3-428c-9c3c-8e7d3adcd728/model_metadata.json\n",
            "2021-04-08 14:13:05,469 Wrote model metrics to file ampl_output/curated_combined_df_1/RF_ecfp_scaffold_regression/8c82ab0e-eed3-428c-9c3c-8e7d3adcd728/model_metrics.json\n"
          ],
          "name": "stderr"
        },
        {
          "output_type": "stream",
          "text": [
            "Wrote model tarball to ampl_output/curated_combined_df_1_model_8c82ab0e-eed3-428c-9c3c-8e7d3adcd728.tar.gz\n",
            "rf_estimators: 100, rf_max_depth: 150, rf_max_features: 25, valid_r2: 0.5241957166020412\n",
            "number of features: 1024\n"
          ],
          "name": "stdout"
        },
        {
          "output_type": "stream",
          "text": [
            "2021-04-08 14:13:37,708 Previous dataset split restored\n"
          ],
          "name": "stderr"
        },
        {
          "output_type": "stream",
          "text": [
            "n_cnt [5081.]\n",
            "y_means [7.00554977]\n",
            "y_stds [1.25378881]\n",
            "TIMING: dataset construction took 0.222 s\n",
            "Loading dataset from disk.\n",
            "TIMING: dataset construction took 0.034 s\n",
            "Loading dataset from disk.\n",
            "TIMING: dataset construction took 0.032 s\n",
            "Loading dataset from disk.\n"
          ],
          "name": "stdout"
        },
        {
          "output_type": "stream",
          "text": [
            "2021-04-08 14:13:42,586 Wrote model metadata to file ampl_output/curated_combined_df_1/RF_ecfp_scaffold_regression/dbbc8ac0-1178-479d-ab53-af8cfe9b5b4f/model_metadata.json\n",
            "2021-04-08 14:13:42,949 Wrote model metrics to file ampl_output/curated_combined_df_1/RF_ecfp_scaffold_regression/dbbc8ac0-1178-479d-ab53-af8cfe9b5b4f/model_metrics.json\n"
          ],
          "name": "stderr"
        },
        {
          "output_type": "stream",
          "text": [
            "Wrote model tarball to ampl_output/curated_combined_df_1_model_dbbc8ac0-1178-479d-ab53-af8cfe9b5b4f.tar.gz\n",
            "rf_estimators: 100, rf_max_depth: 150, rf_max_features: 30, valid_r2: 0.5424735502846627\n",
            "number of features: 1024\n"
          ],
          "name": "stdout"
        },
        {
          "output_type": "stream",
          "text": [
            "2021-04-08 14:14:15,072 Previous dataset split restored\n"
          ],
          "name": "stderr"
        },
        {
          "output_type": "stream",
          "text": [
            "n_cnt [5081.]\n",
            "y_means [7.00554977]\n",
            "y_stds [1.25378881]\n",
            "TIMING: dataset construction took 0.227 s\n",
            "Loading dataset from disk.\n",
            "TIMING: dataset construction took 0.033 s\n",
            "Loading dataset from disk.\n",
            "TIMING: dataset construction took 0.031 s\n",
            "Loading dataset from disk.\n"
          ],
          "name": "stdout"
        },
        {
          "output_type": "stream",
          "text": [
            "2021-04-08 14:14:20,541 Wrote model metadata to file ampl_output/curated_combined_df_1/RF_ecfp_scaffold_regression/55c7a257-dc79-41ce-a811-71321e404895/model_metadata.json\n",
            "2021-04-08 14:14:20,904 Wrote model metrics to file ampl_output/curated_combined_df_1/RF_ecfp_scaffold_regression/55c7a257-dc79-41ce-a811-71321e404895/model_metrics.json\n"
          ],
          "name": "stderr"
        },
        {
          "output_type": "stream",
          "text": [
            "Wrote model tarball to ampl_output/curated_combined_df_1_model_55c7a257-dc79-41ce-a811-71321e404895.tar.gz\n",
            "rf_estimators: 100, rf_max_depth: 150, rf_max_features: 50, valid_r2: 0.5306939278397029\n",
            "number of features: 1024\n"
          ],
          "name": "stdout"
        },
        {
          "output_type": "stream",
          "text": [
            "2021-04-08 14:14:53,215 Previous dataset split restored\n"
          ],
          "name": "stderr"
        },
        {
          "output_type": "stream",
          "text": [
            "n_cnt [5081.]\n",
            "y_means [7.00554977]\n",
            "y_stds [1.25378881]\n",
            "TIMING: dataset construction took 0.229 s\n",
            "Loading dataset from disk.\n",
            "TIMING: dataset construction took 0.034 s\n",
            "Loading dataset from disk.\n",
            "TIMING: dataset construction took 0.032 s\n",
            "Loading dataset from disk.\n"
          ],
          "name": "stdout"
        },
        {
          "output_type": "stream",
          "text": [
            "2021-04-08 14:14:59,794 Wrote model metadata to file ampl_output/curated_combined_df_1/RF_ecfp_scaffold_regression/8a1d1492-3df2-41c1-86a0-5db052ca6207/model_metadata.json\n",
            "2021-04-08 14:15:00,149 Wrote model metrics to file ampl_output/curated_combined_df_1/RF_ecfp_scaffold_regression/8a1d1492-3df2-41c1-86a0-5db052ca6207/model_metrics.json\n"
          ],
          "name": "stderr"
        },
        {
          "output_type": "stream",
          "text": [
            "Wrote model tarball to ampl_output/curated_combined_df_1_model_8a1d1492-3df2-41c1-86a0-5db052ca6207.tar.gz\n",
            "rf_estimators: 100, rf_max_depth: 150, rf_max_features: 100, valid_r2: 0.5373057991905085\n",
            "number of features: 1024\n"
          ],
          "name": "stdout"
        },
        {
          "output_type": "stream",
          "text": [
            "2021-04-08 14:15:32,452 Previous dataset split restored\n"
          ],
          "name": "stderr"
        },
        {
          "output_type": "stream",
          "text": [
            "n_cnt [5081.]\n",
            "y_means [7.00554977]\n",
            "y_stds [1.25378881]\n",
            "TIMING: dataset construction took 0.221 s\n",
            "Loading dataset from disk.\n",
            "TIMING: dataset construction took 0.033 s\n",
            "Loading dataset from disk.\n",
            "TIMING: dataset construction took 0.031 s\n",
            "Loading dataset from disk.\n"
          ],
          "name": "stdout"
        },
        {
          "output_type": "stream",
          "text": [
            "2021-04-08 14:15:36,834 Wrote model metadata to file ampl_output/curated_combined_df_1/RF_ecfp_scaffold_regression/bbe00657-1b05-45ed-b40d-50f2895c1e85/model_metadata.json\n",
            "2021-04-08 14:15:37,207 Wrote model metrics to file ampl_output/curated_combined_df_1/RF_ecfp_scaffold_regression/bbe00657-1b05-45ed-b40d-50f2895c1e85/model_metrics.json\n"
          ],
          "name": "stderr"
        },
        {
          "output_type": "stream",
          "text": [
            "Wrote model tarball to ampl_output/curated_combined_df_1_model_bbe00657-1b05-45ed-b40d-50f2895c1e85.tar.gz\n",
            "rf_estimators: 100, rf_max_depth: 250, rf_max_features: 10, valid_r2: 0.5117307274339219\n",
            "number of features: 1024\n"
          ],
          "name": "stdout"
        },
        {
          "output_type": "stream",
          "text": [
            "2021-04-08 14:16:09,349 Previous dataset split restored\n"
          ],
          "name": "stderr"
        },
        {
          "output_type": "stream",
          "text": [
            "n_cnt [5081.]\n",
            "y_means [7.00554977]\n",
            "y_stds [1.25378881]\n",
            "TIMING: dataset construction took 0.230 s\n",
            "Loading dataset from disk.\n",
            "TIMING: dataset construction took 0.032 s\n",
            "Loading dataset from disk.\n",
            "TIMING: dataset construction took 0.031 s\n",
            "Loading dataset from disk.\n"
          ],
          "name": "stdout"
        },
        {
          "output_type": "stream",
          "text": [
            "2021-04-08 14:16:14,005 Wrote model metadata to file ampl_output/curated_combined_df_1/RF_ecfp_scaffold_regression/b222505a-2c27-4487-a576-97524c63ddd2/model_metadata.json\n",
            "2021-04-08 14:16:14,366 Wrote model metrics to file ampl_output/curated_combined_df_1/RF_ecfp_scaffold_regression/b222505a-2c27-4487-a576-97524c63ddd2/model_metrics.json\n"
          ],
          "name": "stderr"
        },
        {
          "output_type": "stream",
          "text": [
            "Wrote model tarball to ampl_output/curated_combined_df_1_model_b222505a-2c27-4487-a576-97524c63ddd2.tar.gz\n",
            "rf_estimators: 100, rf_max_depth: 250, rf_max_features: 25, valid_r2: 0.5283545228636943\n",
            "number of features: 1024\n"
          ],
          "name": "stdout"
        },
        {
          "output_type": "stream",
          "text": [
            "2021-04-08 14:16:46,574 Previous dataset split restored\n"
          ],
          "name": "stderr"
        },
        {
          "output_type": "stream",
          "text": [
            "n_cnt [5081.]\n",
            "y_means [7.00554977]\n",
            "y_stds [1.25378881]\n",
            "TIMING: dataset construction took 0.238 s\n",
            "Loading dataset from disk.\n",
            "TIMING: dataset construction took 0.033 s\n",
            "Loading dataset from disk.\n",
            "TIMING: dataset construction took 0.036 s\n",
            "Loading dataset from disk.\n"
          ],
          "name": "stdout"
        },
        {
          "output_type": "stream",
          "text": [
            "2021-04-08 14:16:51,570 Wrote model metadata to file ampl_output/curated_combined_df_1/RF_ecfp_scaffold_regression/8758d4bf-665a-469b-8fdc-5181e6bd25e9/model_metadata.json\n",
            "2021-04-08 14:16:51,935 Wrote model metrics to file ampl_output/curated_combined_df_1/RF_ecfp_scaffold_regression/8758d4bf-665a-469b-8fdc-5181e6bd25e9/model_metrics.json\n"
          ],
          "name": "stderr"
        },
        {
          "output_type": "stream",
          "text": [
            "Wrote model tarball to ampl_output/curated_combined_df_1_model_8758d4bf-665a-469b-8fdc-5181e6bd25e9.tar.gz\n",
            "rf_estimators: 100, rf_max_depth: 250, rf_max_features: 30, valid_r2: 0.5204973943329307\n",
            "number of features: 1024\n"
          ],
          "name": "stdout"
        },
        {
          "output_type": "stream",
          "text": [
            "2021-04-08 14:17:23,945 Previous dataset split restored\n"
          ],
          "name": "stderr"
        },
        {
          "output_type": "stream",
          "text": [
            "n_cnt [5081.]\n",
            "y_means [7.00554977]\n",
            "y_stds [1.25378881]\n",
            "TIMING: dataset construction took 0.221 s\n",
            "Loading dataset from disk.\n",
            "TIMING: dataset construction took 0.034 s\n",
            "Loading dataset from disk.\n",
            "TIMING: dataset construction took 0.033 s\n",
            "Loading dataset from disk.\n"
          ],
          "name": "stdout"
        },
        {
          "output_type": "stream",
          "text": [
            "2021-04-08 14:17:29,310 Wrote model metadata to file ampl_output/curated_combined_df_1/RF_ecfp_scaffold_regression/9c3ff70f-06da-4b8f-8bc3-5be6cb2cff66/model_metadata.json\n",
            "2021-04-08 14:17:29,677 Wrote model metrics to file ampl_output/curated_combined_df_1/RF_ecfp_scaffold_regression/9c3ff70f-06da-4b8f-8bc3-5be6cb2cff66/model_metrics.json\n"
          ],
          "name": "stderr"
        },
        {
          "output_type": "stream",
          "text": [
            "Wrote model tarball to ampl_output/curated_combined_df_1_model_9c3ff70f-06da-4b8f-8bc3-5be6cb2cff66.tar.gz\n",
            "rf_estimators: 100, rf_max_depth: 250, rf_max_features: 50, valid_r2: 0.5442818604070445\n",
            "number of features: 1024\n"
          ],
          "name": "stdout"
        },
        {
          "output_type": "stream",
          "text": [
            "2021-04-08 14:18:01,681 Previous dataset split restored\n"
          ],
          "name": "stderr"
        },
        {
          "output_type": "stream",
          "text": [
            "n_cnt [5081.]\n",
            "y_means [7.00554977]\n",
            "y_stds [1.25378881]\n",
            "TIMING: dataset construction took 0.230 s\n",
            "Loading dataset from disk.\n",
            "TIMING: dataset construction took 0.034 s\n",
            "Loading dataset from disk.\n",
            "TIMING: dataset construction took 0.031 s\n",
            "Loading dataset from disk.\n"
          ],
          "name": "stdout"
        },
        {
          "output_type": "stream",
          "text": [
            "2021-04-08 14:18:08,162 Wrote model metadata to file ampl_output/curated_combined_df_1/RF_ecfp_scaffold_regression/1e682c1f-7d52-4ee3-bab0-0bc14006cf53/model_metadata.json\n",
            "2021-04-08 14:18:08,537 Wrote model metrics to file ampl_output/curated_combined_df_1/RF_ecfp_scaffold_regression/1e682c1f-7d52-4ee3-bab0-0bc14006cf53/model_metrics.json\n"
          ],
          "name": "stderr"
        },
        {
          "output_type": "stream",
          "text": [
            "Wrote model tarball to ampl_output/curated_combined_df_1_model_1e682c1f-7d52-4ee3-bab0-0bc14006cf53.tar.gz\n",
            "rf_estimators: 100, rf_max_depth: 250, rf_max_features: 100, valid_r2: 0.5338620189179715\n",
            "number of features: 1024\n"
          ],
          "name": "stdout"
        },
        {
          "output_type": "stream",
          "text": [
            "2021-04-08 14:18:40,732 Previous dataset split restored\n"
          ],
          "name": "stderr"
        },
        {
          "output_type": "stream",
          "text": [
            "n_cnt [5081.]\n",
            "y_means [7.00554977]\n",
            "y_stds [1.25378881]\n",
            "TIMING: dataset construction took 0.224 s\n",
            "Loading dataset from disk.\n",
            "TIMING: dataset construction took 0.034 s\n",
            "Loading dataset from disk.\n",
            "TIMING: dataset construction took 0.032 s\n",
            "Loading dataset from disk.\n"
          ],
          "name": "stdout"
        },
        {
          "output_type": "stream",
          "text": [
            "2021-04-08 14:18:43,820 Wrote model metadata to file ampl_output/curated_combined_df_1/RF_ecfp_scaffold_regression/77cb2df7-dd8b-4616-aac5-0d6347a24600/model_metadata.json\n",
            "2021-04-08 14:18:43,861 Wrote model metrics to file ampl_output/curated_combined_df_1/RF_ecfp_scaffold_regression/77cb2df7-dd8b-4616-aac5-0d6347a24600/model_metrics.json\n"
          ],
          "name": "stderr"
        },
        {
          "output_type": "stream",
          "text": [
            "Wrote model tarball to ampl_output/curated_combined_df_1_model_77cb2df7-dd8b-4616-aac5-0d6347a24600.tar.gz\n",
            "rf_estimators: 200, rf_max_depth: 8, rf_max_features: 10, valid_r2: 0.2183168172142439\n",
            "number of features: 1024\n"
          ],
          "name": "stdout"
        },
        {
          "output_type": "stream",
          "text": [
            "2021-04-08 14:19:16,176 Previous dataset split restored\n"
          ],
          "name": "stderr"
        },
        {
          "output_type": "stream",
          "text": [
            "n_cnt [5081.]\n",
            "y_means [7.00554977]\n",
            "y_stds [1.25378881]\n",
            "TIMING: dataset construction took 0.219 s\n",
            "Loading dataset from disk.\n",
            "TIMING: dataset construction took 0.043 s\n",
            "Loading dataset from disk.\n",
            "TIMING: dataset construction took 0.033 s\n",
            "Loading dataset from disk.\n"
          ],
          "name": "stdout"
        },
        {
          "output_type": "stream",
          "text": [
            "2021-04-08 14:19:19,425 Wrote model metadata to file ampl_output/curated_combined_df_1/RF_ecfp_scaffold_regression/451b4816-c381-404f-af24-f876d04e0218/model_metadata.json\n",
            "2021-04-08 14:19:19,472 Wrote model metrics to file ampl_output/curated_combined_df_1/RF_ecfp_scaffold_regression/451b4816-c381-404f-af24-f876d04e0218/model_metrics.json\n"
          ],
          "name": "stderr"
        },
        {
          "output_type": "stream",
          "text": [
            "Wrote model tarball to ampl_output/curated_combined_df_1_model_451b4816-c381-404f-af24-f876d04e0218.tar.gz\n",
            "rf_estimators: 200, rf_max_depth: 8, rf_max_features: 25, valid_r2: 0.2972781966558461\n",
            "number of features: 1024\n"
          ],
          "name": "stdout"
        },
        {
          "output_type": "stream",
          "text": [
            "2021-04-08 14:19:51,804 Previous dataset split restored\n"
          ],
          "name": "stderr"
        },
        {
          "output_type": "stream",
          "text": [
            "n_cnt [5081.]\n",
            "y_means [7.00554977]\n",
            "y_stds [1.25378881]\n",
            "TIMING: dataset construction took 0.229 s\n",
            "Loading dataset from disk.\n",
            "TIMING: dataset construction took 0.033 s\n",
            "Loading dataset from disk.\n",
            "TIMING: dataset construction took 0.031 s\n",
            "Loading dataset from disk.\n"
          ],
          "name": "stdout"
        },
        {
          "output_type": "stream",
          "text": [
            "2021-04-08 14:19:55,100 Wrote model metadata to file ampl_output/curated_combined_df_1/RF_ecfp_scaffold_regression/901e5af8-7c7a-4656-9ce8-615b5400a5d6/model_metadata.json\n",
            "2021-04-08 14:19:55,153 Wrote model metrics to file ampl_output/curated_combined_df_1/RF_ecfp_scaffold_regression/901e5af8-7c7a-4656-9ce8-615b5400a5d6/model_metrics.json\n"
          ],
          "name": "stderr"
        },
        {
          "output_type": "stream",
          "text": [
            "Wrote model tarball to ampl_output/curated_combined_df_1_model_901e5af8-7c7a-4656-9ce8-615b5400a5d6.tar.gz\n",
            "rf_estimators: 200, rf_max_depth: 8, rf_max_features: 30, valid_r2: 0.3077275266624795\n",
            "number of features: 1024\n"
          ],
          "name": "stdout"
        },
        {
          "output_type": "stream",
          "text": [
            "2021-04-08 14:20:27,217 Previous dataset split restored\n"
          ],
          "name": "stderr"
        },
        {
          "output_type": "stream",
          "text": [
            "n_cnt [5081.]\n",
            "y_means [7.00554977]\n",
            "y_stds [1.25378881]\n",
            "TIMING: dataset construction took 0.222 s\n",
            "Loading dataset from disk.\n",
            "TIMING: dataset construction took 0.033 s\n",
            "Loading dataset from disk.\n",
            "TIMING: dataset construction took 0.034 s\n",
            "Loading dataset from disk.\n"
          ],
          "name": "stdout"
        },
        {
          "output_type": "stream",
          "text": [
            "2021-04-08 14:20:30,961 Wrote model metadata to file ampl_output/curated_combined_df_1/RF_ecfp_scaffold_regression/ea51ff32-1517-41fa-939f-303e16843487/model_metadata.json\n",
            "2021-04-08 14:20:31,017 Wrote model metrics to file ampl_output/curated_combined_df_1/RF_ecfp_scaffold_regression/ea51ff32-1517-41fa-939f-303e16843487/model_metrics.json\n"
          ],
          "name": "stderr"
        },
        {
          "output_type": "stream",
          "text": [
            "Wrote model tarball to ampl_output/curated_combined_df_1_model_ea51ff32-1517-41fa-939f-303e16843487.tar.gz\n",
            "rf_estimators: 200, rf_max_depth: 8, rf_max_features: 50, valid_r2: 0.34426411435404325\n",
            "number of features: 1024\n"
          ],
          "name": "stdout"
        },
        {
          "output_type": "stream",
          "text": [
            "2021-04-08 14:21:03,154 Previous dataset split restored\n"
          ],
          "name": "stderr"
        },
        {
          "output_type": "stream",
          "text": [
            "n_cnt [5081.]\n",
            "y_means [7.00554977]\n",
            "y_stds [1.25378881]\n",
            "TIMING: dataset construction took 0.223 s\n",
            "Loading dataset from disk.\n",
            "TIMING: dataset construction took 0.034 s\n",
            "Loading dataset from disk.\n",
            "TIMING: dataset construction took 0.031 s\n",
            "Loading dataset from disk.\n"
          ],
          "name": "stdout"
        },
        {
          "output_type": "stream",
          "text": [
            "2021-04-08 14:21:08,194 Wrote model metadata to file ampl_output/curated_combined_df_1/RF_ecfp_scaffold_regression/bb1e7a38-83e0-4cf8-b05d-28b1e8b0a171/model_metadata.json\n",
            "2021-04-08 14:21:08,249 Wrote model metrics to file ampl_output/curated_combined_df_1/RF_ecfp_scaffold_regression/bb1e7a38-83e0-4cf8-b05d-28b1e8b0a171/model_metrics.json\n"
          ],
          "name": "stderr"
        },
        {
          "output_type": "stream",
          "text": [
            "Wrote model tarball to ampl_output/curated_combined_df_1_model_bb1e7a38-83e0-4cf8-b05d-28b1e8b0a171.tar.gz\n",
            "rf_estimators: 200, rf_max_depth: 8, rf_max_features: 100, valid_r2: 0.3908298194351192\n",
            "number of features: 1024\n"
          ],
          "name": "stdout"
        },
        {
          "output_type": "stream",
          "text": [
            "2021-04-08 14:21:40,475 Previous dataset split restored\n"
          ],
          "name": "stderr"
        },
        {
          "output_type": "stream",
          "text": [
            "n_cnt [5081.]\n",
            "y_means [7.00554977]\n",
            "y_stds [1.25378881]\n",
            "TIMING: dataset construction took 0.225 s\n",
            "Loading dataset from disk.\n",
            "TIMING: dataset construction took 0.033 s\n",
            "Loading dataset from disk.\n",
            "TIMING: dataset construction took 0.031 s\n",
            "Loading dataset from disk.\n"
          ],
          "name": "stdout"
        },
        {
          "output_type": "stream",
          "text": [
            "2021-04-08 14:21:45,395 Wrote model metadata to file ampl_output/curated_combined_df_1/RF_ecfp_scaffold_regression/b2be3ef3-8eb4-464b-82a2-33191332897e/model_metadata.json\n",
            "2021-04-08 14:21:45,806 Wrote model metrics to file ampl_output/curated_combined_df_1/RF_ecfp_scaffold_regression/b2be3ef3-8eb4-464b-82a2-33191332897e/model_metrics.json\n"
          ],
          "name": "stderr"
        },
        {
          "output_type": "stream",
          "text": [
            "Wrote model tarball to ampl_output/curated_combined_df_1_model_b2be3ef3-8eb4-464b-82a2-33191332897e.tar.gz\n",
            "rf_estimators: 200, rf_max_depth: 25, rf_max_features: 10, valid_r2: 0.4709981194759474\n",
            "number of features: 1024\n"
          ],
          "name": "stdout"
        },
        {
          "output_type": "stream",
          "text": [
            "2021-04-08 14:22:17,981 Previous dataset split restored\n"
          ],
          "name": "stderr"
        },
        {
          "output_type": "stream",
          "text": [
            "n_cnt [5081.]\n",
            "y_means [7.00554977]\n",
            "y_stds [1.25378881]\n",
            "TIMING: dataset construction took 0.228 s\n",
            "Loading dataset from disk.\n",
            "TIMING: dataset construction took 0.036 s\n",
            "Loading dataset from disk.\n",
            "TIMING: dataset construction took 0.033 s\n",
            "Loading dataset from disk.\n"
          ],
          "name": "stdout"
        },
        {
          "output_type": "stream",
          "text": [
            "2021-04-08 14:22:24,012 Wrote model metadata to file ampl_output/curated_combined_df_1/RF_ecfp_scaffold_regression/6efec07e-a79e-4549-af4f-5cd74f63f47e/model_metadata.json\n",
            "2021-04-08 14:22:24,492 Wrote model metrics to file ampl_output/curated_combined_df_1/RF_ecfp_scaffold_regression/6efec07e-a79e-4549-af4f-5cd74f63f47e/model_metrics.json\n"
          ],
          "name": "stderr"
        },
        {
          "output_type": "stream",
          "text": [
            "Wrote model tarball to ampl_output/curated_combined_df_1_model_6efec07e-a79e-4549-af4f-5cd74f63f47e.tar.gz\n",
            "rf_estimators: 200, rf_max_depth: 25, rf_max_features: 25, valid_r2: 0.5118169467863989\n",
            "number of features: 1024\n"
          ],
          "name": "stdout"
        },
        {
          "output_type": "stream",
          "text": [
            "2021-04-08 14:22:56,719 Previous dataset split restored\n"
          ],
          "name": "stderr"
        },
        {
          "output_type": "stream",
          "text": [
            "n_cnt [5081.]\n",
            "y_means [7.00554977]\n",
            "y_stds [1.25378881]\n",
            "TIMING: dataset construction took 0.223 s\n",
            "Loading dataset from disk.\n",
            "TIMING: dataset construction took 0.032 s\n",
            "Loading dataset from disk.\n",
            "TIMING: dataset construction took 0.031 s\n",
            "Loading dataset from disk.\n"
          ],
          "name": "stdout"
        },
        {
          "output_type": "stream",
          "text": [
            "2021-04-08 14:23:03,114 Wrote model metadata to file ampl_output/curated_combined_df_1/RF_ecfp_scaffold_regression/3b85d07a-4e0d-49d3-bc41-b3629b106732/model_metadata.json\n",
            "2021-04-08 14:23:03,612 Wrote model metrics to file ampl_output/curated_combined_df_1/RF_ecfp_scaffold_regression/3b85d07a-4e0d-49d3-bc41-b3629b106732/model_metrics.json\n"
          ],
          "name": "stderr"
        },
        {
          "output_type": "stream",
          "text": [
            "Wrote model tarball to ampl_output/curated_combined_df_1_model_3b85d07a-4e0d-49d3-bc41-b3629b106732.tar.gz\n",
            "rf_estimators: 200, rf_max_depth: 25, rf_max_features: 30, valid_r2: 0.5208788866170189\n",
            "number of features: 1024\n"
          ],
          "name": "stdout"
        },
        {
          "output_type": "stream",
          "text": [
            "2021-04-08 14:23:35,784 Previous dataset split restored\n"
          ],
          "name": "stderr"
        },
        {
          "output_type": "stream",
          "text": [
            "n_cnt [5081.]\n",
            "y_means [7.00554977]\n",
            "y_stds [1.25378881]\n",
            "TIMING: dataset construction took 0.230 s\n",
            "Loading dataset from disk.\n",
            "TIMING: dataset construction took 0.033 s\n",
            "Loading dataset from disk.\n",
            "TIMING: dataset construction took 0.031 s\n",
            "Loading dataset from disk.\n"
          ],
          "name": "stdout"
        },
        {
          "output_type": "stream",
          "text": [
            "2021-04-08 14:23:43,161 Wrote model metadata to file ampl_output/curated_combined_df_1/RF_ecfp_scaffold_regression/8157081c-9ff1-4b48-8fe6-3d81a9449e24/model_metadata.json\n",
            "2021-04-08 14:23:43,669 Wrote model metrics to file ampl_output/curated_combined_df_1/RF_ecfp_scaffold_regression/8157081c-9ff1-4b48-8fe6-3d81a9449e24/model_metrics.json\n"
          ],
          "name": "stderr"
        },
        {
          "output_type": "stream",
          "text": [
            "Wrote model tarball to ampl_output/curated_combined_df_1_model_8157081c-9ff1-4b48-8fe6-3d81a9449e24.tar.gz\n",
            "rf_estimators: 200, rf_max_depth: 25, rf_max_features: 50, valid_r2: 0.5310151263821402\n",
            "number of features: 1024\n"
          ],
          "name": "stdout"
        },
        {
          "output_type": "stream",
          "text": [
            "2021-04-08 14:24:15,774 Previous dataset split restored\n"
          ],
          "name": "stderr"
        },
        {
          "output_type": "stream",
          "text": [
            "n_cnt [5081.]\n",
            "y_means [7.00554977]\n",
            "y_stds [1.25378881]\n",
            "TIMING: dataset construction took 0.218 s\n",
            "Loading dataset from disk.\n",
            "TIMING: dataset construction took 0.033 s\n",
            "Loading dataset from disk.\n",
            "TIMING: dataset construction took 0.032 s\n",
            "Loading dataset from disk.\n"
          ],
          "name": "stdout"
        },
        {
          "output_type": "stream",
          "text": [
            "2021-04-08 14:24:25,654 Wrote model metadata to file ampl_output/curated_combined_df_1/RF_ecfp_scaffold_regression/f62e4b86-a3c3-43d9-8360-a070c651899b/model_metadata.json\n",
            "2021-04-08 14:24:26,193 Wrote model metrics to file ampl_output/curated_combined_df_1/RF_ecfp_scaffold_regression/f62e4b86-a3c3-43d9-8360-a070c651899b/model_metrics.json\n"
          ],
          "name": "stderr"
        },
        {
          "output_type": "stream",
          "text": [
            "Wrote model tarball to ampl_output/curated_combined_df_1_model_f62e4b86-a3c3-43d9-8360-a070c651899b.tar.gz\n",
            "rf_estimators: 200, rf_max_depth: 25, rf_max_features: 100, valid_r2: 0.5297901627198967\n",
            "number of features: 1024\n"
          ],
          "name": "stdout"
        },
        {
          "output_type": "stream",
          "text": [
            "2021-04-08 14:24:58,390 Previous dataset split restored\n"
          ],
          "name": "stderr"
        },
        {
          "output_type": "stream",
          "text": [
            "n_cnt [5081.]\n",
            "y_means [7.00554977]\n",
            "y_stds [1.25378881]\n",
            "TIMING: dataset construction took 0.224 s\n",
            "Loading dataset from disk.\n",
            "TIMING: dataset construction took 0.032 s\n",
            "Loading dataset from disk.\n",
            "TIMING: dataset construction took 0.031 s\n",
            "Loading dataset from disk.\n"
          ],
          "name": "stdout"
        },
        {
          "output_type": "stream",
          "text": [
            "2021-04-08 14:25:05,161 Wrote model metadata to file ampl_output/curated_combined_df_1/RF_ecfp_scaffold_regression/44ec81d8-18e4-45db-884e-6b871b50fbbe/model_metadata.json\n",
            "2021-04-08 14:25:05,898 Wrote model metrics to file ampl_output/curated_combined_df_1/RF_ecfp_scaffold_regression/44ec81d8-18e4-45db-884e-6b871b50fbbe/model_metrics.json\n"
          ],
          "name": "stderr"
        },
        {
          "output_type": "stream",
          "text": [
            "Wrote model tarball to ampl_output/curated_combined_df_1_model_44ec81d8-18e4-45db-884e-6b871b50fbbe.tar.gz\n",
            "rf_estimators: 200, rf_max_depth: 70, rf_max_features: 10, valid_r2: 0.5125980613787056\n",
            "number of features: 1024\n"
          ],
          "name": "stdout"
        },
        {
          "output_type": "stream",
          "text": [
            "2021-04-08 14:25:38,003 Previous dataset split restored\n"
          ],
          "name": "stderr"
        },
        {
          "output_type": "stream",
          "text": [
            "n_cnt [5081.]\n",
            "y_means [7.00554977]\n",
            "y_stds [1.25378881]\n",
            "TIMING: dataset construction took 0.230 s\n",
            "Loading dataset from disk.\n",
            "TIMING: dataset construction took 0.033 s\n",
            "Loading dataset from disk.\n",
            "TIMING: dataset construction took 0.030 s\n",
            "Loading dataset from disk.\n"
          ],
          "name": "stdout"
        },
        {
          "output_type": "stream",
          "text": [
            "2021-04-08 14:25:45,597 Wrote model metadata to file ampl_output/curated_combined_df_1/RF_ecfp_scaffold_regression/395d8f26-8550-4edd-899b-2ec161af8a66/model_metadata.json\n",
            "2021-04-08 14:25:46,303 Wrote model metrics to file ampl_output/curated_combined_df_1/RF_ecfp_scaffold_regression/395d8f26-8550-4edd-899b-2ec161af8a66/model_metrics.json\n"
          ],
          "name": "stderr"
        },
        {
          "output_type": "stream",
          "text": [
            "Wrote model tarball to ampl_output/curated_combined_df_1_model_395d8f26-8550-4edd-899b-2ec161af8a66.tar.gz\n",
            "rf_estimators: 200, rf_max_depth: 70, rf_max_features: 25, valid_r2: 0.5363889934937414\n",
            "number of features: 1024\n"
          ],
          "name": "stdout"
        },
        {
          "output_type": "stream",
          "text": [
            "2021-04-08 14:26:18,509 Previous dataset split restored\n"
          ],
          "name": "stderr"
        },
        {
          "output_type": "stream",
          "text": [
            "n_cnt [5081.]\n",
            "y_means [7.00554977]\n",
            "y_stds [1.25378881]\n",
            "TIMING: dataset construction took 0.227 s\n",
            "Loading dataset from disk.\n",
            "TIMING: dataset construction took 0.035 s\n",
            "Loading dataset from disk.\n",
            "TIMING: dataset construction took 0.032 s\n",
            "Loading dataset from disk.\n"
          ],
          "name": "stdout"
        },
        {
          "output_type": "stream",
          "text": [
            "2021-04-08 14:26:26,429 Wrote model metadata to file ampl_output/curated_combined_df_1/RF_ecfp_scaffold_regression/7ab9fa93-8eb9-4d2f-a4a7-8f38e7bbb87e/model_metadata.json\n",
            "2021-04-08 14:26:27,163 Wrote model metrics to file ampl_output/curated_combined_df_1/RF_ecfp_scaffold_regression/7ab9fa93-8eb9-4d2f-a4a7-8f38e7bbb87e/model_metrics.json\n"
          ],
          "name": "stderr"
        },
        {
          "output_type": "stream",
          "text": [
            "Wrote model tarball to ampl_output/curated_combined_df_1_model_7ab9fa93-8eb9-4d2f-a4a7-8f38e7bbb87e.tar.gz\n",
            "rf_estimators: 200, rf_max_depth: 70, rf_max_features: 30, valid_r2: 0.5348048710421233\n",
            "number of features: 1024\n"
          ],
          "name": "stdout"
        },
        {
          "output_type": "stream",
          "text": [
            "2021-04-08 14:26:59,320 Previous dataset split restored\n"
          ],
          "name": "stderr"
        },
        {
          "output_type": "stream",
          "text": [
            "n_cnt [5081.]\n",
            "y_means [7.00554977]\n",
            "y_stds [1.25378881]\n",
            "TIMING: dataset construction took 0.230 s\n",
            "Loading dataset from disk.\n",
            "TIMING: dataset construction took 0.033 s\n",
            "Loading dataset from disk.\n",
            "TIMING: dataset construction took 0.031 s\n",
            "Loading dataset from disk.\n"
          ],
          "name": "stdout"
        },
        {
          "output_type": "stream",
          "text": [
            "2021-04-08 14:27:08,239 Wrote model metadata to file ampl_output/curated_combined_df_1/RF_ecfp_scaffold_regression/d4b5fc64-eb22-40bb-b1ed-d32a44cb4fbd/model_metadata.json\n",
            "2021-04-08 14:27:08,961 Wrote model metrics to file ampl_output/curated_combined_df_1/RF_ecfp_scaffold_regression/d4b5fc64-eb22-40bb-b1ed-d32a44cb4fbd/model_metrics.json\n"
          ],
          "name": "stderr"
        },
        {
          "output_type": "stream",
          "text": [
            "Wrote model tarball to ampl_output/curated_combined_df_1_model_d4b5fc64-eb22-40bb-b1ed-d32a44cb4fbd.tar.gz\n",
            "rf_estimators: 200, rf_max_depth: 70, rf_max_features: 50, valid_r2: 0.5407371255466179\n",
            "number of features: 1024\n"
          ],
          "name": "stdout"
        },
        {
          "output_type": "stream",
          "text": [
            "2021-04-08 14:27:41,146 Previous dataset split restored\n"
          ],
          "name": "stderr"
        },
        {
          "output_type": "stream",
          "text": [
            "n_cnt [5081.]\n",
            "y_means [7.00554977]\n",
            "y_stds [1.25378881]\n",
            "TIMING: dataset construction took 0.220 s\n",
            "Loading dataset from disk.\n",
            "TIMING: dataset construction took 0.036 s\n",
            "Loading dataset from disk.\n",
            "TIMING: dataset construction took 0.031 s\n",
            "Loading dataset from disk.\n"
          ],
          "name": "stdout"
        },
        {
          "output_type": "stream",
          "text": [
            "2021-04-08 14:27:52,439 Wrote model metadata to file ampl_output/curated_combined_df_1/RF_ecfp_scaffold_regression/d08dc636-5225-4810-bc69-734ba0645f51/model_metadata.json\n",
            "2021-04-08 14:27:53,139 Wrote model metrics to file ampl_output/curated_combined_df_1/RF_ecfp_scaffold_regression/d08dc636-5225-4810-bc69-734ba0645f51/model_metrics.json\n"
          ],
          "name": "stderr"
        },
        {
          "output_type": "stream",
          "text": [
            "Wrote model tarball to ampl_output/curated_combined_df_1_model_d08dc636-5225-4810-bc69-734ba0645f51.tar.gz\n",
            "rf_estimators: 200, rf_max_depth: 70, rf_max_features: 100, valid_r2: 0.5410559764075686\n",
            "number of features: 1024\n"
          ],
          "name": "stdout"
        },
        {
          "output_type": "stream",
          "text": [
            "2021-04-08 14:28:25,420 Previous dataset split restored\n"
          ],
          "name": "stderr"
        },
        {
          "output_type": "stream",
          "text": [
            "n_cnt [5081.]\n",
            "y_means [7.00554977]\n",
            "y_stds [1.25378881]\n",
            "TIMING: dataset construction took 0.221 s\n",
            "Loading dataset from disk.\n",
            "TIMING: dataset construction took 0.033 s\n",
            "Loading dataset from disk.\n",
            "TIMING: dataset construction took 0.032 s\n",
            "Loading dataset from disk.\n"
          ],
          "name": "stdout"
        },
        {
          "output_type": "stream",
          "text": [
            "2021-04-08 14:28:32,316 Wrote model metadata to file ampl_output/curated_combined_df_1/RF_ecfp_scaffold_regression/27acd338-5b02-4c75-9d45-ef3465a33b3c/model_metadata.json\n",
            "2021-04-08 14:28:33,069 Wrote model metrics to file ampl_output/curated_combined_df_1/RF_ecfp_scaffold_regression/27acd338-5b02-4c75-9d45-ef3465a33b3c/model_metrics.json\n"
          ],
          "name": "stderr"
        },
        {
          "output_type": "stream",
          "text": [
            "Wrote model tarball to ampl_output/curated_combined_df_1_model_27acd338-5b02-4c75-9d45-ef3465a33b3c.tar.gz\n",
            "rf_estimators: 200, rf_max_depth: 150, rf_max_features: 10, valid_r2: 0.5172852717830756\n",
            "number of features: 1024\n"
          ],
          "name": "stdout"
        },
        {
          "output_type": "stream",
          "text": [
            "2021-04-08 14:29:05,278 Previous dataset split restored\n"
          ],
          "name": "stderr"
        },
        {
          "output_type": "stream",
          "text": [
            "n_cnt [5081.]\n",
            "y_means [7.00554977]\n",
            "y_stds [1.25378881]\n",
            "TIMING: dataset construction took 0.222 s\n",
            "Loading dataset from disk.\n",
            "TIMING: dataset construction took 0.036 s\n",
            "Loading dataset from disk.\n",
            "TIMING: dataset construction took 0.034 s\n",
            "Loading dataset from disk.\n"
          ],
          "name": "stdout"
        },
        {
          "output_type": "stream",
          "text": [
            "2021-04-08 14:29:12,879 Wrote model metadata to file ampl_output/curated_combined_df_1/RF_ecfp_scaffold_regression/2e512730-0279-487e-9d87-c063f2cc67fc/model_metadata.json\n",
            "2021-04-08 14:29:13,629 Wrote model metrics to file ampl_output/curated_combined_df_1/RF_ecfp_scaffold_regression/2e512730-0279-487e-9d87-c063f2cc67fc/model_metrics.json\n"
          ],
          "name": "stderr"
        },
        {
          "output_type": "stream",
          "text": [
            "Wrote model tarball to ampl_output/curated_combined_df_1_model_2e512730-0279-487e-9d87-c063f2cc67fc.tar.gz\n",
            "rf_estimators: 200, rf_max_depth: 150, rf_max_features: 25, valid_r2: 0.5286665578998804\n",
            "number of features: 1024\n"
          ],
          "name": "stdout"
        },
        {
          "output_type": "stream",
          "text": [
            "2021-04-08 14:29:45,727 Previous dataset split restored\n"
          ],
          "name": "stderr"
        },
        {
          "output_type": "stream",
          "text": [
            "n_cnt [5081.]\n",
            "y_means [7.00554977]\n",
            "y_stds [1.25378881]\n",
            "TIMING: dataset construction took 0.221 s\n",
            "Loading dataset from disk.\n",
            "TIMING: dataset construction took 0.035 s\n",
            "Loading dataset from disk.\n",
            "TIMING: dataset construction took 0.030 s\n",
            "Loading dataset from disk.\n"
          ],
          "name": "stdout"
        },
        {
          "output_type": "stream",
          "text": [
            "2021-04-08 14:29:53,469 Wrote model metadata to file ampl_output/curated_combined_df_1/RF_ecfp_scaffold_regression/7c6a47f6-bac9-4a26-92d3-ca93bed07bda/model_metadata.json\n",
            "2021-04-08 14:29:54,185 Wrote model metrics to file ampl_output/curated_combined_df_1/RF_ecfp_scaffold_regression/7c6a47f6-bac9-4a26-92d3-ca93bed07bda/model_metrics.json\n"
          ],
          "name": "stderr"
        },
        {
          "output_type": "stream",
          "text": [
            "Wrote model tarball to ampl_output/curated_combined_df_1_model_7c6a47f6-bac9-4a26-92d3-ca93bed07bda.tar.gz\n",
            "rf_estimators: 200, rf_max_depth: 150, rf_max_features: 30, valid_r2: 0.5415870008518975\n",
            "number of features: 1024\n"
          ],
          "name": "stdout"
        },
        {
          "output_type": "stream",
          "text": [
            "2021-04-08 14:30:26,402 Previous dataset split restored\n"
          ],
          "name": "stderr"
        },
        {
          "output_type": "stream",
          "text": [
            "n_cnt [5081.]\n",
            "y_means [7.00554977]\n",
            "y_stds [1.25378881]\n",
            "TIMING: dataset construction took 0.230 s\n",
            "Loading dataset from disk.\n",
            "TIMING: dataset construction took 0.033 s\n",
            "Loading dataset from disk.\n",
            "TIMING: dataset construction took 0.031 s\n",
            "Loading dataset from disk.\n"
          ],
          "name": "stdout"
        },
        {
          "output_type": "stream",
          "text": [
            "2021-04-08 14:30:35,173 Wrote model metadata to file ampl_output/curated_combined_df_1/RF_ecfp_scaffold_regression/d0548711-fbbc-4f76-9d76-33c32a90bb24/model_metadata.json\n",
            "2021-04-08 14:30:35,895 Wrote model metrics to file ampl_output/curated_combined_df_1/RF_ecfp_scaffold_regression/d0548711-fbbc-4f76-9d76-33c32a90bb24/model_metrics.json\n"
          ],
          "name": "stderr"
        },
        {
          "output_type": "stream",
          "text": [
            "Wrote model tarball to ampl_output/curated_combined_df_1_model_d0548711-fbbc-4f76-9d76-33c32a90bb24.tar.gz\n",
            "rf_estimators: 200, rf_max_depth: 150, rf_max_features: 50, valid_r2: 0.5358759323517411\n",
            "number of features: 1024\n"
          ],
          "name": "stdout"
        },
        {
          "output_type": "stream",
          "text": [
            "2021-04-08 14:31:07,880 Previous dataset split restored\n"
          ],
          "name": "stderr"
        },
        {
          "output_type": "stream",
          "text": [
            "n_cnt [5081.]\n",
            "y_means [7.00554977]\n",
            "y_stds [1.25378881]\n",
            "TIMING: dataset construction took 0.220 s\n",
            "Loading dataset from disk.\n",
            "TIMING: dataset construction took 0.035 s\n",
            "Loading dataset from disk.\n",
            "TIMING: dataset construction took 0.033 s\n",
            "Loading dataset from disk.\n"
          ],
          "name": "stdout"
        },
        {
          "output_type": "stream",
          "text": [
            "2021-04-08 14:31:19,161 Wrote model metadata to file ampl_output/curated_combined_df_1/RF_ecfp_scaffold_regression/f6e70b54-73fb-4ec9-9605-b88e1dfd8323/model_metadata.json\n",
            "2021-04-08 14:31:19,879 Wrote model metrics to file ampl_output/curated_combined_df_1/RF_ecfp_scaffold_regression/f6e70b54-73fb-4ec9-9605-b88e1dfd8323/model_metrics.json\n"
          ],
          "name": "stderr"
        },
        {
          "output_type": "stream",
          "text": [
            "Wrote model tarball to ampl_output/curated_combined_df_1_model_f6e70b54-73fb-4ec9-9605-b88e1dfd8323.tar.gz\n",
            "rf_estimators: 200, rf_max_depth: 150, rf_max_features: 100, valid_r2: 0.5465878041950902\n",
            "number of features: 1024\n"
          ],
          "name": "stdout"
        },
        {
          "output_type": "stream",
          "text": [
            "2021-04-08 14:31:51,931 Previous dataset split restored\n"
          ],
          "name": "stderr"
        },
        {
          "output_type": "stream",
          "text": [
            "n_cnt [5081.]\n",
            "y_means [7.00554977]\n",
            "y_stds [1.25378881]\n",
            "TIMING: dataset construction took 0.223 s\n",
            "Loading dataset from disk.\n",
            "TIMING: dataset construction took 0.033 s\n",
            "Loading dataset from disk.\n",
            "TIMING: dataset construction took 0.031 s\n",
            "Loading dataset from disk.\n"
          ],
          "name": "stdout"
        },
        {
          "output_type": "stream",
          "text": [
            "2021-04-08 14:31:58,806 Wrote model metadata to file ampl_output/curated_combined_df_1/RF_ecfp_scaffold_regression/1d9a56e9-d717-472e-89c3-6fb3b734aa1f/model_metadata.json\n",
            "2021-04-08 14:31:59,523 Wrote model metrics to file ampl_output/curated_combined_df_1/RF_ecfp_scaffold_regression/1d9a56e9-d717-472e-89c3-6fb3b734aa1f/model_metrics.json\n"
          ],
          "name": "stderr"
        },
        {
          "output_type": "stream",
          "text": [
            "Wrote model tarball to ampl_output/curated_combined_df_1_model_1d9a56e9-d717-472e-89c3-6fb3b734aa1f.tar.gz\n",
            "rf_estimators: 200, rf_max_depth: 250, rf_max_features: 10, valid_r2: 0.5218008985677316\n",
            "number of features: 1024\n"
          ],
          "name": "stdout"
        },
        {
          "output_type": "stream",
          "text": [
            "2021-04-08 14:32:31,659 Previous dataset split restored\n"
          ],
          "name": "stderr"
        },
        {
          "output_type": "stream",
          "text": [
            "n_cnt [5081.]\n",
            "y_means [7.00554977]\n",
            "y_stds [1.25378881]\n",
            "TIMING: dataset construction took 0.218 s\n",
            "Loading dataset from disk.\n",
            "TIMING: dataset construction took 0.033 s\n",
            "Loading dataset from disk.\n",
            "TIMING: dataset construction took 0.032 s\n",
            "Loading dataset from disk.\n"
          ],
          "name": "stdout"
        },
        {
          "output_type": "stream",
          "text": [
            "2021-04-08 14:32:39,159 Wrote model metadata to file ampl_output/curated_combined_df_1/RF_ecfp_scaffold_regression/14790728-eb97-46b9-9464-c8209c448dc4/model_metadata.json\n",
            "2021-04-08 14:32:39,884 Wrote model metrics to file ampl_output/curated_combined_df_1/RF_ecfp_scaffold_regression/14790728-eb97-46b9-9464-c8209c448dc4/model_metrics.json\n"
          ],
          "name": "stderr"
        },
        {
          "output_type": "stream",
          "text": [
            "Wrote model tarball to ampl_output/curated_combined_df_1_model_14790728-eb97-46b9-9464-c8209c448dc4.tar.gz\n",
            "rf_estimators: 200, rf_max_depth: 250, rf_max_features: 25, valid_r2: 0.5351851141555064\n",
            "number of features: 1024\n"
          ],
          "name": "stdout"
        },
        {
          "output_type": "stream",
          "text": [
            "2021-04-08 14:33:11,936 Previous dataset split restored\n"
          ],
          "name": "stderr"
        },
        {
          "output_type": "stream",
          "text": [
            "n_cnt [5081.]\n",
            "y_means [7.00554977]\n",
            "y_stds [1.25378881]\n",
            "TIMING: dataset construction took 0.223 s\n",
            "Loading dataset from disk.\n",
            "TIMING: dataset construction took 0.033 s\n",
            "Loading dataset from disk.\n",
            "TIMING: dataset construction took 0.033 s\n",
            "Loading dataset from disk.\n"
          ],
          "name": "stdout"
        },
        {
          "output_type": "stream",
          "text": [
            "2021-04-08 14:33:19,711 Wrote model metadata to file ampl_output/curated_combined_df_1/RF_ecfp_scaffold_regression/bb8daee9-0252-4302-a8a8-2338d143923a/model_metadata.json\n",
            "2021-04-08 14:33:20,430 Wrote model metrics to file ampl_output/curated_combined_df_1/RF_ecfp_scaffold_regression/bb8daee9-0252-4302-a8a8-2338d143923a/model_metrics.json\n"
          ],
          "name": "stderr"
        },
        {
          "output_type": "stream",
          "text": [
            "Wrote model tarball to ampl_output/curated_combined_df_1_model_bb8daee9-0252-4302-a8a8-2338d143923a.tar.gz\n",
            "rf_estimators: 200, rf_max_depth: 250, rf_max_features: 30, valid_r2: 0.5280922678023097\n",
            "number of features: 1024\n"
          ],
          "name": "stdout"
        },
        {
          "output_type": "stream",
          "text": [
            "2021-04-08 14:33:52,228 Previous dataset split restored\n"
          ],
          "name": "stderr"
        },
        {
          "output_type": "stream",
          "text": [
            "n_cnt [5081.]\n",
            "y_means [7.00554977]\n",
            "y_stds [1.25378881]\n",
            "TIMING: dataset construction took 0.229 s\n",
            "Loading dataset from disk.\n",
            "TIMING: dataset construction took 0.035 s\n",
            "Loading dataset from disk.\n",
            "TIMING: dataset construction took 0.036 s\n",
            "Loading dataset from disk.\n"
          ],
          "name": "stdout"
        },
        {
          "output_type": "stream",
          "text": [
            "2021-04-08 14:34:01,086 Wrote model metadata to file ampl_output/curated_combined_df_1/RF_ecfp_scaffold_regression/c6e01d4f-fdb8-44a7-b0c4-9aabe688bdc0/model_metadata.json\n",
            "2021-04-08 14:34:01,799 Wrote model metrics to file ampl_output/curated_combined_df_1/RF_ecfp_scaffold_regression/c6e01d4f-fdb8-44a7-b0c4-9aabe688bdc0/model_metrics.json\n"
          ],
          "name": "stderr"
        },
        {
          "output_type": "stream",
          "text": [
            "Wrote model tarball to ampl_output/curated_combined_df_1_model_c6e01d4f-fdb8-44a7-b0c4-9aabe688bdc0.tar.gz\n",
            "rf_estimators: 200, rf_max_depth: 250, rf_max_features: 50, valid_r2: 0.5447018737780391\n",
            "number of features: 1024\n"
          ],
          "name": "stdout"
        },
        {
          "output_type": "stream",
          "text": [
            "2021-04-08 14:34:33,972 Previous dataset split restored\n"
          ],
          "name": "stderr"
        },
        {
          "output_type": "stream",
          "text": [
            "n_cnt [5081.]\n",
            "y_means [7.00554977]\n",
            "y_stds [1.25378881]\n",
            "TIMING: dataset construction took 0.234 s\n",
            "Loading dataset from disk.\n",
            "TIMING: dataset construction took 0.036 s\n",
            "Loading dataset from disk.\n",
            "TIMING: dataset construction took 0.032 s\n",
            "Loading dataset from disk.\n"
          ],
          "name": "stdout"
        },
        {
          "output_type": "stream",
          "text": [
            "2021-04-08 14:34:45,149 Wrote model metadata to file ampl_output/curated_combined_df_1/RF_ecfp_scaffold_regression/e97343cf-a7e0-47c8-a790-b03fed590d77/model_metadata.json\n",
            "2021-04-08 14:34:45,876 Wrote model metrics to file ampl_output/curated_combined_df_1/RF_ecfp_scaffold_regression/e97343cf-a7e0-47c8-a790-b03fed590d77/model_metrics.json\n"
          ],
          "name": "stderr"
        },
        {
          "output_type": "stream",
          "text": [
            "Wrote model tarball to ampl_output/curated_combined_df_1_model_e97343cf-a7e0-47c8-a790-b03fed590d77.tar.gz\n",
            "rf_estimators: 200, rf_max_depth: 250, rf_max_features: 100, valid_r2: 0.5383683274462463\n",
            "number of features: 1024\n"
          ],
          "name": "stdout"
        },
        {
          "output_type": "stream",
          "text": [
            "2021-04-08 14:35:17,970 Previous dataset split restored\n"
          ],
          "name": "stderr"
        },
        {
          "output_type": "stream",
          "text": [
            "n_cnt [5081.]\n",
            "y_means [7.00554977]\n",
            "y_stds [1.25378881]\n",
            "TIMING: dataset construction took 0.220 s\n",
            "Loading dataset from disk.\n",
            "TIMING: dataset construction took 0.034 s\n",
            "Loading dataset from disk.\n",
            "TIMING: dataset construction took 0.034 s\n",
            "Loading dataset from disk.\n"
          ],
          "name": "stdout"
        },
        {
          "output_type": "stream",
          "text": [
            "2021-04-08 14:35:21,491 Wrote model metadata to file ampl_output/curated_combined_df_1/RF_ecfp_scaffold_regression/ca41a1d9-f219-4ebb-99a3-289c4dda1bee/model_metadata.json\n",
            "2021-04-08 14:35:21,546 Wrote model metrics to file ampl_output/curated_combined_df_1/RF_ecfp_scaffold_regression/ca41a1d9-f219-4ebb-99a3-289c4dda1bee/model_metrics.json\n"
          ],
          "name": "stderr"
        },
        {
          "output_type": "stream",
          "text": [
            "Wrote model tarball to ampl_output/curated_combined_df_1_model_ca41a1d9-f219-4ebb-99a3-289c4dda1bee.tar.gz\n",
            "rf_estimators: 300, rf_max_depth: 8, rf_max_features: 10, valid_r2: 0.2134856121541251\n",
            "number of features: 1024\n"
          ],
          "name": "stdout"
        },
        {
          "output_type": "stream",
          "text": [
            "2021-04-08 14:35:53,470 Previous dataset split restored\n"
          ],
          "name": "stderr"
        },
        {
          "output_type": "stream",
          "text": [
            "n_cnt [5081.]\n",
            "y_means [7.00554977]\n",
            "y_stds [1.25378881]\n",
            "TIMING: dataset construction took 0.219 s\n",
            "Loading dataset from disk.\n",
            "TIMING: dataset construction took 0.032 s\n",
            "Loading dataset from disk.\n",
            "TIMING: dataset construction took 0.030 s\n",
            "Loading dataset from disk.\n"
          ],
          "name": "stdout"
        },
        {
          "output_type": "stream",
          "text": [
            "2021-04-08 14:35:57,469 Wrote model metadata to file ampl_output/curated_combined_df_1/RF_ecfp_scaffold_regression/15269166-4977-486b-8143-024c58d0d1e5/model_metadata.json\n",
            "2021-04-08 14:35:57,536 Wrote model metrics to file ampl_output/curated_combined_df_1/RF_ecfp_scaffold_regression/15269166-4977-486b-8143-024c58d0d1e5/model_metrics.json\n"
          ],
          "name": "stderr"
        },
        {
          "output_type": "stream",
          "text": [
            "Wrote model tarball to ampl_output/curated_combined_df_1_model_15269166-4977-486b-8143-024c58d0d1e5.tar.gz\n",
            "rf_estimators: 300, rf_max_depth: 8, rf_max_features: 25, valid_r2: 0.29822622640416685\n",
            "number of features: 1024\n"
          ],
          "name": "stdout"
        },
        {
          "output_type": "stream",
          "text": [
            "2021-04-08 14:36:29,477 Previous dataset split restored\n"
          ],
          "name": "stderr"
        },
        {
          "output_type": "stream",
          "text": [
            "n_cnt [5081.]\n",
            "y_means [7.00554977]\n",
            "y_stds [1.25378881]\n",
            "TIMING: dataset construction took 0.226 s\n",
            "Loading dataset from disk.\n",
            "TIMING: dataset construction took 0.033 s\n",
            "Loading dataset from disk.\n",
            "TIMING: dataset construction took 0.034 s\n",
            "Loading dataset from disk.\n"
          ],
          "name": "stdout"
        },
        {
          "output_type": "stream",
          "text": [
            "2021-04-08 14:36:33,813 Wrote model metadata to file ampl_output/curated_combined_df_1/RF_ecfp_scaffold_regression/2b3c9b40-2ad4-428e-b617-0a1f121b748c/model_metadata.json\n",
            "2021-04-08 14:36:33,887 Wrote model metrics to file ampl_output/curated_combined_df_1/RF_ecfp_scaffold_regression/2b3c9b40-2ad4-428e-b617-0a1f121b748c/model_metrics.json\n"
          ],
          "name": "stderr"
        },
        {
          "output_type": "stream",
          "text": [
            "Wrote model tarball to ampl_output/curated_combined_df_1_model_2b3c9b40-2ad4-428e-b617-0a1f121b748c.tar.gz\n",
            "rf_estimators: 300, rf_max_depth: 8, rf_max_features: 30, valid_r2: 0.31511610898521325\n",
            "number of features: 1024\n"
          ],
          "name": "stdout"
        },
        {
          "output_type": "stream",
          "text": [
            "2021-04-08 14:37:05,881 Previous dataset split restored\n"
          ],
          "name": "stderr"
        },
        {
          "output_type": "stream",
          "text": [
            "n_cnt [5081.]\n",
            "y_means [7.00554977]\n",
            "y_stds [1.25378881]\n",
            "TIMING: dataset construction took 0.218 s\n",
            "Loading dataset from disk.\n",
            "TIMING: dataset construction took 0.033 s\n",
            "Loading dataset from disk.\n",
            "TIMING: dataset construction took 0.036 s\n",
            "Loading dataset from disk.\n"
          ],
          "name": "stdout"
        },
        {
          "output_type": "stream",
          "text": [
            "2021-04-08 14:37:10,901 Wrote model metadata to file ampl_output/curated_combined_df_1/RF_ecfp_scaffold_regression/5a9ff6a2-77e0-40a3-8da5-af3a13deb163/model_metadata.json\n",
            "2021-04-08 14:37:10,977 Wrote model metrics to file ampl_output/curated_combined_df_1/RF_ecfp_scaffold_regression/5a9ff6a2-77e0-40a3-8da5-af3a13deb163/model_metrics.json\n"
          ],
          "name": "stderr"
        },
        {
          "output_type": "stream",
          "text": [
            "Wrote model tarball to ampl_output/curated_combined_df_1_model_5a9ff6a2-77e0-40a3-8da5-af3a13deb163.tar.gz\n",
            "rf_estimators: 300, rf_max_depth: 8, rf_max_features: 50, valid_r2: 0.34609240756666904\n",
            "number of features: 1024\n"
          ],
          "name": "stdout"
        },
        {
          "output_type": "stream",
          "text": [
            "2021-04-08 14:37:42,931 Previous dataset split restored\n"
          ],
          "name": "stderr"
        },
        {
          "output_type": "stream",
          "text": [
            "n_cnt [5081.]\n",
            "y_means [7.00554977]\n",
            "y_stds [1.25378881]\n",
            "TIMING: dataset construction took 0.222 s\n",
            "Loading dataset from disk.\n",
            "TIMING: dataset construction took 0.033 s\n",
            "Loading dataset from disk.\n",
            "TIMING: dataset construction took 0.033 s\n",
            "Loading dataset from disk.\n"
          ],
          "name": "stdout"
        },
        {
          "output_type": "stream",
          "text": [
            "2021-04-08 14:37:49,856 Wrote model metadata to file ampl_output/curated_combined_df_1/RF_ecfp_scaffold_regression/1f7aec3b-e742-46e5-851e-6857a3c6cbd5/model_metadata.json\n",
            "2021-04-08 14:37:49,933 Wrote model metrics to file ampl_output/curated_combined_df_1/RF_ecfp_scaffold_regression/1f7aec3b-e742-46e5-851e-6857a3c6cbd5/model_metrics.json\n"
          ],
          "name": "stderr"
        },
        {
          "output_type": "stream",
          "text": [
            "Wrote model tarball to ampl_output/curated_combined_df_1_model_1f7aec3b-e742-46e5-851e-6857a3c6cbd5.tar.gz\n",
            "rf_estimators: 300, rf_max_depth: 8, rf_max_features: 100, valid_r2: 0.3864699319717283\n",
            "number of features: 1024\n"
          ],
          "name": "stdout"
        },
        {
          "output_type": "stream",
          "text": [
            "2021-04-08 14:38:22,031 Previous dataset split restored\n"
          ],
          "name": "stderr"
        },
        {
          "output_type": "stream",
          "text": [
            "n_cnt [5081.]\n",
            "y_means [7.00554977]\n",
            "y_stds [1.25378881]\n",
            "TIMING: dataset construction took 0.220 s\n",
            "Loading dataset from disk.\n",
            "TIMING: dataset construction took 0.034 s\n",
            "Loading dataset from disk.\n",
            "TIMING: dataset construction took 0.035 s\n",
            "Loading dataset from disk.\n"
          ],
          "name": "stdout"
        },
        {
          "output_type": "stream",
          "text": [
            "2021-04-08 14:38:28,490 Wrote model metadata to file ampl_output/curated_combined_df_1/RF_ecfp_scaffold_regression/7e0326b9-325b-41b2-9dcf-cc07ad36b02b/model_metadata.json\n",
            "2021-04-08 14:38:29,109 Wrote model metrics to file ampl_output/curated_combined_df_1/RF_ecfp_scaffold_regression/7e0326b9-325b-41b2-9dcf-cc07ad36b02b/model_metrics.json\n"
          ],
          "name": "stderr"
        },
        {
          "output_type": "stream",
          "text": [
            "Wrote model tarball to ampl_output/curated_combined_df_1_model_7e0326b9-325b-41b2-9dcf-cc07ad36b02b.tar.gz\n",
            "rf_estimators: 300, rf_max_depth: 25, rf_max_features: 10, valid_r2: 0.47829083268185724\n",
            "number of features: 1024\n"
          ],
          "name": "stdout"
        },
        {
          "output_type": "stream",
          "text": [
            "2021-04-08 14:39:01,026 Previous dataset split restored\n"
          ],
          "name": "stderr"
        },
        {
          "output_type": "stream",
          "text": [
            "n_cnt [5081.]\n",
            "y_means [7.00554977]\n",
            "y_stds [1.25378881]\n",
            "TIMING: dataset construction took 0.223 s\n",
            "Loading dataset from disk.\n",
            "TIMING: dataset construction took 0.034 s\n",
            "Loading dataset from disk.\n",
            "TIMING: dataset construction took 0.036 s\n",
            "Loading dataset from disk.\n"
          ],
          "name": "stdout"
        },
        {
          "output_type": "stream",
          "text": [
            "2021-04-08 14:39:09,147 Wrote model metadata to file ampl_output/curated_combined_df_1/RF_ecfp_scaffold_regression/6274c298-0ca3-4918-9a21-dd9f0927b57d/model_metadata.json\n",
            "2021-04-08 14:39:09,874 Wrote model metrics to file ampl_output/curated_combined_df_1/RF_ecfp_scaffold_regression/6274c298-0ca3-4918-9a21-dd9f0927b57d/model_metrics.json\n"
          ],
          "name": "stderr"
        },
        {
          "output_type": "stream",
          "text": [
            "Wrote model tarball to ampl_output/curated_combined_df_1_model_6274c298-0ca3-4918-9a21-dd9f0927b57d.tar.gz\n",
            "rf_estimators: 300, rf_max_depth: 25, rf_max_features: 25, valid_r2: 0.5165670758683816\n",
            "number of features: 1024\n"
          ],
          "name": "stdout"
        },
        {
          "output_type": "stream",
          "text": [
            "2021-04-08 14:39:42,127 Previous dataset split restored\n"
          ],
          "name": "stderr"
        },
        {
          "output_type": "stream",
          "text": [
            "n_cnt [5081.]\n",
            "y_means [7.00554977]\n",
            "y_stds [1.25378881]\n",
            "TIMING: dataset construction took 0.227 s\n",
            "Loading dataset from disk.\n",
            "TIMING: dataset construction took 0.033 s\n",
            "Loading dataset from disk.\n",
            "TIMING: dataset construction took 0.030 s\n",
            "Loading dataset from disk.\n"
          ],
          "name": "stdout"
        },
        {
          "output_type": "stream",
          "text": [
            "2021-04-08 14:39:50,836 Wrote model metadata to file ampl_output/curated_combined_df_1/RF_ecfp_scaffold_regression/cbf9db3f-a32e-4866-953b-36ca892ed450/model_metadata.json\n",
            "2021-04-08 14:39:51,578 Wrote model metrics to file ampl_output/curated_combined_df_1/RF_ecfp_scaffold_regression/cbf9db3f-a32e-4866-953b-36ca892ed450/model_metrics.json\n"
          ],
          "name": "stderr"
        },
        {
          "output_type": "stream",
          "text": [
            "Wrote model tarball to ampl_output/curated_combined_df_1_model_cbf9db3f-a32e-4866-953b-36ca892ed450.tar.gz\n",
            "rf_estimators: 300, rf_max_depth: 25, rf_max_features: 30, valid_r2: 0.5205138060330375\n",
            "number of features: 1024\n"
          ],
          "name": "stdout"
        },
        {
          "output_type": "stream",
          "text": [
            "2021-04-08 14:40:23,698 Previous dataset split restored\n"
          ],
          "name": "stderr"
        },
        {
          "output_type": "stream",
          "text": [
            "n_cnt [5081.]\n",
            "y_means [7.00554977]\n",
            "y_stds [1.25378881]\n",
            "TIMING: dataset construction took 0.241 s\n",
            "Loading dataset from disk.\n",
            "TIMING: dataset construction took 0.035 s\n",
            "Loading dataset from disk.\n",
            "TIMING: dataset construction took 0.032 s\n",
            "Loading dataset from disk.\n"
          ],
          "name": "stdout"
        },
        {
          "output_type": "stream",
          "text": [
            "2021-04-08 14:40:33,730 Wrote model metadata to file ampl_output/curated_combined_df_1/RF_ecfp_scaffold_regression/8998cf0f-6b8b-477f-9a34-770f9643987c/model_metadata.json\n",
            "2021-04-08 14:40:34,482 Wrote model metrics to file ampl_output/curated_combined_df_1/RF_ecfp_scaffold_regression/8998cf0f-6b8b-477f-9a34-770f9643987c/model_metrics.json\n"
          ],
          "name": "stderr"
        },
        {
          "output_type": "stream",
          "text": [
            "Wrote model tarball to ampl_output/curated_combined_df_1_model_8998cf0f-6b8b-477f-9a34-770f9643987c.tar.gz\n",
            "rf_estimators: 300, rf_max_depth: 25, rf_max_features: 50, valid_r2: 0.5292878301022621\n",
            "number of features: 1024\n"
          ],
          "name": "stdout"
        },
        {
          "output_type": "stream",
          "text": [
            "2021-04-08 14:41:06,757 Previous dataset split restored\n"
          ],
          "name": "stderr"
        },
        {
          "output_type": "stream",
          "text": [
            "n_cnt [5081.]\n",
            "y_means [7.00554977]\n",
            "y_stds [1.25378881]\n",
            "TIMING: dataset construction took 0.223 s\n",
            "Loading dataset from disk.\n",
            "TIMING: dataset construction took 0.037 s\n",
            "Loading dataset from disk.\n",
            "TIMING: dataset construction took 0.031 s\n",
            "Loading dataset from disk.\n"
          ],
          "name": "stdout"
        },
        {
          "output_type": "stream",
          "text": [
            "2021-04-08 14:41:20,316 Wrote model metadata to file ampl_output/curated_combined_df_1/RF_ecfp_scaffold_regression/407a2c56-f333-4517-9e29-7c821f0ed58c/model_metadata.json\n",
            "2021-04-08 14:41:21,078 Wrote model metrics to file ampl_output/curated_combined_df_1/RF_ecfp_scaffold_regression/407a2c56-f333-4517-9e29-7c821f0ed58c/model_metrics.json\n"
          ],
          "name": "stderr"
        },
        {
          "output_type": "stream",
          "text": [
            "Wrote model tarball to ampl_output/curated_combined_df_1_model_407a2c56-f333-4517-9e29-7c821f0ed58c.tar.gz\n",
            "rf_estimators: 300, rf_max_depth: 25, rf_max_features: 100, valid_r2: 0.5351661580846936\n",
            "number of features: 1024\n"
          ],
          "name": "stdout"
        },
        {
          "output_type": "stream",
          "text": [
            "2021-04-08 14:41:53,258 Previous dataset split restored\n"
          ],
          "name": "stderr"
        },
        {
          "output_type": "stream",
          "text": [
            "n_cnt [5081.]\n",
            "y_means [7.00554977]\n",
            "y_stds [1.25378881]\n",
            "TIMING: dataset construction took 0.226 s\n",
            "Loading dataset from disk.\n",
            "TIMING: dataset construction took 0.035 s\n",
            "Loading dataset from disk.\n",
            "TIMING: dataset construction took 0.037 s\n",
            "Loading dataset from disk.\n"
          ],
          "name": "stdout"
        },
        {
          "output_type": "stream",
          "text": [
            "2021-04-08 14:42:02,517 Wrote model metadata to file ampl_output/curated_combined_df_1/RF_ecfp_scaffold_regression/061d639d-ab4d-4ac4-9e4a-c4ab4dc7281c/model_metadata.json\n",
            "2021-04-08 14:42:03,603 Wrote model metrics to file ampl_output/curated_combined_df_1/RF_ecfp_scaffold_regression/061d639d-ab4d-4ac4-9e4a-c4ab4dc7281c/model_metrics.json\n"
          ],
          "name": "stderr"
        },
        {
          "output_type": "stream",
          "text": [
            "Wrote model tarball to ampl_output/curated_combined_df_1_model_061d639d-ab4d-4ac4-9e4a-c4ab4dc7281c.tar.gz\n",
            "rf_estimators: 300, rf_max_depth: 70, rf_max_features: 10, valid_r2: 0.5255343106407713\n",
            "number of features: 1024\n"
          ],
          "name": "stdout"
        },
        {
          "output_type": "stream",
          "text": [
            "2021-04-08 14:42:35,881 Previous dataset split restored\n"
          ],
          "name": "stderr"
        },
        {
          "output_type": "stream",
          "text": [
            "n_cnt [5081.]\n",
            "y_means [7.00554977]\n",
            "y_stds [1.25378881]\n",
            "TIMING: dataset construction took 0.228 s\n",
            "Loading dataset from disk.\n",
            "TIMING: dataset construction took 0.034 s\n",
            "Loading dataset from disk.\n",
            "TIMING: dataset construction took 0.033 s\n",
            "Loading dataset from disk.\n"
          ],
          "name": "stdout"
        },
        {
          "output_type": "stream",
          "text": [
            "2021-04-08 14:42:46,161 Wrote model metadata to file ampl_output/curated_combined_df_1/RF_ecfp_scaffold_regression/2ce22341-6dcd-4e3d-bf62-3192acbe320b/model_metadata.json\n",
            "2021-04-08 14:42:47,250 Wrote model metrics to file ampl_output/curated_combined_df_1/RF_ecfp_scaffold_regression/2ce22341-6dcd-4e3d-bf62-3192acbe320b/model_metrics.json\n"
          ],
          "name": "stderr"
        },
        {
          "output_type": "stream",
          "text": [
            "Wrote model tarball to ampl_output/curated_combined_df_1_model_2ce22341-6dcd-4e3d-bf62-3192acbe320b.tar.gz\n",
            "rf_estimators: 300, rf_max_depth: 70, rf_max_features: 25, valid_r2: 0.5354141559925535\n",
            "number of features: 1024\n"
          ],
          "name": "stdout"
        },
        {
          "output_type": "stream",
          "text": [
            "2021-04-08 14:43:19,583 Previous dataset split restored\n"
          ],
          "name": "stderr"
        },
        {
          "output_type": "stream",
          "text": [
            "n_cnt [5081.]\n",
            "y_means [7.00554977]\n",
            "y_stds [1.25378881]\n",
            "TIMING: dataset construction took 0.226 s\n",
            "Loading dataset from disk.\n",
            "TIMING: dataset construction took 0.033 s\n",
            "Loading dataset from disk.\n",
            "TIMING: dataset construction took 0.036 s\n",
            "Loading dataset from disk.\n"
          ],
          "name": "stdout"
        },
        {
          "output_type": "stream",
          "text": [
            "2021-04-08 14:43:30,279 Wrote model metadata to file ampl_output/curated_combined_df_1/RF_ecfp_scaffold_regression/5bed64c7-8a3e-4eb9-87f5-a9af96cfb215/model_metadata.json\n",
            "2021-04-08 14:43:31,368 Wrote model metrics to file ampl_output/curated_combined_df_1/RF_ecfp_scaffold_regression/5bed64c7-8a3e-4eb9-87f5-a9af96cfb215/model_metrics.json\n"
          ],
          "name": "stderr"
        },
        {
          "output_type": "stream",
          "text": [
            "Wrote model tarball to ampl_output/curated_combined_df_1_model_5bed64c7-8a3e-4eb9-87f5-a9af96cfb215.tar.gz\n",
            "rf_estimators: 300, rf_max_depth: 70, rf_max_features: 30, valid_r2: 0.5295336249006293\n",
            "number of features: 1024\n"
          ],
          "name": "stdout"
        },
        {
          "output_type": "stream",
          "text": [
            "2021-04-08 14:44:03,621 Previous dataset split restored\n"
          ],
          "name": "stderr"
        },
        {
          "output_type": "stream",
          "text": [
            "n_cnt [5081.]\n",
            "y_means [7.00554977]\n",
            "y_stds [1.25378881]\n",
            "TIMING: dataset construction took 0.221 s\n",
            "Loading dataset from disk.\n",
            "TIMING: dataset construction took 0.032 s\n",
            "Loading dataset from disk.\n",
            "TIMING: dataset construction took 0.030 s\n",
            "Loading dataset from disk.\n"
          ],
          "name": "stdout"
        },
        {
          "output_type": "stream",
          "text": [
            "2021-04-08 14:44:15,562 Wrote model metadata to file ampl_output/curated_combined_df_1/RF_ecfp_scaffold_regression/44065d78-a7aa-4d9d-a31c-278dd966b4ec/model_metadata.json\n",
            "2021-04-08 14:44:16,631 Wrote model metrics to file ampl_output/curated_combined_df_1/RF_ecfp_scaffold_regression/44065d78-a7aa-4d9d-a31c-278dd966b4ec/model_metrics.json\n"
          ],
          "name": "stderr"
        },
        {
          "output_type": "stream",
          "text": [
            "Wrote model tarball to ampl_output/curated_combined_df_1_model_44065d78-a7aa-4d9d-a31c-278dd966b4ec.tar.gz\n",
            "rf_estimators: 300, rf_max_depth: 70, rf_max_features: 50, valid_r2: 0.5326037465816613\n",
            "number of features: 1024\n"
          ],
          "name": "stdout"
        },
        {
          "output_type": "stream",
          "text": [
            "2021-04-08 14:44:49,003 Previous dataset split restored\n"
          ],
          "name": "stderr"
        },
        {
          "output_type": "stream",
          "text": [
            "n_cnt [5081.]\n",
            "y_means [7.00554977]\n",
            "y_stds [1.25378881]\n",
            "TIMING: dataset construction took 0.233 s\n",
            "Loading dataset from disk.\n",
            "TIMING: dataset construction took 0.036 s\n",
            "Loading dataset from disk.\n",
            "TIMING: dataset construction took 0.032 s\n",
            "Loading dataset from disk.\n"
          ],
          "name": "stdout"
        },
        {
          "output_type": "stream",
          "text": [
            "2021-04-08 14:45:04,590 Wrote model metadata to file ampl_output/curated_combined_df_1/RF_ecfp_scaffold_regression/ef068edf-24b7-4302-87b1-41a4d8a0dd5c/model_metadata.json\n",
            "2021-04-08 14:45:05,662 Wrote model metrics to file ampl_output/curated_combined_df_1/RF_ecfp_scaffold_regression/ef068edf-24b7-4302-87b1-41a4d8a0dd5c/model_metrics.json\n"
          ],
          "name": "stderr"
        },
        {
          "output_type": "stream",
          "text": [
            "Wrote model tarball to ampl_output/curated_combined_df_1_model_ef068edf-24b7-4302-87b1-41a4d8a0dd5c.tar.gz\n",
            "rf_estimators: 300, rf_max_depth: 70, rf_max_features: 100, valid_r2: 0.5491491230872441\n",
            "number of features: 1024\n"
          ],
          "name": "stdout"
        },
        {
          "output_type": "stream",
          "text": [
            "2021-04-08 14:45:37,937 Previous dataset split restored\n"
          ],
          "name": "stderr"
        },
        {
          "output_type": "stream",
          "text": [
            "n_cnt [5081.]\n",
            "y_means [7.00554977]\n",
            "y_stds [1.25378881]\n",
            "TIMING: dataset construction took 0.224 s\n",
            "Loading dataset from disk.\n",
            "TIMING: dataset construction took 0.032 s\n",
            "Loading dataset from disk.\n",
            "TIMING: dataset construction took 0.030 s\n",
            "Loading dataset from disk.\n"
          ],
          "name": "stdout"
        },
        {
          "output_type": "stream",
          "text": [
            "2021-04-08 14:45:47,236 Wrote model metadata to file ampl_output/curated_combined_df_1/RF_ecfp_scaffold_regression/76b794d5-8227-49f0-9860-c07b18a13a82/model_metadata.json\n",
            "2021-04-08 14:45:48,313 Wrote model metrics to file ampl_output/curated_combined_df_1/RF_ecfp_scaffold_regression/76b794d5-8227-49f0-9860-c07b18a13a82/model_metrics.json\n"
          ],
          "name": "stderr"
        },
        {
          "output_type": "stream",
          "text": [
            "Wrote model tarball to ampl_output/curated_combined_df_1_model_76b794d5-8227-49f0-9860-c07b18a13a82.tar.gz\n",
            "rf_estimators: 300, rf_max_depth: 150, rf_max_features: 10, valid_r2: 0.52116003422317\n",
            "number of features: 1024\n"
          ],
          "name": "stdout"
        },
        {
          "output_type": "stream",
          "text": [
            "2021-04-08 14:46:20,531 Previous dataset split restored\n"
          ],
          "name": "stderr"
        },
        {
          "output_type": "stream",
          "text": [
            "n_cnt [5081.]\n",
            "y_means [7.00554977]\n",
            "y_stds [1.25378881]\n",
            "TIMING: dataset construction took 0.229 s\n",
            "Loading dataset from disk.\n",
            "TIMING: dataset construction took 0.033 s\n",
            "Loading dataset from disk.\n",
            "TIMING: dataset construction took 0.032 s\n",
            "Loading dataset from disk.\n"
          ],
          "name": "stdout"
        },
        {
          "output_type": "stream",
          "text": [
            "2021-04-08 14:46:30,763 Wrote model metadata to file ampl_output/curated_combined_df_1/RF_ecfp_scaffold_regression/fc06d862-ba9e-4a50-a16f-b5c7eeda3eb3/model_metadata.json\n",
            "2021-04-08 14:46:31,838 Wrote model metrics to file ampl_output/curated_combined_df_1/RF_ecfp_scaffold_regression/fc06d862-ba9e-4a50-a16f-b5c7eeda3eb3/model_metrics.json\n"
          ],
          "name": "stderr"
        },
        {
          "output_type": "stream",
          "text": [
            "Wrote model tarball to ampl_output/curated_combined_df_1_model_fc06d862-ba9e-4a50-a16f-b5c7eeda3eb3.tar.gz\n",
            "rf_estimators: 300, rf_max_depth: 150, rf_max_features: 25, valid_r2: 0.5309003474041452\n",
            "number of features: 1024\n"
          ],
          "name": "stdout"
        },
        {
          "output_type": "stream",
          "text": [
            "2021-04-08 14:47:04,177 Previous dataset split restored\n"
          ],
          "name": "stderr"
        },
        {
          "output_type": "stream",
          "text": [
            "n_cnt [5081.]\n",
            "y_means [7.00554977]\n",
            "y_stds [1.25378881]\n",
            "TIMING: dataset construction took 0.227 s\n",
            "Loading dataset from disk.\n",
            "TIMING: dataset construction took 0.034 s\n",
            "Loading dataset from disk.\n",
            "TIMING: dataset construction took 0.031 s\n",
            "Loading dataset from disk.\n"
          ],
          "name": "stdout"
        },
        {
          "output_type": "stream",
          "text": [
            "2021-04-08 14:47:14,980 Wrote model metadata to file ampl_output/curated_combined_df_1/RF_ecfp_scaffold_regression/7fbf2f91-2981-4896-8a15-3d6230e80d2e/model_metadata.json\n",
            "2021-04-08 14:47:16,054 Wrote model metrics to file ampl_output/curated_combined_df_1/RF_ecfp_scaffold_regression/7fbf2f91-2981-4896-8a15-3d6230e80d2e/model_metrics.json\n"
          ],
          "name": "stderr"
        },
        {
          "output_type": "stream",
          "text": [
            "Wrote model tarball to ampl_output/curated_combined_df_1_model_7fbf2f91-2981-4896-8a15-3d6230e80d2e.tar.gz\n",
            "rf_estimators: 300, rf_max_depth: 150, rf_max_features: 30, valid_r2: 0.5332211504671045\n",
            "number of features: 1024\n"
          ],
          "name": "stdout"
        },
        {
          "output_type": "stream",
          "text": [
            "2021-04-08 14:47:48,319 Previous dataset split restored\n"
          ],
          "name": "stderr"
        },
        {
          "output_type": "stream",
          "text": [
            "n_cnt [5081.]\n",
            "y_means [7.00554977]\n",
            "y_stds [1.25378881]\n",
            "TIMING: dataset construction took 0.225 s\n",
            "Loading dataset from disk.\n",
            "TIMING: dataset construction took 0.032 s\n",
            "Loading dataset from disk.\n",
            "TIMING: dataset construction took 0.032 s\n",
            "Loading dataset from disk.\n"
          ],
          "name": "stdout"
        },
        {
          "output_type": "stream",
          "text": [
            "2021-04-08 14:48:00,593 Wrote model metadata to file ampl_output/curated_combined_df_1/RF_ecfp_scaffold_regression/f96cba07-1830-4a7f-ba23-3d0b510222ce/model_metadata.json\n",
            "2021-04-08 14:48:01,659 Wrote model metrics to file ampl_output/curated_combined_df_1/RF_ecfp_scaffold_regression/f96cba07-1830-4a7f-ba23-3d0b510222ce/model_metrics.json\n"
          ],
          "name": "stderr"
        },
        {
          "output_type": "stream",
          "text": [
            "Wrote model tarball to ampl_output/curated_combined_df_1_model_f96cba07-1830-4a7f-ba23-3d0b510222ce.tar.gz\n",
            "rf_estimators: 300, rf_max_depth: 150, rf_max_features: 50, valid_r2: 0.5306424763854201\n",
            "number of features: 1024\n"
          ],
          "name": "stdout"
        },
        {
          "output_type": "stream",
          "text": [
            "2021-04-08 14:48:33,972 Previous dataset split restored\n"
          ],
          "name": "stderr"
        },
        {
          "output_type": "stream",
          "text": [
            "n_cnt [5081.]\n",
            "y_means [7.00554977]\n",
            "y_stds [1.25378881]\n",
            "TIMING: dataset construction took 0.222 s\n",
            "Loading dataset from disk.\n",
            "TIMING: dataset construction took 0.033 s\n",
            "Loading dataset from disk.\n",
            "TIMING: dataset construction took 0.032 s\n",
            "Loading dataset from disk.\n"
          ],
          "name": "stdout"
        },
        {
          "output_type": "stream",
          "text": [
            "2021-04-08 14:48:50,074 Wrote model metadata to file ampl_output/curated_combined_df_1/RF_ecfp_scaffold_regression/df8f952e-3227-469c-83e0-bee976f816b2/model_metadata.json\n",
            "2021-04-08 14:48:51,146 Wrote model metrics to file ampl_output/curated_combined_df_1/RF_ecfp_scaffold_regression/df8f952e-3227-469c-83e0-bee976f816b2/model_metrics.json\n"
          ],
          "name": "stderr"
        },
        {
          "output_type": "stream",
          "text": [
            "Wrote model tarball to ampl_output/curated_combined_df_1_model_df8f952e-3227-469c-83e0-bee976f816b2.tar.gz\n",
            "rf_estimators: 300, rf_max_depth: 150, rf_max_features: 100, valid_r2: 0.5401872637179082\n",
            "number of features: 1024\n"
          ],
          "name": "stdout"
        },
        {
          "output_type": "stream",
          "text": [
            "2021-04-08 14:49:23,436 Previous dataset split restored\n"
          ],
          "name": "stderr"
        },
        {
          "output_type": "stream",
          "text": [
            "n_cnt [5081.]\n",
            "y_means [7.00554977]\n",
            "y_stds [1.25378881]\n",
            "TIMING: dataset construction took 0.232 s\n",
            "Loading dataset from disk.\n",
            "TIMING: dataset construction took 0.033 s\n",
            "Loading dataset from disk.\n",
            "TIMING: dataset construction took 0.032 s\n",
            "Loading dataset from disk.\n"
          ],
          "name": "stdout"
        },
        {
          "output_type": "stream",
          "text": [
            "2021-04-08 14:49:32,834 Wrote model metadata to file ampl_output/curated_combined_df_1/RF_ecfp_scaffold_regression/0d5cdfae-5f39-47ae-8f94-2fdec5ed0539/model_metadata.json\n",
            "2021-04-08 14:49:33,935 Wrote model metrics to file ampl_output/curated_combined_df_1/RF_ecfp_scaffold_regression/0d5cdfae-5f39-47ae-8f94-2fdec5ed0539/model_metrics.json\n"
          ],
          "name": "stderr"
        },
        {
          "output_type": "stream",
          "text": [
            "Wrote model tarball to ampl_output/curated_combined_df_1_model_0d5cdfae-5f39-47ae-8f94-2fdec5ed0539.tar.gz\n",
            "rf_estimators: 300, rf_max_depth: 250, rf_max_features: 10, valid_r2: 0.5219664048749308\n",
            "number of features: 1024\n"
          ],
          "name": "stdout"
        },
        {
          "output_type": "stream",
          "text": [
            "2021-04-08 14:50:06,313 Previous dataset split restored\n"
          ],
          "name": "stderr"
        },
        {
          "output_type": "stream",
          "text": [
            "n_cnt [5081.]\n",
            "y_means [7.00554977]\n",
            "y_stds [1.25378881]\n",
            "TIMING: dataset construction took 0.231 s\n",
            "Loading dataset from disk.\n",
            "TIMING: dataset construction took 0.033 s\n",
            "Loading dataset from disk.\n",
            "TIMING: dataset construction took 0.031 s\n",
            "Loading dataset from disk.\n"
          ],
          "name": "stdout"
        },
        {
          "output_type": "stream",
          "text": [
            "2021-04-08 14:50:16,813 Wrote model metadata to file ampl_output/curated_combined_df_1/RF_ecfp_scaffold_regression/bcd7e628-6849-4148-bf98-d71f06f7f28b/model_metadata.json\n",
            "2021-04-08 14:50:17,908 Wrote model metrics to file ampl_output/curated_combined_df_1/RF_ecfp_scaffold_regression/bcd7e628-6849-4148-bf98-d71f06f7f28b/model_metrics.json\n"
          ],
          "name": "stderr"
        },
        {
          "output_type": "stream",
          "text": [
            "Wrote model tarball to ampl_output/curated_combined_df_1_model_bcd7e628-6849-4148-bf98-d71f06f7f28b.tar.gz\n",
            "rf_estimators: 300, rf_max_depth: 250, rf_max_features: 25, valid_r2: 0.528121856605342\n",
            "number of features: 1024\n"
          ],
          "name": "stdout"
        },
        {
          "output_type": "stream",
          "text": [
            "2021-04-08 14:50:50,333 Previous dataset split restored\n"
          ],
          "name": "stderr"
        },
        {
          "output_type": "stream",
          "text": [
            "n_cnt [5081.]\n",
            "y_means [7.00554977]\n",
            "y_stds [1.25378881]\n",
            "TIMING: dataset construction took 0.228 s\n",
            "Loading dataset from disk.\n",
            "TIMING: dataset construction took 0.033 s\n",
            "Loading dataset from disk.\n",
            "TIMING: dataset construction took 0.031 s\n",
            "Loading dataset from disk.\n"
          ],
          "name": "stdout"
        },
        {
          "output_type": "stream",
          "text": [
            "2021-04-08 14:51:01,256 Wrote model metadata to file ampl_output/curated_combined_df_1/RF_ecfp_scaffold_regression/29194512-0f53-465e-b05e-180a657dcba5/model_metadata.json\n",
            "2021-04-08 14:51:02,340 Wrote model metrics to file ampl_output/curated_combined_df_1/RF_ecfp_scaffold_regression/29194512-0f53-465e-b05e-180a657dcba5/model_metrics.json\n"
          ],
          "name": "stderr"
        },
        {
          "output_type": "stream",
          "text": [
            "Wrote model tarball to ampl_output/curated_combined_df_1_model_29194512-0f53-465e-b05e-180a657dcba5.tar.gz\n",
            "rf_estimators: 300, rf_max_depth: 250, rf_max_features: 30, valid_r2: 0.5303145397711432\n",
            "number of features: 1024\n"
          ],
          "name": "stdout"
        },
        {
          "output_type": "stream",
          "text": [
            "2021-04-08 14:51:34,649 Previous dataset split restored\n"
          ],
          "name": "stderr"
        },
        {
          "output_type": "stream",
          "text": [
            "n_cnt [5081.]\n",
            "y_means [7.00554977]\n",
            "y_stds [1.25378881]\n",
            "TIMING: dataset construction took 0.234 s\n",
            "Loading dataset from disk.\n",
            "TIMING: dataset construction took 0.033 s\n",
            "Loading dataset from disk.\n",
            "TIMING: dataset construction took 0.032 s\n",
            "Loading dataset from disk.\n"
          ],
          "name": "stdout"
        },
        {
          "output_type": "stream",
          "text": [
            "2021-04-08 14:51:47,146 Wrote model metadata to file ampl_output/curated_combined_df_1/RF_ecfp_scaffold_regression/50e275c9-c7a2-486b-a8f1-e41d80d9b46a/model_metadata.json\n",
            "2021-04-08 14:51:48,247 Wrote model metrics to file ampl_output/curated_combined_df_1/RF_ecfp_scaffold_regression/50e275c9-c7a2-486b-a8f1-e41d80d9b46a/model_metrics.json\n"
          ],
          "name": "stderr"
        },
        {
          "output_type": "stream",
          "text": [
            "Wrote model tarball to ampl_output/curated_combined_df_1_model_50e275c9-c7a2-486b-a8f1-e41d80d9b46a.tar.gz\n",
            "rf_estimators: 300, rf_max_depth: 250, rf_max_features: 50, valid_r2: 0.5400067397658126\n",
            "number of features: 1024\n"
          ],
          "name": "stdout"
        },
        {
          "output_type": "stream",
          "text": [
            "2021-04-08 14:52:20,536 Previous dataset split restored\n"
          ],
          "name": "stderr"
        },
        {
          "output_type": "stream",
          "text": [
            "n_cnt [5081.]\n",
            "y_means [7.00554977]\n",
            "y_stds [1.25378881]\n",
            "TIMING: dataset construction took 0.223 s\n",
            "Loading dataset from disk.\n",
            "TIMING: dataset construction took 0.034 s\n",
            "Loading dataset from disk.\n",
            "TIMING: dataset construction took 0.032 s\n",
            "Loading dataset from disk.\n"
          ],
          "name": "stdout"
        },
        {
          "output_type": "stream",
          "text": [
            "2021-04-08 14:52:36,725 Wrote model metadata to file ampl_output/curated_combined_df_1/RF_ecfp_scaffold_regression/e054fa5c-2f2e-466e-920f-c5678d582fbb/model_metadata.json\n",
            "2021-04-08 14:52:37,798 Wrote model metrics to file ampl_output/curated_combined_df_1/RF_ecfp_scaffold_regression/e054fa5c-2f2e-466e-920f-c5678d582fbb/model_metrics.json\n"
          ],
          "name": "stderr"
        },
        {
          "output_type": "stream",
          "text": [
            "Wrote model tarball to ampl_output/curated_combined_df_1_model_e054fa5c-2f2e-466e-920f-c5678d582fbb.tar.gz\n",
            "rf_estimators: 300, rf_max_depth: 250, rf_max_features: 100, valid_r2: 0.5340525561660241\n",
            "number of features: 1024\n"
          ],
          "name": "stdout"
        },
        {
          "output_type": "stream",
          "text": [
            "2021-04-08 14:53:10,029 Previous dataset split restored\n"
          ],
          "name": "stderr"
        },
        {
          "output_type": "stream",
          "text": [
            "n_cnt [5081.]\n",
            "y_means [7.00554977]\n",
            "y_stds [1.25378881]\n",
            "TIMING: dataset construction took 0.230 s\n",
            "Loading dataset from disk.\n",
            "TIMING: dataset construction took 0.032 s\n",
            "Loading dataset from disk.\n",
            "TIMING: dataset construction took 0.032 s\n",
            "Loading dataset from disk.\n"
          ],
          "name": "stdout"
        },
        {
          "output_type": "stream",
          "text": [
            "2021-04-08 14:53:14,174 Wrote model metadata to file ampl_output/curated_combined_df_1/RF_ecfp_scaffold_regression/82305efd-6fd8-4d25-a80b-bf01e8b695a3/model_metadata.json\n",
            "2021-04-08 14:53:14,247 Wrote model metrics to file ampl_output/curated_combined_df_1/RF_ecfp_scaffold_regression/82305efd-6fd8-4d25-a80b-bf01e8b695a3/model_metrics.json\n"
          ],
          "name": "stderr"
        },
        {
          "output_type": "stream",
          "text": [
            "Wrote model tarball to ampl_output/curated_combined_df_1_model_82305efd-6fd8-4d25-a80b-bf01e8b695a3.tar.gz\n",
            "rf_estimators: 400, rf_max_depth: 8, rf_max_features: 10, valid_r2: 0.2167869001471009\n",
            "number of features: 1024\n"
          ],
          "name": "stdout"
        },
        {
          "output_type": "stream",
          "text": [
            "2021-04-08 14:53:46,432 Previous dataset split restored\n"
          ],
          "name": "stderr"
        },
        {
          "output_type": "stream",
          "text": [
            "n_cnt [5081.]\n",
            "y_means [7.00554977]\n",
            "y_stds [1.25378881]\n",
            "TIMING: dataset construction took 0.243 s\n",
            "Loading dataset from disk.\n",
            "TIMING: dataset construction took 0.033 s\n",
            "Loading dataset from disk.\n",
            "TIMING: dataset construction took 0.031 s\n",
            "Loading dataset from disk.\n"
          ],
          "name": "stdout"
        },
        {
          "output_type": "stream",
          "text": [
            "2021-04-08 14:53:50,939 Wrote model metadata to file ampl_output/curated_combined_df_1/RF_ecfp_scaffold_regression/395896fe-472f-49b2-ac7a-4904e5f741e2/model_metadata.json\n",
            "2021-04-08 14:53:51,031 Wrote model metrics to file ampl_output/curated_combined_df_1/RF_ecfp_scaffold_regression/395896fe-472f-49b2-ac7a-4904e5f741e2/model_metrics.json\n"
          ],
          "name": "stderr"
        },
        {
          "output_type": "stream",
          "text": [
            "Wrote model tarball to ampl_output/curated_combined_df_1_model_395896fe-472f-49b2-ac7a-4904e5f741e2.tar.gz\n",
            "rf_estimators: 400, rf_max_depth: 8, rf_max_features: 25, valid_r2: 0.2999470815110522\n",
            "number of features: 1024\n"
          ],
          "name": "stdout"
        },
        {
          "output_type": "stream",
          "text": [
            "2021-04-08 14:54:23,117 Previous dataset split restored\n"
          ],
          "name": "stderr"
        },
        {
          "output_type": "stream",
          "text": [
            "n_cnt [5081.]\n",
            "y_means [7.00554977]\n",
            "y_stds [1.25378881]\n",
            "TIMING: dataset construction took 0.227 s\n",
            "Loading dataset from disk.\n",
            "TIMING: dataset construction took 0.032 s\n",
            "Loading dataset from disk.\n",
            "TIMING: dataset construction took 0.032 s\n",
            "Loading dataset from disk.\n"
          ],
          "name": "stdout"
        },
        {
          "output_type": "stream",
          "text": [
            "2021-04-08 14:54:27,749 Wrote model metadata to file ampl_output/curated_combined_df_1/RF_ecfp_scaffold_regression/3897c2b7-445b-42f7-80f6-9d086a95e981/model_metadata.json\n",
            "2021-04-08 14:54:27,836 Wrote model metrics to file ampl_output/curated_combined_df_1/RF_ecfp_scaffold_regression/3897c2b7-445b-42f7-80f6-9d086a95e981/model_metrics.json\n"
          ],
          "name": "stderr"
        },
        {
          "output_type": "stream",
          "text": [
            "Wrote model tarball to ampl_output/curated_combined_df_1_model_3897c2b7-445b-42f7-80f6-9d086a95e981.tar.gz\n",
            "rf_estimators: 400, rf_max_depth: 8, rf_max_features: 30, valid_r2: 0.31581504249507664\n",
            "number of features: 1024\n"
          ],
          "name": "stdout"
        },
        {
          "output_type": "stream",
          "text": [
            "2021-04-08 14:54:59,841 Previous dataset split restored\n"
          ],
          "name": "stderr"
        },
        {
          "output_type": "stream",
          "text": [
            "n_cnt [5081.]\n",
            "y_means [7.00554977]\n",
            "y_stds [1.25378881]\n",
            "TIMING: dataset construction took 0.226 s\n",
            "Loading dataset from disk.\n",
            "TIMING: dataset construction took 0.034 s\n",
            "Loading dataset from disk.\n",
            "TIMING: dataset construction took 0.032 s\n",
            "Loading dataset from disk.\n"
          ],
          "name": "stdout"
        },
        {
          "output_type": "stream",
          "text": [
            "2021-04-08 14:55:05,112 Wrote model metadata to file ampl_output/curated_combined_df_1/RF_ecfp_scaffold_regression/63ef4f79-252a-41a9-88da-92fd785d3237/model_metadata.json\n",
            "2021-04-08 14:55:05,208 Wrote model metrics to file ampl_output/curated_combined_df_1/RF_ecfp_scaffold_regression/63ef4f79-252a-41a9-88da-92fd785d3237/model_metrics.json\n"
          ],
          "name": "stderr"
        },
        {
          "output_type": "stream",
          "text": [
            "Wrote model tarball to ampl_output/curated_combined_df_1_model_63ef4f79-252a-41a9-88da-92fd785d3237.tar.gz\n",
            "rf_estimators: 400, rf_max_depth: 8, rf_max_features: 50, valid_r2: 0.3536487795681119\n",
            "number of features: 1024\n"
          ],
          "name": "stdout"
        },
        {
          "output_type": "stream",
          "text": [
            "2021-04-08 14:55:37,132 Previous dataset split restored\n"
          ],
          "name": "stderr"
        },
        {
          "output_type": "stream",
          "text": [
            "n_cnt [5081.]\n",
            "y_means [7.00554977]\n",
            "y_stds [1.25378881]\n",
            "TIMING: dataset construction took 0.230 s\n",
            "Loading dataset from disk.\n",
            "TIMING: dataset construction took 0.035 s\n",
            "Loading dataset from disk.\n",
            "TIMING: dataset construction took 0.032 s\n",
            "Loading dataset from disk.\n"
          ],
          "name": "stdout"
        },
        {
          "output_type": "stream",
          "text": [
            "2021-04-08 14:55:44,091 Wrote model metadata to file ampl_output/curated_combined_df_1/RF_ecfp_scaffold_regression/10272a36-8a1a-4451-9646-1de82f9d5948/model_metadata.json\n",
            "2021-04-08 14:55:44,190 Wrote model metrics to file ampl_output/curated_combined_df_1/RF_ecfp_scaffold_regression/10272a36-8a1a-4451-9646-1de82f9d5948/model_metrics.json\n"
          ],
          "name": "stderr"
        },
        {
          "output_type": "stream",
          "text": [
            "Wrote model tarball to ampl_output/curated_combined_df_1_model_10272a36-8a1a-4451-9646-1de82f9d5948.tar.gz\n",
            "rf_estimators: 400, rf_max_depth: 8, rf_max_features: 100, valid_r2: 0.3908995398302222\n",
            "number of features: 1024\n"
          ],
          "name": "stdout"
        },
        {
          "output_type": "stream",
          "text": [
            "2021-04-08 14:56:16,128 Previous dataset split restored\n"
          ],
          "name": "stderr"
        },
        {
          "output_type": "stream",
          "text": [
            "n_cnt [5081.]\n",
            "y_means [7.00554977]\n",
            "y_stds [1.25378881]\n",
            "TIMING: dataset construction took 0.230 s\n",
            "Loading dataset from disk.\n",
            "TIMING: dataset construction took 0.033 s\n",
            "Loading dataset from disk.\n",
            "TIMING: dataset construction took 0.032 s\n",
            "Loading dataset from disk.\n"
          ],
          "name": "stdout"
        },
        {
          "output_type": "stream",
          "text": [
            "2021-04-08 14:56:23,977 Wrote model metadata to file ampl_output/curated_combined_df_1/RF_ecfp_scaffold_regression/664bd0ad-ec8a-4040-bbb3-dc4407efdcd1/model_metadata.json\n",
            "2021-04-08 14:56:24,794 Wrote model metrics to file ampl_output/curated_combined_df_1/RF_ecfp_scaffold_regression/664bd0ad-ec8a-4040-bbb3-dc4407efdcd1/model_metrics.json\n"
          ],
          "name": "stderr"
        },
        {
          "output_type": "stream",
          "text": [
            "Wrote model tarball to ampl_output/curated_combined_df_1_model_664bd0ad-ec8a-4040-bbb3-dc4407efdcd1.tar.gz\n",
            "rf_estimators: 400, rf_max_depth: 25, rf_max_features: 10, valid_r2: 0.47017157531353904\n",
            "number of features: 1024\n"
          ],
          "name": "stdout"
        },
        {
          "output_type": "stream",
          "text": [
            "2021-04-08 14:56:56,945 Previous dataset split restored\n"
          ],
          "name": "stderr"
        },
        {
          "output_type": "stream",
          "text": [
            "n_cnt [5081.]\n",
            "y_means [7.00554977]\n",
            "y_stds [1.25378881]\n",
            "TIMING: dataset construction took 0.223 s\n",
            "Loading dataset from disk.\n",
            "TIMING: dataset construction took 0.039 s\n",
            "Loading dataset from disk.\n",
            "TIMING: dataset construction took 0.041 s\n",
            "Loading dataset from disk.\n"
          ],
          "name": "stdout"
        },
        {
          "output_type": "stream",
          "text": [
            "2021-04-08 14:57:06,950 Wrote model metadata to file ampl_output/curated_combined_df_1/RF_ecfp_scaffold_regression/c71b8413-0c55-4dce-b96b-940c78274af1/model_metadata.json\n",
            "2021-04-08 14:57:07,889 Wrote model metrics to file ampl_output/curated_combined_df_1/RF_ecfp_scaffold_regression/c71b8413-0c55-4dce-b96b-940c78274af1/model_metrics.json\n"
          ],
          "name": "stderr"
        },
        {
          "output_type": "stream",
          "text": [
            "Wrote model tarball to ampl_output/curated_combined_df_1_model_c71b8413-0c55-4dce-b96b-940c78274af1.tar.gz\n",
            "rf_estimators: 400, rf_max_depth: 25, rf_max_features: 25, valid_r2: 0.5143209725604109\n",
            "number of features: 1024\n"
          ],
          "name": "stdout"
        },
        {
          "output_type": "stream",
          "text": [
            "2021-04-08 14:57:39,948 Previous dataset split restored\n"
          ],
          "name": "stderr"
        },
        {
          "output_type": "stream",
          "text": [
            "n_cnt [5081.]\n",
            "y_means [7.00554977]\n",
            "y_stds [1.25378881]\n",
            "TIMING: dataset construction took 0.233 s\n",
            "Loading dataset from disk.\n",
            "TIMING: dataset construction took 0.035 s\n",
            "Loading dataset from disk.\n",
            "TIMING: dataset construction took 0.045 s\n",
            "Loading dataset from disk.\n"
          ],
          "name": "stdout"
        },
        {
          "output_type": "stream",
          "text": [
            "2021-04-08 14:57:50,575 Wrote model metadata to file ampl_output/curated_combined_df_1/RF_ecfp_scaffold_regression/775c7db2-7695-40b5-9ebb-06a852c35feb/model_metadata.json\n",
            "2021-04-08 14:57:51,562 Wrote model metrics to file ampl_output/curated_combined_df_1/RF_ecfp_scaffold_regression/775c7db2-7695-40b5-9ebb-06a852c35feb/model_metrics.json\n"
          ],
          "name": "stderr"
        },
        {
          "output_type": "stream",
          "text": [
            "Wrote model tarball to ampl_output/curated_combined_df_1_model_775c7db2-7695-40b5-9ebb-06a852c35feb.tar.gz\n",
            "rf_estimators: 400, rf_max_depth: 25, rf_max_features: 30, valid_r2: 0.5192918407361881\n",
            "number of features: 1024\n"
          ],
          "name": "stdout"
        },
        {
          "output_type": "stream",
          "text": [
            "2021-04-08 14:58:23,906 Previous dataset split restored\n"
          ],
          "name": "stderr"
        },
        {
          "output_type": "stream",
          "text": [
            "n_cnt [5081.]\n",
            "y_means [7.00554977]\n",
            "y_stds [1.25378881]\n",
            "TIMING: dataset construction took 0.224 s\n",
            "Loading dataset from disk.\n",
            "TIMING: dataset construction took 0.034 s\n",
            "Loading dataset from disk.\n",
            "TIMING: dataset construction took 0.036 s\n",
            "Loading dataset from disk.\n"
          ],
          "name": "stdout"
        },
        {
          "output_type": "stream",
          "text": [
            "2021-04-08 14:58:37,102 Wrote model metadata to file ampl_output/curated_combined_df_1/RF_ecfp_scaffold_regression/3553007c-488d-4c0a-bd3c-68e677d679f6/model_metadata.json\n",
            "2021-04-08 14:58:38,115 Wrote model metrics to file ampl_output/curated_combined_df_1/RF_ecfp_scaffold_regression/3553007c-488d-4c0a-bd3c-68e677d679f6/model_metrics.json\n"
          ],
          "name": "stderr"
        },
        {
          "output_type": "stream",
          "text": [
            "Wrote model tarball to ampl_output/curated_combined_df_1_model_3553007c-488d-4c0a-bd3c-68e677d679f6.tar.gz\n",
            "rf_estimators: 400, rf_max_depth: 25, rf_max_features: 50, valid_r2: 0.5205803856548982\n",
            "number of features: 1024\n"
          ],
          "name": "stdout"
        },
        {
          "output_type": "stream",
          "text": [
            "2021-04-08 14:59:10,442 Previous dataset split restored\n"
          ],
          "name": "stderr"
        },
        {
          "output_type": "stream",
          "text": [
            "n_cnt [5081.]\n",
            "y_means [7.00554977]\n",
            "y_stds [1.25378881]\n",
            "TIMING: dataset construction took 0.232 s\n",
            "Loading dataset from disk.\n",
            "TIMING: dataset construction took 0.034 s\n",
            "Loading dataset from disk.\n",
            "TIMING: dataset construction took 0.031 s\n",
            "Loading dataset from disk.\n"
          ],
          "name": "stdout"
        },
        {
          "output_type": "stream",
          "text": [
            "2021-04-08 14:59:28,545 Wrote model metadata to file ampl_output/curated_combined_df_1/RF_ecfp_scaffold_regression/29bfbfb7-50a8-42a9-bd8d-f45b37673b3c/model_metadata.json\n",
            "2021-04-08 14:59:29,580 Wrote model metrics to file ampl_output/curated_combined_df_1/RF_ecfp_scaffold_regression/29bfbfb7-50a8-42a9-bd8d-f45b37673b3c/model_metrics.json\n"
          ],
          "name": "stderr"
        },
        {
          "output_type": "stream",
          "text": [
            "Wrote model tarball to ampl_output/curated_combined_df_1_model_29bfbfb7-50a8-42a9-bd8d-f45b37673b3c.tar.gz\n",
            "rf_estimators: 400, rf_max_depth: 25, rf_max_features: 100, valid_r2: 0.5342513658223034\n",
            "number of features: 1024\n"
          ],
          "name": "stdout"
        },
        {
          "output_type": "stream",
          "text": [
            "2021-04-08 15:00:01,808 Previous dataset split restored\n"
          ],
          "name": "stderr"
        },
        {
          "output_type": "stream",
          "text": [
            "n_cnt [5081.]\n",
            "y_means [7.00554977]\n",
            "y_stds [1.25378881]\n",
            "TIMING: dataset construction took 0.231 s\n",
            "Loading dataset from disk.\n",
            "TIMING: dataset construction took 0.035 s\n",
            "Loading dataset from disk.\n",
            "TIMING: dataset construction took 0.036 s\n",
            "Loading dataset from disk.\n"
          ],
          "name": "stdout"
        },
        {
          "output_type": "stream",
          "text": [
            "2021-04-08 15:00:13,689 Wrote model metadata to file ampl_output/curated_combined_df_1/RF_ecfp_scaffold_regression/a3b8c31e-d330-4976-9cdc-36c031ec2000/model_metadata.json\n",
            "2021-04-08 15:00:15,163 Wrote model metrics to file ampl_output/curated_combined_df_1/RF_ecfp_scaffold_regression/a3b8c31e-d330-4976-9cdc-36c031ec2000/model_metrics.json\n"
          ],
          "name": "stderr"
        },
        {
          "output_type": "stream",
          "text": [
            "Wrote model tarball to ampl_output/curated_combined_df_1_model_a3b8c31e-d330-4976-9cdc-36c031ec2000.tar.gz\n",
            "rf_estimators: 400, rf_max_depth: 70, rf_max_features: 10, valid_r2: 0.5156041371005267\n",
            "number of features: 1024\n"
          ],
          "name": "stdout"
        },
        {
          "output_type": "stream",
          "text": [
            "2021-04-08 15:00:47,431 Previous dataset split restored\n"
          ],
          "name": "stderr"
        },
        {
          "output_type": "stream",
          "text": [
            "n_cnt [5081.]\n",
            "y_means [7.00554977]\n",
            "y_stds [1.25378881]\n",
            "TIMING: dataset construction took 0.226 s\n",
            "Loading dataset from disk.\n",
            "TIMING: dataset construction took 0.034 s\n",
            "Loading dataset from disk.\n",
            "TIMING: dataset construction took 0.034 s\n",
            "Loading dataset from disk.\n"
          ],
          "name": "stdout"
        },
        {
          "output_type": "stream",
          "text": [
            "2021-04-08 15:01:00,793 Wrote model metadata to file ampl_output/curated_combined_df_1/RF_ecfp_scaffold_regression/8580acd6-0674-420c-9b77-479ad813616b/model_metadata.json\n",
            "2021-04-08 15:01:02,241 Wrote model metrics to file ampl_output/curated_combined_df_1/RF_ecfp_scaffold_regression/8580acd6-0674-420c-9b77-479ad813616b/model_metrics.json\n"
          ],
          "name": "stderr"
        },
        {
          "output_type": "stream",
          "text": [
            "Wrote model tarball to ampl_output/curated_combined_df_1_model_8580acd6-0674-420c-9b77-479ad813616b.tar.gz\n",
            "rf_estimators: 400, rf_max_depth: 70, rf_max_features: 25, valid_r2: 0.5333353928015366\n",
            "number of features: 1024\n"
          ],
          "name": "stdout"
        },
        {
          "output_type": "stream",
          "text": [
            "2021-04-08 15:01:34,559 Previous dataset split restored\n"
          ],
          "name": "stderr"
        },
        {
          "output_type": "stream",
          "text": [
            "n_cnt [5081.]\n",
            "y_means [7.00554977]\n",
            "y_stds [1.25378881]\n",
            "TIMING: dataset construction took 0.234 s\n",
            "Loading dataset from disk.\n",
            "TIMING: dataset construction took 0.032 s\n",
            "Loading dataset from disk.\n",
            "TIMING: dataset construction took 0.037 s\n",
            "Loading dataset from disk.\n"
          ],
          "name": "stdout"
        },
        {
          "output_type": "stream",
          "text": [
            "2021-04-08 15:01:48,450 Wrote model metadata to file ampl_output/curated_combined_df_1/RF_ecfp_scaffold_regression/8a599431-4946-47ae-a61b-fe7b4ef5cae4/model_metadata.json\n",
            "2021-04-08 15:01:49,880 Wrote model metrics to file ampl_output/curated_combined_df_1/RF_ecfp_scaffold_regression/8a599431-4946-47ae-a61b-fe7b4ef5cae4/model_metrics.json\n"
          ],
          "name": "stderr"
        },
        {
          "output_type": "stream",
          "text": [
            "Wrote model tarball to ampl_output/curated_combined_df_1_model_8a599431-4946-47ae-a61b-fe7b4ef5cae4.tar.gz\n",
            "rf_estimators: 400, rf_max_depth: 70, rf_max_features: 30, valid_r2: 0.5391826243330811\n",
            "number of features: 1024\n"
          ],
          "name": "stdout"
        },
        {
          "output_type": "stream",
          "text": [
            "2021-04-08 15:02:22,082 Previous dataset split restored\n"
          ],
          "name": "stderr"
        },
        {
          "output_type": "stream",
          "text": [
            "n_cnt [5081.]\n",
            "y_means [7.00554977]\n",
            "y_stds [1.25378881]\n",
            "TIMING: dataset construction took 0.223 s\n",
            "Loading dataset from disk.\n",
            "TIMING: dataset construction took 0.033 s\n",
            "Loading dataset from disk.\n",
            "TIMING: dataset construction took 0.034 s\n",
            "Loading dataset from disk.\n"
          ],
          "name": "stdout"
        },
        {
          "output_type": "stream",
          "text": [
            "2021-04-08 15:02:38,120 Wrote model metadata to file ampl_output/curated_combined_df_1/RF_ecfp_scaffold_regression/1b81d9d1-500d-4824-bd18-4e5beadbd888/model_metadata.json\n",
            "2021-04-08 15:02:39,565 Wrote model metrics to file ampl_output/curated_combined_df_1/RF_ecfp_scaffold_regression/1b81d9d1-500d-4824-bd18-4e5beadbd888/model_metrics.json\n"
          ],
          "name": "stderr"
        },
        {
          "output_type": "stream",
          "text": [
            "Wrote model tarball to ampl_output/curated_combined_df_1_model_1b81d9d1-500d-4824-bd18-4e5beadbd888.tar.gz\n",
            "rf_estimators: 400, rf_max_depth: 70, rf_max_features: 50, valid_r2: 0.5396456439108277\n",
            "number of features: 1024\n"
          ],
          "name": "stdout"
        },
        {
          "output_type": "stream",
          "text": [
            "2021-04-08 15:03:11,663 Previous dataset split restored\n"
          ],
          "name": "stderr"
        },
        {
          "output_type": "stream",
          "text": [
            "n_cnt [5081.]\n",
            "y_means [7.00554977]\n",
            "y_stds [1.25378881]\n",
            "TIMING: dataset construction took 0.230 s\n",
            "Loading dataset from disk.\n",
            "TIMING: dataset construction took 0.033 s\n",
            "Loading dataset from disk.\n",
            "TIMING: dataset construction took 0.032 s\n",
            "Loading dataset from disk.\n"
          ],
          "name": "stdout"
        },
        {
          "output_type": "stream",
          "text": [
            "2021-04-08 15:03:32,648 Wrote model metadata to file ampl_output/curated_combined_df_1/RF_ecfp_scaffold_regression/7139f9c3-610d-40df-8a40-8b4dd06c1141/model_metadata.json\n",
            "2021-04-08 15:03:34,065 Wrote model metrics to file ampl_output/curated_combined_df_1/RF_ecfp_scaffold_regression/7139f9c3-610d-40df-8a40-8b4dd06c1141/model_metrics.json\n"
          ],
          "name": "stderr"
        },
        {
          "output_type": "stream",
          "text": [
            "Wrote model tarball to ampl_output/curated_combined_df_1_model_7139f9c3-610d-40df-8a40-8b4dd06c1141.tar.gz\n",
            "rf_estimators: 400, rf_max_depth: 70, rf_max_features: 100, valid_r2: 0.5364813288823658\n",
            "number of features: 1024\n"
          ],
          "name": "stdout"
        },
        {
          "output_type": "stream",
          "text": [
            "2021-04-08 15:04:06,088 Previous dataset split restored\n"
          ],
          "name": "stderr"
        },
        {
          "output_type": "stream",
          "text": [
            "n_cnt [5081.]\n",
            "y_means [7.00554977]\n",
            "y_stds [1.25378881]\n",
            "TIMING: dataset construction took 0.229 s\n",
            "Loading dataset from disk.\n",
            "TIMING: dataset construction took 0.032 s\n",
            "Loading dataset from disk.\n",
            "TIMING: dataset construction took 0.031 s\n",
            "Loading dataset from disk.\n"
          ],
          "name": "stdout"
        },
        {
          "output_type": "stream",
          "text": [
            "2021-04-08 15:04:17,950 Wrote model metadata to file ampl_output/curated_combined_df_1/RF_ecfp_scaffold_regression/b3586bfd-8174-42ec-ab7f-f374db904b26/model_metadata.json\n",
            "2021-04-08 15:04:19,389 Wrote model metrics to file ampl_output/curated_combined_df_1/RF_ecfp_scaffold_regression/b3586bfd-8174-42ec-ab7f-f374db904b26/model_metrics.json\n"
          ],
          "name": "stderr"
        },
        {
          "output_type": "stream",
          "text": [
            "Wrote model tarball to ampl_output/curated_combined_df_1_model_b3586bfd-8174-42ec-ab7f-f374db904b26.tar.gz\n",
            "rf_estimators: 400, rf_max_depth: 150, rf_max_features: 10, valid_r2: 0.5263399699648527\n",
            "number of features: 1024\n"
          ],
          "name": "stdout"
        },
        {
          "output_type": "stream",
          "text": [
            "2021-04-08 15:04:51,733 Previous dataset split restored\n"
          ],
          "name": "stderr"
        },
        {
          "output_type": "stream",
          "text": [
            "n_cnt [5081.]\n",
            "y_means [7.00554977]\n",
            "y_stds [1.25378881]\n",
            "TIMING: dataset construction took 0.235 s\n",
            "Loading dataset from disk.\n",
            "TIMING: dataset construction took 0.033 s\n",
            "Loading dataset from disk.\n",
            "TIMING: dataset construction took 0.030 s\n",
            "Loading dataset from disk.\n"
          ],
          "name": "stdout"
        },
        {
          "output_type": "stream",
          "text": [
            "2021-04-08 15:05:05,293 Wrote model metadata to file ampl_output/curated_combined_df_1/RF_ecfp_scaffold_regression/31d394c0-1c95-43a0-b085-7eb5f71910ba/model_metadata.json\n",
            "2021-04-08 15:05:06,726 Wrote model metrics to file ampl_output/curated_combined_df_1/RF_ecfp_scaffold_regression/31d394c0-1c95-43a0-b085-7eb5f71910ba/model_metrics.json\n"
          ],
          "name": "stderr"
        },
        {
          "output_type": "stream",
          "text": [
            "Wrote model tarball to ampl_output/curated_combined_df_1_model_31d394c0-1c95-43a0-b085-7eb5f71910ba.tar.gz\n",
            "rf_estimators: 400, rf_max_depth: 150, rf_max_features: 25, valid_r2: 0.5349229880011308\n",
            "number of features: 1024\n"
          ],
          "name": "stdout"
        },
        {
          "output_type": "stream",
          "text": [
            "2021-04-08 15:05:38,971 Previous dataset split restored\n"
          ],
          "name": "stderr"
        },
        {
          "output_type": "stream",
          "text": [
            "n_cnt [5081.]\n",
            "y_means [7.00554977]\n",
            "y_stds [1.25378881]\n",
            "TIMING: dataset construction took 0.227 s\n",
            "Loading dataset from disk.\n",
            "TIMING: dataset construction took 0.034 s\n",
            "Loading dataset from disk.\n",
            "TIMING: dataset construction took 0.033 s\n",
            "Loading dataset from disk.\n"
          ],
          "name": "stdout"
        },
        {
          "output_type": "stream",
          "text": [
            "2021-04-08 15:05:52,965 Wrote model metadata to file ampl_output/curated_combined_df_1/RF_ecfp_scaffold_regression/b714ec08-6659-44ca-8d22-8f0dc80fd3ad/model_metadata.json\n",
            "2021-04-08 15:05:54,396 Wrote model metrics to file ampl_output/curated_combined_df_1/RF_ecfp_scaffold_regression/b714ec08-6659-44ca-8d22-8f0dc80fd3ad/model_metrics.json\n"
          ],
          "name": "stderr"
        },
        {
          "output_type": "stream",
          "text": [
            "Wrote model tarball to ampl_output/curated_combined_df_1_model_b714ec08-6659-44ca-8d22-8f0dc80fd3ad.tar.gz\n",
            "rf_estimators: 400, rf_max_depth: 150, rf_max_features: 30, valid_r2: 0.5302733253663925\n",
            "number of features: 1024\n"
          ],
          "name": "stdout"
        },
        {
          "output_type": "stream",
          "text": [
            "2021-04-08 15:06:26,309 Previous dataset split restored\n"
          ],
          "name": "stderr"
        },
        {
          "output_type": "stream",
          "text": [
            "n_cnt [5081.]\n",
            "y_means [7.00554977]\n",
            "y_stds [1.25378881]\n",
            "TIMING: dataset construction took 0.232 s\n",
            "Loading dataset from disk.\n",
            "TIMING: dataset construction took 0.032 s\n",
            "Loading dataset from disk.\n",
            "TIMING: dataset construction took 0.032 s\n",
            "Loading dataset from disk.\n"
          ],
          "name": "stdout"
        },
        {
          "output_type": "stream",
          "text": [
            "2021-04-08 15:06:42,522 Wrote model metadata to file ampl_output/curated_combined_df_1/RF_ecfp_scaffold_regression/52f798b2-9f13-4786-8b3f-9a13b21a6fde/model_metadata.json\n",
            "2021-04-08 15:06:43,933 Wrote model metrics to file ampl_output/curated_combined_df_1/RF_ecfp_scaffold_regression/52f798b2-9f13-4786-8b3f-9a13b21a6fde/model_metrics.json\n"
          ],
          "name": "stderr"
        },
        {
          "output_type": "stream",
          "text": [
            "Wrote model tarball to ampl_output/curated_combined_df_1_model_52f798b2-9f13-4786-8b3f-9a13b21a6fde.tar.gz\n",
            "rf_estimators: 400, rf_max_depth: 150, rf_max_features: 50, valid_r2: 0.5374498858417684\n",
            "number of features: 1024\n"
          ],
          "name": "stdout"
        },
        {
          "output_type": "stream",
          "text": [
            "2021-04-08 15:07:16,006 Previous dataset split restored\n"
          ],
          "name": "stderr"
        },
        {
          "output_type": "stream",
          "text": [
            "n_cnt [5081.]\n",
            "y_means [7.00554977]\n",
            "y_stds [1.25378881]\n",
            "TIMING: dataset construction took 0.234 s\n",
            "Loading dataset from disk.\n",
            "TIMING: dataset construction took 0.033 s\n",
            "Loading dataset from disk.\n",
            "TIMING: dataset construction took 0.031 s\n",
            "Loading dataset from disk.\n"
          ],
          "name": "stdout"
        },
        {
          "output_type": "stream",
          "text": [
            "2021-04-08 15:07:37,050 Wrote model metadata to file ampl_output/curated_combined_df_1/RF_ecfp_scaffold_regression/826e9e7e-b973-4a32-bb83-c8cbe5707180/model_metadata.json\n",
            "2021-04-08 15:07:38,486 Wrote model metrics to file ampl_output/curated_combined_df_1/RF_ecfp_scaffold_regression/826e9e7e-b973-4a32-bb83-c8cbe5707180/model_metrics.json\n"
          ],
          "name": "stderr"
        },
        {
          "output_type": "stream",
          "text": [
            "Wrote model tarball to ampl_output/curated_combined_df_1_model_826e9e7e-b973-4a32-bb83-c8cbe5707180.tar.gz\n",
            "rf_estimators: 400, rf_max_depth: 150, rf_max_features: 100, valid_r2: 0.5439461439157167\n",
            "number of features: 1024\n"
          ],
          "name": "stdout"
        },
        {
          "output_type": "stream",
          "text": [
            "2021-04-08 15:08:10,768 Previous dataset split restored\n"
          ],
          "name": "stderr"
        },
        {
          "output_type": "stream",
          "text": [
            "n_cnt [5081.]\n",
            "y_means [7.00554977]\n",
            "y_stds [1.25378881]\n",
            "TIMING: dataset construction took 0.225 s\n",
            "Loading dataset from disk.\n",
            "TIMING: dataset construction took 0.033 s\n",
            "Loading dataset from disk.\n",
            "TIMING: dataset construction took 0.031 s\n",
            "Loading dataset from disk.\n"
          ],
          "name": "stdout"
        },
        {
          "output_type": "stream",
          "text": [
            "2021-04-08 15:08:22,638 Wrote model metadata to file ampl_output/curated_combined_df_1/RF_ecfp_scaffold_regression/b894e7f3-affd-4822-9a64-860e5f67c47d/model_metadata.json\n",
            "2021-04-08 15:08:24,063 Wrote model metrics to file ampl_output/curated_combined_df_1/RF_ecfp_scaffold_regression/b894e7f3-affd-4822-9a64-860e5f67c47d/model_metrics.json\n"
          ],
          "name": "stderr"
        },
        {
          "output_type": "stream",
          "text": [
            "Wrote model tarball to ampl_output/curated_combined_df_1_model_b894e7f3-affd-4822-9a64-860e5f67c47d.tar.gz\n",
            "rf_estimators: 400, rf_max_depth: 250, rf_max_features: 10, valid_r2: 0.5197499662949032\n",
            "number of features: 1024\n"
          ],
          "name": "stdout"
        },
        {
          "output_type": "stream",
          "text": [
            "2021-04-08 15:08:56,322 Previous dataset split restored\n"
          ],
          "name": "stderr"
        },
        {
          "output_type": "stream",
          "text": [
            "n_cnt [5081.]\n",
            "y_means [7.00554977]\n",
            "y_stds [1.25378881]\n",
            "TIMING: dataset construction took 0.228 s\n",
            "Loading dataset from disk.\n",
            "TIMING: dataset construction took 0.034 s\n",
            "Loading dataset from disk.\n",
            "TIMING: dataset construction took 0.032 s\n",
            "Loading dataset from disk.\n"
          ],
          "name": "stdout"
        },
        {
          "output_type": "stream",
          "text": [
            "2021-04-08 15:09:09,674 Wrote model metadata to file ampl_output/curated_combined_df_1/RF_ecfp_scaffold_regression/36f8377e-a0e2-419b-ae69-b8eeb15424b7/model_metadata.json\n",
            "2021-04-08 15:09:11,100 Wrote model metrics to file ampl_output/curated_combined_df_1/RF_ecfp_scaffold_regression/36f8377e-a0e2-419b-ae69-b8eeb15424b7/model_metrics.json\n"
          ],
          "name": "stderr"
        },
        {
          "output_type": "stream",
          "text": [
            "Wrote model tarball to ampl_output/curated_combined_df_1_model_36f8377e-a0e2-419b-ae69-b8eeb15424b7.tar.gz\n",
            "rf_estimators: 400, rf_max_depth: 250, rf_max_features: 25, valid_r2: 0.5331324124971952\n",
            "number of features: 1024\n"
          ],
          "name": "stdout"
        },
        {
          "output_type": "stream",
          "text": [
            "2021-04-08 15:09:43,438 Previous dataset split restored\n"
          ],
          "name": "stderr"
        },
        {
          "output_type": "stream",
          "text": [
            "n_cnt [5081.]\n",
            "y_means [7.00554977]\n",
            "y_stds [1.25378881]\n",
            "TIMING: dataset construction took 0.232 s\n",
            "Loading dataset from disk.\n",
            "TIMING: dataset construction took 0.032 s\n",
            "Loading dataset from disk.\n",
            "TIMING: dataset construction took 0.033 s\n",
            "Loading dataset from disk.\n"
          ],
          "name": "stdout"
        },
        {
          "output_type": "stream",
          "text": [
            "2021-04-08 15:09:57,418 Wrote model metadata to file ampl_output/curated_combined_df_1/RF_ecfp_scaffold_regression/c048f4d8-4e9e-463e-9f1f-8d6f60ad5281/model_metadata.json\n",
            "2021-04-08 15:09:58,834 Wrote model metrics to file ampl_output/curated_combined_df_1/RF_ecfp_scaffold_regression/c048f4d8-4e9e-463e-9f1f-8d6f60ad5281/model_metrics.json\n"
          ],
          "name": "stderr"
        },
        {
          "output_type": "stream",
          "text": [
            "Wrote model tarball to ampl_output/curated_combined_df_1_model_c048f4d8-4e9e-463e-9f1f-8d6f60ad5281.tar.gz\n",
            "rf_estimators: 400, rf_max_depth: 250, rf_max_features: 30, valid_r2: 0.5336157083335268\n",
            "number of features: 1024\n"
          ],
          "name": "stdout"
        },
        {
          "output_type": "stream",
          "text": [
            "2021-04-08 15:10:31,003 Previous dataset split restored\n"
          ],
          "name": "stderr"
        },
        {
          "output_type": "stream",
          "text": [
            "n_cnt [5081.]\n",
            "y_means [7.00554977]\n",
            "y_stds [1.25378881]\n",
            "TIMING: dataset construction took 0.223 s\n",
            "Loading dataset from disk.\n",
            "TIMING: dataset construction took 0.036 s\n",
            "Loading dataset from disk.\n",
            "TIMING: dataset construction took 0.037 s\n",
            "Loading dataset from disk.\n"
          ],
          "name": "stdout"
        },
        {
          "output_type": "stream",
          "text": [
            "2021-04-08 15:10:46,995 Wrote model metadata to file ampl_output/curated_combined_df_1/RF_ecfp_scaffold_regression/75e36e14-35c3-43bc-8474-fb7825bbc112/model_metadata.json\n",
            "2021-04-08 15:10:48,409 Wrote model metrics to file ampl_output/curated_combined_df_1/RF_ecfp_scaffold_regression/75e36e14-35c3-43bc-8474-fb7825bbc112/model_metrics.json\n"
          ],
          "name": "stderr"
        },
        {
          "output_type": "stream",
          "text": [
            "Wrote model tarball to ampl_output/curated_combined_df_1_model_75e36e14-35c3-43bc-8474-fb7825bbc112.tar.gz\n",
            "rf_estimators: 400, rf_max_depth: 250, rf_max_features: 50, valid_r2: 0.5306643252710029\n",
            "number of features: 1024\n"
          ],
          "name": "stdout"
        },
        {
          "output_type": "stream",
          "text": [
            "2021-04-08 15:11:20,601 Previous dataset split restored\n"
          ],
          "name": "stderr"
        },
        {
          "output_type": "stream",
          "text": [
            "n_cnt [5081.]\n",
            "y_means [7.00554977]\n",
            "y_stds [1.25378881]\n",
            "TIMING: dataset construction took 0.229 s\n",
            "Loading dataset from disk.\n",
            "TIMING: dataset construction took 0.032 s\n",
            "Loading dataset from disk.\n",
            "TIMING: dataset construction took 0.030 s\n",
            "Loading dataset from disk.\n"
          ],
          "name": "stdout"
        },
        {
          "output_type": "stream",
          "text": [
            "2021-04-08 15:11:40,497 Wrote model metadata to file ampl_output/curated_combined_df_1/RF_ecfp_scaffold_regression/2363438a-893f-4c62-b378-26c7bc675c5e/model_metadata.json\n",
            "2021-04-08 15:11:41,914 Wrote model metrics to file ampl_output/curated_combined_df_1/RF_ecfp_scaffold_regression/2363438a-893f-4c62-b378-26c7bc675c5e/model_metrics.json\n"
          ],
          "name": "stderr"
        },
        {
          "output_type": "stream",
          "text": [
            "Wrote model tarball to ampl_output/curated_combined_df_1_model_2363438a-893f-4c62-b378-26c7bc675c5e.tar.gz\n",
            "rf_estimators: 400, rf_max_depth: 250, rf_max_features: 100, valid_r2: 0.5407401673934789\n",
            "number of features: 1024\n"
          ],
          "name": "stdout"
        },
        {
          "output_type": "stream",
          "text": [
            "2021-04-08 15:12:14,183 Previous dataset split restored\n"
          ],
          "name": "stderr"
        },
        {
          "output_type": "stream",
          "text": [
            "n_cnt [5081.]\n",
            "y_means [7.00554977]\n",
            "y_stds [1.25378881]\n",
            "TIMING: dataset construction took 0.229 s\n",
            "Loading dataset from disk.\n",
            "TIMING: dataset construction took 0.035 s\n",
            "Loading dataset from disk.\n",
            "TIMING: dataset construction took 0.032 s\n",
            "Loading dataset from disk.\n"
          ],
          "name": "stdout"
        },
        {
          "output_type": "stream",
          "text": [
            "2021-04-08 15:12:18,629 Wrote model metadata to file ampl_output/curated_combined_df_1/RF_ecfp_scaffold_regression/c2f09f7c-5728-47d3-93c4-acc6c4e8fca7/model_metadata.json\n",
            "2021-04-08 15:12:18,720 Wrote model metrics to file ampl_output/curated_combined_df_1/RF_ecfp_scaffold_regression/c2f09f7c-5728-47d3-93c4-acc6c4e8fca7/model_metrics.json\n"
          ],
          "name": "stderr"
        },
        {
          "output_type": "stream",
          "text": [
            "Wrote model tarball to ampl_output/curated_combined_df_1_model_c2f09f7c-5728-47d3-93c4-acc6c4e8fca7.tar.gz\n",
            "rf_estimators: 500, rf_max_depth: 8, rf_max_features: 10, valid_r2: 0.21733075165558857\n",
            "number of features: 1024\n"
          ],
          "name": "stdout"
        },
        {
          "output_type": "stream",
          "text": [
            "2021-04-08 15:12:50,900 Previous dataset split restored\n"
          ],
          "name": "stderr"
        },
        {
          "output_type": "stream",
          "text": [
            "n_cnt [5081.]\n",
            "y_means [7.00554977]\n",
            "y_stds [1.25378881]\n",
            "TIMING: dataset construction took 0.228 s\n",
            "Loading dataset from disk.\n",
            "TIMING: dataset construction took 0.035 s\n",
            "Loading dataset from disk.\n",
            "TIMING: dataset construction took 0.034 s\n",
            "Loading dataset from disk.\n"
          ],
          "name": "stdout"
        },
        {
          "output_type": "stream",
          "text": [
            "2021-04-08 15:12:56,105 Wrote model metadata to file ampl_output/curated_combined_df_1/RF_ecfp_scaffold_regression/2d5e02dc-4904-475b-a244-8fabb7b6702c/model_metadata.json\n",
            "2021-04-08 15:12:56,208 Wrote model metrics to file ampl_output/curated_combined_df_1/RF_ecfp_scaffold_regression/2d5e02dc-4904-475b-a244-8fabb7b6702c/model_metrics.json\n"
          ],
          "name": "stderr"
        },
        {
          "output_type": "stream",
          "text": [
            "Wrote model tarball to ampl_output/curated_combined_df_1_model_2d5e02dc-4904-475b-a244-8fabb7b6702c.tar.gz\n",
            "rf_estimators: 500, rf_max_depth: 8, rf_max_features: 25, valid_r2: 0.29975822789310047\n",
            "number of features: 1024\n"
          ],
          "name": "stdout"
        },
        {
          "output_type": "stream",
          "text": [
            "2021-04-08 15:13:28,405 Previous dataset split restored\n"
          ],
          "name": "stderr"
        },
        {
          "output_type": "stream",
          "text": [
            "n_cnt [5081.]\n",
            "y_means [7.00554977]\n",
            "y_stds [1.25378881]\n",
            "TIMING: dataset construction took 0.223 s\n",
            "Loading dataset from disk.\n",
            "TIMING: dataset construction took 0.032 s\n",
            "Loading dataset from disk.\n",
            "TIMING: dataset construction took 0.031 s\n",
            "Loading dataset from disk.\n"
          ],
          "name": "stdout"
        },
        {
          "output_type": "stream",
          "text": [
            "2021-04-08 15:13:33,874 Wrote model metadata to file ampl_output/curated_combined_df_1/RF_ecfp_scaffold_regression/8b65c10d-f954-4377-9a14-200fe685b130/model_metadata.json\n",
            "2021-04-08 15:13:33,977 Wrote model metrics to file ampl_output/curated_combined_df_1/RF_ecfp_scaffold_regression/8b65c10d-f954-4377-9a14-200fe685b130/model_metrics.json\n"
          ],
          "name": "stderr"
        },
        {
          "output_type": "stream",
          "text": [
            "Wrote model tarball to ampl_output/curated_combined_df_1_model_8b65c10d-f954-4377-9a14-200fe685b130.tar.gz\n",
            "rf_estimators: 500, rf_max_depth: 8, rf_max_features: 30, valid_r2: 0.3123928181331306\n",
            "number of features: 1024\n"
          ],
          "name": "stdout"
        },
        {
          "output_type": "stream",
          "text": [
            "2021-04-08 15:14:06,175 Previous dataset split restored\n"
          ],
          "name": "stderr"
        },
        {
          "output_type": "stream",
          "text": [
            "n_cnt [5081.]\n",
            "y_means [7.00554977]\n",
            "y_stds [1.25378881]\n",
            "TIMING: dataset construction took 0.227 s\n",
            "Loading dataset from disk.\n",
            "TIMING: dataset construction took 0.033 s\n",
            "Loading dataset from disk.\n",
            "TIMING: dataset construction took 0.030 s\n",
            "Loading dataset from disk.\n"
          ],
          "name": "stdout"
        },
        {
          "output_type": "stream",
          "text": [
            "2021-04-08 15:14:12,564 Wrote model metadata to file ampl_output/curated_combined_df_1/RF_ecfp_scaffold_regression/ee310ebf-086a-427f-9b54-eb3a9db2e2cf/model_metadata.json\n",
            "2021-04-08 15:14:12,674 Wrote model metrics to file ampl_output/curated_combined_df_1/RF_ecfp_scaffold_regression/ee310ebf-086a-427f-9b54-eb3a9db2e2cf/model_metrics.json\n"
          ],
          "name": "stderr"
        },
        {
          "output_type": "stream",
          "text": [
            "Wrote model tarball to ampl_output/curated_combined_df_1_model_ee310ebf-086a-427f-9b54-eb3a9db2e2cf.tar.gz\n",
            "rf_estimators: 500, rf_max_depth: 8, rf_max_features: 50, valid_r2: 0.35213927712054993\n",
            "number of features: 1024\n"
          ],
          "name": "stdout"
        },
        {
          "output_type": "stream",
          "text": [
            "2021-04-08 15:14:44,927 Previous dataset split restored\n"
          ],
          "name": "stderr"
        },
        {
          "output_type": "stream",
          "text": [
            "n_cnt [5081.]\n",
            "y_means [7.00554977]\n",
            "y_stds [1.25378881]\n",
            "TIMING: dataset construction took 0.225 s\n",
            "Loading dataset from disk.\n",
            "TIMING: dataset construction took 0.035 s\n",
            "Loading dataset from disk.\n",
            "TIMING: dataset construction took 0.032 s\n",
            "Loading dataset from disk.\n"
          ],
          "name": "stdout"
        },
        {
          "output_type": "stream",
          "text": [
            "2021-04-08 15:14:53,638 Wrote model metadata to file ampl_output/curated_combined_df_1/RF_ecfp_scaffold_regression/5fc1c74e-344f-4c57-8300-0b462e6dcbbf/model_metadata.json\n",
            "2021-04-08 15:14:53,763 Wrote model metrics to file ampl_output/curated_combined_df_1/RF_ecfp_scaffold_regression/5fc1c74e-344f-4c57-8300-0b462e6dcbbf/model_metrics.json\n"
          ],
          "name": "stderr"
        },
        {
          "output_type": "stream",
          "text": [
            "Wrote model tarball to ampl_output/curated_combined_df_1_model_5fc1c74e-344f-4c57-8300-0b462e6dcbbf.tar.gz\n",
            "rf_estimators: 500, rf_max_depth: 8, rf_max_features: 100, valid_r2: 0.38766484081639563\n",
            "number of features: 1024\n"
          ],
          "name": "stdout"
        },
        {
          "output_type": "stream",
          "text": [
            "2021-04-08 15:15:25,899 Previous dataset split restored\n"
          ],
          "name": "stderr"
        },
        {
          "output_type": "stream",
          "text": [
            "n_cnt [5081.]\n",
            "y_means [7.00554977]\n",
            "y_stds [1.25378881]\n",
            "TIMING: dataset construction took 0.223 s\n",
            "Loading dataset from disk.\n",
            "TIMING: dataset construction took 0.033 s\n",
            "Loading dataset from disk.\n",
            "TIMING: dataset construction took 0.033 s\n",
            "Loading dataset from disk.\n"
          ],
          "name": "stdout"
        },
        {
          "output_type": "stream",
          "text": [
            "2021-04-08 15:15:35,354 Wrote model metadata to file ampl_output/curated_combined_df_1/RF_ecfp_scaffold_regression/0ffaea6b-cb21-48f2-bed1-31624609da29/model_metadata.json\n",
            "2021-04-08 15:15:36,357 Wrote model metrics to file ampl_output/curated_combined_df_1/RF_ecfp_scaffold_regression/0ffaea6b-cb21-48f2-bed1-31624609da29/model_metrics.json\n"
          ],
          "name": "stderr"
        },
        {
          "output_type": "stream",
          "text": [
            "Wrote model tarball to ampl_output/curated_combined_df_1_model_0ffaea6b-cb21-48f2-bed1-31624609da29.tar.gz\n",
            "rf_estimators: 500, rf_max_depth: 25, rf_max_features: 10, valid_r2: 0.4760726496137824\n",
            "number of features: 1024\n"
          ],
          "name": "stdout"
        },
        {
          "output_type": "stream",
          "text": [
            "2021-04-08 15:16:08,607 Previous dataset split restored\n"
          ],
          "name": "stderr"
        },
        {
          "output_type": "stream",
          "text": [
            "n_cnt [5081.]\n",
            "y_means [7.00554977]\n",
            "y_stds [1.25378881]\n",
            "TIMING: dataset construction took 0.223 s\n",
            "Loading dataset from disk.\n",
            "TIMING: dataset construction took 0.034 s\n",
            "Loading dataset from disk.\n",
            "TIMING: dataset construction took 0.031 s\n",
            "Loading dataset from disk.\n"
          ],
          "name": "stdout"
        },
        {
          "output_type": "stream",
          "text": [
            "2021-04-08 15:16:20,628 Wrote model metadata to file ampl_output/curated_combined_df_1/RF_ecfp_scaffold_regression/4c2a5852-d8f5-4b64-ab42-70af7e43e7ea/model_metadata.json\n",
            "2021-04-08 15:16:21,798 Wrote model metrics to file ampl_output/curated_combined_df_1/RF_ecfp_scaffold_regression/4c2a5852-d8f5-4b64-ab42-70af7e43e7ea/model_metrics.json\n"
          ],
          "name": "stderr"
        },
        {
          "output_type": "stream",
          "text": [
            "Wrote model tarball to ampl_output/curated_combined_df_1_model_4c2a5852-d8f5-4b64-ab42-70af7e43e7ea.tar.gz\n",
            "rf_estimators: 500, rf_max_depth: 25, rf_max_features: 25, valid_r2: 0.5116716793757381\n",
            "number of features: 1024\n"
          ],
          "name": "stdout"
        },
        {
          "output_type": "stream",
          "text": [
            "2021-04-08 15:16:54,176 Previous dataset split restored\n"
          ],
          "name": "stderr"
        },
        {
          "output_type": "stream",
          "text": [
            "n_cnt [5081.]\n",
            "y_means [7.00554977]\n",
            "y_stds [1.25378881]\n",
            "TIMING: dataset construction took 0.241 s\n",
            "Loading dataset from disk.\n",
            "TIMING: dataset construction took 0.034 s\n",
            "Loading dataset from disk.\n",
            "TIMING: dataset construction took 0.032 s\n",
            "Loading dataset from disk.\n"
          ],
          "name": "stdout"
        },
        {
          "output_type": "stream",
          "text": [
            "2021-04-08 15:17:07,320 Wrote model metadata to file ampl_output/curated_combined_df_1/RF_ecfp_scaffold_regression/ada288d9-7144-4624-a256-40796adb5788/model_metadata.json\n",
            "2021-04-08 15:17:08,507 Wrote model metrics to file ampl_output/curated_combined_df_1/RF_ecfp_scaffold_regression/ada288d9-7144-4624-a256-40796adb5788/model_metrics.json\n"
          ],
          "name": "stderr"
        },
        {
          "output_type": "stream",
          "text": [
            "Wrote model tarball to ampl_output/curated_combined_df_1_model_ada288d9-7144-4624-a256-40796adb5788.tar.gz\n",
            "rf_estimators: 500, rf_max_depth: 25, rf_max_features: 30, valid_r2: 0.5143817183301292\n",
            "number of features: 1024\n"
          ],
          "name": "stdout"
        },
        {
          "output_type": "stream",
          "text": [
            "2021-04-08 15:17:40,796 Previous dataset split restored\n"
          ],
          "name": "stderr"
        },
        {
          "output_type": "stream",
          "text": [
            "n_cnt [5081.]\n",
            "y_means [7.00554977]\n",
            "y_stds [1.25378881]\n",
            "TIMING: dataset construction took 0.231 s\n",
            "Loading dataset from disk.\n",
            "TIMING: dataset construction took 0.034 s\n",
            "Loading dataset from disk.\n",
            "TIMING: dataset construction took 0.034 s\n",
            "Loading dataset from disk.\n"
          ],
          "name": "stdout"
        },
        {
          "output_type": "stream",
          "text": [
            "2021-04-08 15:17:56,853 Wrote model metadata to file ampl_output/curated_combined_df_1/RF_ecfp_scaffold_regression/e00ef26d-fec0-4c5e-9df1-d2afe28e2459/model_metadata.json\n",
            "2021-04-08 15:17:58,100 Wrote model metrics to file ampl_output/curated_combined_df_1/RF_ecfp_scaffold_regression/e00ef26d-fec0-4c5e-9df1-d2afe28e2459/model_metrics.json\n"
          ],
          "name": "stderr"
        },
        {
          "output_type": "stream",
          "text": [
            "Wrote model tarball to ampl_output/curated_combined_df_1_model_e00ef26d-fec0-4c5e-9df1-d2afe28e2459.tar.gz\n",
            "rf_estimators: 500, rf_max_depth: 25, rf_max_features: 50, valid_r2: 0.5238468097496818\n",
            "number of features: 1024\n"
          ],
          "name": "stdout"
        },
        {
          "output_type": "stream",
          "text": [
            "2021-04-08 15:18:30,244 Previous dataset split restored\n"
          ],
          "name": "stderr"
        },
        {
          "output_type": "stream",
          "text": [
            "n_cnt [5081.]\n",
            "y_means [7.00554977]\n",
            "y_stds [1.25378881]\n",
            "TIMING: dataset construction took 0.224 s\n",
            "Loading dataset from disk.\n",
            "TIMING: dataset construction took 0.036 s\n",
            "Loading dataset from disk.\n",
            "TIMING: dataset construction took 0.032 s\n",
            "Loading dataset from disk.\n"
          ],
          "name": "stdout"
        },
        {
          "output_type": "stream",
          "text": [
            "2021-04-08 15:18:52,376 Wrote model metadata to file ampl_output/curated_combined_df_1/RF_ecfp_scaffold_regression/5efdc6e1-b814-42e9-bb33-d990f5ab0430/model_metadata.json\n",
            "2021-04-08 15:18:53,648 Wrote model metrics to file ampl_output/curated_combined_df_1/RF_ecfp_scaffold_regression/5efdc6e1-b814-42e9-bb33-d990f5ab0430/model_metrics.json\n"
          ],
          "name": "stderr"
        },
        {
          "output_type": "stream",
          "text": [
            "Wrote model tarball to ampl_output/curated_combined_df_1_model_5efdc6e1-b814-42e9-bb33-d990f5ab0430.tar.gz\n",
            "rf_estimators: 500, rf_max_depth: 25, rf_max_features: 100, valid_r2: 0.5375376267636716\n",
            "number of features: 1024\n"
          ],
          "name": "stdout"
        },
        {
          "output_type": "stream",
          "text": [
            "2021-04-08 15:19:25,810 Previous dataset split restored\n"
          ],
          "name": "stderr"
        },
        {
          "output_type": "stream",
          "text": [
            "n_cnt [5081.]\n",
            "y_means [7.00554977]\n",
            "y_stds [1.25378881]\n",
            "TIMING: dataset construction took 0.229 s\n",
            "Loading dataset from disk.\n",
            "TIMING: dataset construction took 0.034 s\n",
            "Loading dataset from disk.\n",
            "TIMING: dataset construction took 0.035 s\n",
            "Loading dataset from disk.\n"
          ],
          "name": "stdout"
        },
        {
          "output_type": "stream",
          "text": [
            "2021-04-08 15:19:40,332 Wrote model metadata to file ampl_output/curated_combined_df_1/RF_ecfp_scaffold_regression/dd8d42dd-659d-4892-9130-136c08d012d7/model_metadata.json\n",
            "2021-04-08 15:19:42,160 Wrote model metrics to file ampl_output/curated_combined_df_1/RF_ecfp_scaffold_regression/dd8d42dd-659d-4892-9130-136c08d012d7/model_metrics.json\n"
          ],
          "name": "stderr"
        },
        {
          "output_type": "stream",
          "text": [
            "Wrote model tarball to ampl_output/curated_combined_df_1_model_dd8d42dd-659d-4892-9130-136c08d012d7.tar.gz\n",
            "rf_estimators: 500, rf_max_depth: 70, rf_max_features: 10, valid_r2: 0.5220287653766695\n",
            "number of features: 1024\n"
          ],
          "name": "stdout"
        },
        {
          "output_type": "stream",
          "text": [
            "2021-04-08 15:20:14,326 Previous dataset split restored\n"
          ],
          "name": "stderr"
        },
        {
          "output_type": "stream",
          "text": [
            "n_cnt [5081.]\n",
            "y_means [7.00554977]\n",
            "y_stds [1.25378881]\n",
            "TIMING: dataset construction took 0.227 s\n",
            "Loading dataset from disk.\n",
            "TIMING: dataset construction took 0.032 s\n",
            "Loading dataset from disk.\n",
            "TIMING: dataset construction took 0.032 s\n",
            "Loading dataset from disk.\n"
          ],
          "name": "stdout"
        },
        {
          "output_type": "stream",
          "text": [
            "2021-04-08 15:20:30,555 Wrote model metadata to file ampl_output/curated_combined_df_1/RF_ecfp_scaffold_regression/1608a6e2-a497-4654-a7ae-3c21e63f9a43/model_metadata.json\n",
            "2021-04-08 15:20:32,338 Wrote model metrics to file ampl_output/curated_combined_df_1/RF_ecfp_scaffold_regression/1608a6e2-a497-4654-a7ae-3c21e63f9a43/model_metrics.json\n"
          ],
          "name": "stderr"
        },
        {
          "output_type": "stream",
          "text": [
            "Wrote model tarball to ampl_output/curated_combined_df_1_model_1608a6e2-a497-4654-a7ae-3c21e63f9a43.tar.gz\n",
            "rf_estimators: 500, rf_max_depth: 70, rf_max_features: 25, valid_r2: 0.537860795437546\n",
            "number of features: 1024\n"
          ],
          "name": "stdout"
        },
        {
          "output_type": "stream",
          "text": [
            "2021-04-08 15:21:04,591 Previous dataset split restored\n"
          ],
          "name": "stderr"
        },
        {
          "output_type": "stream",
          "text": [
            "n_cnt [5081.]\n",
            "y_means [7.00554977]\n",
            "y_stds [1.25378881]\n",
            "TIMING: dataset construction took 0.224 s\n",
            "Loading dataset from disk.\n",
            "TIMING: dataset construction took 0.033 s\n",
            "Loading dataset from disk.\n",
            "TIMING: dataset construction took 0.031 s\n",
            "Loading dataset from disk.\n"
          ],
          "name": "stdout"
        },
        {
          "output_type": "stream",
          "text": [
            "2021-04-08 15:21:21,230 Wrote model metadata to file ampl_output/curated_combined_df_1/RF_ecfp_scaffold_regression/6d6e4ab1-55ef-46da-8917-04974ed9a332/model_metadata.json\n",
            "2021-04-08 15:21:23,009 Wrote model metrics to file ampl_output/curated_combined_df_1/RF_ecfp_scaffold_regression/6d6e4ab1-55ef-46da-8917-04974ed9a332/model_metrics.json\n"
          ],
          "name": "stderr"
        },
        {
          "output_type": "stream",
          "text": [
            "Wrote model tarball to ampl_output/curated_combined_df_1_model_6d6e4ab1-55ef-46da-8917-04974ed9a332.tar.gz\n",
            "rf_estimators: 500, rf_max_depth: 70, rf_max_features: 30, valid_r2: 0.5376916590942636\n",
            "number of features: 1024\n"
          ],
          "name": "stdout"
        },
        {
          "output_type": "stream",
          "text": [
            "2021-04-08 15:21:55,292 Previous dataset split restored\n"
          ],
          "name": "stderr"
        },
        {
          "output_type": "stream",
          "text": [
            "n_cnt [5081.]\n",
            "y_means [7.00554977]\n",
            "y_stds [1.25378881]\n",
            "TIMING: dataset construction took 0.229 s\n",
            "Loading dataset from disk.\n",
            "TIMING: dataset construction took 0.034 s\n",
            "Loading dataset from disk.\n",
            "TIMING: dataset construction took 0.032 s\n",
            "Loading dataset from disk.\n"
          ],
          "name": "stdout"
        },
        {
          "output_type": "stream",
          "text": [
            "2021-04-08 15:22:14,349 Wrote model metadata to file ampl_output/curated_combined_df_1/RF_ecfp_scaffold_regression/1b872757-326b-4cb4-b328-319fa9bf2afe/model_metadata.json\n",
            "2021-04-08 15:22:16,148 Wrote model metrics to file ampl_output/curated_combined_df_1/RF_ecfp_scaffold_regression/1b872757-326b-4cb4-b328-319fa9bf2afe/model_metrics.json\n"
          ],
          "name": "stderr"
        },
        {
          "output_type": "stream",
          "text": [
            "Wrote model tarball to ampl_output/curated_combined_df_1_model_1b872757-326b-4cb4-b328-319fa9bf2afe.tar.gz\n",
            "rf_estimators: 500, rf_max_depth: 70, rf_max_features: 50, valid_r2: 0.5403292946359871\n",
            "number of features: 1024\n"
          ],
          "name": "stdout"
        },
        {
          "output_type": "stream",
          "text": [
            "2021-04-08 15:22:48,049 Previous dataset split restored\n"
          ],
          "name": "stderr"
        },
        {
          "output_type": "stream",
          "text": [
            "n_cnt [5081.]\n",
            "y_means [7.00554977]\n",
            "y_stds [1.25378881]\n",
            "TIMING: dataset construction took 0.227 s\n",
            "Loading dataset from disk.\n",
            "TIMING: dataset construction took 0.033 s\n",
            "Loading dataset from disk.\n",
            "TIMING: dataset construction took 0.031 s\n",
            "Loading dataset from disk.\n"
          ],
          "name": "stdout"
        },
        {
          "output_type": "stream",
          "text": [
            "2021-04-08 15:23:13,338 Wrote model metadata to file ampl_output/curated_combined_df_1/RF_ecfp_scaffold_regression/ba2bc0fd-1673-478c-b8a2-86aa8ee0f770/model_metadata.json\n",
            "2021-04-08 15:23:15,110 Wrote model metrics to file ampl_output/curated_combined_df_1/RF_ecfp_scaffold_regression/ba2bc0fd-1673-478c-b8a2-86aa8ee0f770/model_metrics.json\n"
          ],
          "name": "stderr"
        },
        {
          "output_type": "stream",
          "text": [
            "Wrote model tarball to ampl_output/curated_combined_df_1_model_ba2bc0fd-1673-478c-b8a2-86aa8ee0f770.tar.gz\n",
            "rf_estimators: 500, rf_max_depth: 70, rf_max_features: 100, valid_r2: 0.5455098474073538\n",
            "number of features: 1024\n"
          ],
          "name": "stdout"
        },
        {
          "output_type": "stream",
          "text": [
            "2021-04-08 15:23:46,965 Previous dataset split restored\n"
          ],
          "name": "stderr"
        },
        {
          "output_type": "stream",
          "text": [
            "n_cnt [5081.]\n",
            "y_means [7.00554977]\n",
            "y_stds [1.25378881]\n",
            "TIMING: dataset construction took 0.239 s\n",
            "Loading dataset from disk.\n",
            "TIMING: dataset construction took 0.034 s\n",
            "Loading dataset from disk.\n",
            "TIMING: dataset construction took 0.031 s\n",
            "Loading dataset from disk.\n"
          ],
          "name": "stdout"
        },
        {
          "output_type": "stream",
          "text": [
            "2021-04-08 15:24:01,184 Wrote model metadata to file ampl_output/curated_combined_df_1/RF_ecfp_scaffold_regression/311a8204-5ebc-4802-8f82-f750bb4a4ae0/model_metadata.json\n",
            "2021-04-08 15:24:02,985 Wrote model metrics to file ampl_output/curated_combined_df_1/RF_ecfp_scaffold_regression/311a8204-5ebc-4802-8f82-f750bb4a4ae0/model_metrics.json\n"
          ],
          "name": "stderr"
        },
        {
          "output_type": "stream",
          "text": [
            "Wrote model tarball to ampl_output/curated_combined_df_1_model_311a8204-5ebc-4802-8f82-f750bb4a4ae0.tar.gz\n",
            "rf_estimators: 500, rf_max_depth: 150, rf_max_features: 10, valid_r2: 0.5180799427796552\n",
            "number of features: 1024\n"
          ],
          "name": "stdout"
        },
        {
          "output_type": "stream",
          "text": [
            "2021-04-08 15:24:34,800 Previous dataset split restored\n"
          ],
          "name": "stderr"
        },
        {
          "output_type": "stream",
          "text": [
            "n_cnt [5081.]\n",
            "y_means [7.00554977]\n",
            "y_stds [1.25378881]\n",
            "TIMING: dataset construction took 0.230 s\n",
            "Loading dataset from disk.\n",
            "TIMING: dataset construction took 0.033 s\n",
            "Loading dataset from disk.\n",
            "TIMING: dataset construction took 0.031 s\n",
            "Loading dataset from disk.\n"
          ],
          "name": "stdout"
        },
        {
          "output_type": "stream",
          "text": [
            "2021-04-08 15:24:50,839 Wrote model metadata to file ampl_output/curated_combined_df_1/RF_ecfp_scaffold_regression/5e5de7b3-c4d3-4627-a583-f5cb24878ec1/model_metadata.json\n",
            "2021-04-08 15:24:52,618 Wrote model metrics to file ampl_output/curated_combined_df_1/RF_ecfp_scaffold_regression/5e5de7b3-c4d3-4627-a583-f5cb24878ec1/model_metrics.json\n"
          ],
          "name": "stderr"
        },
        {
          "output_type": "stream",
          "text": [
            "Wrote model tarball to ampl_output/curated_combined_df_1_model_5e5de7b3-c4d3-4627-a583-f5cb24878ec1.tar.gz\n",
            "rf_estimators: 500, rf_max_depth: 150, rf_max_features: 25, valid_r2: 0.5328261060067097\n",
            "number of features: 1024\n"
          ],
          "name": "stdout"
        },
        {
          "output_type": "stream",
          "text": [
            "2021-04-08 15:25:24,495 Previous dataset split restored\n"
          ],
          "name": "stderr"
        },
        {
          "output_type": "stream",
          "text": [
            "n_cnt [5081.]\n",
            "y_means [7.00554977]\n",
            "y_stds [1.25378881]\n",
            "TIMING: dataset construction took 0.230 s\n",
            "Loading dataset from disk.\n",
            "TIMING: dataset construction took 0.033 s\n",
            "Loading dataset from disk.\n",
            "TIMING: dataset construction took 0.030 s\n",
            "Loading dataset from disk.\n"
          ],
          "name": "stdout"
        },
        {
          "output_type": "stream",
          "text": [
            "2021-04-08 15:25:41,235 Wrote model metadata to file ampl_output/curated_combined_df_1/RF_ecfp_scaffold_regression/eb26da9e-76c3-4c63-bd31-6e78457ebbf6/model_metadata.json\n",
            "2021-04-08 15:25:43,046 Wrote model metrics to file ampl_output/curated_combined_df_1/RF_ecfp_scaffold_regression/eb26da9e-76c3-4c63-bd31-6e78457ebbf6/model_metrics.json\n"
          ],
          "name": "stderr"
        },
        {
          "output_type": "stream",
          "text": [
            "Wrote model tarball to ampl_output/curated_combined_df_1_model_eb26da9e-76c3-4c63-bd31-6e78457ebbf6.tar.gz\n",
            "rf_estimators: 500, rf_max_depth: 150, rf_max_features: 30, valid_r2: 0.5380211895848882\n",
            "number of features: 1024\n"
          ],
          "name": "stdout"
        },
        {
          "output_type": "stream",
          "text": [
            "2021-04-08 15:26:14,953 Previous dataset split restored\n"
          ],
          "name": "stderr"
        },
        {
          "output_type": "stream",
          "text": [
            "n_cnt [5081.]\n",
            "y_means [7.00554977]\n",
            "y_stds [1.25378881]\n",
            "TIMING: dataset construction took 0.234 s\n",
            "Loading dataset from disk.\n",
            "TIMING: dataset construction took 0.033 s\n",
            "Loading dataset from disk.\n",
            "TIMING: dataset construction took 0.032 s\n",
            "Loading dataset from disk.\n"
          ],
          "name": "stdout"
        },
        {
          "output_type": "stream",
          "text": [
            "2021-04-08 15:26:34,222 Wrote model metadata to file ampl_output/curated_combined_df_1/RF_ecfp_scaffold_regression/3903f0ac-b5f5-47cc-89c6-3707dad84a91/model_metadata.json\n",
            "2021-04-08 15:26:35,974 Wrote model metrics to file ampl_output/curated_combined_df_1/RF_ecfp_scaffold_regression/3903f0ac-b5f5-47cc-89c6-3707dad84a91/model_metrics.json\n"
          ],
          "name": "stderr"
        },
        {
          "output_type": "stream",
          "text": [
            "Wrote model tarball to ampl_output/curated_combined_df_1_model_3903f0ac-b5f5-47cc-89c6-3707dad84a91.tar.gz\n",
            "rf_estimators: 500, rf_max_depth: 150, rf_max_features: 50, valid_r2: 0.5393663008240059\n",
            "number of features: 1024\n"
          ],
          "name": "stdout"
        },
        {
          "output_type": "stream",
          "text": [
            "2021-04-08 15:27:07,694 Previous dataset split restored\n"
          ],
          "name": "stderr"
        },
        {
          "output_type": "stream",
          "text": [
            "n_cnt [5081.]\n",
            "y_means [7.00554977]\n",
            "y_stds [1.25378881]\n",
            "TIMING: dataset construction took 0.231 s\n",
            "Loading dataset from disk.\n",
            "TIMING: dataset construction took 0.034 s\n",
            "Loading dataset from disk.\n",
            "TIMING: dataset construction took 0.034 s\n",
            "Loading dataset from disk.\n"
          ],
          "name": "stdout"
        },
        {
          "output_type": "stream",
          "text": [
            "2021-04-08 15:27:32,559 Wrote model metadata to file ampl_output/curated_combined_df_1/RF_ecfp_scaffold_regression/002b89e3-677e-45e7-9880-863d66b2efa7/model_metadata.json\n",
            "2021-04-08 15:27:34,332 Wrote model metrics to file ampl_output/curated_combined_df_1/RF_ecfp_scaffold_regression/002b89e3-677e-45e7-9880-863d66b2efa7/model_metrics.json\n"
          ],
          "name": "stderr"
        },
        {
          "output_type": "stream",
          "text": [
            "Wrote model tarball to ampl_output/curated_combined_df_1_model_002b89e3-677e-45e7-9880-863d66b2efa7.tar.gz\n",
            "rf_estimators: 500, rf_max_depth: 150, rf_max_features: 100, valid_r2: 0.5373090913668179\n",
            "number of features: 1024\n"
          ],
          "name": "stdout"
        },
        {
          "output_type": "stream",
          "text": [
            "2021-04-08 15:28:06,007 Previous dataset split restored\n"
          ],
          "name": "stderr"
        },
        {
          "output_type": "stream",
          "text": [
            "n_cnt [5081.]\n",
            "y_means [7.00554977]\n",
            "y_stds [1.25378881]\n",
            "TIMING: dataset construction took 0.226 s\n",
            "Loading dataset from disk.\n",
            "TIMING: dataset construction took 0.033 s\n",
            "Loading dataset from disk.\n",
            "TIMING: dataset construction took 0.036 s\n",
            "Loading dataset from disk.\n"
          ],
          "name": "stdout"
        },
        {
          "output_type": "stream",
          "text": [
            "2021-04-08 15:28:19,931 Wrote model metadata to file ampl_output/curated_combined_df_1/RF_ecfp_scaffold_regression/be007c0b-ad04-41a1-b695-dfdecc671870/model_metadata.json\n",
            "2021-04-08 15:28:21,703 Wrote model metrics to file ampl_output/curated_combined_df_1/RF_ecfp_scaffold_regression/be007c0b-ad04-41a1-b695-dfdecc671870/model_metrics.json\n"
          ],
          "name": "stderr"
        },
        {
          "output_type": "stream",
          "text": [
            "Wrote model tarball to ampl_output/curated_combined_df_1_model_be007c0b-ad04-41a1-b695-dfdecc671870.tar.gz\n",
            "rf_estimators: 500, rf_max_depth: 250, rf_max_features: 10, valid_r2: 0.523411817241733\n",
            "number of features: 1024\n"
          ],
          "name": "stdout"
        },
        {
          "output_type": "stream",
          "text": [
            "2021-04-08 15:28:53,430 Previous dataset split restored\n"
          ],
          "name": "stderr"
        },
        {
          "output_type": "stream",
          "text": [
            "n_cnt [5081.]\n",
            "y_means [7.00554977]\n",
            "y_stds [1.25378881]\n",
            "TIMING: dataset construction took 0.228 s\n",
            "Loading dataset from disk.\n",
            "TIMING: dataset construction took 0.036 s\n",
            "Loading dataset from disk.\n",
            "TIMING: dataset construction took 0.033 s\n",
            "Loading dataset from disk.\n"
          ],
          "name": "stdout"
        },
        {
          "output_type": "stream",
          "text": [
            "2021-04-08 15:29:09,786 Wrote model metadata to file ampl_output/curated_combined_df_1/RF_ecfp_scaffold_regression/c69c1956-14cf-42dd-9211-a286a42cb959/model_metadata.json\n",
            "2021-04-08 15:29:11,567 Wrote model metrics to file ampl_output/curated_combined_df_1/RF_ecfp_scaffold_regression/c69c1956-14cf-42dd-9211-a286a42cb959/model_metrics.json\n"
          ],
          "name": "stderr"
        },
        {
          "output_type": "stream",
          "text": [
            "Wrote model tarball to ampl_output/curated_combined_df_1_model_c69c1956-14cf-42dd-9211-a286a42cb959.tar.gz\n",
            "rf_estimators: 500, rf_max_depth: 250, rf_max_features: 25, valid_r2: 0.5357678445549674\n",
            "number of features: 1024\n"
          ],
          "name": "stdout"
        },
        {
          "output_type": "stream",
          "text": [
            "2021-04-08 15:29:43,288 Previous dataset split restored\n"
          ],
          "name": "stderr"
        },
        {
          "output_type": "stream",
          "text": [
            "n_cnt [5081.]\n",
            "y_means [7.00554977]\n",
            "y_stds [1.25378881]\n",
            "TIMING: dataset construction took 0.229 s\n",
            "Loading dataset from disk.\n",
            "TIMING: dataset construction took 0.033 s\n",
            "Loading dataset from disk.\n",
            "TIMING: dataset construction took 0.032 s\n",
            "Loading dataset from disk.\n"
          ],
          "name": "stdout"
        },
        {
          "output_type": "stream",
          "text": [
            "2021-04-08 15:30:00,267 Wrote model metadata to file ampl_output/curated_combined_df_1/RF_ecfp_scaffold_regression/a25ee46e-032d-42d9-ad40-52a59beab42a/model_metadata.json\n",
            "2021-04-08 15:30:02,056 Wrote model metrics to file ampl_output/curated_combined_df_1/RF_ecfp_scaffold_regression/a25ee46e-032d-42d9-ad40-52a59beab42a/model_metrics.json\n"
          ],
          "name": "stderr"
        },
        {
          "output_type": "stream",
          "text": [
            "Wrote model tarball to ampl_output/curated_combined_df_1_model_a25ee46e-032d-42d9-ad40-52a59beab42a.tar.gz\n",
            "rf_estimators: 500, rf_max_depth: 250, rf_max_features: 30, valid_r2: 0.5315671087586729\n",
            "number of features: 1024\n"
          ],
          "name": "stdout"
        },
        {
          "output_type": "stream",
          "text": [
            "2021-04-08 15:30:33,839 Previous dataset split restored\n"
          ],
          "name": "stderr"
        },
        {
          "output_type": "stream",
          "text": [
            "n_cnt [5081.]\n",
            "y_means [7.00554977]\n",
            "y_stds [1.25378881]\n",
            "TIMING: dataset construction took 0.230 s\n",
            "Loading dataset from disk.\n",
            "TIMING: dataset construction took 0.032 s\n",
            "Loading dataset from disk.\n",
            "TIMING: dataset construction took 0.030 s\n",
            "Loading dataset from disk.\n"
          ],
          "name": "stdout"
        },
        {
          "output_type": "stream",
          "text": [
            "2021-04-08 15:30:53,045 Wrote model metadata to file ampl_output/curated_combined_df_1/RF_ecfp_scaffold_regression/1114ef1b-f9db-452f-91cf-f124af24dca2/model_metadata.json\n",
            "2021-04-08 15:30:54,801 Wrote model metrics to file ampl_output/curated_combined_df_1/RF_ecfp_scaffold_regression/1114ef1b-f9db-452f-91cf-f124af24dca2/model_metrics.json\n"
          ],
          "name": "stderr"
        },
        {
          "output_type": "stream",
          "text": [
            "Wrote model tarball to ampl_output/curated_combined_df_1_model_1114ef1b-f9db-452f-91cf-f124af24dca2.tar.gz\n",
            "rf_estimators: 500, rf_max_depth: 250, rf_max_features: 50, valid_r2: 0.5405276235047445\n",
            "number of features: 1024\n"
          ],
          "name": "stdout"
        },
        {
          "output_type": "stream",
          "text": [
            "2021-04-08 15:31:26,703 Previous dataset split restored\n"
          ],
          "name": "stderr"
        },
        {
          "output_type": "stream",
          "text": [
            "n_cnt [5081.]\n",
            "y_means [7.00554977]\n",
            "y_stds [1.25378881]\n",
            "TIMING: dataset construction took 0.230 s\n",
            "Loading dataset from disk.\n",
            "TIMING: dataset construction took 0.033 s\n",
            "Loading dataset from disk.\n",
            "TIMING: dataset construction took 0.031 s\n",
            "Loading dataset from disk.\n"
          ],
          "name": "stdout"
        },
        {
          "output_type": "stream",
          "text": [
            "2021-04-08 15:31:51,140 Wrote model metadata to file ampl_output/curated_combined_df_1/RF_ecfp_scaffold_regression/4fc0f64b-5208-42d2-b098-acfddd058bf4/model_metadata.json\n",
            "2021-04-08 15:31:52,937 Wrote model metrics to file ampl_output/curated_combined_df_1/RF_ecfp_scaffold_regression/4fc0f64b-5208-42d2-b098-acfddd058bf4/model_metrics.json\n"
          ],
          "name": "stderr"
        },
        {
          "output_type": "stream",
          "text": [
            "Wrote model tarball to ampl_output/curated_combined_df_1_model_4fc0f64b-5208-42d2-b098-acfddd058bf4.tar.gz\n",
            "rf_estimators: 500, rf_max_depth: 250, rf_max_features: 100, valid_r2: 0.5382443615617756\n"
          ],
          "name": "stdout"
        }
      ]
    },
    {
      "cell_type": "code",
      "metadata": {
        "id": "bawmfF73JXM0",
        "colab": {
          "base_uri": "https://localhost:8080/",
          "height": 419
        },
        "outputId": "f7060cda-d1b0-41a6-a893-1dc08e9dc789"
      },
      "source": [
        "perf_df = pd.DataFrame({\"rf_estimators\": rfe_list, \"rf_max_depth\": rfd_list, \"rf_max_features\": rff_list, \"valid_r2_score\": valid_r2_list})\n",
        "perf_df.sort_values(by=\"valid_r2_score\", ascending=False)"
      ],
      "execution_count": null,
      "outputs": [
        {
          "output_type": "execute_result",
          "data": {
            "text/html": [
              "<div>\n",
              "<style scoped>\n",
              "    .dataframe tbody tr th:only-of-type {\n",
              "        vertical-align: middle;\n",
              "    }\n",
              "\n",
              "    .dataframe tbody tr th {\n",
              "        vertical-align: top;\n",
              "    }\n",
              "\n",
              "    .dataframe thead th {\n",
              "        text-align: right;\n",
              "    }\n",
              "</style>\n",
              "<table border=\"1\" class=\"dataframe\">\n",
              "  <thead>\n",
              "    <tr style=\"text-align: right;\">\n",
              "      <th></th>\n",
              "      <th>rf_estimators</th>\n",
              "      <th>rf_max_depth</th>\n",
              "      <th>rf_max_features</th>\n",
              "      <th>valid_r2_score</th>\n",
              "    </tr>\n",
              "  </thead>\n",
              "  <tbody>\n",
              "    <tr>\n",
              "      <th>64</th>\n",
              "      <td>300</td>\n",
              "      <td>70</td>\n",
              "      <td>100</td>\n",
              "      <td>0.549149</td>\n",
              "    </tr>\n",
              "    <tr>\n",
              "      <th>44</th>\n",
              "      <td>200</td>\n",
              "      <td>150</td>\n",
              "      <td>100</td>\n",
              "      <td>0.546588</td>\n",
              "    </tr>\n",
              "    <tr>\n",
              "      <th>114</th>\n",
              "      <td>500</td>\n",
              "      <td>70</td>\n",
              "      <td>100</td>\n",
              "      <td>0.545510</td>\n",
              "    </tr>\n",
              "    <tr>\n",
              "      <th>48</th>\n",
              "      <td>200</td>\n",
              "      <td>250</td>\n",
              "      <td>50</td>\n",
              "      <td>0.544702</td>\n",
              "    </tr>\n",
              "    <tr>\n",
              "      <th>23</th>\n",
              "      <td>100</td>\n",
              "      <td>250</td>\n",
              "      <td>50</td>\n",
              "      <td>0.544282</td>\n",
              "    </tr>\n",
              "    <tr>\n",
              "      <th>...</th>\n",
              "      <td>...</td>\n",
              "      <td>...</td>\n",
              "      <td>...</td>\n",
              "      <td>...</td>\n",
              "    </tr>\n",
              "    <tr>\n",
              "      <th>25</th>\n",
              "      <td>200</td>\n",
              "      <td>8</td>\n",
              "      <td>10</td>\n",
              "      <td>0.218317</td>\n",
              "    </tr>\n",
              "    <tr>\n",
              "      <th>100</th>\n",
              "      <td>500</td>\n",
              "      <td>8</td>\n",
              "      <td>10</td>\n",
              "      <td>0.217331</td>\n",
              "    </tr>\n",
              "    <tr>\n",
              "      <th>75</th>\n",
              "      <td>400</td>\n",
              "      <td>8</td>\n",
              "      <td>10</td>\n",
              "      <td>0.216787</td>\n",
              "    </tr>\n",
              "    <tr>\n",
              "      <th>50</th>\n",
              "      <td>300</td>\n",
              "      <td>8</td>\n",
              "      <td>10</td>\n",
              "      <td>0.213486</td>\n",
              "    </tr>\n",
              "    <tr>\n",
              "      <th>0</th>\n",
              "      <td>100</td>\n",
              "      <td>8</td>\n",
              "      <td>10</td>\n",
              "      <td>0.211361</td>\n",
              "    </tr>\n",
              "  </tbody>\n",
              "</table>\n",
              "<p>125 rows × 4 columns</p>\n",
              "</div>"
            ],
            "text/plain": [
              "     rf_estimators  rf_max_depth  rf_max_features  valid_r2_score\n",
              "64             300            70              100        0.549149\n",
              "44             200           150              100        0.546588\n",
              "114            500            70              100        0.545510\n",
              "48             200           250               50        0.544702\n",
              "23             100           250               50        0.544282\n",
              "..             ...           ...              ...             ...\n",
              "25             200             8               10        0.218317\n",
              "100            500             8               10        0.217331\n",
              "75             400             8               10        0.216787\n",
              "50             300             8               10        0.213486\n",
              "0              100             8               10        0.211361\n",
              "\n",
              "[125 rows x 4 columns]"
            ]
          },
          "metadata": {
            "tags": []
          },
          "execution_count": 37
        }
      ]
    },
    {
      "cell_type": "code",
      "metadata": {
        "id": "hndjw5h8JXQN",
        "colab": {
          "base_uri": "https://localhost:8080/",
          "height": 49
        },
        "outputId": "a3c7951e-5701-4834-e872-364e6fff40cd"
      },
      "source": [
        "perf_df[ (perf_df.valid_r2_score <0.5) & (perf_df.valid_r2_score>0.48)] # definitely increase rf_max_depth, rf_max_features"
      ],
      "execution_count": null,
      "outputs": [
        {
          "output_type": "execute_result",
          "data": {
            "text/html": [
              "<div>\n",
              "<style scoped>\n",
              "    .dataframe tbody tr th:only-of-type {\n",
              "        vertical-align: middle;\n",
              "    }\n",
              "\n",
              "    .dataframe tbody tr th {\n",
              "        vertical-align: top;\n",
              "    }\n",
              "\n",
              "    .dataframe thead th {\n",
              "        text-align: right;\n",
              "    }\n",
              "</style>\n",
              "<table border=\"1\" class=\"dataframe\">\n",
              "  <thead>\n",
              "    <tr style=\"text-align: right;\">\n",
              "      <th></th>\n",
              "      <th>rf_estimators</th>\n",
              "      <th>rf_max_depth</th>\n",
              "      <th>rf_max_features</th>\n",
              "      <th>valid_r2_score</th>\n",
              "    </tr>\n",
              "  </thead>\n",
              "  <tbody>\n",
              "  </tbody>\n",
              "</table>\n",
              "</div>"
            ],
            "text/plain": [
              "Empty DataFrame\n",
              "Columns: [rf_estimators, rf_max_depth, rf_max_features, valid_r2_score]\n",
              "Index: []"
            ]
          },
          "metadata": {
            "tags": []
          },
          "execution_count": 38
        }
      ]
    },
    {
      "cell_type": "code",
      "metadata": {
        "id": "i3Owl-FHgwhB",
        "colab": {
          "base_uri": "https://localhost:8080/",
          "height": 824
        },
        "outputId": "7d0de6db-fe30-4b24-e42b-e19127cf04d0"
      },
      "source": [
        "perf_df[(perf_df.rf_estimators==100)].sort_values(by=\"valid_r2_score\", ascending=False)"
      ],
      "execution_count": null,
      "outputs": [
        {
          "output_type": "execute_result",
          "data": {
            "text/html": [
              "<div>\n",
              "<style scoped>\n",
              "    .dataframe tbody tr th:only-of-type {\n",
              "        vertical-align: middle;\n",
              "    }\n",
              "\n",
              "    .dataframe tbody tr th {\n",
              "        vertical-align: top;\n",
              "    }\n",
              "\n",
              "    .dataframe thead th {\n",
              "        text-align: right;\n",
              "    }\n",
              "</style>\n",
              "<table border=\"1\" class=\"dataframe\">\n",
              "  <thead>\n",
              "    <tr style=\"text-align: right;\">\n",
              "      <th></th>\n",
              "      <th>rf_estimators</th>\n",
              "      <th>rf_max_depth</th>\n",
              "      <th>rf_max_features</th>\n",
              "      <th>valid_r2_score</th>\n",
              "    </tr>\n",
              "  </thead>\n",
              "  <tbody>\n",
              "    <tr>\n",
              "      <th>23</th>\n",
              "      <td>100</td>\n",
              "      <td>250</td>\n",
              "      <td>50</td>\n",
              "      <td>0.544282</td>\n",
              "    </tr>\n",
              "    <tr>\n",
              "      <th>17</th>\n",
              "      <td>100</td>\n",
              "      <td>150</td>\n",
              "      <td>30</td>\n",
              "      <td>0.542474</td>\n",
              "    </tr>\n",
              "    <tr>\n",
              "      <th>11</th>\n",
              "      <td>100</td>\n",
              "      <td>70</td>\n",
              "      <td>25</td>\n",
              "      <td>0.541386</td>\n",
              "    </tr>\n",
              "    <tr>\n",
              "      <th>9</th>\n",
              "      <td>100</td>\n",
              "      <td>25</td>\n",
              "      <td>100</td>\n",
              "      <td>0.537768</td>\n",
              "    </tr>\n",
              "    <tr>\n",
              "      <th>19</th>\n",
              "      <td>100</td>\n",
              "      <td>150</td>\n",
              "      <td>100</td>\n",
              "      <td>0.537306</td>\n",
              "    </tr>\n",
              "    <tr>\n",
              "      <th>24</th>\n",
              "      <td>100</td>\n",
              "      <td>250</td>\n",
              "      <td>100</td>\n",
              "      <td>0.533862</td>\n",
              "    </tr>\n",
              "    <tr>\n",
              "      <th>14</th>\n",
              "      <td>100</td>\n",
              "      <td>70</td>\n",
              "      <td>100</td>\n",
              "      <td>0.532018</td>\n",
              "    </tr>\n",
              "    <tr>\n",
              "      <th>13</th>\n",
              "      <td>100</td>\n",
              "      <td>70</td>\n",
              "      <td>50</td>\n",
              "      <td>0.531053</td>\n",
              "    </tr>\n",
              "    <tr>\n",
              "      <th>18</th>\n",
              "      <td>100</td>\n",
              "      <td>150</td>\n",
              "      <td>50</td>\n",
              "      <td>0.530694</td>\n",
              "    </tr>\n",
              "    <tr>\n",
              "      <th>21</th>\n",
              "      <td>100</td>\n",
              "      <td>250</td>\n",
              "      <td>25</td>\n",
              "      <td>0.528355</td>\n",
              "    </tr>\n",
              "    <tr>\n",
              "      <th>16</th>\n",
              "      <td>100</td>\n",
              "      <td>150</td>\n",
              "      <td>25</td>\n",
              "      <td>0.524196</td>\n",
              "    </tr>\n",
              "    <tr>\n",
              "      <th>10</th>\n",
              "      <td>100</td>\n",
              "      <td>70</td>\n",
              "      <td>10</td>\n",
              "      <td>0.523172</td>\n",
              "    </tr>\n",
              "    <tr>\n",
              "      <th>12</th>\n",
              "      <td>100</td>\n",
              "      <td>70</td>\n",
              "      <td>30</td>\n",
              "      <td>0.522059</td>\n",
              "    </tr>\n",
              "    <tr>\n",
              "      <th>22</th>\n",
              "      <td>100</td>\n",
              "      <td>250</td>\n",
              "      <td>30</td>\n",
              "      <td>0.520497</td>\n",
              "    </tr>\n",
              "    <tr>\n",
              "      <th>7</th>\n",
              "      <td>100</td>\n",
              "      <td>25</td>\n",
              "      <td>30</td>\n",
              "      <td>0.520315</td>\n",
              "    </tr>\n",
              "    <tr>\n",
              "      <th>8</th>\n",
              "      <td>100</td>\n",
              "      <td>25</td>\n",
              "      <td>50</td>\n",
              "      <td>0.519180</td>\n",
              "    </tr>\n",
              "    <tr>\n",
              "      <th>15</th>\n",
              "      <td>100</td>\n",
              "      <td>150</td>\n",
              "      <td>10</td>\n",
              "      <td>0.517420</td>\n",
              "    </tr>\n",
              "    <tr>\n",
              "      <th>6</th>\n",
              "      <td>100</td>\n",
              "      <td>25</td>\n",
              "      <td>25</td>\n",
              "      <td>0.515487</td>\n",
              "    </tr>\n",
              "    <tr>\n",
              "      <th>20</th>\n",
              "      <td>100</td>\n",
              "      <td>250</td>\n",
              "      <td>10</td>\n",
              "      <td>0.511731</td>\n",
              "    </tr>\n",
              "    <tr>\n",
              "      <th>5</th>\n",
              "      <td>100</td>\n",
              "      <td>25</td>\n",
              "      <td>10</td>\n",
              "      <td>0.467349</td>\n",
              "    </tr>\n",
              "    <tr>\n",
              "      <th>4</th>\n",
              "      <td>100</td>\n",
              "      <td>8</td>\n",
              "      <td>100</td>\n",
              "      <td>0.384312</td>\n",
              "    </tr>\n",
              "    <tr>\n",
              "      <th>3</th>\n",
              "      <td>100</td>\n",
              "      <td>8</td>\n",
              "      <td>50</td>\n",
              "      <td>0.335917</td>\n",
              "    </tr>\n",
              "    <tr>\n",
              "      <th>2</th>\n",
              "      <td>100</td>\n",
              "      <td>8</td>\n",
              "      <td>30</td>\n",
              "      <td>0.315224</td>\n",
              "    </tr>\n",
              "    <tr>\n",
              "      <th>1</th>\n",
              "      <td>100</td>\n",
              "      <td>8</td>\n",
              "      <td>25</td>\n",
              "      <td>0.298526</td>\n",
              "    </tr>\n",
              "    <tr>\n",
              "      <th>0</th>\n",
              "      <td>100</td>\n",
              "      <td>8</td>\n",
              "      <td>10</td>\n",
              "      <td>0.211361</td>\n",
              "    </tr>\n",
              "  </tbody>\n",
              "</table>\n",
              "</div>"
            ],
            "text/plain": [
              "    rf_estimators  rf_max_depth  rf_max_features  valid_r2_score\n",
              "23            100           250               50        0.544282\n",
              "17            100           150               30        0.542474\n",
              "11            100            70               25        0.541386\n",
              "9             100            25              100        0.537768\n",
              "19            100           150              100        0.537306\n",
              "24            100           250              100        0.533862\n",
              "14            100            70              100        0.532018\n",
              "13            100            70               50        0.531053\n",
              "18            100           150               50        0.530694\n",
              "21            100           250               25        0.528355\n",
              "16            100           150               25        0.524196\n",
              "10            100            70               10        0.523172\n",
              "12            100            70               30        0.522059\n",
              "22            100           250               30        0.520497\n",
              "7             100            25               30        0.520315\n",
              "8             100            25               50        0.519180\n",
              "15            100           150               10        0.517420\n",
              "6             100            25               25        0.515487\n",
              "20            100           250               10        0.511731\n",
              "5             100            25               10        0.467349\n",
              "4             100             8              100        0.384312\n",
              "3             100             8               50        0.335917\n",
              "2             100             8               30        0.315224\n",
              "1             100             8               25        0.298526\n",
              "0             100             8               10        0.211361"
            ]
          },
          "metadata": {
            "tags": []
          },
          "execution_count": 39
        }
      ]
    },
    {
      "cell_type": "code",
      "metadata": {
        "id": "M76IHs_XJXTK",
        "colab": {
          "base_uri": "https://localhost:8080/",
          "height": 452
        },
        "outputId": "cf22ba35-ea4f-469e-e9fc-ed700964359f"
      },
      "source": [
        "fig, ax = plt.subplots(1,3,figsize=(21,7))\n",
        "sns.boxplot(data=perf_df, x=\"rf_estimators\", y=\"valid_r2_score\", ax=ax[0])\n",
        "sns.boxplot(data=perf_df, x=\"rf_max_depth\", y=\"valid_r2_score\", ax=ax[1])\n",
        "sns.boxplot(data=perf_df, x=\"rf_max_features\", y=\"valid_r2_score\", ax=ax[2])\n",
        "fig.tight_layout()"
      ],
      "execution_count": null,
      "outputs": [
        {
          "output_type": "display_data",
          "data": {
            "image/png": "[encoded data removed]",
            "text/plain": [
              "<Figure size 1512x504 with 3 Axes>"
            ]
          },
          "metadata": {
            "tags": [],
            "needs_background": "light"
          }
        }
      ]
    },
    {
      "cell_type": "code",
      "metadata": {
        "id": "nocc2RWL1hWO"
      },
      "source": [
        ""
      ],
      "execution_count": null,
      "outputs": []
    },
    {
      "cell_type": "markdown",
      "metadata": {
        "id": "AVrKfBBXfNlJ"
      },
      "source": [
        "# Refined Grid Search"
      ]
    },
    {
      "cell_type": "code",
      "metadata": {
        "id": "OW4xOGf_JXVx"
      },
      "source": [
        "n_estimator = [100]\n",
        "rf_max_depth = [70,75,80,90,100,125,150,175,250,200,275,300]\n",
        "rf_max_features = [30,35,40,45,50,60,65,70,80,90,100,120,150,200]\n",
        "\n",
        "\n",
        "rfe_list = []\n",
        "rfd_list = []\n",
        "rff_list = []\n",
        "valid_r2_list = []\n",
        "for rf_estimator in n_estimator:\n",
        "    for rf_depth in rf_max_depth:\n",
        "        for rf_feature in rf_max_features:\n",
        "            params[\"rf_estimators\"] = rf_estimator\n",
        "            params[\"rf_max_depth\"] = rf_depth\n",
        "            params[\"rf_max_features\"] = rf_feature\n",
        "            rfe_list.append(rf_estimator)\n",
        "            rfd_list.append(rf_depth)\n",
        "            rff_list.append(rf_feature)\n",
        "            tp = parse.wrapper(params)\n",
        "            pl = mp.ModelPipeline(tp)\n",
        "            pl.train_model()\n",
        "            pred_data = pl.model_wrapper.get_perf_data(subset=\"valid\", epoch_label=\"best\")\n",
        "            pred_results = pred_data.get_prediction_results()\n",
        "            valid_r2 = pred_results['r2_score']\n",
        "            valid_r2_list.append(valid_r2)\n",
        "            print(f\"rf_estimators: {rf_estimator}, rf_max_depth: {rf_depth}, rf_max_features: {rf_feature}, valid_r2: {valid_r2}\")"
      ],
      "execution_count": null,
      "outputs": []
    },
    {
      "cell_type": "code",
      "metadata": {
        "id": "TWTxEm87fL_h"
      },
      "source": [
        "perf_df2 = pd.DataFrame({\"rf_estimators\": rfe_list, \"rf_max_depth\": rfd_list, \"rf_max_features\": rff_list, \"valid_r2_score\": valid_r2_list})\n",
        "perf_df2.sort_values(by=\"valid_r2_score\", ascending=False)"
      ],
      "execution_count": null,
      "outputs": []
    },
    {
      "cell_type": "code",
      "metadata": {
        "id": "dQN4e-mH1jry"
      },
      "source": [
        "fig, ax = plt.subplots(1,3,figsize=(21,7))\n",
        "sns.scatterplot(data=perf_df2, x=\"rf_estimators\", y=\"valid_r2_score\", ax=ax[0])\n",
        "sns.scatterplot(data=perf_df2, x=\"rf_max_depth\", y=\"valid_r2_score\", ax=ax[1])\n",
        "sns.scatterplot(data=perf_df2, x=\"rf_max_features\", y=\"valid_r2_score\", ax=ax[2])\n",
        "fig.tight_layout()"
      ],
      "execution_count": null,
      "outputs": []
    },
    {
      "cell_type": "code",
      "metadata": {
        "id": "c5wqDw0Y1j0O"
      },
      "source": [
        ""
      ],
      "execution_count": null,
      "outputs": []
    },
    {
      "cell_type": "code",
      "metadata": {
        "id": "ufLX885W1j35"
      },
      "source": [
        ""
      ],
      "execution_count": null,
      "outputs": []
    },
    {
      "cell_type": "code",
      "metadata": {
        "id": "r8A31FRzfMB-"
      },
      "source": [
        "n_estimator = [100]\n",
        "rf_max_depth = [10,15,20,25,30,35,40,50]\n",
        "rf_max_features = [90]\n",
        "\n",
        "\n",
        "rfe_list = []\n",
        "rfd_list = []\n",
        "rff_list = []\n",
        "valid_r2_list = []\n",
        "for rf_estimator in n_estimator:\n",
        "    for rf_depth in rf_max_depth:\n",
        "        for rf_feature in rf_max_features:\n",
        "            params[\"rf_estimators\"] = rf_estimator\n",
        "            params[\"rf_max_depth\"] = rf_depth\n",
        "            params[\"rf_max_features\"] = rf_feature\n",
        "            rfe_list.append(rf_estimator)\n",
        "            rfd_list.append(rf_depth)\n",
        "            rff_list.append(rf_feature)\n",
        "            tp = parse.wrapper(params)\n",
        "            pl = mp.ModelPipeline(tp)\n",
        "            pl.train_model()\n",
        "            pred_data = pl.model_wrapper.get_perf_data(subset=\"valid\", epoch_label=\"best\")\n",
        "            pred_results = pred_data.get_prediction_results()\n",
        "            valid_r2 = pred_results['r2_score']\n",
        "            valid_r2_list.append(valid_r2)\n",
        "            print(f\"rf_estimators: {rf_estimator}, rf_max_depth: {rf_depth}, rf_max_features: {rf_feature}, valid_r2: {valid_r2}\")"
      ],
      "execution_count": null,
      "outputs": []
    },
    {
      "cell_type": "code",
      "metadata": {
        "id": "y8tKNqH1fMEb"
      },
      "source": [
        "perf_df3 = pd.DataFrame({\"rf_estimators\": rfe_list, \"rf_max_depth\": rfd_list, \"rf_max_features\": rff_list, \"valid_r2_score\": valid_r2_list})\n",
        "perf_df3.sort_values(by=\"valid_r2_score\", ascending=False)\n",
        "fig, ax = plt.subplots(1,3,figsize=(21,7))\n",
        "sns.scatterplot(data=perf_df3, x=\"rf_estimators\", y=\"valid_r2_score\", ax=ax[0])\n",
        "sns.scatterplot(data=perf_df3, x=\"rf_max_depth\", y=\"valid_r2_score\", ax=ax[1])\n",
        "sns.scatterplot(data=perf_df3, x=\"rf_max_features\", y=\"valid_r2_score\", ax=ax[2])\n",
        "fig.tight_layout()"
      ],
      "execution_count": null,
      "outputs": []
    },
    {
      "cell_type": "code",
      "metadata": {
        "id": "vFc_2NXTAA-b"
      },
      "source": [
        ""
      ],
      "execution_count": null,
      "outputs": []
    },
    {
      "cell_type": "code",
      "metadata": {
        "id": "sslBwlX26zg0"
      },
      "source": [
        "perf_df3"
      ],
      "execution_count": null,
      "outputs": []
    },
    {
      "cell_type": "code",
      "metadata": {
        "id": "qS1qhAZdACOO"
      },
      "source": [
        ""
      ],
      "execution_count": null,
      "outputs": []
    },
    {
      "cell_type": "code",
      "metadata": {
        "id": "dx_yyUa9ACRB"
      },
      "source": [
        ""
      ],
      "execution_count": null,
      "outputs": []
    },
    {
      "cell_type": "code",
      "metadata": {
        "id": "18avl11_ACTU"
      },
      "source": [
        "n_estimator = [100]\n",
        "rf_max_depth = [25,30]\n",
        "rf_max_features = [100,150]\n",
        "\n",
        "\n",
        "rfe_list = []\n",
        "rfd_list = []\n",
        "rff_list = []\n",
        "valid_r2_list = []\n",
        "for rf_estimator in n_estimator:\n",
        "    for rf_depth in rf_max_depth:\n",
        "        for rf_feature in rf_max_features:\n",
        "            params[\"rf_estimators\"] = rf_estimator\n",
        "            params[\"rf_max_depth\"] = rf_depth\n",
        "            params[\"rf_max_features\"] = rf_feature\n",
        "            rfe_list.append(rf_estimator)\n",
        "            rfd_list.append(rf_depth)\n",
        "            rff_list.append(rf_feature)\n",
        "            tp = parse.wrapper(params)\n",
        "            pl = mp.ModelPipeline(tp)\n",
        "            pl.train_model()\n",
        "            pred_data = pl.model_wrapper.get_perf_data(subset=\"valid\", epoch_label=\"best\")\n",
        "            pred_results = pred_data.get_prediction_results()\n",
        "            valid_r2 = pred_results['r2_score']\n",
        "            valid_r2_list.append(valid_r2)"
      ],
      "execution_count": null,
      "outputs": []
    },
    {
      "cell_type": "code",
      "metadata": {
        "id": "46atb0zNACVv"
      },
      "source": [
        "perf_df4 = pd.DataFrame({\"rf_estimators\": rfe_list, \"rf_max_depth\": rfd_list, \"rf_max_features\": rff_list, \"valid_r2_score\": valid_r2_list})\n",
        "perf_df4.sort_values(by=\"valid_r2_score\", ascending=False)\n",
        "fig, ax = plt.subplots(1,3,figsize=(21,7))\n",
        "sns.scatterplot(data=perf_df4, x=\"rf_estimators\", y=\"valid_r2_score\", ax=ax[0])\n",
        "sns.scatterplot(data=perf_df4, x=\"rf_max_depth\", y=\"valid_r2_score\", ax=ax[1])\n",
        "sns.scatterplot(data=perf_df4, x=\"rf_max_features\", y=\"valid_r2_score\", ax=ax[2])\n",
        "fig.tight_layout()"
      ],
      "execution_count": null,
      "outputs": []
    },
    {
      "cell_type": "code",
      "metadata": {
        "id": "ral2ZogNACYj"
      },
      "source": [
        "perf_df4 #100, 30,   >90 or 100/150"
      ],
      "execution_count": null,
      "outputs": []
    },
    {
      "cell_type": "code",
      "metadata": {
        "id": "d-X6e8OjBrEr"
      },
      "source": [
        ""
      ],
      "execution_count": null,
      "outputs": []
    },
    {
      "cell_type": "code",
      "metadata": {
        "id": "iQzQ1VgpBrLD"
      },
      "source": [
        "n_estimator = [100]\n",
        "rf_max_depth = [30]\n",
        "rf_max_features = [105,110,115,120,125,130]\n",
        "\n",
        "\n",
        "rfe_list = []\n",
        "rfd_list = []\n",
        "rff_list = []\n",
        "valid_r2_list = []\n",
        "for rf_estimator in n_estimator:\n",
        "    for rf_depth in rf_max_depth:\n",
        "        for rf_feature in rf_max_features:\n",
        "            params[\"rf_estimators\"] = rf_estimator\n",
        "            params[\"rf_max_depth\"] = rf_depth\n",
        "            params[\"rf_max_features\"] = rf_feature\n",
        "            rfe_list.append(rf_estimator)\n",
        "            rfd_list.append(rf_depth)\n",
        "            rff_list.append(rf_feature)\n",
        "            tp = parse.wrapper(params)\n",
        "            pl = mp.ModelPipeline(tp)\n",
        "            pl.train_model()\n",
        "            pred_data = pl.model_wrapper.get_perf_data(subset=\"valid\", epoch_label=\"best\")\n",
        "            pred_results = pred_data.get_prediction_results()\n",
        "            valid_r2 = pred_results['r2_score']\n",
        "            valid_r2_list.append(valid_r2)"
      ],
      "execution_count": null,
      "outputs": []
    },
    {
      "cell_type": "code",
      "metadata": {
        "id": "VM1QH9muBrNz"
      },
      "source": [
        "perf_df5 = pd.DataFrame({\"rf_estimators\": rfe_list, \"rf_max_depth\": rfd_list, \"rf_max_features\": rff_list, \"valid_r2_score\": valid_r2_list})\n",
        "perf_df5.sort_values(by=\"valid_r2_score\", ascending=False)\n",
        "fig, ax = plt.subplots(1,3,figsize=(21,7))\n",
        "sns.scatterplot(data=perf_df5, x=\"rf_estimators\", y=\"valid_r2_score\", ax=ax[0])\n",
        "sns.scatterplot(data=perf_df5, x=\"rf_max_depth\", y=\"valid_r2_score\", ax=ax[1])\n",
        "sns.scatterplot(data=perf_df5, x=\"rf_max_features\", y=\"valid_r2_score\", ax=ax[2])\n",
        "fig.tight_layout()"
      ],
      "execution_count": null,
      "outputs": []
    },
    {
      "cell_type": "code",
      "metadata": {
        "id": "9oN3aWzlDN7u"
      },
      "source": [
        "perf_df5"
      ],
      "execution_count": null,
      "outputs": []
    },
    {
      "cell_type": "code",
      "metadata": {
        "id": "H0hKfjxfDN-3"
      },
      "source": [
        ""
      ],
      "execution_count": null,
      "outputs": []
    },
    {
      "cell_type": "code",
      "metadata": {
        "id": "-i61y43rFEAi"
      },
      "source": [
        ""
      ],
      "execution_count": null,
      "outputs": []
    },
    {
      "cell_type": "code",
      "metadata": {
        "id": "cMkXG7sVFEGE"
      },
      "source": [
        "n_estimator = [100,105,110,115,120]\n",
        "rf_max_depth = [30]\n",
        "rf_max_features = [91,92,93,94,95,96,97,98,99,100,101,102,103,104]\n",
        "\n",
        "\n",
        "rfe_list = []\n",
        "rfd_list = []\n",
        "rff_list = []\n",
        "valid_r2_list = []\n",
        "for rf_estimator in n_estimator:\n",
        "    for rf_depth in rf_max_depth:\n",
        "        for rf_feature in rf_max_features:\n",
        "            params[\"rf_estimators\"] = rf_estimator\n",
        "            params[\"rf_max_depth\"] = rf_depth\n",
        "            params[\"rf_max_features\"] = rf_feature\n",
        "            rfe_list.append(rf_estimator)\n",
        "            rfd_list.append(rf_depth)\n",
        "            rff_list.append(rf_feature)\n",
        "            tp = parse.wrapper(params)\n",
        "            pl = mp.ModelPipeline(tp)\n",
        "            pl.train_model()\n",
        "            pred_data = pl.model_wrapper.get_perf_data(subset=\"valid\", epoch_label=\"best\")\n",
        "            pred_results = pred_data.get_prediction_results()\n",
        "            valid_r2 = pred_results['r2_score']\n",
        "            valid_r2_list.append(valid_r2)"
      ],
      "execution_count": null,
      "outputs": []
    },
    {
      "cell_type": "code",
      "metadata": {
        "id": "RpDE3EHDFEIt"
      },
      "source": [
        "perf_df6 = pd.DataFrame({\"rf_estimators\": rfe_list, \"rf_max_depth\": rfd_list, \"rf_max_features\": rff_list, \"valid_r2_score\": valid_r2_list})\n",
        "perf_df6.sort_values(by=\"valid_r2_score\", ascending=False)"
      ],
      "execution_count": null,
      "outputs": []
    },
    {
      "cell_type": "code",
      "metadata": {
        "id": "qyP2yvdVrX9G"
      },
      "source": [
        "n_estimator = [300,600,800,900,1000,1200]\n",
        "rf_max_depth = [30]\n",
        "rf_max_features = [10,20,30,50,90]\n",
        "\n",
        "\n",
        "rfe_list = []\n",
        "rfd_list = []\n",
        "rff_list = []\n",
        "valid_r2_list = []\n",
        "for rf_estimator in n_estimator:\n",
        "    for rf_depth in rf_max_depth:\n",
        "        for rf_feature in rf_max_features:\n",
        "            params[\"rf_estimators\"] = rf_estimator\n",
        "            params[\"rf_max_depth\"] = rf_depth\n",
        "            params[\"rf_max_features\"] = rf_feature\n",
        "            rfe_list.append(rf_estimator)\n",
        "            rfd_list.append(rf_depth)\n",
        "            rff_list.append(rf_feature)\n",
        "            tp = parse.wrapper(params)\n",
        "            pl = mp.ModelPipeline(tp)\n",
        "            pl.train_model()\n",
        "            pred_data = pl.model_wrapper.get_perf_data(subset=\"valid\", epoch_label=\"best\")\n",
        "            pred_results = pred_data.get_prediction_results()\n",
        "            valid_r2 = pred_results['r2_score']\n",
        "            valid_r2_list.append(valid_r2)"
      ],
      "execution_count": null,
      "outputs": []
    },
    {
      "cell_type": "code",
      "metadata": {
        "id": "UzzYMiQ3bC5G"
      },
      "source": [
        "perf_df7 = pd.DataFrame({\"rf_estimators\": rfe_list, \"rf_max_depth\": rfd_list, \"rf_max_features\": rff_list, \"valid_r2_score\": valid_r2_list})\n",
        "perf_df7.sort_values(by=\"valid_r2_score\", ascending=False)"
      ],
      "execution_count": null,
      "outputs": []
    },
    {
      "cell_type": "code",
      "metadata": {
        "id": "3hhZjhaPrX_t"
      },
      "source": [
        "#  Retrieve model metadata and performance metrics stored in the filesystem from a hyperparameter search run.\n",
        "cmp.get_filesystem_perf_results('ampl_output', pred_type='regression').sort_values(by='valid_r2_score', ascending=False)"
      ],
      "execution_count": null,
      "outputs": []
    },
    {
      "cell_type": "code",
      "metadata": {
        "id": "fELk575rrYEq"
      },
      "source": [
        "# save the best model\n",
        "cmp.copy_best_filesystem_models(pred_type=\"regression\", dest_dir=working_dir, \n",
        "                                result_dir='ampl_output', force_update=False)\n"
      ],
      "execution_count": null,
      "outputs": []
    },
    {
      "cell_type": "code",
      "metadata": {
        "id": "XhoPKp4gv30C"
      },
      "source": [
        ""
      ],
      "execution_count": null,
      "outputs": []
    },
    {
      "cell_type": "code",
      "metadata": {
        "id": "ww6J57BUv34k"
      },
      "source": [
        ""
      ],
      "execution_count": null,
      "outputs": []
    },
    {
      "cell_type": "code",
      "metadata": {
        "id": "08vJe9rwv376"
      },
      "source": [
        ""
      ],
      "execution_count": null,
      "outputs": []
    },
    {
      "cell_type": "markdown",
      "metadata": {
        "id": "AnrFFfTDv87T"
      },
      "source": [
        "# Test??\n",
        "\n",
        "---\n",
        "\n",
        "\n",
        "\n",
        "---\n",
        "\n",
        "\n"
      ]
    },
    {
      "cell_type": "code",
      "metadata": {
        "id": "omDmmu4OAnlW"
      },
      "source": [
        "! pip install molvs"
      ],
      "execution_count": null,
      "outputs": []
    },
    {
      "cell_type": "code",
      "metadata": {
        "id": "_XYft1p6AdNV"
      },
      "source": [
        "from atomsci.ddm.pipeline import predict_from_model"
      ],
      "execution_count": null,
      "outputs": []
    },
    {
      "cell_type": "code",
      "metadata": {
        "id": "-UaX8kqrwCnv"
      },
      "source": [
        "# Test loading model from tarball and running predictions\n",
        "predict_from_model.predict_from_model_file(model_path='curated_combined_df_1_model_a450a840-73b9-4581-857c-9ab2568bab7c.tar.gz',\n",
        "                            input_df = df_avg,\n",
        "                            id_col='compound_id',\n",
        "                            smiles_col='base_rdkit_smiles',\n",
        "                            response_col='VALUE_NUM_mean',\n",
        "                            is_featurized=False,\n",
        "                            dont_standardize=True)"
      ],
      "execution_count": null,
      "outputs": []
    },
    {
      "cell_type": "code",
      "metadata": {
        "id": "atU7TbB3wMJj"
      },
      "source": [
        ""
      ],
      "execution_count": null,
      "outputs": []
    },
    {
      "cell_type": "markdown",
      "metadata": {
        "id": "q-kSaG5TIO5J"
      },
      "source": [
        "# random search"
      ]
    },
    {
      "cell_type": "code",
      "metadata": {
        "id": "gY4XRr58F2x6"
      },
      "source": [
        "rfe_list = []\n",
        "rfd_list = []\n",
        "rff_list = []\n",
        "valid_r2_list = []\n",
        "\n",
        "num_trials = 10\n",
        "\n",
        "for i in range(num_trials):\n",
        "    params[\"rf_estimators\"] = np.random.randint(100,500)\n",
        "    params[\"rf_max_depth\"] = np.random.randint(8,256)\n",
        "    params[\"rf_max_features\"] = np.random.randint(100,1000)\n",
        "    rfe_list.append(params[\"rf_estimators\"])\n",
        "    rfd_list.append(params[\"rf_max_depth\"])\n",
        "    rff_list.append(params[\"rf_max_features\"])\n",
        "    tp = parse.wrapper(params)\n",
        "\n",
        "    pl = mp.ModelPipeline(tp)\n",
        "    pl.train_model()\n",
        "\n",
        "    pred_data = pl.model_wrapper.get_perf_data(subset=\"valid\", epoch_label=\"best\")\n",
        "    pred_results = pred_data.get_prediction_results()\n",
        "    valid_r2 = pred_results['r2_score']\n",
        "    valid_r2_list.append(valid_r2)\n",
        "    #print(f\"rf_estimators: {rf_estimators}, rf_max_depth: {rf_depth}, rf_max_features: {rf_feature}, valid_r2: {valid_r2}\")"
      ],
      "execution_count": null,
      "outputs": []
    },
    {
      "cell_type": "code",
      "metadata": {
        "id": "08PwJipIF22t"
      },
      "source": [
        "perf_df = pd.DataFrame({\"rf_estimators\": rfe_list, \"rf_max_depth\": rfd_list, \"rf_max_features\": rff_list, \"valid_r2_score\": valid_r2_list})\n",
        "perf_df.sort_values(by=\"valid_r2_score\", ascending=False)"
      ],
      "execution_count": null,
      "outputs": []
    },
    {
      "cell_type": "code",
      "metadata": {
        "id": "0McwDRtIF25v"
      },
      "source": [
        "fig, ax = plt.subplots(1,3,figsize=(21,7))\n",
        "sns.scatterplot(data=perf_df, x=\"rf_estimators\", y=\"valid_r2_score\", ax=ax[0])\n",
        "sns.scatterplot(data=perf_df, x=\"rf_max_depth\", y=\"valid_r2_score\", ax=ax[1])\n",
        "sns.scatterplot(data=perf_df, x=\"rf_max_features\", y=\"valid_r2_score\", ax=ax[2])\n",
        "fig.tight_layout()"
      ],
      "execution_count": null,
      "outputs": []
    },
    {
      "cell_type": "code",
      "metadata": {
        "id": "N6inLq5Gv5yR"
      },
      "source": [
        ""
      ],
      "execution_count": null,
      "outputs": []
    }
  ]
}